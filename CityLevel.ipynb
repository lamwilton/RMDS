{
 "cells": [
  {
   "cell_type": "markdown",
   "metadata": {
    "collapsed": true,
    "pycharm": {
     "name": "#%% md\n"
    }
   },
   "source": [
    "# Zip code level COVID cases data processing for CA only  \n",
    "Data from LA times  \n",
    "Outputs city_data.csv"
   ]
  },
  {
   "cell_type": "code",
   "execution_count": 1,
   "outputs": [
    {
     "data": {
      "text/plain": "             date       county  fips           place  confirmed_cases note  \\\n0      2020-03-16  Los Angeles    37        Alhambra                2  NaN   \n1      2020-03-16  Los Angeles    37         Arcadia                1  NaN   \n2      2020-03-16  Los Angeles    37   Beverly Hills                1  NaN   \n3      2020-03-16  Los Angeles    37   Boyle Heights                5  NaN   \n4      2020-03-16  Los Angeles    37          Carson                1  NaN   \n...           ...          ...   ...             ...              ...  ...   \n38508  2020-05-24       Sonoma    97  Central County              299  NaN   \n38509  2020-05-24       Sonoma    97     East County               26  NaN   \n38510  2020-05-24       Sonoma    97    North County               40  NaN   \n38511  2020-05-24       Sonoma    97    South County               93  NaN   \n38512  2020-05-24       Sonoma    97     West County               22  NaN   \n\n                x          y  \n0     -118.135504  34.083961  \n1     -118.037297  34.134186  \n2     -118.402109  34.078543  \n3     -118.205330  34.038150  \n4     -118.255878  33.837391  \n...           ...        ...  \n38508 -122.704722  38.448611  \n38509 -122.546111  38.413889  \n38510 -122.902679  38.707482  \n38511 -122.631389  38.245833  \n38512 -122.990833  38.506389  \n\n[38513 rows x 8 columns]",
      "text/html": "<div>\n<style scoped>\n    .dataframe tbody tr th:only-of-type {\n        vertical-align: middle;\n    }\n\n    .dataframe tbody tr th {\n        vertical-align: top;\n    }\n\n    .dataframe thead th {\n        text-align: right;\n    }\n</style>\n<table border=\"1\" class=\"dataframe\">\n  <thead>\n    <tr style=\"text-align: right;\">\n      <th></th>\n      <th>date</th>\n      <th>county</th>\n      <th>fips</th>\n      <th>place</th>\n      <th>confirmed_cases</th>\n      <th>note</th>\n      <th>x</th>\n      <th>y</th>\n    </tr>\n  </thead>\n  <tbody>\n    <tr>\n      <th>0</th>\n      <td>2020-03-16</td>\n      <td>Los Angeles</td>\n      <td>37</td>\n      <td>Alhambra</td>\n      <td>2</td>\n      <td>NaN</td>\n      <td>-118.135504</td>\n      <td>34.083961</td>\n    </tr>\n    <tr>\n      <th>1</th>\n      <td>2020-03-16</td>\n      <td>Los Angeles</td>\n      <td>37</td>\n      <td>Arcadia</td>\n      <td>1</td>\n      <td>NaN</td>\n      <td>-118.037297</td>\n      <td>34.134186</td>\n    </tr>\n    <tr>\n      <th>2</th>\n      <td>2020-03-16</td>\n      <td>Los Angeles</td>\n      <td>37</td>\n      <td>Beverly Hills</td>\n      <td>1</td>\n      <td>NaN</td>\n      <td>-118.402109</td>\n      <td>34.078543</td>\n    </tr>\n    <tr>\n      <th>3</th>\n      <td>2020-03-16</td>\n      <td>Los Angeles</td>\n      <td>37</td>\n      <td>Boyle Heights</td>\n      <td>5</td>\n      <td>NaN</td>\n      <td>-118.205330</td>\n      <td>34.038150</td>\n    </tr>\n    <tr>\n      <th>4</th>\n      <td>2020-03-16</td>\n      <td>Los Angeles</td>\n      <td>37</td>\n      <td>Carson</td>\n      <td>1</td>\n      <td>NaN</td>\n      <td>-118.255878</td>\n      <td>33.837391</td>\n    </tr>\n    <tr>\n      <th>...</th>\n      <td>...</td>\n      <td>...</td>\n      <td>...</td>\n      <td>...</td>\n      <td>...</td>\n      <td>...</td>\n      <td>...</td>\n      <td>...</td>\n    </tr>\n    <tr>\n      <th>38508</th>\n      <td>2020-05-24</td>\n      <td>Sonoma</td>\n      <td>97</td>\n      <td>Central County</td>\n      <td>299</td>\n      <td>NaN</td>\n      <td>-122.704722</td>\n      <td>38.448611</td>\n    </tr>\n    <tr>\n      <th>38509</th>\n      <td>2020-05-24</td>\n      <td>Sonoma</td>\n      <td>97</td>\n      <td>East County</td>\n      <td>26</td>\n      <td>NaN</td>\n      <td>-122.546111</td>\n      <td>38.413889</td>\n    </tr>\n    <tr>\n      <th>38510</th>\n      <td>2020-05-24</td>\n      <td>Sonoma</td>\n      <td>97</td>\n      <td>North County</td>\n      <td>40</td>\n      <td>NaN</td>\n      <td>-122.902679</td>\n      <td>38.707482</td>\n    </tr>\n    <tr>\n      <th>38511</th>\n      <td>2020-05-24</td>\n      <td>Sonoma</td>\n      <td>97</td>\n      <td>South County</td>\n      <td>93</td>\n      <td>NaN</td>\n      <td>-122.631389</td>\n      <td>38.245833</td>\n    </tr>\n    <tr>\n      <th>38512</th>\n      <td>2020-05-24</td>\n      <td>Sonoma</td>\n      <td>97</td>\n      <td>West County</td>\n      <td>22</td>\n      <td>NaN</td>\n      <td>-122.990833</td>\n      <td>38.506389</td>\n    </tr>\n  </tbody>\n</table>\n<p>38513 rows × 8 columns</p>\n</div>"
     },
     "execution_count": 1,
     "metadata": {},
     "output_type": "execute_result"
    }
   ],
   "source": [
    "import pandas as pd\n",
    "\n",
    "city_df = pd.read_csv(\"https://raw.githubusercontent.com/datadesk/california-coronavirus-data/master/latimes-place-totals.csv\")\n",
    "city_df.x = city_df.x.abs() * -1  # Correcting a mistake in longitude\n",
    "city_df.x = city_df.x.fillna(0)\n",
    "city_df.y = city_df.y.fillna(0)\n",
    "city_df"
   ],
   "metadata": {
    "collapsed": false,
    "pycharm": {
     "name": "#%%\n"
    }
   }
  },
  {
   "cell_type": "markdown",
   "source": [
    "New python package for finding zipcode called uszipcode\n",
    "Can find zipcode based on coordinates\n",
    "https://pypi.org/project/uszipcode/"
   ],
   "metadata": {
    "collapsed": false,
    "pycharm": {
     "name": "#%% md\n"
    }
   }
  },
  {
   "cell_type": "code",
   "execution_count": 2,
   "outputs": [
    {
     "data": {
      "text/plain": "SimpleZipcode(zipcode='95776', zipcode_type='Standard', major_city='Woodland', post_office_city='Woodland, CA', common_city_list=['Woodland'], county='Yolo County', state='CA', lat=38.7, lng=-121.7, timezone='Pacific', radius_in_miles=11.0, area_code_list=['530'], population=21902, population_density=237.0, land_area_in_sqmi=92.43, water_area_in_sqmi=1.12, housing_units=6824, occupied_housing_units=6464, median_home_value=248000, median_household_income=61599, bounds_west=-121.781382, bounds_east=-121.629202, bounds_north=38.803028, bounds_south=38.553296)"
     },
     "execution_count": 2,
     "metadata": {},
     "output_type": "execute_result"
    }
   ],
   "source": [
    "from uszipcode import SearchEngine\n",
    "search = SearchEngine(simple_zipcode=True)\n",
    "result = search.by_coordinates(38.678611, -121.773333, radius=30, returns=1)\n",
    "result[0]"
   ],
   "metadata": {
    "collapsed": false,
    "pycharm": {
     "name": "#%%\n"
    }
   }
  },
  {
   "cell_type": "markdown",
   "source": [
    "Select unique cities and look for zip code in a new table"
   ],
   "metadata": {
    "collapsed": false,
    "pycharm": {
     "name": "#%% md\n"
    }
   }
  },
  {
   "cell_type": "code",
   "execution_count": 3,
   "outputs": [
    {
     "data": {
      "text/plain": "             county            place           x          y    zip  city_id\n0       Los Angeles         Alhambra -118.135504  34.083961  91803        0\n1       Los Angeles          Arcadia -118.037297  34.134186  91006        1\n2       Los Angeles    Beverly Hills -118.402109  34.078543  90212        2\n3       Los Angeles    Boyle Heights -118.205330  34.038150  90033        3\n4       Los Angeles           Carson -118.255878  33.837391  90745        4\n..              ...              ...         ...        ...    ...      ...\n960       San Diego  Other / unknown    0.000000   0.000000      0      960\n961     Los Angeles          Newhall -118.526491  34.347040  91321      961\n962     Los Angeles        Roosevelt -117.961701  34.733315  93535      962\n963  San Bernardino          Needles -114.619621  34.806179  92363      963\n964       San Diego            Other    0.000000   0.000000      0      964\n\n[965 rows x 6 columns]",
      "text/html": "<div>\n<style scoped>\n    .dataframe tbody tr th:only-of-type {\n        vertical-align: middle;\n    }\n\n    .dataframe tbody tr th {\n        vertical-align: top;\n    }\n\n    .dataframe thead th {\n        text-align: right;\n    }\n</style>\n<table border=\"1\" class=\"dataframe\">\n  <thead>\n    <tr style=\"text-align: right;\">\n      <th></th>\n      <th>county</th>\n      <th>place</th>\n      <th>x</th>\n      <th>y</th>\n      <th>zip</th>\n      <th>city_id</th>\n    </tr>\n  </thead>\n  <tbody>\n    <tr>\n      <th>0</th>\n      <td>Los Angeles</td>\n      <td>Alhambra</td>\n      <td>-118.135504</td>\n      <td>34.083961</td>\n      <td>91803</td>\n      <td>0</td>\n    </tr>\n    <tr>\n      <th>1</th>\n      <td>Los Angeles</td>\n      <td>Arcadia</td>\n      <td>-118.037297</td>\n      <td>34.134186</td>\n      <td>91006</td>\n      <td>1</td>\n    </tr>\n    <tr>\n      <th>2</th>\n      <td>Los Angeles</td>\n      <td>Beverly Hills</td>\n      <td>-118.402109</td>\n      <td>34.078543</td>\n      <td>90212</td>\n      <td>2</td>\n    </tr>\n    <tr>\n      <th>3</th>\n      <td>Los Angeles</td>\n      <td>Boyle Heights</td>\n      <td>-118.205330</td>\n      <td>34.038150</td>\n      <td>90033</td>\n      <td>3</td>\n    </tr>\n    <tr>\n      <th>4</th>\n      <td>Los Angeles</td>\n      <td>Carson</td>\n      <td>-118.255878</td>\n      <td>33.837391</td>\n      <td>90745</td>\n      <td>4</td>\n    </tr>\n    <tr>\n      <th>...</th>\n      <td>...</td>\n      <td>...</td>\n      <td>...</td>\n      <td>...</td>\n      <td>...</td>\n      <td>...</td>\n    </tr>\n    <tr>\n      <th>960</th>\n      <td>San Diego</td>\n      <td>Other / unknown</td>\n      <td>0.000000</td>\n      <td>0.000000</td>\n      <td>0</td>\n      <td>960</td>\n    </tr>\n    <tr>\n      <th>961</th>\n      <td>Los Angeles</td>\n      <td>Newhall</td>\n      <td>-118.526491</td>\n      <td>34.347040</td>\n      <td>91321</td>\n      <td>961</td>\n    </tr>\n    <tr>\n      <th>962</th>\n      <td>Los Angeles</td>\n      <td>Roosevelt</td>\n      <td>-117.961701</td>\n      <td>34.733315</td>\n      <td>93535</td>\n      <td>962</td>\n    </tr>\n    <tr>\n      <th>963</th>\n      <td>San Bernardino</td>\n      <td>Needles</td>\n      <td>-114.619621</td>\n      <td>34.806179</td>\n      <td>92363</td>\n      <td>963</td>\n    </tr>\n    <tr>\n      <th>964</th>\n      <td>San Diego</td>\n      <td>Other</td>\n      <td>0.000000</td>\n      <td>0.000000</td>\n      <td>0</td>\n      <td>964</td>\n    </tr>\n  </tbody>\n</table>\n<p>965 rows × 6 columns</p>\n</div>"
     },
     "execution_count": 3,
     "metadata": {},
     "output_type": "execute_result"
    }
   ],
   "source": [
    "city_data_df = pd.DataFrame()\n",
    "city_data_df = pd.concat([city_df.county, city_df.place, city_df.x, city_df.y], axis=1)\n",
    "city_data_df = city_data_df.drop_duplicates()\n",
    "\n",
    "def search_zip(df):\n",
    "    # If place name contains zip code, returns the zip code directly\n",
    "    if df.place[0:5].isnumeric():\n",
    "        return df.place[0:5]\n",
    "    if df.y == 0:\n",
    "        return 0\n",
    "    result = search.by_coordinates(df.y, df.x, radius=30, returns=1)\n",
    "    return result[0].zipcode\n",
    "\n",
    "city_data_df['zip'] = city_data_df.apply(search_zip, axis=1)\n",
    "city_data_df = city_data_df.reset_index(drop=True)\n",
    "city_data_df['city_id'] = city_data_df.index\n",
    "city_data_df"
   ],
   "metadata": {
    "collapsed": false,
    "pycharm": {
     "name": "#%%\n"
    }
   }
  },
  {
   "cell_type": "code",
   "execution_count": 4,
   "outputs": [
    {
     "data": {
      "text/plain": "             date          county  fips      place  confirmed_cases note  \\\n0      2020-03-16     Los Angeles    37   Alhambra                2  NaN   \n1      2020-03-17     Los Angeles    37   Alhambra                1  NaN   \n2      2020-03-18     Los Angeles    37   Alhambra                1  NaN   \n3      2020-03-19     Los Angeles    37   Alhambra                2  NaN   \n4      2020-03-20     Los Angeles    37   Alhambra                3  NaN   \n...           ...             ...   ...        ...              ...  ...   \n38508  2020-05-24     Los Angeles    37    Newhall                1  NaN   \n38509  2020-05-23     Los Angeles    37  Roosevelt                1  NaN   \n38510  2020-05-23  San Bernardino    71    Needles                1  NaN   \n38511  2020-05-24  San Bernardino    71    Needles                1  NaN   \n38512  2020-05-23       San Diego    73      Other              497  NaN   \n\n                x          y    zip  city_id  \n0     -118.135504  34.083961  91803        0  \n1     -118.135504  34.083961  91803        0  \n2     -118.135504  34.083961  91803        0  \n3     -118.135504  34.083961  91803        0  \n4     -118.135504  34.083961  91803        0  \n...           ...        ...    ...      ...  \n38508 -118.526491  34.347040  91321      961  \n38509 -117.961701  34.733315  93535      962  \n38510 -114.619621  34.806179  92363      963  \n38511 -114.619621  34.806179  92363      963  \n38512    0.000000   0.000000      0      964  \n\n[38513 rows x 10 columns]",
      "text/html": "<div>\n<style scoped>\n    .dataframe tbody tr th:only-of-type {\n        vertical-align: middle;\n    }\n\n    .dataframe tbody tr th {\n        vertical-align: top;\n    }\n\n    .dataframe thead th {\n        text-align: right;\n    }\n</style>\n<table border=\"1\" class=\"dataframe\">\n  <thead>\n    <tr style=\"text-align: right;\">\n      <th></th>\n      <th>date</th>\n      <th>county</th>\n      <th>fips</th>\n      <th>place</th>\n      <th>confirmed_cases</th>\n      <th>note</th>\n      <th>x</th>\n      <th>y</th>\n      <th>zip</th>\n      <th>city_id</th>\n    </tr>\n  </thead>\n  <tbody>\n    <tr>\n      <th>0</th>\n      <td>2020-03-16</td>\n      <td>Los Angeles</td>\n      <td>37</td>\n      <td>Alhambra</td>\n      <td>2</td>\n      <td>NaN</td>\n      <td>-118.135504</td>\n      <td>34.083961</td>\n      <td>91803</td>\n      <td>0</td>\n    </tr>\n    <tr>\n      <th>1</th>\n      <td>2020-03-17</td>\n      <td>Los Angeles</td>\n      <td>37</td>\n      <td>Alhambra</td>\n      <td>1</td>\n      <td>NaN</td>\n      <td>-118.135504</td>\n      <td>34.083961</td>\n      <td>91803</td>\n      <td>0</td>\n    </tr>\n    <tr>\n      <th>2</th>\n      <td>2020-03-18</td>\n      <td>Los Angeles</td>\n      <td>37</td>\n      <td>Alhambra</td>\n      <td>1</td>\n      <td>NaN</td>\n      <td>-118.135504</td>\n      <td>34.083961</td>\n      <td>91803</td>\n      <td>0</td>\n    </tr>\n    <tr>\n      <th>3</th>\n      <td>2020-03-19</td>\n      <td>Los Angeles</td>\n      <td>37</td>\n      <td>Alhambra</td>\n      <td>2</td>\n      <td>NaN</td>\n      <td>-118.135504</td>\n      <td>34.083961</td>\n      <td>91803</td>\n      <td>0</td>\n    </tr>\n    <tr>\n      <th>4</th>\n      <td>2020-03-20</td>\n      <td>Los Angeles</td>\n      <td>37</td>\n      <td>Alhambra</td>\n      <td>3</td>\n      <td>NaN</td>\n      <td>-118.135504</td>\n      <td>34.083961</td>\n      <td>91803</td>\n      <td>0</td>\n    </tr>\n    <tr>\n      <th>...</th>\n      <td>...</td>\n      <td>...</td>\n      <td>...</td>\n      <td>...</td>\n      <td>...</td>\n      <td>...</td>\n      <td>...</td>\n      <td>...</td>\n      <td>...</td>\n      <td>...</td>\n    </tr>\n    <tr>\n      <th>38508</th>\n      <td>2020-05-24</td>\n      <td>Los Angeles</td>\n      <td>37</td>\n      <td>Newhall</td>\n      <td>1</td>\n      <td>NaN</td>\n      <td>-118.526491</td>\n      <td>34.347040</td>\n      <td>91321</td>\n      <td>961</td>\n    </tr>\n    <tr>\n      <th>38509</th>\n      <td>2020-05-23</td>\n      <td>Los Angeles</td>\n      <td>37</td>\n      <td>Roosevelt</td>\n      <td>1</td>\n      <td>NaN</td>\n      <td>-117.961701</td>\n      <td>34.733315</td>\n      <td>93535</td>\n      <td>962</td>\n    </tr>\n    <tr>\n      <th>38510</th>\n      <td>2020-05-23</td>\n      <td>San Bernardino</td>\n      <td>71</td>\n      <td>Needles</td>\n      <td>1</td>\n      <td>NaN</td>\n      <td>-114.619621</td>\n      <td>34.806179</td>\n      <td>92363</td>\n      <td>963</td>\n    </tr>\n    <tr>\n      <th>38511</th>\n      <td>2020-05-24</td>\n      <td>San Bernardino</td>\n      <td>71</td>\n      <td>Needles</td>\n      <td>1</td>\n      <td>NaN</td>\n      <td>-114.619621</td>\n      <td>34.806179</td>\n      <td>92363</td>\n      <td>963</td>\n    </tr>\n    <tr>\n      <th>38512</th>\n      <td>2020-05-23</td>\n      <td>San Diego</td>\n      <td>73</td>\n      <td>Other</td>\n      <td>497</td>\n      <td>NaN</td>\n      <td>0.000000</td>\n      <td>0.000000</td>\n      <td>0</td>\n      <td>964</td>\n    </tr>\n  </tbody>\n</table>\n<p>38513 rows × 10 columns</p>\n</div>"
     },
     "execution_count": 4,
     "metadata": {},
     "output_type": "execute_result"
    }
   ],
   "source": [
    "city_df = pd.merge(city_df, city_data_df, \"inner\", on=['county', 'place', 'x', 'y'])\n",
    "city_df"
   ],
   "metadata": {
    "collapsed": false,
    "pycharm": {
     "name": "#%%\n"
    }
   }
  },
  {
   "cell_type": "markdown",
   "source": [
    "Compute daily cases, rate and rate SMA7 of each city"
   ],
   "metadata": {
    "collapsed": false,
    "pycharm": {
     "name": "#%% md\n"
    }
   }
  },
  {
   "cell_type": "code",
   "execution_count": 5,
   "outputs": [
    {
     "data": {
      "text/plain": "             date          county  fips      place  confirmed_cases note  \\\n0      2020-03-16     Los Angeles    37   Alhambra                2  NaN   \n1      2020-03-17     Los Angeles    37   Alhambra                1  NaN   \n2      2020-03-18     Los Angeles    37   Alhambra                1  NaN   \n3      2020-03-19     Los Angeles    37   Alhambra                2  NaN   \n4      2020-03-20     Los Angeles    37   Alhambra                3  NaN   \n...           ...             ...   ...        ...              ...  ...   \n38508  2020-05-24     Los Angeles    37    Newhall                1  NaN   \n38509  2020-05-23     Los Angeles    37  Roosevelt                1  NaN   \n38510  2020-05-23  San Bernardino    71    Needles                1  NaN   \n38511  2020-05-24  San Bernardino    71    Needles                1  NaN   \n38512  2020-05-23       San Diego    73      Other              497  NaN   \n\n                x          y    zip  city_id  daily_cases  rate  rate7day  \\\n0     -118.135504  34.083961  91803        0          0.0   0.0       0.0   \n1     -118.135504  34.083961  91803        0         -1.0  -0.5       0.0   \n2     -118.135504  34.083961  91803        0          0.0   0.0       0.0   \n3     -118.135504  34.083961  91803        0          1.0   1.0       0.0   \n4     -118.135504  34.083961  91803        0          1.0   0.5       0.0   \n...           ...        ...    ...      ...          ...   ...       ...   \n38508 -118.526491  34.347040  91321      961          0.0   0.0       0.0   \n38509 -117.961701  34.733315  93535      962          0.0   0.0       0.0   \n38510 -114.619621  34.806179  92363      963          0.0   0.0       0.0   \n38511 -114.619621  34.806179  92363      963          0.0   0.0       0.0   \n38512    0.000000   0.000000      0      964          0.0   0.0       0.0   \n\n       ratio7day  \n0            0.0  \n1            0.0  \n2            0.0  \n3            0.0  \n4            0.0  \n...          ...  \n38508        0.0  \n38509        0.0  \n38510        0.0  \n38511        0.0  \n38512        0.0  \n\n[38513 rows x 14 columns]",
      "text/html": "<div>\n<style scoped>\n    .dataframe tbody tr th:only-of-type {\n        vertical-align: middle;\n    }\n\n    .dataframe tbody tr th {\n        vertical-align: top;\n    }\n\n    .dataframe thead th {\n        text-align: right;\n    }\n</style>\n<table border=\"1\" class=\"dataframe\">\n  <thead>\n    <tr style=\"text-align: right;\">\n      <th></th>\n      <th>date</th>\n      <th>county</th>\n      <th>fips</th>\n      <th>place</th>\n      <th>confirmed_cases</th>\n      <th>note</th>\n      <th>x</th>\n      <th>y</th>\n      <th>zip</th>\n      <th>city_id</th>\n      <th>daily_cases</th>\n      <th>rate</th>\n      <th>rate7day</th>\n      <th>ratio7day</th>\n    </tr>\n  </thead>\n  <tbody>\n    <tr>\n      <th>0</th>\n      <td>2020-03-16</td>\n      <td>Los Angeles</td>\n      <td>37</td>\n      <td>Alhambra</td>\n      <td>2</td>\n      <td>NaN</td>\n      <td>-118.135504</td>\n      <td>34.083961</td>\n      <td>91803</td>\n      <td>0</td>\n      <td>0.0</td>\n      <td>0.0</td>\n      <td>0.0</td>\n      <td>0.0</td>\n    </tr>\n    <tr>\n      <th>1</th>\n      <td>2020-03-17</td>\n      <td>Los Angeles</td>\n      <td>37</td>\n      <td>Alhambra</td>\n      <td>1</td>\n      <td>NaN</td>\n      <td>-118.135504</td>\n      <td>34.083961</td>\n      <td>91803</td>\n      <td>0</td>\n      <td>-1.0</td>\n      <td>-0.5</td>\n      <td>0.0</td>\n      <td>0.0</td>\n    </tr>\n    <tr>\n      <th>2</th>\n      <td>2020-03-18</td>\n      <td>Los Angeles</td>\n      <td>37</td>\n      <td>Alhambra</td>\n      <td>1</td>\n      <td>NaN</td>\n      <td>-118.135504</td>\n      <td>34.083961</td>\n      <td>91803</td>\n      <td>0</td>\n      <td>0.0</td>\n      <td>0.0</td>\n      <td>0.0</td>\n      <td>0.0</td>\n    </tr>\n    <tr>\n      <th>3</th>\n      <td>2020-03-19</td>\n      <td>Los Angeles</td>\n      <td>37</td>\n      <td>Alhambra</td>\n      <td>2</td>\n      <td>NaN</td>\n      <td>-118.135504</td>\n      <td>34.083961</td>\n      <td>91803</td>\n      <td>0</td>\n      <td>1.0</td>\n      <td>1.0</td>\n      <td>0.0</td>\n      <td>0.0</td>\n    </tr>\n    <tr>\n      <th>4</th>\n      <td>2020-03-20</td>\n      <td>Los Angeles</td>\n      <td>37</td>\n      <td>Alhambra</td>\n      <td>3</td>\n      <td>NaN</td>\n      <td>-118.135504</td>\n      <td>34.083961</td>\n      <td>91803</td>\n      <td>0</td>\n      <td>1.0</td>\n      <td>0.5</td>\n      <td>0.0</td>\n      <td>0.0</td>\n    </tr>\n    <tr>\n      <th>...</th>\n      <td>...</td>\n      <td>...</td>\n      <td>...</td>\n      <td>...</td>\n      <td>...</td>\n      <td>...</td>\n      <td>...</td>\n      <td>...</td>\n      <td>...</td>\n      <td>...</td>\n      <td>...</td>\n      <td>...</td>\n      <td>...</td>\n      <td>...</td>\n    </tr>\n    <tr>\n      <th>38508</th>\n      <td>2020-05-24</td>\n      <td>Los Angeles</td>\n      <td>37</td>\n      <td>Newhall</td>\n      <td>1</td>\n      <td>NaN</td>\n      <td>-118.526491</td>\n      <td>34.347040</td>\n      <td>91321</td>\n      <td>961</td>\n      <td>0.0</td>\n      <td>0.0</td>\n      <td>0.0</td>\n      <td>0.0</td>\n    </tr>\n    <tr>\n      <th>38509</th>\n      <td>2020-05-23</td>\n      <td>Los Angeles</td>\n      <td>37</td>\n      <td>Roosevelt</td>\n      <td>1</td>\n      <td>NaN</td>\n      <td>-117.961701</td>\n      <td>34.733315</td>\n      <td>93535</td>\n      <td>962</td>\n      <td>0.0</td>\n      <td>0.0</td>\n      <td>0.0</td>\n      <td>0.0</td>\n    </tr>\n    <tr>\n      <th>38510</th>\n      <td>2020-05-23</td>\n      <td>San Bernardino</td>\n      <td>71</td>\n      <td>Needles</td>\n      <td>1</td>\n      <td>NaN</td>\n      <td>-114.619621</td>\n      <td>34.806179</td>\n      <td>92363</td>\n      <td>963</td>\n      <td>0.0</td>\n      <td>0.0</td>\n      <td>0.0</td>\n      <td>0.0</td>\n    </tr>\n    <tr>\n      <th>38511</th>\n      <td>2020-05-24</td>\n      <td>San Bernardino</td>\n      <td>71</td>\n      <td>Needles</td>\n      <td>1</td>\n      <td>NaN</td>\n      <td>-114.619621</td>\n      <td>34.806179</td>\n      <td>92363</td>\n      <td>963</td>\n      <td>0.0</td>\n      <td>0.0</td>\n      <td>0.0</td>\n      <td>0.0</td>\n    </tr>\n    <tr>\n      <th>38512</th>\n      <td>2020-05-23</td>\n      <td>San Diego</td>\n      <td>73</td>\n      <td>Other</td>\n      <td>497</td>\n      <td>NaN</td>\n      <td>0.000000</td>\n      <td>0.000000</td>\n      <td>0</td>\n      <td>964</td>\n      <td>0.0</td>\n      <td>0.0</td>\n      <td>0.0</td>\n      <td>0.0</td>\n    </tr>\n  </tbody>\n</table>\n<p>38513 rows × 14 columns</p>\n</div>"
     },
     "execution_count": 5,
     "metadata": {},
     "output_type": "execute_result"
    }
   ],
   "source": [
    "import numpy as np\n",
    "\n",
    "# Suppress warnings\n",
    "pd.options.mode.chained_assignment = None\n",
    "\n",
    "city_id = city_df.city_id.unique()\n",
    "\n",
    "for i in city_id:\n",
    "    temp_df = city_df[city_df.city_id == i]\n",
    "    temp_df['daily_cases'] = temp_df['confirmed_cases'].diff().fillna(0)\n",
    "    temp_df['rate'] = temp_df['confirmed_cases'].pct_change().fillna(0)\n",
    "    temp_df['rate7day'] = temp_df['rate'].rolling(window=7).mean().fillna(0)\n",
    "    temp_df['ratio7day'] = (temp_df.rate / temp_df.rate7day).fillna(0)\n",
    "    temp_df = temp_df.replace(np.inf, 0)\n",
    "    temp_df = temp_df.replace(-np.inf, 0)\n",
    "    if i == 0:\n",
    "        new_df = temp_df\n",
    "    else:\n",
    "        new_df = pd.concat([new_df, temp_df])\n",
    "new_df"
   ],
   "metadata": {
    "collapsed": false,
    "pycharm": {
     "name": "#%%\n"
    }
   }
  },
  {
   "cell_type": "code",
   "execution_count": 6,
   "outputs": [],
   "source": [
    "import os\n",
    "new_df.to_csv(os.path.join(\"output\", \"city_data.csv\"), index=False)\n"
   ],
   "metadata": {
    "collapsed": false,
    "pycharm": {
     "name": "#%%\n"
    }
   }
  }
 ],
 "metadata": {
  "kernelspec": {
   "display_name": "Python 3",
   "language": "python",
   "name": "python3"
  },
  "language_info": {
   "codemirror_mode": {
    "name": "ipython",
    "version": 2
   },
   "file_extension": ".py",
   "mimetype": "text/x-python",
   "name": "python",
   "nbconvert_exporter": "python",
   "pygments_lexer": "ipython2",
   "version": "2.7.6"
  }
 },
 "nbformat": 4,
 "nbformat_minor": 0
}
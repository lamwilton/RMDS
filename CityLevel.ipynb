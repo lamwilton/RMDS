{
 "cells": [
  {
   "cell_type": "markdown",
   "metadata": {
    "collapsed": true,
    "pycharm": {
     "name": "#%% md\n"
    }
   },
   "source": [
    "# Zip code level COVID cases data processing for CA only  \n",
    "Data from LA times  \n",
    "Outputs city_data.csv"
   ]
  },
  {
   "cell_type": "code",
   "execution_count": 1,
   "outputs": [
    {
     "data": {
      "text/plain": "             date       county  fips                       place  \\\n0      2020-03-16  Los Angeles    37                    Alhambra   \n1      2020-03-16  Los Angeles    37                     Arcadia   \n2      2020-03-16  Los Angeles    37               Beverly Hills   \n3      2020-03-16  Los Angeles    37               Boyle Heights   \n4      2020-03-16  Los Angeles    37                      Carson   \n...           ...          ...   ...                         ...   \n42990  2020-05-30   Stanislaus    99  unincorporated / districts   \n42991  2020-05-30         Yolo   113                       Davis   \n42992  2020-05-30         Yolo   113             West Sacramento   \n42993  2020-05-30         Yolo   113  Winters and unincorporated   \n42994  2020-05-30         Yolo   113                    Woodland   \n\n       confirmed_cases note           x          y  \n0                    2  NaN -118.135504  34.083961  \n1                    1  NaN -118.037297  34.134186  \n2                    1  NaN -118.402109  34.078543  \n3                    5  NaN -118.205330  34.038150  \n4                    1  NaN -118.255878  33.837391  \n...                ...  ...         ...        ...  \n42990              113  NaN    0.000000   0.000000  \n42991               24  NaN -121.738056  38.553889  \n42992               72  NaN -121.530278  38.580556  \n42993               18  NaN -121.970833  38.525000  \n42994               96  NaN -121.773333  38.678611  \n\n[42995 rows x 8 columns]",
      "text/html": "<div>\n<style scoped>\n    .dataframe tbody tr th:only-of-type {\n        vertical-align: middle;\n    }\n\n    .dataframe tbody tr th {\n        vertical-align: top;\n    }\n\n    .dataframe thead th {\n        text-align: right;\n    }\n</style>\n<table border=\"1\" class=\"dataframe\">\n  <thead>\n    <tr style=\"text-align: right;\">\n      <th></th>\n      <th>date</th>\n      <th>county</th>\n      <th>fips</th>\n      <th>place</th>\n      <th>confirmed_cases</th>\n      <th>note</th>\n      <th>x</th>\n      <th>y</th>\n    </tr>\n  </thead>\n  <tbody>\n    <tr>\n      <th>0</th>\n      <td>2020-03-16</td>\n      <td>Los Angeles</td>\n      <td>37</td>\n      <td>Alhambra</td>\n      <td>2</td>\n      <td>NaN</td>\n      <td>-118.135504</td>\n      <td>34.083961</td>\n    </tr>\n    <tr>\n      <th>1</th>\n      <td>2020-03-16</td>\n      <td>Los Angeles</td>\n      <td>37</td>\n      <td>Arcadia</td>\n      <td>1</td>\n      <td>NaN</td>\n      <td>-118.037297</td>\n      <td>34.134186</td>\n    </tr>\n    <tr>\n      <th>2</th>\n      <td>2020-03-16</td>\n      <td>Los Angeles</td>\n      <td>37</td>\n      <td>Beverly Hills</td>\n      <td>1</td>\n      <td>NaN</td>\n      <td>-118.402109</td>\n      <td>34.078543</td>\n    </tr>\n    <tr>\n      <th>3</th>\n      <td>2020-03-16</td>\n      <td>Los Angeles</td>\n      <td>37</td>\n      <td>Boyle Heights</td>\n      <td>5</td>\n      <td>NaN</td>\n      <td>-118.205330</td>\n      <td>34.038150</td>\n    </tr>\n    <tr>\n      <th>4</th>\n      <td>2020-03-16</td>\n      <td>Los Angeles</td>\n      <td>37</td>\n      <td>Carson</td>\n      <td>1</td>\n      <td>NaN</td>\n      <td>-118.255878</td>\n      <td>33.837391</td>\n    </tr>\n    <tr>\n      <th>...</th>\n      <td>...</td>\n      <td>...</td>\n      <td>...</td>\n      <td>...</td>\n      <td>...</td>\n      <td>...</td>\n      <td>...</td>\n      <td>...</td>\n    </tr>\n    <tr>\n      <th>42990</th>\n      <td>2020-05-30</td>\n      <td>Stanislaus</td>\n      <td>99</td>\n      <td>unincorporated / districts</td>\n      <td>113</td>\n      <td>NaN</td>\n      <td>0.000000</td>\n      <td>0.000000</td>\n    </tr>\n    <tr>\n      <th>42991</th>\n      <td>2020-05-30</td>\n      <td>Yolo</td>\n      <td>113</td>\n      <td>Davis</td>\n      <td>24</td>\n      <td>NaN</td>\n      <td>-121.738056</td>\n      <td>38.553889</td>\n    </tr>\n    <tr>\n      <th>42992</th>\n      <td>2020-05-30</td>\n      <td>Yolo</td>\n      <td>113</td>\n      <td>West Sacramento</td>\n      <td>72</td>\n      <td>NaN</td>\n      <td>-121.530278</td>\n      <td>38.580556</td>\n    </tr>\n    <tr>\n      <th>42993</th>\n      <td>2020-05-30</td>\n      <td>Yolo</td>\n      <td>113</td>\n      <td>Winters and unincorporated</td>\n      <td>18</td>\n      <td>NaN</td>\n      <td>-121.970833</td>\n      <td>38.525000</td>\n    </tr>\n    <tr>\n      <th>42994</th>\n      <td>2020-05-30</td>\n      <td>Yolo</td>\n      <td>113</td>\n      <td>Woodland</td>\n      <td>96</td>\n      <td>NaN</td>\n      <td>-121.773333</td>\n      <td>38.678611</td>\n    </tr>\n  </tbody>\n</table>\n<p>42995 rows × 8 columns</p>\n</div>"
     },
     "execution_count": 1,
     "metadata": {},
     "output_type": "execute_result"
    }
   ],
   "source": [
    "import pandas as pd\n",
    "import time\n",
    "start_time = time.time()\n",
    "\n",
    "city_df = pd.read_csv(\"https://raw.githubusercontent.com/datadesk/california-coronavirus-data/master/latimes-place-totals.csv\")\n",
    "city_df.x = city_df.x.abs() * -1  # Correcting a mistake in longitude\n",
    "city_df.x = city_df.x.fillna(0)\n",
    "city_df.y = city_df.y.fillna(0)\n",
    "city_df"
   ],
   "metadata": {
    "collapsed": false,
    "pycharm": {
     "name": "#%%\n"
    }
   }
  },
  {
   "cell_type": "markdown",
   "source": [
    "New python package for finding zipcode called uszipcode\n",
    "Can find zipcode based on coordinates\n",
    "https://pypi.org/project/uszipcode/"
   ],
   "metadata": {
    "collapsed": false,
    "pycharm": {
     "name": "#%% md\n"
    }
   }
  },
  {
   "cell_type": "code",
   "execution_count": 2,
   "outputs": [
    {
     "data": {
      "text/plain": "SimpleZipcode(zipcode='95776', zipcode_type='Standard', major_city='Woodland', post_office_city='Woodland, CA', common_city_list=['Woodland'], county='Yolo County', state='CA', lat=38.7, lng=-121.7, timezone='Pacific', radius_in_miles=11.0, area_code_list=['530'], population=21902, population_density=237.0, land_area_in_sqmi=92.43, water_area_in_sqmi=1.12, housing_units=6824, occupied_housing_units=6464, median_home_value=248000, median_household_income=61599, bounds_west=-121.781382, bounds_east=-121.629202, bounds_north=38.803028, bounds_south=38.553296)"
     },
     "execution_count": 2,
     "metadata": {},
     "output_type": "execute_result"
    }
   ],
   "source": [
    "from uszipcode import SearchEngine\n",
    "search = SearchEngine(simple_zipcode=True)\n",
    "result = search.by_coordinates(38.678611, -121.773333, radius=30, returns=1)\n",
    "result[0]"
   ],
   "metadata": {
    "collapsed": false,
    "pycharm": {
     "name": "#%%\n"
    }
   }
  },
  {
   "cell_type": "markdown",
   "source": [
    "Select unique cities and look for zip code in a new table"
   ],
   "metadata": {
    "collapsed": false,
    "pycharm": {
     "name": "#%% md\n"
    }
   }
  },
  {
   "cell_type": "code",
   "execution_count": 3,
   "outputs": [
    {
     "data": {
      "text/plain": "           county                       place           x          y    zip  \\\n0     Los Angeles                    Alhambra -118.135504  34.083961  91803   \n1     Los Angeles                     Arcadia -118.037297  34.134186  91006   \n2     Los Angeles               Beverly Hills -118.402109  34.078543  90212   \n3     Los Angeles               Boyle Heights -118.205330  34.038150  90033   \n4     Los Angeles                      Carson -118.255878  33.837391  90745   \n...           ...                         ...         ...        ...    ...   \n998         Marin                  Strawberry -122.508804  37.897780  94920   \n999         Marin  Tamalpais-Homestead Valley -122.531200  37.876045  94941   \n1000        Marin                     Tiburon -122.456141  37.873572  94920   \n1001        Marin                     Tomales -122.904946  38.246540  94940   \n1002        Marin                    Woodacre -122.645405  38.012655  94930   \n\n      city_id  \n0           0  \n1           1  \n2           2  \n3           3  \n4           4  \n...       ...  \n998       998  \n999       999  \n1000     1000  \n1001     1001  \n1002     1002  \n\n[1003 rows x 6 columns]",
      "text/html": "<div>\n<style scoped>\n    .dataframe tbody tr th:only-of-type {\n        vertical-align: middle;\n    }\n\n    .dataframe tbody tr th {\n        vertical-align: top;\n    }\n\n    .dataframe thead th {\n        text-align: right;\n    }\n</style>\n<table border=\"1\" class=\"dataframe\">\n  <thead>\n    <tr style=\"text-align: right;\">\n      <th></th>\n      <th>county</th>\n      <th>place</th>\n      <th>x</th>\n      <th>y</th>\n      <th>zip</th>\n      <th>city_id</th>\n    </tr>\n  </thead>\n  <tbody>\n    <tr>\n      <th>0</th>\n      <td>Los Angeles</td>\n      <td>Alhambra</td>\n      <td>-118.135504</td>\n      <td>34.083961</td>\n      <td>91803</td>\n      <td>0</td>\n    </tr>\n    <tr>\n      <th>1</th>\n      <td>Los Angeles</td>\n      <td>Arcadia</td>\n      <td>-118.037297</td>\n      <td>34.134186</td>\n      <td>91006</td>\n      <td>1</td>\n    </tr>\n    <tr>\n      <th>2</th>\n      <td>Los Angeles</td>\n      <td>Beverly Hills</td>\n      <td>-118.402109</td>\n      <td>34.078543</td>\n      <td>90212</td>\n      <td>2</td>\n    </tr>\n    <tr>\n      <th>3</th>\n      <td>Los Angeles</td>\n      <td>Boyle Heights</td>\n      <td>-118.205330</td>\n      <td>34.038150</td>\n      <td>90033</td>\n      <td>3</td>\n    </tr>\n    <tr>\n      <th>4</th>\n      <td>Los Angeles</td>\n      <td>Carson</td>\n      <td>-118.255878</td>\n      <td>33.837391</td>\n      <td>90745</td>\n      <td>4</td>\n    </tr>\n    <tr>\n      <th>...</th>\n      <td>...</td>\n      <td>...</td>\n      <td>...</td>\n      <td>...</td>\n      <td>...</td>\n      <td>...</td>\n    </tr>\n    <tr>\n      <th>998</th>\n      <td>Marin</td>\n      <td>Strawberry</td>\n      <td>-122.508804</td>\n      <td>37.897780</td>\n      <td>94920</td>\n      <td>998</td>\n    </tr>\n    <tr>\n      <th>999</th>\n      <td>Marin</td>\n      <td>Tamalpais-Homestead Valley</td>\n      <td>-122.531200</td>\n      <td>37.876045</td>\n      <td>94941</td>\n      <td>999</td>\n    </tr>\n    <tr>\n      <th>1000</th>\n      <td>Marin</td>\n      <td>Tiburon</td>\n      <td>-122.456141</td>\n      <td>37.873572</td>\n      <td>94920</td>\n      <td>1000</td>\n    </tr>\n    <tr>\n      <th>1001</th>\n      <td>Marin</td>\n      <td>Tomales</td>\n      <td>-122.904946</td>\n      <td>38.246540</td>\n      <td>94940</td>\n      <td>1001</td>\n    </tr>\n    <tr>\n      <th>1002</th>\n      <td>Marin</td>\n      <td>Woodacre</td>\n      <td>-122.645405</td>\n      <td>38.012655</td>\n      <td>94930</td>\n      <td>1002</td>\n    </tr>\n  </tbody>\n</table>\n<p>1003 rows × 6 columns</p>\n</div>"
     },
     "execution_count": 3,
     "metadata": {},
     "output_type": "execute_result"
    }
   ],
   "source": [
    "city_data_df = pd.DataFrame()\n",
    "city_data_df = pd.concat([city_df.county, city_df.place, city_df.x, city_df.y], axis=1)\n",
    "city_data_df = city_data_df.drop_duplicates()\n",
    "\n",
    "def search_zip(df):\n",
    "    # If place name contains zip code, returns the zip code directly\n",
    "    if df.place[0:5].isnumeric():\n",
    "        return df.place[0:5]\n",
    "    if df.y == 0:\n",
    "        return 0\n",
    "    result = search.by_coordinates(df.y, df.x, radius=30, returns=1)\n",
    "    return result[0].zipcode\n",
    "\n",
    "city_data_df['zip'] = city_data_df.apply(search_zip, axis=1)\n",
    "city_data_df = city_data_df.reset_index(drop=True)\n",
    "city_data_df['city_id'] = city_data_df.index\n",
    "city_data_df"
   ],
   "metadata": {
    "collapsed": false,
    "pycharm": {
     "name": "#%%\n"
    }
   }
  },
  {
   "cell_type": "code",
   "execution_count": 4,
   "outputs": [
    {
     "data": {
      "text/plain": "             date       county  fips     place  confirmed_cases        note  \\\n0      2020-03-16  Los Angeles    37  Alhambra                2         NaN   \n1      2020-03-17  Los Angeles    37  Alhambra                1         NaN   \n2      2020-03-18  Los Angeles    37  Alhambra                1         NaN   \n3      2020-03-19  Los Angeles    37  Alhambra                2         NaN   \n4      2020-03-20  Los Angeles    37  Alhambra                3         NaN   \n...           ...          ...   ...       ...              ...         ...   \n42990  2020-05-30        Marin    41   Tiburon                1  9 or fewer   \n42991  2020-05-29        Marin    41   Tomales                1  9 or fewer   \n42992  2020-05-30        Marin    41   Tomales                1  9 or fewer   \n42993  2020-05-29        Marin    41  Woodacre                1  9 or fewer   \n42994  2020-05-30        Marin    41  Woodacre                1  9 or fewer   \n\n                x          y    zip  city_id  \n0     -118.135504  34.083961  91803        0  \n1     -118.135504  34.083961  91803        0  \n2     -118.135504  34.083961  91803        0  \n3     -118.135504  34.083961  91803        0  \n4     -118.135504  34.083961  91803        0  \n...           ...        ...    ...      ...  \n42990 -122.456141  37.873572  94920     1000  \n42991 -122.904946  38.246540  94940     1001  \n42992 -122.904946  38.246540  94940     1001  \n42993 -122.645405  38.012655  94930     1002  \n42994 -122.645405  38.012655  94930     1002  \n\n[42995 rows x 10 columns]",
      "text/html": "<div>\n<style scoped>\n    .dataframe tbody tr th:only-of-type {\n        vertical-align: middle;\n    }\n\n    .dataframe tbody tr th {\n        vertical-align: top;\n    }\n\n    .dataframe thead th {\n        text-align: right;\n    }\n</style>\n<table border=\"1\" class=\"dataframe\">\n  <thead>\n    <tr style=\"text-align: right;\">\n      <th></th>\n      <th>date</th>\n      <th>county</th>\n      <th>fips</th>\n      <th>place</th>\n      <th>confirmed_cases</th>\n      <th>note</th>\n      <th>x</th>\n      <th>y</th>\n      <th>zip</th>\n      <th>city_id</th>\n    </tr>\n  </thead>\n  <tbody>\n    <tr>\n      <th>0</th>\n      <td>2020-03-16</td>\n      <td>Los Angeles</td>\n      <td>37</td>\n      <td>Alhambra</td>\n      <td>2</td>\n      <td>NaN</td>\n      <td>-118.135504</td>\n      <td>34.083961</td>\n      <td>91803</td>\n      <td>0</td>\n    </tr>\n    <tr>\n      <th>1</th>\n      <td>2020-03-17</td>\n      <td>Los Angeles</td>\n      <td>37</td>\n      <td>Alhambra</td>\n      <td>1</td>\n      <td>NaN</td>\n      <td>-118.135504</td>\n      <td>34.083961</td>\n      <td>91803</td>\n      <td>0</td>\n    </tr>\n    <tr>\n      <th>2</th>\n      <td>2020-03-18</td>\n      <td>Los Angeles</td>\n      <td>37</td>\n      <td>Alhambra</td>\n      <td>1</td>\n      <td>NaN</td>\n      <td>-118.135504</td>\n      <td>34.083961</td>\n      <td>91803</td>\n      <td>0</td>\n    </tr>\n    <tr>\n      <th>3</th>\n      <td>2020-03-19</td>\n      <td>Los Angeles</td>\n      <td>37</td>\n      <td>Alhambra</td>\n      <td>2</td>\n      <td>NaN</td>\n      <td>-118.135504</td>\n      <td>34.083961</td>\n      <td>91803</td>\n      <td>0</td>\n    </tr>\n    <tr>\n      <th>4</th>\n      <td>2020-03-20</td>\n      <td>Los Angeles</td>\n      <td>37</td>\n      <td>Alhambra</td>\n      <td>3</td>\n      <td>NaN</td>\n      <td>-118.135504</td>\n      <td>34.083961</td>\n      <td>91803</td>\n      <td>0</td>\n    </tr>\n    <tr>\n      <th>...</th>\n      <td>...</td>\n      <td>...</td>\n      <td>...</td>\n      <td>...</td>\n      <td>...</td>\n      <td>...</td>\n      <td>...</td>\n      <td>...</td>\n      <td>...</td>\n      <td>...</td>\n    </tr>\n    <tr>\n      <th>42990</th>\n      <td>2020-05-30</td>\n      <td>Marin</td>\n      <td>41</td>\n      <td>Tiburon</td>\n      <td>1</td>\n      <td>9 or fewer</td>\n      <td>-122.456141</td>\n      <td>37.873572</td>\n      <td>94920</td>\n      <td>1000</td>\n    </tr>\n    <tr>\n      <th>42991</th>\n      <td>2020-05-29</td>\n      <td>Marin</td>\n      <td>41</td>\n      <td>Tomales</td>\n      <td>1</td>\n      <td>9 or fewer</td>\n      <td>-122.904946</td>\n      <td>38.246540</td>\n      <td>94940</td>\n      <td>1001</td>\n    </tr>\n    <tr>\n      <th>42992</th>\n      <td>2020-05-30</td>\n      <td>Marin</td>\n      <td>41</td>\n      <td>Tomales</td>\n      <td>1</td>\n      <td>9 or fewer</td>\n      <td>-122.904946</td>\n      <td>38.246540</td>\n      <td>94940</td>\n      <td>1001</td>\n    </tr>\n    <tr>\n      <th>42993</th>\n      <td>2020-05-29</td>\n      <td>Marin</td>\n      <td>41</td>\n      <td>Woodacre</td>\n      <td>1</td>\n      <td>9 or fewer</td>\n      <td>-122.645405</td>\n      <td>38.012655</td>\n      <td>94930</td>\n      <td>1002</td>\n    </tr>\n    <tr>\n      <th>42994</th>\n      <td>2020-05-30</td>\n      <td>Marin</td>\n      <td>41</td>\n      <td>Woodacre</td>\n      <td>1</td>\n      <td>9 or fewer</td>\n      <td>-122.645405</td>\n      <td>38.012655</td>\n      <td>94930</td>\n      <td>1002</td>\n    </tr>\n  </tbody>\n</table>\n<p>42995 rows × 10 columns</p>\n</div>"
     },
     "execution_count": 4,
     "metadata": {},
     "output_type": "execute_result"
    }
   ],
   "source": [
    "city_df = pd.merge(city_df, city_data_df, \"inner\", on=['county', 'place', 'x', 'y'])\n",
    "city_df"
   ],
   "metadata": {
    "collapsed": false,
    "pycharm": {
     "name": "#%%\n"
    }
   }
  },
  {
   "cell_type": "markdown",
   "source": [
    "Compute daily cases, rate and rate SMA7 of each city"
   ],
   "metadata": {
    "collapsed": false,
    "pycharm": {
     "name": "#%% md\n"
    }
   }
  },
  {
   "cell_type": "code",
   "execution_count": 5,
   "outputs": [
    {
     "data": {
      "text/plain": "             date       county  fips     place  confirmed_cases        note  \\\n0      2020-03-16  Los Angeles    37  Alhambra                2         NaN   \n1      2020-03-17  Los Angeles    37  Alhambra                1         NaN   \n2      2020-03-18  Los Angeles    37  Alhambra                1         NaN   \n3      2020-03-19  Los Angeles    37  Alhambra                2         NaN   \n4      2020-03-20  Los Angeles    37  Alhambra                3         NaN   \n...           ...          ...   ...       ...              ...         ...   \n42990  2020-05-30        Marin    41   Tiburon                1  9 or fewer   \n42991  2020-05-29        Marin    41   Tomales                1  9 or fewer   \n42992  2020-05-30        Marin    41   Tomales                1  9 or fewer   \n42993  2020-05-29        Marin    41  Woodacre                1  9 or fewer   \n42994  2020-05-30        Marin    41  Woodacre                1  9 or fewer   \n\n                x          y    zip  city_id  daily_cases  rate  rate7day  \\\n0     -118.135504  34.083961  91803        0          0.0   0.0       0.0   \n1     -118.135504  34.083961  91803        0         -1.0  -0.5       0.0   \n2     -118.135504  34.083961  91803        0          0.0   0.0       0.0   \n3     -118.135504  34.083961  91803        0          1.0   1.0       0.0   \n4     -118.135504  34.083961  91803        0          1.0   0.5       0.0   \n...           ...        ...    ...      ...          ...   ...       ...   \n42990 -122.456141  37.873572  94920     1000          0.0   0.0       0.0   \n42991 -122.904946  38.246540  94940     1001          0.0   0.0       0.0   \n42992 -122.904946  38.246540  94940     1001          0.0   0.0       0.0   \n42993 -122.645405  38.012655  94930     1002          0.0   0.0       0.0   \n42994 -122.645405  38.012655  94930     1002          0.0   0.0       0.0   \n\n       ratio7day  \n0            0.0  \n1            0.0  \n2            0.0  \n3            0.0  \n4            0.0  \n...          ...  \n42990        0.0  \n42991        0.0  \n42992        0.0  \n42993        0.0  \n42994        0.0  \n\n[42995 rows x 14 columns]",
      "text/html": "<div>\n<style scoped>\n    .dataframe tbody tr th:only-of-type {\n        vertical-align: middle;\n    }\n\n    .dataframe tbody tr th {\n        vertical-align: top;\n    }\n\n    .dataframe thead th {\n        text-align: right;\n    }\n</style>\n<table border=\"1\" class=\"dataframe\">\n  <thead>\n    <tr style=\"text-align: right;\">\n      <th></th>\n      <th>date</th>\n      <th>county</th>\n      <th>fips</th>\n      <th>place</th>\n      <th>confirmed_cases</th>\n      <th>note</th>\n      <th>x</th>\n      <th>y</th>\n      <th>zip</th>\n      <th>city_id</th>\n      <th>daily_cases</th>\n      <th>rate</th>\n      <th>rate7day</th>\n      <th>ratio7day</th>\n    </tr>\n  </thead>\n  <tbody>\n    <tr>\n      <th>0</th>\n      <td>2020-03-16</td>\n      <td>Los Angeles</td>\n      <td>37</td>\n      <td>Alhambra</td>\n      <td>2</td>\n      <td>NaN</td>\n      <td>-118.135504</td>\n      <td>34.083961</td>\n      <td>91803</td>\n      <td>0</td>\n      <td>0.0</td>\n      <td>0.0</td>\n      <td>0.0</td>\n      <td>0.0</td>\n    </tr>\n    <tr>\n      <th>1</th>\n      <td>2020-03-17</td>\n      <td>Los Angeles</td>\n      <td>37</td>\n      <td>Alhambra</td>\n      <td>1</td>\n      <td>NaN</td>\n      <td>-118.135504</td>\n      <td>34.083961</td>\n      <td>91803</td>\n      <td>0</td>\n      <td>-1.0</td>\n      <td>-0.5</td>\n      <td>0.0</td>\n      <td>0.0</td>\n    </tr>\n    <tr>\n      <th>2</th>\n      <td>2020-03-18</td>\n      <td>Los Angeles</td>\n      <td>37</td>\n      <td>Alhambra</td>\n      <td>1</td>\n      <td>NaN</td>\n      <td>-118.135504</td>\n      <td>34.083961</td>\n      <td>91803</td>\n      <td>0</td>\n      <td>0.0</td>\n      <td>0.0</td>\n      <td>0.0</td>\n      <td>0.0</td>\n    </tr>\n    <tr>\n      <th>3</th>\n      <td>2020-03-19</td>\n      <td>Los Angeles</td>\n      <td>37</td>\n      <td>Alhambra</td>\n      <td>2</td>\n      <td>NaN</td>\n      <td>-118.135504</td>\n      <td>34.083961</td>\n      <td>91803</td>\n      <td>0</td>\n      <td>1.0</td>\n      <td>1.0</td>\n      <td>0.0</td>\n      <td>0.0</td>\n    </tr>\n    <tr>\n      <th>4</th>\n      <td>2020-03-20</td>\n      <td>Los Angeles</td>\n      <td>37</td>\n      <td>Alhambra</td>\n      <td>3</td>\n      <td>NaN</td>\n      <td>-118.135504</td>\n      <td>34.083961</td>\n      <td>91803</td>\n      <td>0</td>\n      <td>1.0</td>\n      <td>0.5</td>\n      <td>0.0</td>\n      <td>0.0</td>\n    </tr>\n    <tr>\n      <th>...</th>\n      <td>...</td>\n      <td>...</td>\n      <td>...</td>\n      <td>...</td>\n      <td>...</td>\n      <td>...</td>\n      <td>...</td>\n      <td>...</td>\n      <td>...</td>\n      <td>...</td>\n      <td>...</td>\n      <td>...</td>\n      <td>...</td>\n      <td>...</td>\n    </tr>\n    <tr>\n      <th>42990</th>\n      <td>2020-05-30</td>\n      <td>Marin</td>\n      <td>41</td>\n      <td>Tiburon</td>\n      <td>1</td>\n      <td>9 or fewer</td>\n      <td>-122.456141</td>\n      <td>37.873572</td>\n      <td>94920</td>\n      <td>1000</td>\n      <td>0.0</td>\n      <td>0.0</td>\n      <td>0.0</td>\n      <td>0.0</td>\n    </tr>\n    <tr>\n      <th>42991</th>\n      <td>2020-05-29</td>\n      <td>Marin</td>\n      <td>41</td>\n      <td>Tomales</td>\n      <td>1</td>\n      <td>9 or fewer</td>\n      <td>-122.904946</td>\n      <td>38.246540</td>\n      <td>94940</td>\n      <td>1001</td>\n      <td>0.0</td>\n      <td>0.0</td>\n      <td>0.0</td>\n      <td>0.0</td>\n    </tr>\n    <tr>\n      <th>42992</th>\n      <td>2020-05-30</td>\n      <td>Marin</td>\n      <td>41</td>\n      <td>Tomales</td>\n      <td>1</td>\n      <td>9 or fewer</td>\n      <td>-122.904946</td>\n      <td>38.246540</td>\n      <td>94940</td>\n      <td>1001</td>\n      <td>0.0</td>\n      <td>0.0</td>\n      <td>0.0</td>\n      <td>0.0</td>\n    </tr>\n    <tr>\n      <th>42993</th>\n      <td>2020-05-29</td>\n      <td>Marin</td>\n      <td>41</td>\n      <td>Woodacre</td>\n      <td>1</td>\n      <td>9 or fewer</td>\n      <td>-122.645405</td>\n      <td>38.012655</td>\n      <td>94930</td>\n      <td>1002</td>\n      <td>0.0</td>\n      <td>0.0</td>\n      <td>0.0</td>\n      <td>0.0</td>\n    </tr>\n    <tr>\n      <th>42994</th>\n      <td>2020-05-30</td>\n      <td>Marin</td>\n      <td>41</td>\n      <td>Woodacre</td>\n      <td>1</td>\n      <td>9 or fewer</td>\n      <td>-122.645405</td>\n      <td>38.012655</td>\n      <td>94930</td>\n      <td>1002</td>\n      <td>0.0</td>\n      <td>0.0</td>\n      <td>0.0</td>\n      <td>0.0</td>\n    </tr>\n  </tbody>\n</table>\n<p>42995 rows × 14 columns</p>\n</div>"
     },
     "execution_count": 5,
     "metadata": {},
     "output_type": "execute_result"
    }
   ],
   "source": [
    "import numpy as np\n",
    "\n",
    "# Suppress warnings\n",
    "pd.options.mode.chained_assignment = None\n",
    "\n",
    "city_id = city_df.city_id.unique()\n",
    "\n",
    "for i in city_id:\n",
    "    temp_df = city_df[city_df.city_id == i]\n",
    "    temp_df['daily_cases'] = temp_df['confirmed_cases'].diff().fillna(0)\n",
    "    temp_df['rate'] = temp_df['confirmed_cases'].pct_change().fillna(0)\n",
    "    temp_df['rate7day'] = temp_df['rate'].rolling(window=7).mean().fillna(0)\n",
    "    temp_df['ratio7day'] = (temp_df.rate / temp_df.rate7day).fillna(0)\n",
    "    temp_df = temp_df.replace(np.inf, 0)\n",
    "    temp_df = temp_df.replace(-np.inf, 0)\n",
    "    if i == 0:\n",
    "        new_df = temp_df\n",
    "    else:\n",
    "        new_df = pd.concat([new_df, temp_df])\n",
    "new_df"
   ],
   "metadata": {
    "collapsed": false,
    "pycharm": {
     "name": "#%%\n"
    }
   }
  },
  {
   "cell_type": "code",
   "execution_count": 6,
   "outputs": [],
   "source": [
    "import os\n",
    "new_df.to_csv(os.path.join(\"output\", \"city_data.csv\"), index=False)"
   ],
   "metadata": {
    "collapsed": false,
    "pycharm": {
     "name": "#%%\n"
    }
   }
  },
  {
   "cell_type": "markdown",
   "source": [
    "Total Running time (s)"
   ],
   "metadata": {
    "collapsed": false
   }
  },
  {
   "cell_type": "code",
   "execution_count": 7,
   "outputs": [
    {
     "data": {
      "text/plain": "20.174999952316284"
     },
     "execution_count": 7,
     "metadata": {},
     "output_type": "execute_result"
    }
   ],
   "source": [
    "time.time() - start_time"
   ],
   "metadata": {
    "collapsed": false,
    "pycharm": {
     "name": "#%%\n"
    }
   }
  }
 ],
 "metadata": {
  "kernelspec": {
   "display_name": "Python 3",
   "language": "python",
   "name": "python3"
  },
  "language_info": {
   "codemirror_mode": {
    "name": "ipython",
    "version": 2
   },
   "file_extension": ".py",
   "mimetype": "text/x-python",
   "name": "python",
   "nbconvert_exporter": "python",
   "pygments_lexer": "ipython2",
   "version": "2.7.6"
  }
 },
 "nbformat": 4,
 "nbformat_minor": 0
}
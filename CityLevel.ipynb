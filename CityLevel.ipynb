{
 "cells": [
  {
   "cell_type": "code",
   "execution_count": 1,
   "metadata": {
    "collapsed": true,
    "pycharm": {
     "name": "#%%\n"
    }
   },
   "outputs": [
    {
     "data": {
      "text/plain": "             date       county  fips                       place  \\\n0      2020-03-16  Los Angeles    37                    Alhambra   \n1      2020-03-16  Los Angeles    37                     Arcadia   \n2      2020-03-16  Los Angeles    37               Beverly Hills   \n3      2020-03-16  Los Angeles    37               Boyle Heights   \n4      2020-03-16  Los Angeles    37                      Carson   \n...           ...          ...   ...                         ...   \n32856  2020-05-16       Tulare   107                    Woodlake   \n32857  2020-05-16         Yolo   113                       Davis   \n32858  2020-05-16         Yolo   113             West Sacramento   \n32859  2020-05-16         Yolo   113  Winters and unincorporated   \n32860  2020-05-16         Yolo   113                    Woodland   \n\n       confirmed_cases note           x          y  \n0                    2  NaN -118.135504  34.083961  \n1                    1  NaN -118.037297  34.134186  \n2                    1  NaN -118.402109  34.078543  \n3                    5  NaN -118.205330  34.038150  \n4                    1  NaN -118.255878  33.837391  \n...                ...  ...         ...        ...  \n32856               12  NaN -119.096931  36.413681  \n32857               21  NaN -121.738056  38.553889  \n32858               62  NaN -121.530278  38.580556  \n32859               12  NaN -121.970833  38.525000  \n32860               88  NaN -121.773333  38.678611  \n\n[32861 rows x 8 columns]",
      "text/html": "<div>\n<style scoped>\n    .dataframe tbody tr th:only-of-type {\n        vertical-align: middle;\n    }\n\n    .dataframe tbody tr th {\n        vertical-align: top;\n    }\n\n    .dataframe thead th {\n        text-align: right;\n    }\n</style>\n<table border=\"1\" class=\"dataframe\">\n  <thead>\n    <tr style=\"text-align: right;\">\n      <th></th>\n      <th>date</th>\n      <th>county</th>\n      <th>fips</th>\n      <th>place</th>\n      <th>confirmed_cases</th>\n      <th>note</th>\n      <th>x</th>\n      <th>y</th>\n    </tr>\n  </thead>\n  <tbody>\n    <tr>\n      <th>0</th>\n      <td>2020-03-16</td>\n      <td>Los Angeles</td>\n      <td>37</td>\n      <td>Alhambra</td>\n      <td>2</td>\n      <td>NaN</td>\n      <td>-118.135504</td>\n      <td>34.083961</td>\n    </tr>\n    <tr>\n      <th>1</th>\n      <td>2020-03-16</td>\n      <td>Los Angeles</td>\n      <td>37</td>\n      <td>Arcadia</td>\n      <td>1</td>\n      <td>NaN</td>\n      <td>-118.037297</td>\n      <td>34.134186</td>\n    </tr>\n    <tr>\n      <th>2</th>\n      <td>2020-03-16</td>\n      <td>Los Angeles</td>\n      <td>37</td>\n      <td>Beverly Hills</td>\n      <td>1</td>\n      <td>NaN</td>\n      <td>-118.402109</td>\n      <td>34.078543</td>\n    </tr>\n    <tr>\n      <th>3</th>\n      <td>2020-03-16</td>\n      <td>Los Angeles</td>\n      <td>37</td>\n      <td>Boyle Heights</td>\n      <td>5</td>\n      <td>NaN</td>\n      <td>-118.205330</td>\n      <td>34.038150</td>\n    </tr>\n    <tr>\n      <th>4</th>\n      <td>2020-03-16</td>\n      <td>Los Angeles</td>\n      <td>37</td>\n      <td>Carson</td>\n      <td>1</td>\n      <td>NaN</td>\n      <td>-118.255878</td>\n      <td>33.837391</td>\n    </tr>\n    <tr>\n      <th>...</th>\n      <td>...</td>\n      <td>...</td>\n      <td>...</td>\n      <td>...</td>\n      <td>...</td>\n      <td>...</td>\n      <td>...</td>\n      <td>...</td>\n    </tr>\n    <tr>\n      <th>32856</th>\n      <td>2020-05-16</td>\n      <td>Tulare</td>\n      <td>107</td>\n      <td>Woodlake</td>\n      <td>12</td>\n      <td>NaN</td>\n      <td>-119.096931</td>\n      <td>36.413681</td>\n    </tr>\n    <tr>\n      <th>32857</th>\n      <td>2020-05-16</td>\n      <td>Yolo</td>\n      <td>113</td>\n      <td>Davis</td>\n      <td>21</td>\n      <td>NaN</td>\n      <td>-121.738056</td>\n      <td>38.553889</td>\n    </tr>\n    <tr>\n      <th>32858</th>\n      <td>2020-05-16</td>\n      <td>Yolo</td>\n      <td>113</td>\n      <td>West Sacramento</td>\n      <td>62</td>\n      <td>NaN</td>\n      <td>-121.530278</td>\n      <td>38.580556</td>\n    </tr>\n    <tr>\n      <th>32859</th>\n      <td>2020-05-16</td>\n      <td>Yolo</td>\n      <td>113</td>\n      <td>Winters and unincorporated</td>\n      <td>12</td>\n      <td>NaN</td>\n      <td>-121.970833</td>\n      <td>38.525000</td>\n    </tr>\n    <tr>\n      <th>32860</th>\n      <td>2020-05-16</td>\n      <td>Yolo</td>\n      <td>113</td>\n      <td>Woodland</td>\n      <td>88</td>\n      <td>NaN</td>\n      <td>-121.773333</td>\n      <td>38.678611</td>\n    </tr>\n  </tbody>\n</table>\n<p>32861 rows × 8 columns</p>\n</div>"
     },
     "execution_count": 1,
     "metadata": {},
     "output_type": "execute_result"
    }
   ],
   "source": [
    "import pandas as pd\n",
    "\n",
    "city_df = pd.read_csv(\"https://raw.githubusercontent.com/datadesk/california-coronavirus-data/master/latimes-place-totals.csv\")\n",
    "city_df.x = city_df.x.abs() * -1  # Correcting a mistake in longitude\n",
    "city_df.x = city_df.x.fillna(0)\n",
    "city_df.y = city_df.y.fillna(0)\n",
    "city_df"
   ]
  },
  {
   "cell_type": "markdown",
   "source": [
    "New python package for finding zipcode called uszipcode\n",
    "Can find zipcode based on coordinates\n",
    "https://pypi.org/project/uszipcode/"
   ],
   "metadata": {
    "collapsed": false,
    "pycharm": {
     "name": "#%% md\n"
    }
   }
  },
  {
   "cell_type": "code",
   "execution_count": 2,
   "outputs": [
    {
     "data": {
      "text/plain": "SimpleZipcode(zipcode='95776', zipcode_type='Standard', major_city='Woodland', post_office_city='Woodland, CA', common_city_list=['Woodland'], county='Yolo County', state='CA', lat=38.7, lng=-121.7, timezone='Pacific', radius_in_miles=11.0, area_code_list=['530'], population=21902, population_density=237.0, land_area_in_sqmi=92.43, water_area_in_sqmi=1.12, housing_units=6824, occupied_housing_units=6464, median_home_value=248000, median_household_income=61599, bounds_west=-121.781382, bounds_east=-121.629202, bounds_north=38.803028, bounds_south=38.553296)"
     },
     "execution_count": 2,
     "metadata": {},
     "output_type": "execute_result"
    }
   ],
   "source": [
    "from uszipcode import SearchEngine\n",
    "search = SearchEngine(simple_zipcode=True)\n",
    "result = search.by_coordinates(38.678611, -121.773333, radius=30, returns=1)\n",
    "result[0]"
   ],
   "metadata": {
    "collapsed": false,
    "pycharm": {
     "name": "#%%\n"
    }
   }
  },
  {
   "cell_type": "markdown",
   "source": [
    "Select unique cities and look for zip code in a new table"
   ],
   "metadata": {
    "collapsed": false,
    "pycharm": {
     "name": "#%% md\n"
    }
   }
  },
  {
   "cell_type": "code",
   "execution_count": 3,
   "outputs": [
    {
     "data": {
      "text/plain": "          county                       place           x          y    zip  \\\n0    Los Angeles                    Alhambra -118.135504  34.083961  91803   \n1    Los Angeles                     Arcadia -118.037297  34.134186  91006   \n2    Los Angeles               Beverly Hills -118.402109  34.078543  90212   \n3    Los Angeles               Boyle Heights -118.205330  34.038150  90033   \n4    Los Angeles                      Carson -118.255878  33.837391  90745   \n..           ...                         ...         ...        ...    ...   \n944    El Dorado  Diamond Springs, El Dorado -120.815000  38.694722  95619   \n945       Fresno                   Caruthers -119.834562  36.542564  93609   \n946  Los Angeles               East Pasadena -118.082551  34.161732  91024   \n947  Los Angeles                 San Pasqual -118.102533  34.139229  91775   \n948       Merced                      Hilmar -120.857970  37.404278  95324   \n\n     city_id  \n0          0  \n1          1  \n2          2  \n3          3  \n4          4  \n..       ...  \n944      944  \n945      945  \n946      946  \n947      947  \n948      948  \n\n[949 rows x 6 columns]",
      "text/html": "<div>\n<style scoped>\n    .dataframe tbody tr th:only-of-type {\n        vertical-align: middle;\n    }\n\n    .dataframe tbody tr th {\n        vertical-align: top;\n    }\n\n    .dataframe thead th {\n        text-align: right;\n    }\n</style>\n<table border=\"1\" class=\"dataframe\">\n  <thead>\n    <tr style=\"text-align: right;\">\n      <th></th>\n      <th>county</th>\n      <th>place</th>\n      <th>x</th>\n      <th>y</th>\n      <th>zip</th>\n      <th>city_id</th>\n    </tr>\n  </thead>\n  <tbody>\n    <tr>\n      <th>0</th>\n      <td>Los Angeles</td>\n      <td>Alhambra</td>\n      <td>-118.135504</td>\n      <td>34.083961</td>\n      <td>91803</td>\n      <td>0</td>\n    </tr>\n    <tr>\n      <th>1</th>\n      <td>Los Angeles</td>\n      <td>Arcadia</td>\n      <td>-118.037297</td>\n      <td>34.134186</td>\n      <td>91006</td>\n      <td>1</td>\n    </tr>\n    <tr>\n      <th>2</th>\n      <td>Los Angeles</td>\n      <td>Beverly Hills</td>\n      <td>-118.402109</td>\n      <td>34.078543</td>\n      <td>90212</td>\n      <td>2</td>\n    </tr>\n    <tr>\n      <th>3</th>\n      <td>Los Angeles</td>\n      <td>Boyle Heights</td>\n      <td>-118.205330</td>\n      <td>34.038150</td>\n      <td>90033</td>\n      <td>3</td>\n    </tr>\n    <tr>\n      <th>4</th>\n      <td>Los Angeles</td>\n      <td>Carson</td>\n      <td>-118.255878</td>\n      <td>33.837391</td>\n      <td>90745</td>\n      <td>4</td>\n    </tr>\n    <tr>\n      <th>...</th>\n      <td>...</td>\n      <td>...</td>\n      <td>...</td>\n      <td>...</td>\n      <td>...</td>\n      <td>...</td>\n    </tr>\n    <tr>\n      <th>944</th>\n      <td>El Dorado</td>\n      <td>Diamond Springs, El Dorado</td>\n      <td>-120.815000</td>\n      <td>38.694722</td>\n      <td>95619</td>\n      <td>944</td>\n    </tr>\n    <tr>\n      <th>945</th>\n      <td>Fresno</td>\n      <td>Caruthers</td>\n      <td>-119.834562</td>\n      <td>36.542564</td>\n      <td>93609</td>\n      <td>945</td>\n    </tr>\n    <tr>\n      <th>946</th>\n      <td>Los Angeles</td>\n      <td>East Pasadena</td>\n      <td>-118.082551</td>\n      <td>34.161732</td>\n      <td>91024</td>\n      <td>946</td>\n    </tr>\n    <tr>\n      <th>947</th>\n      <td>Los Angeles</td>\n      <td>San Pasqual</td>\n      <td>-118.102533</td>\n      <td>34.139229</td>\n      <td>91775</td>\n      <td>947</td>\n    </tr>\n    <tr>\n      <th>948</th>\n      <td>Merced</td>\n      <td>Hilmar</td>\n      <td>-120.857970</td>\n      <td>37.404278</td>\n      <td>95324</td>\n      <td>948</td>\n    </tr>\n  </tbody>\n</table>\n<p>949 rows × 6 columns</p>\n</div>"
     },
     "execution_count": 3,
     "metadata": {},
     "output_type": "execute_result"
    }
   ],
   "source": [
    "city_data_df = pd.DataFrame()\n",
    "city_data_df = pd.concat([city_df.county, city_df.place, city_df.x, city_df.y], axis=1)\n",
    "city_data_df = city_data_df.drop_duplicates()\n",
    "\n",
    "def search_zip(df):\n",
    "    # If place name contains zip code, returns the zip code directly\n",
    "    if df.place[0:5].isnumeric():\n",
    "        return df.place[0:5]\n",
    "    if df.y == 0:\n",
    "        return 0\n",
    "    result = search.by_coordinates(df.y, df.x, radius=30, returns=1)\n",
    "    return int(result[0].zipcode)\n",
    "\n",
    "city_data_df['zip'] = city_data_df.apply(search_zip, axis=1)\n",
    "city_data_df = city_data_df.reset_index(drop=True)\n",
    "city_data_df['city_id'] = city_data_df.index\n",
    "city_data_df"
   ],
   "metadata": {
    "collapsed": false,
    "pycharm": {
     "name": "#%%\n"
    }
   }
  },
  {
   "cell_type": "code",
   "execution_count": 4,
   "outputs": [
    {
     "data": {
      "text/plain": "             date       county  fips        place  confirmed_cases note  \\\n0      2020-03-16  Los Angeles    37     Alhambra                2  NaN   \n1      2020-03-17  Los Angeles    37     Alhambra                1  NaN   \n2      2020-03-18  Los Angeles    37     Alhambra                1  NaN   \n3      2020-03-19  Los Angeles    37     Alhambra                2  NaN   \n4      2020-03-20  Los Angeles    37     Alhambra                3  NaN   \n...           ...          ...   ...          ...              ...  ...   \n32856  2020-05-13  Los Angeles    37  San Pasqual                1  NaN   \n32857  2020-05-14  Los Angeles    37  San Pasqual                1  NaN   \n32858  2020-05-15  Los Angeles    37  San Pasqual                1  NaN   \n32859  2020-05-16  Los Angeles    37  San Pasqual                1  NaN   \n32860  2020-05-15       Merced    47       Hilmar                6  NaN   \n\n                x          y    zip  city_id  \n0     -118.135504  34.083961  91803        0  \n1     -118.135504  34.083961  91803        0  \n2     -118.135504  34.083961  91803        0  \n3     -118.135504  34.083961  91803        0  \n4     -118.135504  34.083961  91803        0  \n...           ...        ...    ...      ...  \n32856 -118.102533  34.139229  91775      947  \n32857 -118.102533  34.139229  91775      947  \n32858 -118.102533  34.139229  91775      947  \n32859 -118.102533  34.139229  91775      947  \n32860 -120.857970  37.404278  95324      948  \n\n[32861 rows x 10 columns]",
      "text/html": "<div>\n<style scoped>\n    .dataframe tbody tr th:only-of-type {\n        vertical-align: middle;\n    }\n\n    .dataframe tbody tr th {\n        vertical-align: top;\n    }\n\n    .dataframe thead th {\n        text-align: right;\n    }\n</style>\n<table border=\"1\" class=\"dataframe\">\n  <thead>\n    <tr style=\"text-align: right;\">\n      <th></th>\n      <th>date</th>\n      <th>county</th>\n      <th>fips</th>\n      <th>place</th>\n      <th>confirmed_cases</th>\n      <th>note</th>\n      <th>x</th>\n      <th>y</th>\n      <th>zip</th>\n      <th>city_id</th>\n    </tr>\n  </thead>\n  <tbody>\n    <tr>\n      <th>0</th>\n      <td>2020-03-16</td>\n      <td>Los Angeles</td>\n      <td>37</td>\n      <td>Alhambra</td>\n      <td>2</td>\n      <td>NaN</td>\n      <td>-118.135504</td>\n      <td>34.083961</td>\n      <td>91803</td>\n      <td>0</td>\n    </tr>\n    <tr>\n      <th>1</th>\n      <td>2020-03-17</td>\n      <td>Los Angeles</td>\n      <td>37</td>\n      <td>Alhambra</td>\n      <td>1</td>\n      <td>NaN</td>\n      <td>-118.135504</td>\n      <td>34.083961</td>\n      <td>91803</td>\n      <td>0</td>\n    </tr>\n    <tr>\n      <th>2</th>\n      <td>2020-03-18</td>\n      <td>Los Angeles</td>\n      <td>37</td>\n      <td>Alhambra</td>\n      <td>1</td>\n      <td>NaN</td>\n      <td>-118.135504</td>\n      <td>34.083961</td>\n      <td>91803</td>\n      <td>0</td>\n    </tr>\n    <tr>\n      <th>3</th>\n      <td>2020-03-19</td>\n      <td>Los Angeles</td>\n      <td>37</td>\n      <td>Alhambra</td>\n      <td>2</td>\n      <td>NaN</td>\n      <td>-118.135504</td>\n      <td>34.083961</td>\n      <td>91803</td>\n      <td>0</td>\n    </tr>\n    <tr>\n      <th>4</th>\n      <td>2020-03-20</td>\n      <td>Los Angeles</td>\n      <td>37</td>\n      <td>Alhambra</td>\n      <td>3</td>\n      <td>NaN</td>\n      <td>-118.135504</td>\n      <td>34.083961</td>\n      <td>91803</td>\n      <td>0</td>\n    </tr>\n    <tr>\n      <th>...</th>\n      <td>...</td>\n      <td>...</td>\n      <td>...</td>\n      <td>...</td>\n      <td>...</td>\n      <td>...</td>\n      <td>...</td>\n      <td>...</td>\n      <td>...</td>\n      <td>...</td>\n    </tr>\n    <tr>\n      <th>32856</th>\n      <td>2020-05-13</td>\n      <td>Los Angeles</td>\n      <td>37</td>\n      <td>San Pasqual</td>\n      <td>1</td>\n      <td>NaN</td>\n      <td>-118.102533</td>\n      <td>34.139229</td>\n      <td>91775</td>\n      <td>947</td>\n    </tr>\n    <tr>\n      <th>32857</th>\n      <td>2020-05-14</td>\n      <td>Los Angeles</td>\n      <td>37</td>\n      <td>San Pasqual</td>\n      <td>1</td>\n      <td>NaN</td>\n      <td>-118.102533</td>\n      <td>34.139229</td>\n      <td>91775</td>\n      <td>947</td>\n    </tr>\n    <tr>\n      <th>32858</th>\n      <td>2020-05-15</td>\n      <td>Los Angeles</td>\n      <td>37</td>\n      <td>San Pasqual</td>\n      <td>1</td>\n      <td>NaN</td>\n      <td>-118.102533</td>\n      <td>34.139229</td>\n      <td>91775</td>\n      <td>947</td>\n    </tr>\n    <tr>\n      <th>32859</th>\n      <td>2020-05-16</td>\n      <td>Los Angeles</td>\n      <td>37</td>\n      <td>San Pasqual</td>\n      <td>1</td>\n      <td>NaN</td>\n      <td>-118.102533</td>\n      <td>34.139229</td>\n      <td>91775</td>\n      <td>947</td>\n    </tr>\n    <tr>\n      <th>32860</th>\n      <td>2020-05-15</td>\n      <td>Merced</td>\n      <td>47</td>\n      <td>Hilmar</td>\n      <td>6</td>\n      <td>NaN</td>\n      <td>-120.857970</td>\n      <td>37.404278</td>\n      <td>95324</td>\n      <td>948</td>\n    </tr>\n  </tbody>\n</table>\n<p>32861 rows × 10 columns</p>\n</div>"
     },
     "execution_count": 4,
     "metadata": {},
     "output_type": "execute_result"
    }
   ],
   "source": [
    "city_df = pd.merge(city_df, city_data_df, \"inner\", on=['county', 'place', 'x', 'y'])\n",
    "city_df"
   ],
   "metadata": {
    "collapsed": false,
    "pycharm": {
     "name": "#%%\n"
    }
   }
  },
  {
   "cell_type": "markdown",
   "source": [
    "Compute daily cases, rate and rate SMA7 of each city"
   ],
   "metadata": {
    "collapsed": false,
    "pycharm": {
     "name": "#%% md\n"
    }
   }
  },
  {
   "cell_type": "code",
   "execution_count": 5,
   "outputs": [
    {
     "data": {
      "text/plain": "             date       county  fips        place  confirmed_cases note  \\\n0      2020-03-16  Los Angeles    37     Alhambra                2  NaN   \n1      2020-03-17  Los Angeles    37     Alhambra                1  NaN   \n2      2020-03-18  Los Angeles    37     Alhambra                1  NaN   \n3      2020-03-19  Los Angeles    37     Alhambra                2  NaN   \n4      2020-03-20  Los Angeles    37     Alhambra                3  NaN   \n...           ...          ...   ...          ...              ...  ...   \n32856  2020-05-13  Los Angeles    37  San Pasqual                1  NaN   \n32857  2020-05-14  Los Angeles    37  San Pasqual                1  NaN   \n32858  2020-05-15  Los Angeles    37  San Pasqual                1  NaN   \n32859  2020-05-16  Los Angeles    37  San Pasqual                1  NaN   \n32860  2020-05-15       Merced    47       Hilmar                6  NaN   \n\n                x          y    zip  city_id  daily_cases  rate  rate7day  \\\n0     -118.135504  34.083961  91803        0          0.0   0.0       0.0   \n1     -118.135504  34.083961  91803        0         -1.0  -0.5       0.0   \n2     -118.135504  34.083961  91803        0          0.0   0.0       0.0   \n3     -118.135504  34.083961  91803        0          1.0   1.0       0.0   \n4     -118.135504  34.083961  91803        0          1.0   0.5       0.0   \n...           ...        ...    ...      ...          ...   ...       ...   \n32856 -118.102533  34.139229  91775      947          0.0   0.0       0.0   \n32857 -118.102533  34.139229  91775      947          0.0   0.0       0.0   \n32858 -118.102533  34.139229  91775      947          0.0   0.0       0.0   \n32859 -118.102533  34.139229  91775      947          0.0   0.0       0.0   \n32860 -120.857970  37.404278  95324      948          0.0   0.0       0.0   \n\n       ratio7day  \n0            0.0  \n1            0.0  \n2            0.0  \n3            0.0  \n4            0.0  \n...          ...  \n32856        0.0  \n32857        0.0  \n32858        0.0  \n32859        0.0  \n32860        0.0  \n\n[32861 rows x 14 columns]",
      "text/html": "<div>\n<style scoped>\n    .dataframe tbody tr th:only-of-type {\n        vertical-align: middle;\n    }\n\n    .dataframe tbody tr th {\n        vertical-align: top;\n    }\n\n    .dataframe thead th {\n        text-align: right;\n    }\n</style>\n<table border=\"1\" class=\"dataframe\">\n  <thead>\n    <tr style=\"text-align: right;\">\n      <th></th>\n      <th>date</th>\n      <th>county</th>\n      <th>fips</th>\n      <th>place</th>\n      <th>confirmed_cases</th>\n      <th>note</th>\n      <th>x</th>\n      <th>y</th>\n      <th>zip</th>\n      <th>city_id</th>\n      <th>daily_cases</th>\n      <th>rate</th>\n      <th>rate7day</th>\n      <th>ratio7day</th>\n    </tr>\n  </thead>\n  <tbody>\n    <tr>\n      <th>0</th>\n      <td>2020-03-16</td>\n      <td>Los Angeles</td>\n      <td>37</td>\n      <td>Alhambra</td>\n      <td>2</td>\n      <td>NaN</td>\n      <td>-118.135504</td>\n      <td>34.083961</td>\n      <td>91803</td>\n      <td>0</td>\n      <td>0.0</td>\n      <td>0.0</td>\n      <td>0.0</td>\n      <td>0.0</td>\n    </tr>\n    <tr>\n      <th>1</th>\n      <td>2020-03-17</td>\n      <td>Los Angeles</td>\n      <td>37</td>\n      <td>Alhambra</td>\n      <td>1</td>\n      <td>NaN</td>\n      <td>-118.135504</td>\n      <td>34.083961</td>\n      <td>91803</td>\n      <td>0</td>\n      <td>-1.0</td>\n      <td>-0.5</td>\n      <td>0.0</td>\n      <td>0.0</td>\n    </tr>\n    <tr>\n      <th>2</th>\n      <td>2020-03-18</td>\n      <td>Los Angeles</td>\n      <td>37</td>\n      <td>Alhambra</td>\n      <td>1</td>\n      <td>NaN</td>\n      <td>-118.135504</td>\n      <td>34.083961</td>\n      <td>91803</td>\n      <td>0</td>\n      <td>0.0</td>\n      <td>0.0</td>\n      <td>0.0</td>\n      <td>0.0</td>\n    </tr>\n    <tr>\n      <th>3</th>\n      <td>2020-03-19</td>\n      <td>Los Angeles</td>\n      <td>37</td>\n      <td>Alhambra</td>\n      <td>2</td>\n      <td>NaN</td>\n      <td>-118.135504</td>\n      <td>34.083961</td>\n      <td>91803</td>\n      <td>0</td>\n      <td>1.0</td>\n      <td>1.0</td>\n      <td>0.0</td>\n      <td>0.0</td>\n    </tr>\n    <tr>\n      <th>4</th>\n      <td>2020-03-20</td>\n      <td>Los Angeles</td>\n      <td>37</td>\n      <td>Alhambra</td>\n      <td>3</td>\n      <td>NaN</td>\n      <td>-118.135504</td>\n      <td>34.083961</td>\n      <td>91803</td>\n      <td>0</td>\n      <td>1.0</td>\n      <td>0.5</td>\n      <td>0.0</td>\n      <td>0.0</td>\n    </tr>\n    <tr>\n      <th>...</th>\n      <td>...</td>\n      <td>...</td>\n      <td>...</td>\n      <td>...</td>\n      <td>...</td>\n      <td>...</td>\n      <td>...</td>\n      <td>...</td>\n      <td>...</td>\n      <td>...</td>\n      <td>...</td>\n      <td>...</td>\n      <td>...</td>\n      <td>...</td>\n    </tr>\n    <tr>\n      <th>32856</th>\n      <td>2020-05-13</td>\n      <td>Los Angeles</td>\n      <td>37</td>\n      <td>San Pasqual</td>\n      <td>1</td>\n      <td>NaN</td>\n      <td>-118.102533</td>\n      <td>34.139229</td>\n      <td>91775</td>\n      <td>947</td>\n      <td>0.0</td>\n      <td>0.0</td>\n      <td>0.0</td>\n      <td>0.0</td>\n    </tr>\n    <tr>\n      <th>32857</th>\n      <td>2020-05-14</td>\n      <td>Los Angeles</td>\n      <td>37</td>\n      <td>San Pasqual</td>\n      <td>1</td>\n      <td>NaN</td>\n      <td>-118.102533</td>\n      <td>34.139229</td>\n      <td>91775</td>\n      <td>947</td>\n      <td>0.0</td>\n      <td>0.0</td>\n      <td>0.0</td>\n      <td>0.0</td>\n    </tr>\n    <tr>\n      <th>32858</th>\n      <td>2020-05-15</td>\n      <td>Los Angeles</td>\n      <td>37</td>\n      <td>San Pasqual</td>\n      <td>1</td>\n      <td>NaN</td>\n      <td>-118.102533</td>\n      <td>34.139229</td>\n      <td>91775</td>\n      <td>947</td>\n      <td>0.0</td>\n      <td>0.0</td>\n      <td>0.0</td>\n      <td>0.0</td>\n    </tr>\n    <tr>\n      <th>32859</th>\n      <td>2020-05-16</td>\n      <td>Los Angeles</td>\n      <td>37</td>\n      <td>San Pasqual</td>\n      <td>1</td>\n      <td>NaN</td>\n      <td>-118.102533</td>\n      <td>34.139229</td>\n      <td>91775</td>\n      <td>947</td>\n      <td>0.0</td>\n      <td>0.0</td>\n      <td>0.0</td>\n      <td>0.0</td>\n    </tr>\n    <tr>\n      <th>32860</th>\n      <td>2020-05-15</td>\n      <td>Merced</td>\n      <td>47</td>\n      <td>Hilmar</td>\n      <td>6</td>\n      <td>NaN</td>\n      <td>-120.857970</td>\n      <td>37.404278</td>\n      <td>95324</td>\n      <td>948</td>\n      <td>0.0</td>\n      <td>0.0</td>\n      <td>0.0</td>\n      <td>0.0</td>\n    </tr>\n  </tbody>\n</table>\n<p>32861 rows × 14 columns</p>\n</div>"
     },
     "execution_count": 5,
     "metadata": {},
     "output_type": "execute_result"
    }
   ],
   "source": [
    "import numpy as np\n",
    "\n",
    "# Suppress warnings\n",
    "pd.options.mode.chained_assignment = None\n",
    "\n",
    "city_id = city_df.city_id.unique()\n",
    "\n",
    "for i in city_id:\n",
    "    temp_df = city_df[city_df.city_id == i]\n",
    "    temp_df['daily_cases'] = temp_df['confirmed_cases'].diff().fillna(0)\n",
    "    temp_df['rate'] = temp_df['confirmed_cases'].pct_change().fillna(0)\n",
    "    temp_df['rate7day'] = temp_df['rate'].rolling(window=7).mean().fillna(0)\n",
    "    temp_df['ratio7day'] = (temp_df.rate / temp_df.rate7day).fillna(0)\n",
    "    temp_df = temp_df.replace(np.inf, 0)\n",
    "    temp_df = temp_df.replace(-np.inf, 0)\n",
    "    if i == 0:\n",
    "        new_df = temp_df\n",
    "    else:\n",
    "        new_df = pd.concat([new_df, temp_df])\n",
    "new_df"
   ],
   "metadata": {
    "collapsed": false,
    "pycharm": {
     "name": "#%%\n"
    }
   }
  },
  {
   "cell_type": "code",
   "execution_count": 6,
   "outputs": [],
   "source": [
    "new_df.to_csv(\"city_data.csv\", index=False)"
   ],
   "metadata": {
    "collapsed": false,
    "pycharm": {
     "name": "#%%\n"
    }
   }
  },
  {
   "cell_type": "markdown",
   "source": [
    "Merging medicare data by zip"
   ],
   "metadata": {
    "collapsed": false,
    "pycharm": {
     "name": "#%% md\n"
    }
   }
  },
  {
   "cell_type": "code",
   "execution_count": 7,
   "outputs": [
    {
     "data": {
      "text/plain": "             date       county  fips      place  confirmed_cases note  \\\n0      2020-03-16  Los Angeles    37   Alhambra                2  NaN   \n1      2020-03-17  Los Angeles    37   Alhambra                1  NaN   \n2      2020-03-18  Los Angeles    37   Alhambra                1  NaN   \n3      2020-03-19  Los Angeles    37   Alhambra                2  NaN   \n4      2020-03-20  Los Angeles    37   Alhambra                3  NaN   \n...           ...          ...   ...        ...              ...  ...   \n29811  2020-05-13       Fresno    19  Caruthers                5  NaN   \n29812  2020-05-14       Fresno    19  Caruthers                5  NaN   \n29813  2020-05-15       Fresno    19  Caruthers                5  NaN   \n29814  2020-05-16       Fresno    19  Caruthers                5  NaN   \n29815  2020-05-15       Merced    47     Hilmar                6  NaN   \n\n                x          y    zip  city_id  ...  \\\n0     -118.135504  34.083961  91803        0  ...   \n1     -118.135504  34.083961  91803        0  ...   \n2     -118.135504  34.083961  91803        0  ...   \n3     -118.135504  34.083961  91803        0  ...   \n4     -118.135504  34.083961  91803        0  ...   \n...           ...        ...    ...      ...  ...   \n29811 -119.834562  36.542564  93609      945  ...   \n29812 -119.834562  36.542564  93609      945  ...   \n29813 -119.834562  36.542564  93609      945  ...   \n29814 -119.834562  36.542564  93609      945  ...   \n29815 -120.857970  37.404278  95324      948  ...   \n\n       PCT_BEN_Chronic_Obstructive_Pulmonary_Disease  PCT_BEN_Depression  \\\n0                                          16.043478           20.130435   \n1                                          16.043478           20.130435   \n2                                          16.043478           20.130435   \n3                                          16.043478           20.130435   \n4                                          16.043478           20.130435   \n...                                              ...                 ...   \n29811                                       0.000000            0.000000   \n29812                                       0.000000            0.000000   \n29813                                       0.000000            0.000000   \n29814                                       0.000000            0.000000   \n29815                                      12.166667           12.333333   \n\n       PCT_BEN_Diabetes  PCT_BEN_Hyperlipidemia  PCT_BEN_Hypertension  \\\n0             40.956522               48.173913             61.478261   \n1             40.956522               48.173913             61.478261   \n2             40.956522               48.173913             61.478261   \n3             40.956522               48.173913             61.478261   \n4             40.956522               48.173913             61.478261   \n...                 ...                     ...                   ...   \n29811         24.000000               45.000000             71.000000   \n29812         24.000000               45.000000             71.000000   \n29813         24.000000               45.000000             71.000000   \n29814         24.000000               45.000000             71.000000   \n29815         55.000000               56.666667             71.500000   \n\n       PCT_BEN_Ischemic_Heart_Disease  PCT_BEN_Osteoporosis  \\\n0                           37.913043             21.173913   \n1                           37.913043             21.173913   \n2                           37.913043             21.173913   \n3                           37.913043             21.173913   \n4                           37.913043             21.173913   \n...                               ...                   ...   \n29811                       31.000000              0.000000   \n29812                       31.000000              0.000000   \n29813                       31.000000              0.000000   \n29814                       31.000000              0.000000   \n29815                       46.000000              4.166667   \n\n       PCT_BEN_Rheumatoid_Arthritis_Osteoarthritis  \\\n0                                        44.086957   \n1                                        44.086957   \n2                                        44.086957   \n3                                        44.086957   \n4                                        44.086957   \n...                                            ...   \n29811                                    57.000000   \n29812                                    57.000000   \n29813                                    57.000000   \n29814                                    57.000000   \n29815                                    31.666667   \n\n       PCT_BEN_Schizophrenia_Other_Psychotic_Disorders  PCT_BEN_Stroke  \n0                                             3.260870        3.565217  \n1                                             3.260870        3.565217  \n2                                             3.260870        3.565217  \n3                                             3.260870        3.565217  \n4                                             3.260870        3.565217  \n...                                                ...             ...  \n29811                                         0.000000        0.000000  \n29812                                         0.000000        0.000000  \n29813                                         0.000000        0.000000  \n29814                                         0.000000        0.000000  \n29815                                         0.833333        5.833333  \n\n[29816 rows x 67 columns]",
      "text/html": "<div>\n<style scoped>\n    .dataframe tbody tr th:only-of-type {\n        vertical-align: middle;\n    }\n\n    .dataframe tbody tr th {\n        vertical-align: top;\n    }\n\n    .dataframe thead th {\n        text-align: right;\n    }\n</style>\n<table border=\"1\" class=\"dataframe\">\n  <thead>\n    <tr style=\"text-align: right;\">\n      <th></th>\n      <th>date</th>\n      <th>county</th>\n      <th>fips</th>\n      <th>place</th>\n      <th>confirmed_cases</th>\n      <th>note</th>\n      <th>x</th>\n      <th>y</th>\n      <th>zip</th>\n      <th>city_id</th>\n      <th>...</th>\n      <th>PCT_BEN_Chronic_Obstructive_Pulmonary_Disease</th>\n      <th>PCT_BEN_Depression</th>\n      <th>PCT_BEN_Diabetes</th>\n      <th>PCT_BEN_Hyperlipidemia</th>\n      <th>PCT_BEN_Hypertension</th>\n      <th>PCT_BEN_Ischemic_Heart_Disease</th>\n      <th>PCT_BEN_Osteoporosis</th>\n      <th>PCT_BEN_Rheumatoid_Arthritis_Osteoarthritis</th>\n      <th>PCT_BEN_Schizophrenia_Other_Psychotic_Disorders</th>\n      <th>PCT_BEN_Stroke</th>\n    </tr>\n  </thead>\n  <tbody>\n    <tr>\n      <th>0</th>\n      <td>2020-03-16</td>\n      <td>Los Angeles</td>\n      <td>37</td>\n      <td>Alhambra</td>\n      <td>2</td>\n      <td>NaN</td>\n      <td>-118.135504</td>\n      <td>34.083961</td>\n      <td>91803</td>\n      <td>0</td>\n      <td>...</td>\n      <td>16.043478</td>\n      <td>20.130435</td>\n      <td>40.956522</td>\n      <td>48.173913</td>\n      <td>61.478261</td>\n      <td>37.913043</td>\n      <td>21.173913</td>\n      <td>44.086957</td>\n      <td>3.260870</td>\n      <td>3.565217</td>\n    </tr>\n    <tr>\n      <th>1</th>\n      <td>2020-03-17</td>\n      <td>Los Angeles</td>\n      <td>37</td>\n      <td>Alhambra</td>\n      <td>1</td>\n      <td>NaN</td>\n      <td>-118.135504</td>\n      <td>34.083961</td>\n      <td>91803</td>\n      <td>0</td>\n      <td>...</td>\n      <td>16.043478</td>\n      <td>20.130435</td>\n      <td>40.956522</td>\n      <td>48.173913</td>\n      <td>61.478261</td>\n      <td>37.913043</td>\n      <td>21.173913</td>\n      <td>44.086957</td>\n      <td>3.260870</td>\n      <td>3.565217</td>\n    </tr>\n    <tr>\n      <th>2</th>\n      <td>2020-03-18</td>\n      <td>Los Angeles</td>\n      <td>37</td>\n      <td>Alhambra</td>\n      <td>1</td>\n      <td>NaN</td>\n      <td>-118.135504</td>\n      <td>34.083961</td>\n      <td>91803</td>\n      <td>0</td>\n      <td>...</td>\n      <td>16.043478</td>\n      <td>20.130435</td>\n      <td>40.956522</td>\n      <td>48.173913</td>\n      <td>61.478261</td>\n      <td>37.913043</td>\n      <td>21.173913</td>\n      <td>44.086957</td>\n      <td>3.260870</td>\n      <td>3.565217</td>\n    </tr>\n    <tr>\n      <th>3</th>\n      <td>2020-03-19</td>\n      <td>Los Angeles</td>\n      <td>37</td>\n      <td>Alhambra</td>\n      <td>2</td>\n      <td>NaN</td>\n      <td>-118.135504</td>\n      <td>34.083961</td>\n      <td>91803</td>\n      <td>0</td>\n      <td>...</td>\n      <td>16.043478</td>\n      <td>20.130435</td>\n      <td>40.956522</td>\n      <td>48.173913</td>\n      <td>61.478261</td>\n      <td>37.913043</td>\n      <td>21.173913</td>\n      <td>44.086957</td>\n      <td>3.260870</td>\n      <td>3.565217</td>\n    </tr>\n    <tr>\n      <th>4</th>\n      <td>2020-03-20</td>\n      <td>Los Angeles</td>\n      <td>37</td>\n      <td>Alhambra</td>\n      <td>3</td>\n      <td>NaN</td>\n      <td>-118.135504</td>\n      <td>34.083961</td>\n      <td>91803</td>\n      <td>0</td>\n      <td>...</td>\n      <td>16.043478</td>\n      <td>20.130435</td>\n      <td>40.956522</td>\n      <td>48.173913</td>\n      <td>61.478261</td>\n      <td>37.913043</td>\n      <td>21.173913</td>\n      <td>44.086957</td>\n      <td>3.260870</td>\n      <td>3.565217</td>\n    </tr>\n    <tr>\n      <th>...</th>\n      <td>...</td>\n      <td>...</td>\n      <td>...</td>\n      <td>...</td>\n      <td>...</td>\n      <td>...</td>\n      <td>...</td>\n      <td>...</td>\n      <td>...</td>\n      <td>...</td>\n      <td>...</td>\n      <td>...</td>\n      <td>...</td>\n      <td>...</td>\n      <td>...</td>\n      <td>...</td>\n      <td>...</td>\n      <td>...</td>\n      <td>...</td>\n      <td>...</td>\n      <td>...</td>\n    </tr>\n    <tr>\n      <th>29811</th>\n      <td>2020-05-13</td>\n      <td>Fresno</td>\n      <td>19</td>\n      <td>Caruthers</td>\n      <td>5</td>\n      <td>NaN</td>\n      <td>-119.834562</td>\n      <td>36.542564</td>\n      <td>93609</td>\n      <td>945</td>\n      <td>...</td>\n      <td>0.000000</td>\n      <td>0.000000</td>\n      <td>24.000000</td>\n      <td>45.000000</td>\n      <td>71.000000</td>\n      <td>31.000000</td>\n      <td>0.000000</td>\n      <td>57.000000</td>\n      <td>0.000000</td>\n      <td>0.000000</td>\n    </tr>\n    <tr>\n      <th>29812</th>\n      <td>2020-05-14</td>\n      <td>Fresno</td>\n      <td>19</td>\n      <td>Caruthers</td>\n      <td>5</td>\n      <td>NaN</td>\n      <td>-119.834562</td>\n      <td>36.542564</td>\n      <td>93609</td>\n      <td>945</td>\n      <td>...</td>\n      <td>0.000000</td>\n      <td>0.000000</td>\n      <td>24.000000</td>\n      <td>45.000000</td>\n      <td>71.000000</td>\n      <td>31.000000</td>\n      <td>0.000000</td>\n      <td>57.000000</td>\n      <td>0.000000</td>\n      <td>0.000000</td>\n    </tr>\n    <tr>\n      <th>29813</th>\n      <td>2020-05-15</td>\n      <td>Fresno</td>\n      <td>19</td>\n      <td>Caruthers</td>\n      <td>5</td>\n      <td>NaN</td>\n      <td>-119.834562</td>\n      <td>36.542564</td>\n      <td>93609</td>\n      <td>945</td>\n      <td>...</td>\n      <td>0.000000</td>\n      <td>0.000000</td>\n      <td>24.000000</td>\n      <td>45.000000</td>\n      <td>71.000000</td>\n      <td>31.000000</td>\n      <td>0.000000</td>\n      <td>57.000000</td>\n      <td>0.000000</td>\n      <td>0.000000</td>\n    </tr>\n    <tr>\n      <th>29814</th>\n      <td>2020-05-16</td>\n      <td>Fresno</td>\n      <td>19</td>\n      <td>Caruthers</td>\n      <td>5</td>\n      <td>NaN</td>\n      <td>-119.834562</td>\n      <td>36.542564</td>\n      <td>93609</td>\n      <td>945</td>\n      <td>...</td>\n      <td>0.000000</td>\n      <td>0.000000</td>\n      <td>24.000000</td>\n      <td>45.000000</td>\n      <td>71.000000</td>\n      <td>31.000000</td>\n      <td>0.000000</td>\n      <td>57.000000</td>\n      <td>0.000000</td>\n      <td>0.000000</td>\n    </tr>\n    <tr>\n      <th>29815</th>\n      <td>2020-05-15</td>\n      <td>Merced</td>\n      <td>47</td>\n      <td>Hilmar</td>\n      <td>6</td>\n      <td>NaN</td>\n      <td>-120.857970</td>\n      <td>37.404278</td>\n      <td>95324</td>\n      <td>948</td>\n      <td>...</td>\n      <td>12.166667</td>\n      <td>12.333333</td>\n      <td>55.000000</td>\n      <td>56.666667</td>\n      <td>71.500000</td>\n      <td>46.000000</td>\n      <td>4.166667</td>\n      <td>31.666667</td>\n      <td>0.833333</td>\n      <td>5.833333</td>\n    </tr>\n  </tbody>\n</table>\n<p>29816 rows × 67 columns</p>\n</div>"
     },
     "execution_count": 7,
     "metadata": {},
     "output_type": "execute_result"
    }
   ],
   "source": [
    "medicare_df = pd.read_csv('output_medicare_group_sumavg.csv')\n",
    "new_df = pd.merge(new_df, medicare_df, how='inner', on='zip')\n",
    "new_df\n"
   ],
   "metadata": {
    "collapsed": false,
    "pycharm": {
     "name": "#%%\n"
    }
   }
  }
 ],
 "metadata": {
  "kernelspec": {
   "display_name": "Python 3",
   "language": "python",
   "name": "python3"
  },
  "language_info": {
   "codemirror_mode": {
    "name": "ipython",
    "version": 2
   },
   "file_extension": ".py",
   "mimetype": "text/x-python",
   "name": "python",
   "nbconvert_exporter": "python",
   "pygments_lexer": "ipython2",
   "version": "2.7.6"
  }
 },
 "nbformat": 4,
 "nbformat_minor": 0
}
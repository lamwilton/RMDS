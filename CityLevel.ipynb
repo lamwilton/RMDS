{
 "cells": [
  {
   "cell_type": "markdown",
   "metadata": {
    "collapsed": true,
    "pycharm": {
     "name": "#%% md\n"
    }
   },
   "source": [
    "# Zip code level COVID cases data processing for CA only  \n",
    "Data from LA times  \n",
    "Outputs city_data.csv"
   ]
  },
  {
   "cell_type": "code",
   "execution_count": 21,
   "outputs": [
    {
     "data": {
      "text/plain": "             date       county  fips                       place  \\\n0      2020-03-16  Los Angeles    37                    Alhambra   \n1      2020-03-16  Los Angeles    37                     Arcadia   \n2      2020-03-16  Los Angeles    37               Beverly Hills   \n3      2020-03-16  Los Angeles    37               Boyle Heights   \n4      2020-03-16  Los Angeles    37                      Carson   \n...           ...          ...   ...                         ...   \n46060  2020-06-03      Ventura   111                     Ventura   \n46061         NaN     Monterey    53                North County   \n46062         NaN     Monterey    53  Peninsula and Big Sur Area   \n46063         NaN     Monterey    53                Salinas Area   \n46064         NaN     Monterey    53                South County   \n\n       confirmed_cases note           x          y  \n0                    2  NaN -118.135504  34.083961  \n1                    1  NaN -118.037297  34.134186  \n2                    1  NaN -118.402109  34.078543  \n3                    5  NaN -118.205330  34.038150  \n4                    1  NaN -118.255878  33.837391  \n...                ...  ...         ...        ...  \n46060               72  NaN -119.293754  34.282366  \n46061               47  NaN -121.669722  36.775833  \n46062               51  NaN -121.923333  36.555278  \n46063              352  NaN -121.655556  36.677778  \n46064              128  NaN -120.905278  36.020556  \n\n[46065 rows x 8 columns]",
      "text/html": "<div>\n<style scoped>\n    .dataframe tbody tr th:only-of-type {\n        vertical-align: middle;\n    }\n\n    .dataframe tbody tr th {\n        vertical-align: top;\n    }\n\n    .dataframe thead th {\n        text-align: right;\n    }\n</style>\n<table border=\"1\" class=\"dataframe\">\n  <thead>\n    <tr style=\"text-align: right;\">\n      <th></th>\n      <th>date</th>\n      <th>county</th>\n      <th>fips</th>\n      <th>place</th>\n      <th>confirmed_cases</th>\n      <th>note</th>\n      <th>x</th>\n      <th>y</th>\n    </tr>\n  </thead>\n  <tbody>\n    <tr>\n      <th>0</th>\n      <td>2020-03-16</td>\n      <td>Los Angeles</td>\n      <td>37</td>\n      <td>Alhambra</td>\n      <td>2</td>\n      <td>NaN</td>\n      <td>-118.135504</td>\n      <td>34.083961</td>\n    </tr>\n    <tr>\n      <th>1</th>\n      <td>2020-03-16</td>\n      <td>Los Angeles</td>\n      <td>37</td>\n      <td>Arcadia</td>\n      <td>1</td>\n      <td>NaN</td>\n      <td>-118.037297</td>\n      <td>34.134186</td>\n    </tr>\n    <tr>\n      <th>2</th>\n      <td>2020-03-16</td>\n      <td>Los Angeles</td>\n      <td>37</td>\n      <td>Beverly Hills</td>\n      <td>1</td>\n      <td>NaN</td>\n      <td>-118.402109</td>\n      <td>34.078543</td>\n    </tr>\n    <tr>\n      <th>3</th>\n      <td>2020-03-16</td>\n      <td>Los Angeles</td>\n      <td>37</td>\n      <td>Boyle Heights</td>\n      <td>5</td>\n      <td>NaN</td>\n      <td>-118.205330</td>\n      <td>34.038150</td>\n    </tr>\n    <tr>\n      <th>4</th>\n      <td>2020-03-16</td>\n      <td>Los Angeles</td>\n      <td>37</td>\n      <td>Carson</td>\n      <td>1</td>\n      <td>NaN</td>\n      <td>-118.255878</td>\n      <td>33.837391</td>\n    </tr>\n    <tr>\n      <th>...</th>\n      <td>...</td>\n      <td>...</td>\n      <td>...</td>\n      <td>...</td>\n      <td>...</td>\n      <td>...</td>\n      <td>...</td>\n      <td>...</td>\n    </tr>\n    <tr>\n      <th>46060</th>\n      <td>2020-06-03</td>\n      <td>Ventura</td>\n      <td>111</td>\n      <td>Ventura</td>\n      <td>72</td>\n      <td>NaN</td>\n      <td>-119.293754</td>\n      <td>34.282366</td>\n    </tr>\n    <tr>\n      <th>46061</th>\n      <td>NaN</td>\n      <td>Monterey</td>\n      <td>53</td>\n      <td>North County</td>\n      <td>47</td>\n      <td>NaN</td>\n      <td>-121.669722</td>\n      <td>36.775833</td>\n    </tr>\n    <tr>\n      <th>46062</th>\n      <td>NaN</td>\n      <td>Monterey</td>\n      <td>53</td>\n      <td>Peninsula and Big Sur Area</td>\n      <td>51</td>\n      <td>NaN</td>\n      <td>-121.923333</td>\n      <td>36.555278</td>\n    </tr>\n    <tr>\n      <th>46063</th>\n      <td>NaN</td>\n      <td>Monterey</td>\n      <td>53</td>\n      <td>Salinas Area</td>\n      <td>352</td>\n      <td>NaN</td>\n      <td>-121.655556</td>\n      <td>36.677778</td>\n    </tr>\n    <tr>\n      <th>46064</th>\n      <td>NaN</td>\n      <td>Monterey</td>\n      <td>53</td>\n      <td>South County</td>\n      <td>128</td>\n      <td>NaN</td>\n      <td>-120.905278</td>\n      <td>36.020556</td>\n    </tr>\n  </tbody>\n</table>\n<p>46065 rows × 8 columns</p>\n</div>"
     },
     "execution_count": 21,
     "metadata": {},
     "output_type": "execute_result"
    }
   ],
   "source": [
    "import pandas as pd\n",
    "import time\n",
    "from datetime import datetime\n",
    "\n",
    "start_time = time.time()\n",
    "\n",
    "city_df = pd.read_csv(\"https://raw.githubusercontent.com/datadesk/california-coronavirus-data/master/latimes-place-totals.csv\")\n",
    "city_df.x = city_df.x.abs() * -1  # Correcting a mistake in longitude\n",
    "city_df.x = city_df.x.fillna(0)\n",
    "city_df.y = city_df.y.fillna(0)\n",
    "city_df"
   ],
   "metadata": {
    "collapsed": false,
    "pycharm": {
     "name": "#%%\n"
    }
   }
  },
  {
   "cell_type": "markdown",
   "source": [
    "Filter date after 4/20"
   ],
   "metadata": {
    "collapsed": false,
    "pycharm": {
     "name": "#%% md\n"
    }
   }
  },
  {
   "cell_type": "code",
   "execution_count": 22,
   "outputs": [
    {
     "data": {
      "text/plain": "             date   county  fips          place  confirmed_cases        note  \\\n13107  2020-04-20  Alameda     1        Alameda               29         NaN   \n13108  2020-04-20  Alameda     1         Albany                1  9 or fewer   \n13109  2020-04-20  Alameda     1       Berkeley               42         NaN   \n13110  2020-04-20  Alameda     1         Dublin               21         NaN   \n13111  2020-04-20  Alameda     1     Emeryville                1  9 or fewer   \n...           ...      ...   ...            ...              ...         ...   \n46056  2020-06-03  Ventura   111    Santa Paula              121         NaN   \n46057  2020-06-03  Ventura   111    Simi Valley              276         NaN   \n46058  2020-06-03  Ventura   111          Somis                4         NaN   \n46059  2020-06-03  Ventura   111  Thousand Oaks              138         NaN   \n46060  2020-06-03  Ventura   111        Ventura               72         NaN   \n\n                x          y      date1  \n13107 -122.274444  37.756111 2020-04-20  \n13108 -122.297778  37.886944 2020-04-20  \n13109 -122.272778  37.871667 2020-04-20  \n13110 -121.935833  37.702222 2020-04-20  \n13111 -122.285278  37.831389 2020-04-20  \n...           ...        ...        ...  \n46056 -119.061497  34.353092 2020-06-03  \n46057 -118.750410  34.271008 2020-06-03  \n46058 -118.994592  34.263681 2020-06-03  \n46059 -118.839304  34.172478 2020-06-03  \n46060 -119.293754  34.282366 2020-06-03  \n\n[32954 rows x 9 columns]",
      "text/html": "<div>\n<style scoped>\n    .dataframe tbody tr th:only-of-type {\n        vertical-align: middle;\n    }\n\n    .dataframe tbody tr th {\n        vertical-align: top;\n    }\n\n    .dataframe thead th {\n        text-align: right;\n    }\n</style>\n<table border=\"1\" class=\"dataframe\">\n  <thead>\n    <tr style=\"text-align: right;\">\n      <th></th>\n      <th>date</th>\n      <th>county</th>\n      <th>fips</th>\n      <th>place</th>\n      <th>confirmed_cases</th>\n      <th>note</th>\n      <th>x</th>\n      <th>y</th>\n      <th>date1</th>\n    </tr>\n  </thead>\n  <tbody>\n    <tr>\n      <th>13107</th>\n      <td>2020-04-20</td>\n      <td>Alameda</td>\n      <td>1</td>\n      <td>Alameda</td>\n      <td>29</td>\n      <td>NaN</td>\n      <td>-122.274444</td>\n      <td>37.756111</td>\n      <td>2020-04-20</td>\n    </tr>\n    <tr>\n      <th>13108</th>\n      <td>2020-04-20</td>\n      <td>Alameda</td>\n      <td>1</td>\n      <td>Albany</td>\n      <td>1</td>\n      <td>9 or fewer</td>\n      <td>-122.297778</td>\n      <td>37.886944</td>\n      <td>2020-04-20</td>\n    </tr>\n    <tr>\n      <th>13109</th>\n      <td>2020-04-20</td>\n      <td>Alameda</td>\n      <td>1</td>\n      <td>Berkeley</td>\n      <td>42</td>\n      <td>NaN</td>\n      <td>-122.272778</td>\n      <td>37.871667</td>\n      <td>2020-04-20</td>\n    </tr>\n    <tr>\n      <th>13110</th>\n      <td>2020-04-20</td>\n      <td>Alameda</td>\n      <td>1</td>\n      <td>Dublin</td>\n      <td>21</td>\n      <td>NaN</td>\n      <td>-121.935833</td>\n      <td>37.702222</td>\n      <td>2020-04-20</td>\n    </tr>\n    <tr>\n      <th>13111</th>\n      <td>2020-04-20</td>\n      <td>Alameda</td>\n      <td>1</td>\n      <td>Emeryville</td>\n      <td>1</td>\n      <td>9 or fewer</td>\n      <td>-122.285278</td>\n      <td>37.831389</td>\n      <td>2020-04-20</td>\n    </tr>\n    <tr>\n      <th>...</th>\n      <td>...</td>\n      <td>...</td>\n      <td>...</td>\n      <td>...</td>\n      <td>...</td>\n      <td>...</td>\n      <td>...</td>\n      <td>...</td>\n      <td>...</td>\n    </tr>\n    <tr>\n      <th>46056</th>\n      <td>2020-06-03</td>\n      <td>Ventura</td>\n      <td>111</td>\n      <td>Santa Paula</td>\n      <td>121</td>\n      <td>NaN</td>\n      <td>-119.061497</td>\n      <td>34.353092</td>\n      <td>2020-06-03</td>\n    </tr>\n    <tr>\n      <th>46057</th>\n      <td>2020-06-03</td>\n      <td>Ventura</td>\n      <td>111</td>\n      <td>Simi Valley</td>\n      <td>276</td>\n      <td>NaN</td>\n      <td>-118.750410</td>\n      <td>34.271008</td>\n      <td>2020-06-03</td>\n    </tr>\n    <tr>\n      <th>46058</th>\n      <td>2020-06-03</td>\n      <td>Ventura</td>\n      <td>111</td>\n      <td>Somis</td>\n      <td>4</td>\n      <td>NaN</td>\n      <td>-118.994592</td>\n      <td>34.263681</td>\n      <td>2020-06-03</td>\n    </tr>\n    <tr>\n      <th>46059</th>\n      <td>2020-06-03</td>\n      <td>Ventura</td>\n      <td>111</td>\n      <td>Thousand Oaks</td>\n      <td>138</td>\n      <td>NaN</td>\n      <td>-118.839304</td>\n      <td>34.172478</td>\n      <td>2020-06-03</td>\n    </tr>\n    <tr>\n      <th>46060</th>\n      <td>2020-06-03</td>\n      <td>Ventura</td>\n      <td>111</td>\n      <td>Ventura</td>\n      <td>72</td>\n      <td>NaN</td>\n      <td>-119.293754</td>\n      <td>34.282366</td>\n      <td>2020-06-03</td>\n    </tr>\n  </tbody>\n</table>\n<p>32954 rows × 9 columns</p>\n</div>"
     },
     "execution_count": 22,
     "metadata": {},
     "output_type": "execute_result"
    }
   ],
   "source": [
    "city_df['date1'] = pd.to_datetime(city_df.date, format=\"%Y-%m-%d\")\n",
    "city_df = city_df[city_df.date1 >= '2020-4-20']\n",
    "city_df"
   ],
   "metadata": {
    "collapsed": false,
    "pycharm": {
     "name": "#%%\n"
    }
   }
  },
  {
   "cell_type": "markdown",
   "source": [
    "New python package for finding zipcode called uszipcode\n",
    "Can find zipcode based on coordinates\n",
    "https://pypi.org/project/uszipcode/"
   ],
   "metadata": {
    "collapsed": false,
    "pycharm": {
     "name": "#%% md\n"
    }
   }
  },
  {
   "cell_type": "code",
   "execution_count": 23,
   "outputs": [
    {
     "data": {
      "text/plain": "SimpleZipcode(zipcode='95776', zipcode_type='Standard', major_city='Woodland', post_office_city='Woodland, CA', common_city_list=['Woodland'], county='Yolo County', state='CA', lat=38.7, lng=-121.7, timezone='Pacific', radius_in_miles=11.0, area_code_list=['530'], population=21902, population_density=237.0, land_area_in_sqmi=92.43, water_area_in_sqmi=1.12, housing_units=6824, occupied_housing_units=6464, median_home_value=248000, median_household_income=61599, bounds_west=-121.781382, bounds_east=-121.629202, bounds_north=38.803028, bounds_south=38.553296)"
     },
     "execution_count": 23,
     "metadata": {},
     "output_type": "execute_result"
    }
   ],
   "source": [
    "from uszipcode import SearchEngine\n",
    "search = SearchEngine(simple_zipcode=True)\n",
    "result = search.by_coordinates(38.678611, -121.773333, radius=30, returns=1)\n",
    "result[0]"
   ],
   "metadata": {
    "collapsed": false,
    "pycharm": {
     "name": "#%%\n"
    }
   }
  },
  {
   "cell_type": "markdown",
   "source": [
    "Select unique cities and look for zip code in a new table\n",
    "Filter zip codes according to the file Zip_Codes__LA_County_.txt"
   ],
   "metadata": {
    "collapsed": false,
    "pycharm": {
     "name": "#%% md\n"
    }
   }
  },
  {
   "cell_type": "code",
   "execution_count": 24,
   "outputs": [
    {
     "data": {
      "text/plain": "          county                     place           x          y    zip  \\\n0    Los Angeles           Adams-Normandie -118.302397  34.029122  90018   \n1    Los Angeles                    Alsace -118.362349  34.029571  90016   \n2    Los Angeles          Angelino Heights -118.251986  34.068331  90012   \n3    Los Angeles            Athens Village -118.273697  33.919783  90061   \n4    Los Angeles           Athens-Westmont -118.302483  33.934033  90047   \n..           ...                       ...         ...        ...    ...   \n97   Los Angeles               Willowbrook -118.251505  33.916576  90059   \n98   Los Angeles           Wilshire Center -118.295338  34.068376  90010   \n99   Los Angeles           Sycamore Square -118.343701  34.058007  90019   \n100  Los Angeles                    Vernon -118.210583  34.001902  90058   \n101  Los Angeles  Unincorporated - Del Rey -118.412269  33.982584  90094   \n\n     city_id  \n0          0  \n1          1  \n2          2  \n3          3  \n4          4  \n..       ...  \n97        97  \n98        98  \n99        99  \n100      100  \n101      101  \n\n[102 rows x 6 columns]",
      "text/html": "<div>\n<style scoped>\n    .dataframe tbody tr th:only-of-type {\n        vertical-align: middle;\n    }\n\n    .dataframe tbody tr th {\n        vertical-align: top;\n    }\n\n    .dataframe thead th {\n        text-align: right;\n    }\n</style>\n<table border=\"1\" class=\"dataframe\">\n  <thead>\n    <tr style=\"text-align: right;\">\n      <th></th>\n      <th>county</th>\n      <th>place</th>\n      <th>x</th>\n      <th>y</th>\n      <th>zip</th>\n      <th>city_id</th>\n    </tr>\n  </thead>\n  <tbody>\n    <tr>\n      <th>0</th>\n      <td>Los Angeles</td>\n      <td>Adams-Normandie</td>\n      <td>-118.302397</td>\n      <td>34.029122</td>\n      <td>90018</td>\n      <td>0</td>\n    </tr>\n    <tr>\n      <th>1</th>\n      <td>Los Angeles</td>\n      <td>Alsace</td>\n      <td>-118.362349</td>\n      <td>34.029571</td>\n      <td>90016</td>\n      <td>1</td>\n    </tr>\n    <tr>\n      <th>2</th>\n      <td>Los Angeles</td>\n      <td>Angelino Heights</td>\n      <td>-118.251986</td>\n      <td>34.068331</td>\n      <td>90012</td>\n      <td>2</td>\n    </tr>\n    <tr>\n      <th>3</th>\n      <td>Los Angeles</td>\n      <td>Athens Village</td>\n      <td>-118.273697</td>\n      <td>33.919783</td>\n      <td>90061</td>\n      <td>3</td>\n    </tr>\n    <tr>\n      <th>4</th>\n      <td>Los Angeles</td>\n      <td>Athens-Westmont</td>\n      <td>-118.302483</td>\n      <td>33.934033</td>\n      <td>90047</td>\n      <td>4</td>\n    </tr>\n    <tr>\n      <th>...</th>\n      <td>...</td>\n      <td>...</td>\n      <td>...</td>\n      <td>...</td>\n      <td>...</td>\n      <td>...</td>\n    </tr>\n    <tr>\n      <th>97</th>\n      <td>Los Angeles</td>\n      <td>Willowbrook</td>\n      <td>-118.251505</td>\n      <td>33.916576</td>\n      <td>90059</td>\n      <td>97</td>\n    </tr>\n    <tr>\n      <th>98</th>\n      <td>Los Angeles</td>\n      <td>Wilshire Center</td>\n      <td>-118.295338</td>\n      <td>34.068376</td>\n      <td>90010</td>\n      <td>98</td>\n    </tr>\n    <tr>\n      <th>99</th>\n      <td>Los Angeles</td>\n      <td>Sycamore Square</td>\n      <td>-118.343701</td>\n      <td>34.058007</td>\n      <td>90019</td>\n      <td>99</td>\n    </tr>\n    <tr>\n      <th>100</th>\n      <td>Los Angeles</td>\n      <td>Vernon</td>\n      <td>-118.210583</td>\n      <td>34.001902</td>\n      <td>90058</td>\n      <td>100</td>\n    </tr>\n    <tr>\n      <th>101</th>\n      <td>Los Angeles</td>\n      <td>Unincorporated - Del Rey</td>\n      <td>-118.412269</td>\n      <td>33.982584</td>\n      <td>90094</td>\n      <td>101</td>\n    </tr>\n  </tbody>\n</table>\n<p>102 rows × 6 columns</p>\n</div>"
     },
     "execution_count": 24,
     "metadata": {},
     "output_type": "execute_result"
    }
   ],
   "source": [
    "city_data_df = pd.DataFrame()\n",
    "city_data_df = pd.concat([city_df.county, city_df.place, city_df.x, city_df.y], axis=1)\n",
    "city_data_df = city_data_df.drop_duplicates()\n",
    "\n",
    "def search_zip(df):\n",
    "    # If place name contains zip code, returns the zip code directly\n",
    "    if df.place[0:5].isnumeric():\n",
    "        return df.place[0:5]\n",
    "    if df.y == 0:\n",
    "        return 0\n",
    "    result = search.by_coordinates(df.y, df.x, radius=30, returns=1)\n",
    "    return result[0].zipcode\n",
    "\n",
    "\n",
    "city_data_df['zip'] = city_data_df.apply(search_zip, axis=1)\n",
    "\n",
    "with open(\"Zip_Codes__LA_County_.txt\") as file:\n",
    "    zip_codes_list = file.read().splitlines()\n",
    "city_data_df = city_data_df[city_data_df.zip.isin(zip_codes_list)]\n",
    "\n",
    "city_data_df = city_data_df.reset_index(drop=True)\n",
    "city_data_df['city_id'] = city_data_df.index\n",
    "city_data_df"
   ],
   "metadata": {
    "collapsed": false,
    "pycharm": {
     "name": "#%%\n"
    }
   }
  },
  {
   "cell_type": "code",
   "execution_count": 25,
   "outputs": [
    {
     "data": {
      "text/plain": "            date       county  fips                     place  \\\n0     2020-04-20  Los Angeles    37           Adams-Normandie   \n1     2020-04-21  Los Angeles    37           Adams-Normandie   \n2     2020-04-22  Los Angeles    37           Adams-Normandie   \n3     2020-04-23  Los Angeles    37           Adams-Normandie   \n4     2020-04-24  Los Angeles    37           Adams-Normandie   \n...          ...          ...   ...                       ...   \n4525  2020-05-30  Los Angeles    37  Unincorporated - Del Rey   \n4526  2020-05-31  Los Angeles    37  Unincorporated - Del Rey   \n4527  2020-06-01  Los Angeles    37  Unincorporated - Del Rey   \n4528  2020-06-02  Los Angeles    37  Unincorporated - Del Rey   \n4529  2020-06-03  Los Angeles    37  Unincorporated - Del Rey   \n\n      confirmed_cases note           x          y      date1    zip  city_id  \n0                  16  NaN -118.302397  34.029122 2020-04-20  90018        0  \n1                  17  NaN -118.302397  34.029122 2020-04-21  90018        0  \n2                  19  NaN -118.302397  34.029122 2020-04-22  90018        0  \n3                  20  NaN -118.302397  34.029122 2020-04-23  90018        0  \n4                  22  NaN -118.302397  34.029122 2020-04-24  90018        0  \n...               ...  ...         ...        ...        ...    ...      ...  \n4525                1  NaN -118.412269  33.982584 2020-05-30  90094      101  \n4526                1  NaN -118.412269  33.982584 2020-05-31  90094      101  \n4527                1  NaN -118.412269  33.982584 2020-06-01  90094      101  \n4528                1  NaN -118.412269  33.982584 2020-06-02  90094      101  \n4529                1  NaN -118.412269  33.982584 2020-06-03  90094      101  \n\n[4530 rows x 11 columns]",
      "text/html": "<div>\n<style scoped>\n    .dataframe tbody tr th:only-of-type {\n        vertical-align: middle;\n    }\n\n    .dataframe tbody tr th {\n        vertical-align: top;\n    }\n\n    .dataframe thead th {\n        text-align: right;\n    }\n</style>\n<table border=\"1\" class=\"dataframe\">\n  <thead>\n    <tr style=\"text-align: right;\">\n      <th></th>\n      <th>date</th>\n      <th>county</th>\n      <th>fips</th>\n      <th>place</th>\n      <th>confirmed_cases</th>\n      <th>note</th>\n      <th>x</th>\n      <th>y</th>\n      <th>date1</th>\n      <th>zip</th>\n      <th>city_id</th>\n    </tr>\n  </thead>\n  <tbody>\n    <tr>\n      <th>0</th>\n      <td>2020-04-20</td>\n      <td>Los Angeles</td>\n      <td>37</td>\n      <td>Adams-Normandie</td>\n      <td>16</td>\n      <td>NaN</td>\n      <td>-118.302397</td>\n      <td>34.029122</td>\n      <td>2020-04-20</td>\n      <td>90018</td>\n      <td>0</td>\n    </tr>\n    <tr>\n      <th>1</th>\n      <td>2020-04-21</td>\n      <td>Los Angeles</td>\n      <td>37</td>\n      <td>Adams-Normandie</td>\n      <td>17</td>\n      <td>NaN</td>\n      <td>-118.302397</td>\n      <td>34.029122</td>\n      <td>2020-04-21</td>\n      <td>90018</td>\n      <td>0</td>\n    </tr>\n    <tr>\n      <th>2</th>\n      <td>2020-04-22</td>\n      <td>Los Angeles</td>\n      <td>37</td>\n      <td>Adams-Normandie</td>\n      <td>19</td>\n      <td>NaN</td>\n      <td>-118.302397</td>\n      <td>34.029122</td>\n      <td>2020-04-22</td>\n      <td>90018</td>\n      <td>0</td>\n    </tr>\n    <tr>\n      <th>3</th>\n      <td>2020-04-23</td>\n      <td>Los Angeles</td>\n      <td>37</td>\n      <td>Adams-Normandie</td>\n      <td>20</td>\n      <td>NaN</td>\n      <td>-118.302397</td>\n      <td>34.029122</td>\n      <td>2020-04-23</td>\n      <td>90018</td>\n      <td>0</td>\n    </tr>\n    <tr>\n      <th>4</th>\n      <td>2020-04-24</td>\n      <td>Los Angeles</td>\n      <td>37</td>\n      <td>Adams-Normandie</td>\n      <td>22</td>\n      <td>NaN</td>\n      <td>-118.302397</td>\n      <td>34.029122</td>\n      <td>2020-04-24</td>\n      <td>90018</td>\n      <td>0</td>\n    </tr>\n    <tr>\n      <th>...</th>\n      <td>...</td>\n      <td>...</td>\n      <td>...</td>\n      <td>...</td>\n      <td>...</td>\n      <td>...</td>\n      <td>...</td>\n      <td>...</td>\n      <td>...</td>\n      <td>...</td>\n      <td>...</td>\n    </tr>\n    <tr>\n      <th>4525</th>\n      <td>2020-05-30</td>\n      <td>Los Angeles</td>\n      <td>37</td>\n      <td>Unincorporated - Del Rey</td>\n      <td>1</td>\n      <td>NaN</td>\n      <td>-118.412269</td>\n      <td>33.982584</td>\n      <td>2020-05-30</td>\n      <td>90094</td>\n      <td>101</td>\n    </tr>\n    <tr>\n      <th>4526</th>\n      <td>2020-05-31</td>\n      <td>Los Angeles</td>\n      <td>37</td>\n      <td>Unincorporated - Del Rey</td>\n      <td>1</td>\n      <td>NaN</td>\n      <td>-118.412269</td>\n      <td>33.982584</td>\n      <td>2020-05-31</td>\n      <td>90094</td>\n      <td>101</td>\n    </tr>\n    <tr>\n      <th>4527</th>\n      <td>2020-06-01</td>\n      <td>Los Angeles</td>\n      <td>37</td>\n      <td>Unincorporated - Del Rey</td>\n      <td>1</td>\n      <td>NaN</td>\n      <td>-118.412269</td>\n      <td>33.982584</td>\n      <td>2020-06-01</td>\n      <td>90094</td>\n      <td>101</td>\n    </tr>\n    <tr>\n      <th>4528</th>\n      <td>2020-06-02</td>\n      <td>Los Angeles</td>\n      <td>37</td>\n      <td>Unincorporated - Del Rey</td>\n      <td>1</td>\n      <td>NaN</td>\n      <td>-118.412269</td>\n      <td>33.982584</td>\n      <td>2020-06-02</td>\n      <td>90094</td>\n      <td>101</td>\n    </tr>\n    <tr>\n      <th>4529</th>\n      <td>2020-06-03</td>\n      <td>Los Angeles</td>\n      <td>37</td>\n      <td>Unincorporated - Del Rey</td>\n      <td>1</td>\n      <td>NaN</td>\n      <td>-118.412269</td>\n      <td>33.982584</td>\n      <td>2020-06-03</td>\n      <td>90094</td>\n      <td>101</td>\n    </tr>\n  </tbody>\n</table>\n<p>4530 rows × 11 columns</p>\n</div>"
     },
     "execution_count": 25,
     "metadata": {},
     "output_type": "execute_result"
    }
   ],
   "source": [
    "city_df = pd.merge(city_df, city_data_df, \"inner\", on=['county', 'place', 'x', 'y'])\n",
    "city_df"
   ],
   "metadata": {
    "collapsed": false,
    "pycharm": {
     "name": "#%%\n"
    }
   }
  },
  {
   "cell_type": "markdown",
   "source": [
    "Compute daily cases, rate and rate SMA7 of each city"
   ],
   "metadata": {
    "collapsed": false,
    "pycharm": {
     "name": "#%% md\n"
    }
   }
  },
  {
   "cell_type": "code",
   "execution_count": 26,
   "outputs": [
    {
     "data": {
      "text/plain": "            date       county  fips                     place  \\\n0     2020-04-20  Los Angeles    37           Adams-Normandie   \n1     2020-04-21  Los Angeles    37           Adams-Normandie   \n2     2020-04-22  Los Angeles    37           Adams-Normandie   \n3     2020-04-23  Los Angeles    37           Adams-Normandie   \n4     2020-04-24  Los Angeles    37           Adams-Normandie   \n...          ...          ...   ...                       ...   \n4525  2020-05-30  Los Angeles    37  Unincorporated - Del Rey   \n4526  2020-05-31  Los Angeles    37  Unincorporated - Del Rey   \n4527  2020-06-01  Los Angeles    37  Unincorporated - Del Rey   \n4528  2020-06-02  Los Angeles    37  Unincorporated - Del Rey   \n4529  2020-06-03  Los Angeles    37  Unincorporated - Del Rey   \n\n      confirmed_cases note           x          y      date1    zip  city_id  \\\n0                  16  NaN -118.302397  34.029122 2020-04-20  90018        0   \n1                  17  NaN -118.302397  34.029122 2020-04-21  90018        0   \n2                  19  NaN -118.302397  34.029122 2020-04-22  90018        0   \n3                  20  NaN -118.302397  34.029122 2020-04-23  90018        0   \n4                  22  NaN -118.302397  34.029122 2020-04-24  90018        0   \n...               ...  ...         ...        ...        ...    ...      ...   \n4525                1  NaN -118.412269  33.982584 2020-05-30  90094      101   \n4526                1  NaN -118.412269  33.982584 2020-05-31  90094      101   \n4527                1  NaN -118.412269  33.982584 2020-06-01  90094      101   \n4528                1  NaN -118.412269  33.982584 2020-06-02  90094      101   \n4529                1  NaN -118.412269  33.982584 2020-06-03  90094      101   \n\n      daily_cases      rate  rate7day  ratio7day  \n0             0.0  0.000000       0.0        0.0  \n1             1.0  0.062500       0.0        0.0  \n2             2.0  0.117647       0.0        0.0  \n3             1.0  0.052632       0.0        0.0  \n4             2.0  0.100000       0.0        0.0  \n...           ...       ...       ...        ...  \n4525          0.0  0.000000       0.0        0.0  \n4526          0.0  0.000000       0.0        0.0  \n4527          0.0  0.000000       0.0        0.0  \n4528          0.0  0.000000       0.0        0.0  \n4529          0.0  0.000000       0.0        0.0  \n\n[4530 rows x 15 columns]",
      "text/html": "<div>\n<style scoped>\n    .dataframe tbody tr th:only-of-type {\n        vertical-align: middle;\n    }\n\n    .dataframe tbody tr th {\n        vertical-align: top;\n    }\n\n    .dataframe thead th {\n        text-align: right;\n    }\n</style>\n<table border=\"1\" class=\"dataframe\">\n  <thead>\n    <tr style=\"text-align: right;\">\n      <th></th>\n      <th>date</th>\n      <th>county</th>\n      <th>fips</th>\n      <th>place</th>\n      <th>confirmed_cases</th>\n      <th>note</th>\n      <th>x</th>\n      <th>y</th>\n      <th>date1</th>\n      <th>zip</th>\n      <th>city_id</th>\n      <th>daily_cases</th>\n      <th>rate</th>\n      <th>rate7day</th>\n      <th>ratio7day</th>\n    </tr>\n  </thead>\n  <tbody>\n    <tr>\n      <th>0</th>\n      <td>2020-04-20</td>\n      <td>Los Angeles</td>\n      <td>37</td>\n      <td>Adams-Normandie</td>\n      <td>16</td>\n      <td>NaN</td>\n      <td>-118.302397</td>\n      <td>34.029122</td>\n      <td>2020-04-20</td>\n      <td>90018</td>\n      <td>0</td>\n      <td>0.0</td>\n      <td>0.000000</td>\n      <td>0.0</td>\n      <td>0.0</td>\n    </tr>\n    <tr>\n      <th>1</th>\n      <td>2020-04-21</td>\n      <td>Los Angeles</td>\n      <td>37</td>\n      <td>Adams-Normandie</td>\n      <td>17</td>\n      <td>NaN</td>\n      <td>-118.302397</td>\n      <td>34.029122</td>\n      <td>2020-04-21</td>\n      <td>90018</td>\n      <td>0</td>\n      <td>1.0</td>\n      <td>0.062500</td>\n      <td>0.0</td>\n      <td>0.0</td>\n    </tr>\n    <tr>\n      <th>2</th>\n      <td>2020-04-22</td>\n      <td>Los Angeles</td>\n      <td>37</td>\n      <td>Adams-Normandie</td>\n      <td>19</td>\n      <td>NaN</td>\n      <td>-118.302397</td>\n      <td>34.029122</td>\n      <td>2020-04-22</td>\n      <td>90018</td>\n      <td>0</td>\n      <td>2.0</td>\n      <td>0.117647</td>\n      <td>0.0</td>\n      <td>0.0</td>\n    </tr>\n    <tr>\n      <th>3</th>\n      <td>2020-04-23</td>\n      <td>Los Angeles</td>\n      <td>37</td>\n      <td>Adams-Normandie</td>\n      <td>20</td>\n      <td>NaN</td>\n      <td>-118.302397</td>\n      <td>34.029122</td>\n      <td>2020-04-23</td>\n      <td>90018</td>\n      <td>0</td>\n      <td>1.0</td>\n      <td>0.052632</td>\n      <td>0.0</td>\n      <td>0.0</td>\n    </tr>\n    <tr>\n      <th>4</th>\n      <td>2020-04-24</td>\n      <td>Los Angeles</td>\n      <td>37</td>\n      <td>Adams-Normandie</td>\n      <td>22</td>\n      <td>NaN</td>\n      <td>-118.302397</td>\n      <td>34.029122</td>\n      <td>2020-04-24</td>\n      <td>90018</td>\n      <td>0</td>\n      <td>2.0</td>\n      <td>0.100000</td>\n      <td>0.0</td>\n      <td>0.0</td>\n    </tr>\n    <tr>\n      <th>...</th>\n      <td>...</td>\n      <td>...</td>\n      <td>...</td>\n      <td>...</td>\n      <td>...</td>\n      <td>...</td>\n      <td>...</td>\n      <td>...</td>\n      <td>...</td>\n      <td>...</td>\n      <td>...</td>\n      <td>...</td>\n      <td>...</td>\n      <td>...</td>\n      <td>...</td>\n    </tr>\n    <tr>\n      <th>4525</th>\n      <td>2020-05-30</td>\n      <td>Los Angeles</td>\n      <td>37</td>\n      <td>Unincorporated - Del Rey</td>\n      <td>1</td>\n      <td>NaN</td>\n      <td>-118.412269</td>\n      <td>33.982584</td>\n      <td>2020-05-30</td>\n      <td>90094</td>\n      <td>101</td>\n      <td>0.0</td>\n      <td>0.000000</td>\n      <td>0.0</td>\n      <td>0.0</td>\n    </tr>\n    <tr>\n      <th>4526</th>\n      <td>2020-05-31</td>\n      <td>Los Angeles</td>\n      <td>37</td>\n      <td>Unincorporated - Del Rey</td>\n      <td>1</td>\n      <td>NaN</td>\n      <td>-118.412269</td>\n      <td>33.982584</td>\n      <td>2020-05-31</td>\n      <td>90094</td>\n      <td>101</td>\n      <td>0.0</td>\n      <td>0.000000</td>\n      <td>0.0</td>\n      <td>0.0</td>\n    </tr>\n    <tr>\n      <th>4527</th>\n      <td>2020-06-01</td>\n      <td>Los Angeles</td>\n      <td>37</td>\n      <td>Unincorporated - Del Rey</td>\n      <td>1</td>\n      <td>NaN</td>\n      <td>-118.412269</td>\n      <td>33.982584</td>\n      <td>2020-06-01</td>\n      <td>90094</td>\n      <td>101</td>\n      <td>0.0</td>\n      <td>0.000000</td>\n      <td>0.0</td>\n      <td>0.0</td>\n    </tr>\n    <tr>\n      <th>4528</th>\n      <td>2020-06-02</td>\n      <td>Los Angeles</td>\n      <td>37</td>\n      <td>Unincorporated - Del Rey</td>\n      <td>1</td>\n      <td>NaN</td>\n      <td>-118.412269</td>\n      <td>33.982584</td>\n      <td>2020-06-02</td>\n      <td>90094</td>\n      <td>101</td>\n      <td>0.0</td>\n      <td>0.000000</td>\n      <td>0.0</td>\n      <td>0.0</td>\n    </tr>\n    <tr>\n      <th>4529</th>\n      <td>2020-06-03</td>\n      <td>Los Angeles</td>\n      <td>37</td>\n      <td>Unincorporated - Del Rey</td>\n      <td>1</td>\n      <td>NaN</td>\n      <td>-118.412269</td>\n      <td>33.982584</td>\n      <td>2020-06-03</td>\n      <td>90094</td>\n      <td>101</td>\n      <td>0.0</td>\n      <td>0.000000</td>\n      <td>0.0</td>\n      <td>0.0</td>\n    </tr>\n  </tbody>\n</table>\n<p>4530 rows × 15 columns</p>\n</div>"
     },
     "execution_count": 26,
     "metadata": {},
     "output_type": "execute_result"
    }
   ],
   "source": [
    "import numpy as np\n",
    "\n",
    "# Suppress warnings\n",
    "pd.options.mode.chained_assignment = None\n",
    "\n",
    "city_id = city_df.city_id.unique()\n",
    "\n",
    "for i in city_id:\n",
    "    temp_df = city_df[city_df.city_id == i]\n",
    "    temp_df['daily_cases'] = temp_df['confirmed_cases'].diff().fillna(0)\n",
    "    temp_df['rate'] = temp_df['confirmed_cases'].pct_change().fillna(0)\n",
    "    temp_df['rate7day'] = temp_df['rate'].rolling(window=7).mean().fillna(0)\n",
    "    temp_df['ratio7day'] = (temp_df.rate / temp_df.rate7day).fillna(0)\n",
    "    temp_df = temp_df.replace(np.inf, 0)\n",
    "    temp_df = temp_df.replace(-np.inf, 0)\n",
    "    if i == 0:\n",
    "        new_df = temp_df\n",
    "    else:\n",
    "        new_df = pd.concat([new_df, temp_df])\n",
    "new_df"
   ],
   "metadata": {
    "collapsed": false,
    "pycharm": {
     "name": "#%%\n"
    }
   }
  },
  {
   "cell_type": "code",
   "execution_count": 27,
   "outputs": [],
   "source": [
    "import os\n",
    "new_df.to_csv(os.path.join(\"output\", \"city_data.csv\"), index=False)"
   ],
   "metadata": {
    "collapsed": false,
    "pycharm": {
     "name": "#%%\n"
    }
   }
  },
  {
   "cell_type": "markdown",
   "source": [
    "Total Running time (s)"
   ],
   "metadata": {
    "collapsed": false
   }
  },
  {
   "cell_type": "code",
   "execution_count": 28,
   "outputs": [
    {
     "data": {
      "text/plain": "5.943000078201294"
     },
     "execution_count": 28,
     "metadata": {},
     "output_type": "execute_result"
    }
   ],
   "source": [
    "time.time() - start_time"
   ],
   "metadata": {
    "collapsed": false,
    "pycharm": {
     "name": "#%%\n"
    }
   }
  }
 ],
 "metadata": {
  "kernelspec": {
   "display_name": "Python 3",
   "language": "python",
   "name": "python3"
  },
  "language_info": {
   "codemirror_mode": {
    "name": "ipython",
    "version": 2
   },
   "file_extension": ".py",
   "mimetype": "text/x-python",
   "name": "python",
   "nbconvert_exporter": "python",
   "pygments_lexer": "ipython2",
   "version": "2.7.6"
  }
 },
 "nbformat": 4,
 "nbformat_minor": 0
}
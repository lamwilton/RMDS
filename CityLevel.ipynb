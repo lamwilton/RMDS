{
 "cells": [
  {
   "cell_type": "markdown",
   "metadata": {
    "collapsed": true,
    "pycharm": {
     "name": "#%% md\n"
    }
   },
   "source": [
    "# Zip code level COVID cases data processing for CA only  \n",
    "Data from LA times  \n",
    "Outputs city_data.csv"
   ]
  },
  {
   "cell_type": "code",
   "execution_count": 12,
   "outputs": [
    {
     "data": {
      "text/plain": "             date       county  fips                       place  \\\n0      2020-03-16  Los Angeles    37                    Alhambra   \n1      2020-03-16  Los Angeles    37                     Arcadia   \n2      2020-03-16  Los Angeles    37               Beverly Hills   \n3      2020-03-16  Los Angeles    37               Boyle Heights   \n4      2020-03-16  Los Angeles    37                      Carson   \n...           ...          ...   ...                         ...   \n43631  2020-05-31   Stanislaus    99  unincorporated / districts   \n43632  2020-05-31         Yolo   113                       Davis   \n43633  2020-05-31         Yolo   113             West Sacramento   \n43634  2020-05-31         Yolo   113  Winters and unincorporated   \n43635  2020-05-31         Yolo   113                    Woodland   \n\n       confirmed_cases note           x          y  \n0                    2  NaN -118.135504  34.083961  \n1                    1  NaN -118.037297  34.134186  \n2                    1  NaN -118.402109  34.078543  \n3                    5  NaN -118.205330  34.038150  \n4                    1  NaN -118.255878  33.837391  \n...                ...  ...         ...        ...  \n43631              116  NaN    0.000000   0.000000  \n43632               24  NaN -121.738056  38.553889  \n43633               73  NaN -121.530278  38.580556  \n43634               18  NaN -121.970833  38.525000  \n43635               96  NaN -121.773333  38.678611  \n\n[43636 rows x 8 columns]",
      "text/html": "<div>\n<style scoped>\n    .dataframe tbody tr th:only-of-type {\n        vertical-align: middle;\n    }\n\n    .dataframe tbody tr th {\n        vertical-align: top;\n    }\n\n    .dataframe thead th {\n        text-align: right;\n    }\n</style>\n<table border=\"1\" class=\"dataframe\">\n  <thead>\n    <tr style=\"text-align: right;\">\n      <th></th>\n      <th>date</th>\n      <th>county</th>\n      <th>fips</th>\n      <th>place</th>\n      <th>confirmed_cases</th>\n      <th>note</th>\n      <th>x</th>\n      <th>y</th>\n    </tr>\n  </thead>\n  <tbody>\n    <tr>\n      <th>0</th>\n      <td>2020-03-16</td>\n      <td>Los Angeles</td>\n      <td>37</td>\n      <td>Alhambra</td>\n      <td>2</td>\n      <td>NaN</td>\n      <td>-118.135504</td>\n      <td>34.083961</td>\n    </tr>\n    <tr>\n      <th>1</th>\n      <td>2020-03-16</td>\n      <td>Los Angeles</td>\n      <td>37</td>\n      <td>Arcadia</td>\n      <td>1</td>\n      <td>NaN</td>\n      <td>-118.037297</td>\n      <td>34.134186</td>\n    </tr>\n    <tr>\n      <th>2</th>\n      <td>2020-03-16</td>\n      <td>Los Angeles</td>\n      <td>37</td>\n      <td>Beverly Hills</td>\n      <td>1</td>\n      <td>NaN</td>\n      <td>-118.402109</td>\n      <td>34.078543</td>\n    </tr>\n    <tr>\n      <th>3</th>\n      <td>2020-03-16</td>\n      <td>Los Angeles</td>\n      <td>37</td>\n      <td>Boyle Heights</td>\n      <td>5</td>\n      <td>NaN</td>\n      <td>-118.205330</td>\n      <td>34.038150</td>\n    </tr>\n    <tr>\n      <th>4</th>\n      <td>2020-03-16</td>\n      <td>Los Angeles</td>\n      <td>37</td>\n      <td>Carson</td>\n      <td>1</td>\n      <td>NaN</td>\n      <td>-118.255878</td>\n      <td>33.837391</td>\n    </tr>\n    <tr>\n      <th>...</th>\n      <td>...</td>\n      <td>...</td>\n      <td>...</td>\n      <td>...</td>\n      <td>...</td>\n      <td>...</td>\n      <td>...</td>\n      <td>...</td>\n    </tr>\n    <tr>\n      <th>43631</th>\n      <td>2020-05-31</td>\n      <td>Stanislaus</td>\n      <td>99</td>\n      <td>unincorporated / districts</td>\n      <td>116</td>\n      <td>NaN</td>\n      <td>0.000000</td>\n      <td>0.000000</td>\n    </tr>\n    <tr>\n      <th>43632</th>\n      <td>2020-05-31</td>\n      <td>Yolo</td>\n      <td>113</td>\n      <td>Davis</td>\n      <td>24</td>\n      <td>NaN</td>\n      <td>-121.738056</td>\n      <td>38.553889</td>\n    </tr>\n    <tr>\n      <th>43633</th>\n      <td>2020-05-31</td>\n      <td>Yolo</td>\n      <td>113</td>\n      <td>West Sacramento</td>\n      <td>73</td>\n      <td>NaN</td>\n      <td>-121.530278</td>\n      <td>38.580556</td>\n    </tr>\n    <tr>\n      <th>43634</th>\n      <td>2020-05-31</td>\n      <td>Yolo</td>\n      <td>113</td>\n      <td>Winters and unincorporated</td>\n      <td>18</td>\n      <td>NaN</td>\n      <td>-121.970833</td>\n      <td>38.525000</td>\n    </tr>\n    <tr>\n      <th>43635</th>\n      <td>2020-05-31</td>\n      <td>Yolo</td>\n      <td>113</td>\n      <td>Woodland</td>\n      <td>96</td>\n      <td>NaN</td>\n      <td>-121.773333</td>\n      <td>38.678611</td>\n    </tr>\n  </tbody>\n</table>\n<p>43636 rows × 8 columns</p>\n</div>"
     },
     "execution_count": 12,
     "metadata": {},
     "output_type": "execute_result"
    }
   ],
   "source": [
    "import pandas as pd\n",
    "import time\n",
    "start_time = time.time()\n",
    "\n",
    "city_df = pd.read_csv(\"https://raw.githubusercontent.com/datadesk/california-coronavirus-data/master/latimes-place-totals.csv\")\n",
    "city_df.x = city_df.x.abs() * -1  # Correcting a mistake in longitude\n",
    "city_df.x = city_df.x.fillna(0)\n",
    "city_df.y = city_df.y.fillna(0)\n",
    "city_df"
   ],
   "metadata": {
    "collapsed": false,
    "pycharm": {
     "name": "#%%\n"
    }
   }
  },
  {
   "cell_type": "markdown",
   "source": [
    "New python package for finding zipcode called uszipcode\n",
    "Can find zipcode based on coordinates\n",
    "https://pypi.org/project/uszipcode/"
   ],
   "metadata": {
    "collapsed": false,
    "pycharm": {
     "name": "#%% md\n"
    }
   }
  },
  {
   "cell_type": "code",
   "execution_count": 13,
   "outputs": [
    {
     "data": {
      "text/plain": "SimpleZipcode(zipcode='95776', zipcode_type='Standard', major_city='Woodland', post_office_city='Woodland, CA', common_city_list=['Woodland'], county='Yolo County', state='CA', lat=38.7, lng=-121.7, timezone='Pacific', radius_in_miles=11.0, area_code_list=['530'], population=21902, population_density=237.0, land_area_in_sqmi=92.43, water_area_in_sqmi=1.12, housing_units=6824, occupied_housing_units=6464, median_home_value=248000, median_household_income=61599, bounds_west=-121.781382, bounds_east=-121.629202, bounds_north=38.803028, bounds_south=38.553296)"
     },
     "execution_count": 13,
     "metadata": {},
     "output_type": "execute_result"
    }
   ],
   "source": [
    "from uszipcode import SearchEngine\n",
    "search = SearchEngine(simple_zipcode=True)\n",
    "result = search.by_coordinates(38.678611, -121.773333, radius=30, returns=1)\n",
    "result[0]"
   ],
   "metadata": {
    "collapsed": false,
    "pycharm": {
     "name": "#%%\n"
    }
   }
  },
  {
   "cell_type": "markdown",
   "source": [
    "Select unique cities and look for zip code in a new table\n",
    "Filter zip codes according to the file Zip_Codes__LA_County_.txt"
   ],
   "metadata": {
    "collapsed": false,
    "pycharm": {
     "name": "#%% md\n"
    }
   }
  },
  {
   "cell_type": "code",
   "execution_count": 14,
   "outputs": [
    {
     "data": {
      "text/plain": "          county                     place           x          y    zip  \\\n0    Los Angeles             Boyle Heights -118.205330  34.038150  90033   \n1    Los Angeles                 Koreatown -118.304346  34.054588  90010   \n2    Los Angeles                   Melrose -118.334586  34.082723  90038   \n3    Los Angeles               Silver Lake -118.270242  34.095701  90029   \n4    Los Angeles                West Adams -118.307847  34.035612  90018   \n..           ...                       ...         ...        ...    ...   \n98   Los Angeles                Exposition -118.349778  34.026624  90016   \n99   Los Angeles          University Hills -118.168371  34.068093  90032   \n100  Los Angeles           Sycamore Square -118.343701  34.058007  90019   \n101  Los Angeles                    Vernon -118.210583  34.001902  90058   \n102  Los Angeles  Unincorporated - Del Rey -118.412269  33.982584  90094   \n\n     city_id  \n0          0  \n1          1  \n2          2  \n3          3  \n4          4  \n..       ...  \n98        98  \n99        99  \n100      100  \n101      101  \n102      102  \n\n[103 rows x 6 columns]",
      "text/html": "<div>\n<style scoped>\n    .dataframe tbody tr th:only-of-type {\n        vertical-align: middle;\n    }\n\n    .dataframe tbody tr th {\n        vertical-align: top;\n    }\n\n    .dataframe thead th {\n        text-align: right;\n    }\n</style>\n<table border=\"1\" class=\"dataframe\">\n  <thead>\n    <tr style=\"text-align: right;\">\n      <th></th>\n      <th>county</th>\n      <th>place</th>\n      <th>x</th>\n      <th>y</th>\n      <th>zip</th>\n      <th>city_id</th>\n    </tr>\n  </thead>\n  <tbody>\n    <tr>\n      <th>0</th>\n      <td>Los Angeles</td>\n      <td>Boyle Heights</td>\n      <td>-118.205330</td>\n      <td>34.038150</td>\n      <td>90033</td>\n      <td>0</td>\n    </tr>\n    <tr>\n      <th>1</th>\n      <td>Los Angeles</td>\n      <td>Koreatown</td>\n      <td>-118.304346</td>\n      <td>34.054588</td>\n      <td>90010</td>\n      <td>1</td>\n    </tr>\n    <tr>\n      <th>2</th>\n      <td>Los Angeles</td>\n      <td>Melrose</td>\n      <td>-118.334586</td>\n      <td>34.082723</td>\n      <td>90038</td>\n      <td>2</td>\n    </tr>\n    <tr>\n      <th>3</th>\n      <td>Los Angeles</td>\n      <td>Silver Lake</td>\n      <td>-118.270242</td>\n      <td>34.095701</td>\n      <td>90029</td>\n      <td>3</td>\n    </tr>\n    <tr>\n      <th>4</th>\n      <td>Los Angeles</td>\n      <td>West Adams</td>\n      <td>-118.307847</td>\n      <td>34.035612</td>\n      <td>90018</td>\n      <td>4</td>\n    </tr>\n    <tr>\n      <th>...</th>\n      <td>...</td>\n      <td>...</td>\n      <td>...</td>\n      <td>...</td>\n      <td>...</td>\n      <td>...</td>\n    </tr>\n    <tr>\n      <th>98</th>\n      <td>Los Angeles</td>\n      <td>Exposition</td>\n      <td>-118.349778</td>\n      <td>34.026624</td>\n      <td>90016</td>\n      <td>98</td>\n    </tr>\n    <tr>\n      <th>99</th>\n      <td>Los Angeles</td>\n      <td>University Hills</td>\n      <td>-118.168371</td>\n      <td>34.068093</td>\n      <td>90032</td>\n      <td>99</td>\n    </tr>\n    <tr>\n      <th>100</th>\n      <td>Los Angeles</td>\n      <td>Sycamore Square</td>\n      <td>-118.343701</td>\n      <td>34.058007</td>\n      <td>90019</td>\n      <td>100</td>\n    </tr>\n    <tr>\n      <th>101</th>\n      <td>Los Angeles</td>\n      <td>Vernon</td>\n      <td>-118.210583</td>\n      <td>34.001902</td>\n      <td>90058</td>\n      <td>101</td>\n    </tr>\n    <tr>\n      <th>102</th>\n      <td>Los Angeles</td>\n      <td>Unincorporated - Del Rey</td>\n      <td>-118.412269</td>\n      <td>33.982584</td>\n      <td>90094</td>\n      <td>102</td>\n    </tr>\n  </tbody>\n</table>\n<p>103 rows × 6 columns</p>\n</div>"
     },
     "execution_count": 14,
     "metadata": {},
     "output_type": "execute_result"
    }
   ],
   "source": [
    "city_data_df = pd.DataFrame()\n",
    "city_data_df = pd.concat([city_df.county, city_df.place, city_df.x, city_df.y], axis=1)\n",
    "city_data_df = city_data_df.drop_duplicates()\n",
    "\n",
    "def search_zip(df):\n",
    "    # If place name contains zip code, returns the zip code directly\n",
    "    if df.place[0:5].isnumeric():\n",
    "        return df.place[0:5]\n",
    "    if df.y == 0:\n",
    "        return 0\n",
    "    result = search.by_coordinates(df.y, df.x, radius=30, returns=1)\n",
    "    return result[0].zipcode\n",
    "\n",
    "\n",
    "city_data_df['zip'] = city_data_df.apply(search_zip, axis=1)\n",
    "\n",
    "with open(\"Zip_Codes__LA_County_.txt\") as file:\n",
    "    zip_codes_list = file.read().splitlines()\n",
    "city_data_df = city_data_df[city_data_df.zip.isin(zip_codes_list)]\n",
    "\n",
    "city_data_df = city_data_df.reset_index(drop=True)\n",
    "city_data_df['city_id'] = city_data_df.index\n",
    "city_data_df"
   ],
   "metadata": {
    "collapsed": false,
    "pycharm": {
     "name": "#%%\n"
    }
   }
  },
  {
   "cell_type": "code",
   "execution_count": 15,
   "outputs": [
    {
     "data": {
      "text/plain": "            date       county  fips                     place  \\\n0     2020-03-16  Los Angeles    37             Boyle Heights   \n1     2020-03-17  Los Angeles    37             Boyle Heights   \n2     2020-03-18  Los Angeles    37             Boyle Heights   \n3     2020-03-19  Los Angeles    37             Boyle Heights   \n4     2020-03-20  Los Angeles    37             Boyle Heights   \n...          ...          ...   ...                       ...   \n6799  2020-05-31  Los Angeles    37                    Vernon   \n6800  2020-05-28  Los Angeles    37  Unincorporated - Del Rey   \n6801  2020-05-29  Los Angeles    37  Unincorporated - Del Rey   \n6802  2020-05-30  Los Angeles    37  Unincorporated - Del Rey   \n6803  2020-05-31  Los Angeles    37  Unincorporated - Del Rey   \n\n      confirmed_cases note           x          y    zip  city_id  \n0                   5  NaN -118.205330  34.038150  90033        0  \n1                   5  NaN -118.205330  34.038150  90033        0  \n2                   5  NaN -118.205330  34.038150  90033        0  \n3                   5  NaN -118.205330  34.038150  90033        0  \n4                   5  NaN -118.205330  34.038150  90033        0  \n...               ...  ...         ...        ...    ...      ...  \n6799                3  NaN -118.210583  34.001902  90058      101  \n6800                1  NaN -118.412269  33.982584  90094      102  \n6801                1  NaN -118.412269  33.982584  90094      102  \n6802                1  NaN -118.412269  33.982584  90094      102  \n6803                1  NaN -118.412269  33.982584  90094      102  \n\n[6804 rows x 10 columns]",
      "text/html": "<div>\n<style scoped>\n    .dataframe tbody tr th:only-of-type {\n        vertical-align: middle;\n    }\n\n    .dataframe tbody tr th {\n        vertical-align: top;\n    }\n\n    .dataframe thead th {\n        text-align: right;\n    }\n</style>\n<table border=\"1\" class=\"dataframe\">\n  <thead>\n    <tr style=\"text-align: right;\">\n      <th></th>\n      <th>date</th>\n      <th>county</th>\n      <th>fips</th>\n      <th>place</th>\n      <th>confirmed_cases</th>\n      <th>note</th>\n      <th>x</th>\n      <th>y</th>\n      <th>zip</th>\n      <th>city_id</th>\n    </tr>\n  </thead>\n  <tbody>\n    <tr>\n      <th>0</th>\n      <td>2020-03-16</td>\n      <td>Los Angeles</td>\n      <td>37</td>\n      <td>Boyle Heights</td>\n      <td>5</td>\n      <td>NaN</td>\n      <td>-118.205330</td>\n      <td>34.038150</td>\n      <td>90033</td>\n      <td>0</td>\n    </tr>\n    <tr>\n      <th>1</th>\n      <td>2020-03-17</td>\n      <td>Los Angeles</td>\n      <td>37</td>\n      <td>Boyle Heights</td>\n      <td>5</td>\n      <td>NaN</td>\n      <td>-118.205330</td>\n      <td>34.038150</td>\n      <td>90033</td>\n      <td>0</td>\n    </tr>\n    <tr>\n      <th>2</th>\n      <td>2020-03-18</td>\n      <td>Los Angeles</td>\n      <td>37</td>\n      <td>Boyle Heights</td>\n      <td>5</td>\n      <td>NaN</td>\n      <td>-118.205330</td>\n      <td>34.038150</td>\n      <td>90033</td>\n      <td>0</td>\n    </tr>\n    <tr>\n      <th>3</th>\n      <td>2020-03-19</td>\n      <td>Los Angeles</td>\n      <td>37</td>\n      <td>Boyle Heights</td>\n      <td>5</td>\n      <td>NaN</td>\n      <td>-118.205330</td>\n      <td>34.038150</td>\n      <td>90033</td>\n      <td>0</td>\n    </tr>\n    <tr>\n      <th>4</th>\n      <td>2020-03-20</td>\n      <td>Los Angeles</td>\n      <td>37</td>\n      <td>Boyle Heights</td>\n      <td>5</td>\n      <td>NaN</td>\n      <td>-118.205330</td>\n      <td>34.038150</td>\n      <td>90033</td>\n      <td>0</td>\n    </tr>\n    <tr>\n      <th>...</th>\n      <td>...</td>\n      <td>...</td>\n      <td>...</td>\n      <td>...</td>\n      <td>...</td>\n      <td>...</td>\n      <td>...</td>\n      <td>...</td>\n      <td>...</td>\n      <td>...</td>\n    </tr>\n    <tr>\n      <th>6799</th>\n      <td>2020-05-31</td>\n      <td>Los Angeles</td>\n      <td>37</td>\n      <td>Vernon</td>\n      <td>3</td>\n      <td>NaN</td>\n      <td>-118.210583</td>\n      <td>34.001902</td>\n      <td>90058</td>\n      <td>101</td>\n    </tr>\n    <tr>\n      <th>6800</th>\n      <td>2020-05-28</td>\n      <td>Los Angeles</td>\n      <td>37</td>\n      <td>Unincorporated - Del Rey</td>\n      <td>1</td>\n      <td>NaN</td>\n      <td>-118.412269</td>\n      <td>33.982584</td>\n      <td>90094</td>\n      <td>102</td>\n    </tr>\n    <tr>\n      <th>6801</th>\n      <td>2020-05-29</td>\n      <td>Los Angeles</td>\n      <td>37</td>\n      <td>Unincorporated - Del Rey</td>\n      <td>1</td>\n      <td>NaN</td>\n      <td>-118.412269</td>\n      <td>33.982584</td>\n      <td>90094</td>\n      <td>102</td>\n    </tr>\n    <tr>\n      <th>6802</th>\n      <td>2020-05-30</td>\n      <td>Los Angeles</td>\n      <td>37</td>\n      <td>Unincorporated - Del Rey</td>\n      <td>1</td>\n      <td>NaN</td>\n      <td>-118.412269</td>\n      <td>33.982584</td>\n      <td>90094</td>\n      <td>102</td>\n    </tr>\n    <tr>\n      <th>6803</th>\n      <td>2020-05-31</td>\n      <td>Los Angeles</td>\n      <td>37</td>\n      <td>Unincorporated - Del Rey</td>\n      <td>1</td>\n      <td>NaN</td>\n      <td>-118.412269</td>\n      <td>33.982584</td>\n      <td>90094</td>\n      <td>102</td>\n    </tr>\n  </tbody>\n</table>\n<p>6804 rows × 10 columns</p>\n</div>"
     },
     "execution_count": 15,
     "metadata": {},
     "output_type": "execute_result"
    }
   ],
   "source": [
    "city_df = pd.merge(city_df, city_data_df, \"inner\", on=['county', 'place', 'x', 'y'])\n",
    "city_df"
   ],
   "metadata": {
    "collapsed": false,
    "pycharm": {
     "name": "#%%\n"
    }
   }
  },
  {
   "cell_type": "markdown",
   "source": [
    "Compute daily cases, rate and rate SMA7 of each city"
   ],
   "metadata": {
    "collapsed": false,
    "pycharm": {
     "name": "#%% md\n"
    }
   }
  },
  {
   "cell_type": "code",
   "execution_count": 16,
   "outputs": [
    {
     "data": {
      "text/plain": "            date       county  fips                     place  \\\n0     2020-03-16  Los Angeles    37             Boyle Heights   \n1     2020-03-17  Los Angeles    37             Boyle Heights   \n2     2020-03-18  Los Angeles    37             Boyle Heights   \n3     2020-03-19  Los Angeles    37             Boyle Heights   \n4     2020-03-20  Los Angeles    37             Boyle Heights   \n...          ...          ...   ...                       ...   \n6799  2020-05-31  Los Angeles    37                    Vernon   \n6800  2020-05-28  Los Angeles    37  Unincorporated - Del Rey   \n6801  2020-05-29  Los Angeles    37  Unincorporated - Del Rey   \n6802  2020-05-30  Los Angeles    37  Unincorporated - Del Rey   \n6803  2020-05-31  Los Angeles    37  Unincorporated - Del Rey   \n\n      confirmed_cases note           x          y    zip  city_id  \\\n0                   5  NaN -118.205330  34.038150  90033        0   \n1                   5  NaN -118.205330  34.038150  90033        0   \n2                   5  NaN -118.205330  34.038150  90033        0   \n3                   5  NaN -118.205330  34.038150  90033        0   \n4                   5  NaN -118.205330  34.038150  90033        0   \n...               ...  ...         ...        ...    ...      ...   \n6799                3  NaN -118.210583  34.001902  90058      101   \n6800                1  NaN -118.412269  33.982584  90094      102   \n6801                1  NaN -118.412269  33.982584  90094      102   \n6802                1  NaN -118.412269  33.982584  90094      102   \n6803                1  NaN -118.412269  33.982584  90094      102   \n\n      daily_cases  rate  rate7day  ratio7day  \n0             0.0   0.0  0.000000        0.0  \n1             0.0   0.0  0.000000        0.0  \n2             0.0   0.0  0.000000        0.0  \n3             0.0   0.0  0.000000        0.0  \n4             0.0   0.0  0.000000        0.0  \n...           ...   ...       ...        ...  \n6799          0.0   0.0  0.214286        0.0  \n6800          0.0   0.0  0.000000        0.0  \n6801          0.0   0.0  0.000000        0.0  \n6802          0.0   0.0  0.000000        0.0  \n6803          0.0   0.0  0.000000        0.0  \n\n[6804 rows x 14 columns]",
      "text/html": "<div>\n<style scoped>\n    .dataframe tbody tr th:only-of-type {\n        vertical-align: middle;\n    }\n\n    .dataframe tbody tr th {\n        vertical-align: top;\n    }\n\n    .dataframe thead th {\n        text-align: right;\n    }\n</style>\n<table border=\"1\" class=\"dataframe\">\n  <thead>\n    <tr style=\"text-align: right;\">\n      <th></th>\n      <th>date</th>\n      <th>county</th>\n      <th>fips</th>\n      <th>place</th>\n      <th>confirmed_cases</th>\n      <th>note</th>\n      <th>x</th>\n      <th>y</th>\n      <th>zip</th>\n      <th>city_id</th>\n      <th>daily_cases</th>\n      <th>rate</th>\n      <th>rate7day</th>\n      <th>ratio7day</th>\n    </tr>\n  </thead>\n  <tbody>\n    <tr>\n      <th>0</th>\n      <td>2020-03-16</td>\n      <td>Los Angeles</td>\n      <td>37</td>\n      <td>Boyle Heights</td>\n      <td>5</td>\n      <td>NaN</td>\n      <td>-118.205330</td>\n      <td>34.038150</td>\n      <td>90033</td>\n      <td>0</td>\n      <td>0.0</td>\n      <td>0.0</td>\n      <td>0.000000</td>\n      <td>0.0</td>\n    </tr>\n    <tr>\n      <th>1</th>\n      <td>2020-03-17</td>\n      <td>Los Angeles</td>\n      <td>37</td>\n      <td>Boyle Heights</td>\n      <td>5</td>\n      <td>NaN</td>\n      <td>-118.205330</td>\n      <td>34.038150</td>\n      <td>90033</td>\n      <td>0</td>\n      <td>0.0</td>\n      <td>0.0</td>\n      <td>0.000000</td>\n      <td>0.0</td>\n    </tr>\n    <tr>\n      <th>2</th>\n      <td>2020-03-18</td>\n      <td>Los Angeles</td>\n      <td>37</td>\n      <td>Boyle Heights</td>\n      <td>5</td>\n      <td>NaN</td>\n      <td>-118.205330</td>\n      <td>34.038150</td>\n      <td>90033</td>\n      <td>0</td>\n      <td>0.0</td>\n      <td>0.0</td>\n      <td>0.000000</td>\n      <td>0.0</td>\n    </tr>\n    <tr>\n      <th>3</th>\n      <td>2020-03-19</td>\n      <td>Los Angeles</td>\n      <td>37</td>\n      <td>Boyle Heights</td>\n      <td>5</td>\n      <td>NaN</td>\n      <td>-118.205330</td>\n      <td>34.038150</td>\n      <td>90033</td>\n      <td>0</td>\n      <td>0.0</td>\n      <td>0.0</td>\n      <td>0.000000</td>\n      <td>0.0</td>\n    </tr>\n    <tr>\n      <th>4</th>\n      <td>2020-03-20</td>\n      <td>Los Angeles</td>\n      <td>37</td>\n      <td>Boyle Heights</td>\n      <td>5</td>\n      <td>NaN</td>\n      <td>-118.205330</td>\n      <td>34.038150</td>\n      <td>90033</td>\n      <td>0</td>\n      <td>0.0</td>\n      <td>0.0</td>\n      <td>0.000000</td>\n      <td>0.0</td>\n    </tr>\n    <tr>\n      <th>...</th>\n      <td>...</td>\n      <td>...</td>\n      <td>...</td>\n      <td>...</td>\n      <td>...</td>\n      <td>...</td>\n      <td>...</td>\n      <td>...</td>\n      <td>...</td>\n      <td>...</td>\n      <td>...</td>\n      <td>...</td>\n      <td>...</td>\n      <td>...</td>\n    </tr>\n    <tr>\n      <th>6799</th>\n      <td>2020-05-31</td>\n      <td>Los Angeles</td>\n      <td>37</td>\n      <td>Vernon</td>\n      <td>3</td>\n      <td>NaN</td>\n      <td>-118.210583</td>\n      <td>34.001902</td>\n      <td>90058</td>\n      <td>101</td>\n      <td>0.0</td>\n      <td>0.0</td>\n      <td>0.214286</td>\n      <td>0.0</td>\n    </tr>\n    <tr>\n      <th>6800</th>\n      <td>2020-05-28</td>\n      <td>Los Angeles</td>\n      <td>37</td>\n      <td>Unincorporated - Del Rey</td>\n      <td>1</td>\n      <td>NaN</td>\n      <td>-118.412269</td>\n      <td>33.982584</td>\n      <td>90094</td>\n      <td>102</td>\n      <td>0.0</td>\n      <td>0.0</td>\n      <td>0.000000</td>\n      <td>0.0</td>\n    </tr>\n    <tr>\n      <th>6801</th>\n      <td>2020-05-29</td>\n      <td>Los Angeles</td>\n      <td>37</td>\n      <td>Unincorporated - Del Rey</td>\n      <td>1</td>\n      <td>NaN</td>\n      <td>-118.412269</td>\n      <td>33.982584</td>\n      <td>90094</td>\n      <td>102</td>\n      <td>0.0</td>\n      <td>0.0</td>\n      <td>0.000000</td>\n      <td>0.0</td>\n    </tr>\n    <tr>\n      <th>6802</th>\n      <td>2020-05-30</td>\n      <td>Los Angeles</td>\n      <td>37</td>\n      <td>Unincorporated - Del Rey</td>\n      <td>1</td>\n      <td>NaN</td>\n      <td>-118.412269</td>\n      <td>33.982584</td>\n      <td>90094</td>\n      <td>102</td>\n      <td>0.0</td>\n      <td>0.0</td>\n      <td>0.000000</td>\n      <td>0.0</td>\n    </tr>\n    <tr>\n      <th>6803</th>\n      <td>2020-05-31</td>\n      <td>Los Angeles</td>\n      <td>37</td>\n      <td>Unincorporated - Del Rey</td>\n      <td>1</td>\n      <td>NaN</td>\n      <td>-118.412269</td>\n      <td>33.982584</td>\n      <td>90094</td>\n      <td>102</td>\n      <td>0.0</td>\n      <td>0.0</td>\n      <td>0.000000</td>\n      <td>0.0</td>\n    </tr>\n  </tbody>\n</table>\n<p>6804 rows × 14 columns</p>\n</div>"
     },
     "execution_count": 16,
     "metadata": {},
     "output_type": "execute_result"
    }
   ],
   "source": [
    "import numpy as np\n",
    "\n",
    "# Suppress warnings\n",
    "pd.options.mode.chained_assignment = None\n",
    "\n",
    "city_id = city_df.city_id.unique()\n",
    "\n",
    "for i in city_id:\n",
    "    temp_df = city_df[city_df.city_id == i]\n",
    "    temp_df['daily_cases'] = temp_df['confirmed_cases'].diff().fillna(0)\n",
    "    temp_df['rate'] = temp_df['confirmed_cases'].pct_change().fillna(0)\n",
    "    temp_df['rate7day'] = temp_df['rate'].rolling(window=7).mean().fillna(0)\n",
    "    temp_df['ratio7day'] = (temp_df.rate / temp_df.rate7day).fillna(0)\n",
    "    temp_df = temp_df.replace(np.inf, 0)\n",
    "    temp_df = temp_df.replace(-np.inf, 0)\n",
    "    if i == 0:\n",
    "        new_df = temp_df\n",
    "    else:\n",
    "        new_df = pd.concat([new_df, temp_df])\n",
    "new_df"
   ],
   "metadata": {
    "collapsed": false,
    "pycharm": {
     "name": "#%%\n"
    }
   }
  },
  {
   "cell_type": "code",
   "execution_count": 17,
   "outputs": [],
   "source": [
    "import os\n",
    "new_df.to_csv(os.path.join(\"output\", \"city_data.csv\"), index=False)"
   ],
   "metadata": {
    "collapsed": false,
    "pycharm": {
     "name": "#%%\n"
    }
   }
  },
  {
   "cell_type": "markdown",
   "source": [
    "Total Running time (s)"
   ],
   "metadata": {
    "collapsed": false
   }
  },
  {
   "cell_type": "code",
   "execution_count": 18,
   "outputs": [
    {
     "data": {
      "text/plain": "6.591000080108643"
     },
     "execution_count": 18,
     "metadata": {},
     "output_type": "execute_result"
    }
   ],
   "source": [
    "time.time() - start_time"
   ],
   "metadata": {
    "collapsed": false,
    "pycharm": {
     "name": "#%%\n"
    }
   }
  }
 ],
 "metadata": {
  "kernelspec": {
   "display_name": "Python 3",
   "language": "python",
   "name": "python3"
  },
  "language_info": {
   "codemirror_mode": {
    "name": "ipython",
    "version": 2
   },
   "file_extension": ".py",
   "mimetype": "text/x-python",
   "name": "python",
   "nbconvert_exporter": "python",
   "pygments_lexer": "ipython2",
   "version": "2.7.6"
  }
 },
 "nbformat": 4,
 "nbformat_minor": 0
}
{
 "cells": [
  {
   "cell_type": "markdown",
   "metadata": {
    "collapsed": true,
    "pycharm": {
     "name": "#%% md\n"
    }
   },
   "source": [
    "# Zip code level COVID cases data processing for CA only  \n",
    "Data from LA times  \n",
    "Outputs city_data.csv"
   ]
  },
  {
   "cell_type": "code",
   "execution_count": 1,
   "outputs": [
    {
     "data": {
      "text/plain": "             date       county  fips           place  confirmed_cases note  \\\n0      2020-07-07       Amador   5.0            Ione               12  NaN   \n1      2020-07-07       Amador   5.0         Jackson               10  NaN   \n2      2020-07-07       Amador   5.0      Pine Grove                3  NaN   \n3      2020-07-07       Amador   5.0         Pioneer                2  NaN   \n4      2020-07-07       Amador   5.0        Plymouth                2  NaN   \n...           ...          ...   ...             ...              ...  ...   \n72244  2020-03-16  Los Angeles  37.0      West Adams                1  NaN   \n72245  2020-03-16  Los Angeles  37.0      West Hills                3  NaN   \n72246  2020-03-16  Los Angeles  37.0  West Hollywood                5  NaN   \n72247  2020-03-16  Los Angeles  37.0     West Vernon                1  NaN   \n72248  2020-03-16  Los Angeles  37.0     Westchester                1  NaN   \n\n                x          y  \n0     -120.932778  38.352778  \n1     -120.774167  38.348889  \n2     -120.658889  38.413056  \n3        0.000000   0.000000  \n4        0.000000   0.000000  \n...           ...        ...  \n72244 -118.307847  34.035612  \n72245 -118.636070  34.211472  \n72246 -118.371765  34.088278  \n72247 -118.300192  34.000114  \n72248 -118.406070  33.952357  \n\n[72249 rows x 8 columns]",
      "text/html": "<div>\n<style scoped>\n    .dataframe tbody tr th:only-of-type {\n        vertical-align: middle;\n    }\n\n    .dataframe tbody tr th {\n        vertical-align: top;\n    }\n\n    .dataframe thead th {\n        text-align: right;\n    }\n</style>\n<table border=\"1\" class=\"dataframe\">\n  <thead>\n    <tr style=\"text-align: right;\">\n      <th></th>\n      <th>date</th>\n      <th>county</th>\n      <th>fips</th>\n      <th>place</th>\n      <th>confirmed_cases</th>\n      <th>note</th>\n      <th>x</th>\n      <th>y</th>\n    </tr>\n  </thead>\n  <tbody>\n    <tr>\n      <th>0</th>\n      <td>2020-07-07</td>\n      <td>Amador</td>\n      <td>5.0</td>\n      <td>Ione</td>\n      <td>12</td>\n      <td>NaN</td>\n      <td>-120.932778</td>\n      <td>38.352778</td>\n    </tr>\n    <tr>\n      <th>1</th>\n      <td>2020-07-07</td>\n      <td>Amador</td>\n      <td>5.0</td>\n      <td>Jackson</td>\n      <td>10</td>\n      <td>NaN</td>\n      <td>-120.774167</td>\n      <td>38.348889</td>\n    </tr>\n    <tr>\n      <th>2</th>\n      <td>2020-07-07</td>\n      <td>Amador</td>\n      <td>5.0</td>\n      <td>Pine Grove</td>\n      <td>3</td>\n      <td>NaN</td>\n      <td>-120.658889</td>\n      <td>38.413056</td>\n    </tr>\n    <tr>\n      <th>3</th>\n      <td>2020-07-07</td>\n      <td>Amador</td>\n      <td>5.0</td>\n      <td>Pioneer</td>\n      <td>2</td>\n      <td>NaN</td>\n      <td>0.000000</td>\n      <td>0.000000</td>\n    </tr>\n    <tr>\n      <th>4</th>\n      <td>2020-07-07</td>\n      <td>Amador</td>\n      <td>5.0</td>\n      <td>Plymouth</td>\n      <td>2</td>\n      <td>NaN</td>\n      <td>0.000000</td>\n      <td>0.000000</td>\n    </tr>\n    <tr>\n      <th>...</th>\n      <td>...</td>\n      <td>...</td>\n      <td>...</td>\n      <td>...</td>\n      <td>...</td>\n      <td>...</td>\n      <td>...</td>\n      <td>...</td>\n    </tr>\n    <tr>\n      <th>72244</th>\n      <td>2020-03-16</td>\n      <td>Los Angeles</td>\n      <td>37.0</td>\n      <td>West Adams</td>\n      <td>1</td>\n      <td>NaN</td>\n      <td>-118.307847</td>\n      <td>34.035612</td>\n    </tr>\n    <tr>\n      <th>72245</th>\n      <td>2020-03-16</td>\n      <td>Los Angeles</td>\n      <td>37.0</td>\n      <td>West Hills</td>\n      <td>3</td>\n      <td>NaN</td>\n      <td>-118.636070</td>\n      <td>34.211472</td>\n    </tr>\n    <tr>\n      <th>72246</th>\n      <td>2020-03-16</td>\n      <td>Los Angeles</td>\n      <td>37.0</td>\n      <td>West Hollywood</td>\n      <td>5</td>\n      <td>NaN</td>\n      <td>-118.371765</td>\n      <td>34.088278</td>\n    </tr>\n    <tr>\n      <th>72247</th>\n      <td>2020-03-16</td>\n      <td>Los Angeles</td>\n      <td>37.0</td>\n      <td>West Vernon</td>\n      <td>1</td>\n      <td>NaN</td>\n      <td>-118.300192</td>\n      <td>34.000114</td>\n    </tr>\n    <tr>\n      <th>72248</th>\n      <td>2020-03-16</td>\n      <td>Los Angeles</td>\n      <td>37.0</td>\n      <td>Westchester</td>\n      <td>1</td>\n      <td>NaN</td>\n      <td>-118.406070</td>\n      <td>33.952357</td>\n    </tr>\n  </tbody>\n</table>\n<p>72249 rows × 8 columns</p>\n</div>"
     },
     "execution_count": 1,
     "metadata": {},
     "output_type": "execute_result"
    }
   ],
   "source": [
    "import pandas as pd\n",
    "import time\n",
    "from datetime import datetime\n",
    "\n",
    "start_time = time.time()\n",
    "\n",
    "city_df = pd.read_csv(\"https://raw.githubusercontent.com/datadesk/california-coronavirus-data/master/latimes-place-totals.csv\")\n",
    "city_df.x = city_df.x.abs() * -1  # Correcting a mistake in longitude\n",
    "city_df.x = city_df.x.fillna(0)\n",
    "city_df.y = city_df.y.fillna(0)\n",
    "city_df"
   ],
   "metadata": {
    "collapsed": false,
    "pycharm": {
     "name": "#%%\n"
    }
   }
  },
  {
   "cell_type": "markdown",
   "source": [
    "Filter date after 4/20"
   ],
   "metadata": {
    "collapsed": false,
    "pycharm": {
     "name": "#%% md\n"
    }
   }
  },
  {
   "cell_type": "code",
   "execution_count": 2,
   "outputs": [
    {
     "data": {
      "text/plain": "             date   county   fips                       place  \\\n0      2020-07-07   Amador    5.0                        Ione   \n1      2020-07-07   Amador    5.0                     Jackson   \n2      2020-07-07   Amador    5.0                  Pine Grove   \n3      2020-07-07   Amador    5.0                     Pioneer   \n4      2020-07-07   Amador    5.0                    Plymouth   \n...           ...      ...    ...                         ...   \n59148  2020-04-20  Ventura  111.0                    Westlake   \n59149  2020-04-20     Yolo  113.0                       Davis   \n59150  2020-04-20     Yolo  113.0             West Sacramento   \n59151  2020-04-20     Yolo  113.0  Winters and unincorporated   \n59152  2020-04-20     Yolo  113.0                    Woodland   \n\n       confirmed_cases note           x          y      date1  \n0                   12  NaN -120.932778  38.352778 2020-07-07  \n1                   10  NaN -120.774167  38.348889 2020-07-07  \n2                    3  NaN -120.658889  38.413056 2020-07-07  \n3                    2  NaN    0.000000   0.000000 2020-07-07  \n4                    2  NaN    0.000000   0.000000 2020-07-07  \n...                ...  ...         ...        ...        ...  \n59148                8  NaN -118.824430  34.135589 2020-04-20  \n59149               16  NaN -121.738056  38.553889 2020-04-20  \n59150               44  NaN -121.530278  38.580556 2020-04-20  \n59151               10  NaN    0.000000   0.000000 2020-04-20  \n59152               72  NaN -121.773333  38.678611 2020-04-20  \n\n[59153 rows x 9 columns]",
      "text/html": "<div>\n<style scoped>\n    .dataframe tbody tr th:only-of-type {\n        vertical-align: middle;\n    }\n\n    .dataframe tbody tr th {\n        vertical-align: top;\n    }\n\n    .dataframe thead th {\n        text-align: right;\n    }\n</style>\n<table border=\"1\" class=\"dataframe\">\n  <thead>\n    <tr style=\"text-align: right;\">\n      <th></th>\n      <th>date</th>\n      <th>county</th>\n      <th>fips</th>\n      <th>place</th>\n      <th>confirmed_cases</th>\n      <th>note</th>\n      <th>x</th>\n      <th>y</th>\n      <th>date1</th>\n    </tr>\n  </thead>\n  <tbody>\n    <tr>\n      <th>0</th>\n      <td>2020-07-07</td>\n      <td>Amador</td>\n      <td>5.0</td>\n      <td>Ione</td>\n      <td>12</td>\n      <td>NaN</td>\n      <td>-120.932778</td>\n      <td>38.352778</td>\n      <td>2020-07-07</td>\n    </tr>\n    <tr>\n      <th>1</th>\n      <td>2020-07-07</td>\n      <td>Amador</td>\n      <td>5.0</td>\n      <td>Jackson</td>\n      <td>10</td>\n      <td>NaN</td>\n      <td>-120.774167</td>\n      <td>38.348889</td>\n      <td>2020-07-07</td>\n    </tr>\n    <tr>\n      <th>2</th>\n      <td>2020-07-07</td>\n      <td>Amador</td>\n      <td>5.0</td>\n      <td>Pine Grove</td>\n      <td>3</td>\n      <td>NaN</td>\n      <td>-120.658889</td>\n      <td>38.413056</td>\n      <td>2020-07-07</td>\n    </tr>\n    <tr>\n      <th>3</th>\n      <td>2020-07-07</td>\n      <td>Amador</td>\n      <td>5.0</td>\n      <td>Pioneer</td>\n      <td>2</td>\n      <td>NaN</td>\n      <td>0.000000</td>\n      <td>0.000000</td>\n      <td>2020-07-07</td>\n    </tr>\n    <tr>\n      <th>4</th>\n      <td>2020-07-07</td>\n      <td>Amador</td>\n      <td>5.0</td>\n      <td>Plymouth</td>\n      <td>2</td>\n      <td>NaN</td>\n      <td>0.000000</td>\n      <td>0.000000</td>\n      <td>2020-07-07</td>\n    </tr>\n    <tr>\n      <th>...</th>\n      <td>...</td>\n      <td>...</td>\n      <td>...</td>\n      <td>...</td>\n      <td>...</td>\n      <td>...</td>\n      <td>...</td>\n      <td>...</td>\n      <td>...</td>\n    </tr>\n    <tr>\n      <th>59148</th>\n      <td>2020-04-20</td>\n      <td>Ventura</td>\n      <td>111.0</td>\n      <td>Westlake</td>\n      <td>8</td>\n      <td>NaN</td>\n      <td>-118.824430</td>\n      <td>34.135589</td>\n      <td>2020-04-20</td>\n    </tr>\n    <tr>\n      <th>59149</th>\n      <td>2020-04-20</td>\n      <td>Yolo</td>\n      <td>113.0</td>\n      <td>Davis</td>\n      <td>16</td>\n      <td>NaN</td>\n      <td>-121.738056</td>\n      <td>38.553889</td>\n      <td>2020-04-20</td>\n    </tr>\n    <tr>\n      <th>59150</th>\n      <td>2020-04-20</td>\n      <td>Yolo</td>\n      <td>113.0</td>\n      <td>West Sacramento</td>\n      <td>44</td>\n      <td>NaN</td>\n      <td>-121.530278</td>\n      <td>38.580556</td>\n      <td>2020-04-20</td>\n    </tr>\n    <tr>\n      <th>59151</th>\n      <td>2020-04-20</td>\n      <td>Yolo</td>\n      <td>113.0</td>\n      <td>Winters and unincorporated</td>\n      <td>10</td>\n      <td>NaN</td>\n      <td>0.000000</td>\n      <td>0.000000</td>\n      <td>2020-04-20</td>\n    </tr>\n    <tr>\n      <th>59152</th>\n      <td>2020-04-20</td>\n      <td>Yolo</td>\n      <td>113.0</td>\n      <td>Woodland</td>\n      <td>72</td>\n      <td>NaN</td>\n      <td>-121.773333</td>\n      <td>38.678611</td>\n      <td>2020-04-20</td>\n    </tr>\n  </tbody>\n</table>\n<p>59153 rows × 9 columns</p>\n</div>"
     },
     "execution_count": 2,
     "metadata": {},
     "output_type": "execute_result"
    }
   ],
   "source": [
    "city_df['date1'] = pd.to_datetime(city_df.date, format=\"%Y-%m-%d\")\n",
    "city_df = city_df[city_df.date1 >= '2020-4-20']\n",
    "city_df"
   ],
   "metadata": {
    "collapsed": false,
    "pycharm": {
     "name": "#%%\n"
    }
   }
  },
  {
   "cell_type": "markdown",
   "source": [
    "New python package for finding zipcode called uszipcode\n",
    "Can find zipcode based on coordinates\n",
    "https://pypi.org/project/uszipcode/"
   ],
   "metadata": {
    "collapsed": false,
    "pycharm": {
     "name": "#%% md\n"
    }
   }
  },
  {
   "cell_type": "code",
   "execution_count": 3,
   "outputs": [
    {
     "data": {
      "text/plain": "SimpleZipcode(zipcode='95776', zipcode_type='Standard', major_city='Woodland', post_office_city='Woodland, CA', common_city_list=['Woodland'], county='Yolo County', state='CA', lat=38.7, lng=-121.7, timezone='Pacific', radius_in_miles=11.0, area_code_list=['530'], population=21902, population_density=237.0, land_area_in_sqmi=92.43, water_area_in_sqmi=1.12, housing_units=6824, occupied_housing_units=6464, median_home_value=248000, median_household_income=61599, bounds_west=-121.781382, bounds_east=-121.629202, bounds_north=38.803028, bounds_south=38.553296)"
     },
     "execution_count": 3,
     "metadata": {},
     "output_type": "execute_result"
    }
   ],
   "source": [
    "from uszipcode import SearchEngine\n",
    "search = SearchEngine(simple_zipcode=True)\n",
    "result = search.by_coordinates(38.678611, -121.773333, radius=30, returns=1)\n",
    "result[0]"
   ],
   "metadata": {
    "collapsed": false,
    "pycharm": {
     "name": "#%%\n"
    }
   }
  },
  {
   "cell_type": "markdown",
   "source": [
    "Select unique cities and look for zip code in a new table\n",
    "Filter zip codes according to the file Zip_Codes__LA_County_.txt"
   ],
   "metadata": {
    "collapsed": false,
    "pycharm": {
     "name": "#%% md\n"
    }
   }
  },
  {
   "cell_type": "code",
   "execution_count": 4,
   "outputs": [
    {
     "data": {
      "text/plain": "          county               place           x          y    zip  city_id\n0    Los Angeles     Adams-Normandie -118.302397  34.029122  90018        0\n1    Los Angeles              Alsace -118.362349  34.029571  90016        1\n2    Los Angeles    Angelino Heights -118.251986  34.068331  90012        2\n3    Los Angeles      Athens Village -118.273697  33.919783  90061        3\n4    Los Angeles     Athens-Westmont -118.302483  33.934033  90047        4\n..           ...                 ...         ...        ...    ...      ...\n98   Los Angeles            Westlake -118.272224  34.057208  90057       98\n99   Los Angeles            Westwood -118.438137  34.065931  90024       99\n100  Los Angeles  Wholesale District -118.233106  34.041547  90013      100\n101  Los Angeles         Willowbrook -118.251505  33.916576  90059      101\n102  Los Angeles     Wilshire Center -118.295338  34.068376  90010      102\n\n[103 rows x 6 columns]",
      "text/html": "<div>\n<style scoped>\n    .dataframe tbody tr th:only-of-type {\n        vertical-align: middle;\n    }\n\n    .dataframe tbody tr th {\n        vertical-align: top;\n    }\n\n    .dataframe thead th {\n        text-align: right;\n    }\n</style>\n<table border=\"1\" class=\"dataframe\">\n  <thead>\n    <tr style=\"text-align: right;\">\n      <th></th>\n      <th>county</th>\n      <th>place</th>\n      <th>x</th>\n      <th>y</th>\n      <th>zip</th>\n      <th>city_id</th>\n    </tr>\n  </thead>\n  <tbody>\n    <tr>\n      <th>0</th>\n      <td>Los Angeles</td>\n      <td>Adams-Normandie</td>\n      <td>-118.302397</td>\n      <td>34.029122</td>\n      <td>90018</td>\n      <td>0</td>\n    </tr>\n    <tr>\n      <th>1</th>\n      <td>Los Angeles</td>\n      <td>Alsace</td>\n      <td>-118.362349</td>\n      <td>34.029571</td>\n      <td>90016</td>\n      <td>1</td>\n    </tr>\n    <tr>\n      <th>2</th>\n      <td>Los Angeles</td>\n      <td>Angelino Heights</td>\n      <td>-118.251986</td>\n      <td>34.068331</td>\n      <td>90012</td>\n      <td>2</td>\n    </tr>\n    <tr>\n      <th>3</th>\n      <td>Los Angeles</td>\n      <td>Athens Village</td>\n      <td>-118.273697</td>\n      <td>33.919783</td>\n      <td>90061</td>\n      <td>3</td>\n    </tr>\n    <tr>\n      <th>4</th>\n      <td>Los Angeles</td>\n      <td>Athens-Westmont</td>\n      <td>-118.302483</td>\n      <td>33.934033</td>\n      <td>90047</td>\n      <td>4</td>\n    </tr>\n    <tr>\n      <th>...</th>\n      <td>...</td>\n      <td>...</td>\n      <td>...</td>\n      <td>...</td>\n      <td>...</td>\n      <td>...</td>\n    </tr>\n    <tr>\n      <th>98</th>\n      <td>Los Angeles</td>\n      <td>Westlake</td>\n      <td>-118.272224</td>\n      <td>34.057208</td>\n      <td>90057</td>\n      <td>98</td>\n    </tr>\n    <tr>\n      <th>99</th>\n      <td>Los Angeles</td>\n      <td>Westwood</td>\n      <td>-118.438137</td>\n      <td>34.065931</td>\n      <td>90024</td>\n      <td>99</td>\n    </tr>\n    <tr>\n      <th>100</th>\n      <td>Los Angeles</td>\n      <td>Wholesale District</td>\n      <td>-118.233106</td>\n      <td>34.041547</td>\n      <td>90013</td>\n      <td>100</td>\n    </tr>\n    <tr>\n      <th>101</th>\n      <td>Los Angeles</td>\n      <td>Willowbrook</td>\n      <td>-118.251505</td>\n      <td>33.916576</td>\n      <td>90059</td>\n      <td>101</td>\n    </tr>\n    <tr>\n      <th>102</th>\n      <td>Los Angeles</td>\n      <td>Wilshire Center</td>\n      <td>-118.295338</td>\n      <td>34.068376</td>\n      <td>90010</td>\n      <td>102</td>\n    </tr>\n  </tbody>\n</table>\n<p>103 rows × 6 columns</p>\n</div>"
     },
     "execution_count": 4,
     "metadata": {},
     "output_type": "execute_result"
    }
   ],
   "source": [
    "city_data_df = pd.DataFrame()\n",
    "city_data_df = pd.concat([city_df.county, city_df.place, city_df.x, city_df.y], axis=1)\n",
    "city_data_df = city_data_df.drop_duplicates()\n",
    "\n",
    "def search_zip(df):\n",
    "    # If place name contains zip code, returns the zip code directly\n",
    "    if df.place[0:5].isnumeric():\n",
    "        return df.place[0:5]\n",
    "    if df.y == 0:\n",
    "        return 0\n",
    "    result = search.by_coordinates(df.y, df.x, radius=30, returns=1)\n",
    "    return result[0].zipcode\n",
    "\n",
    "\n",
    "city_data_df['zip'] = city_data_df.apply(search_zip, axis=1)\n",
    "\n",
    "with open(\"Zip_Codes__LA_County_.txt\") as file:\n",
    "    zip_codes_list = file.read().splitlines()\n",
    "city_data_df = city_data_df[city_data_df.zip.isin(zip_codes_list)]\n",
    "\n",
    "city_data_df = city_data_df.reset_index(drop=True)\n",
    "city_data_df['city_id'] = city_data_df.index\n",
    "city_data_df"
   ],
   "metadata": {
    "collapsed": false,
    "pycharm": {
     "name": "#%%\n"
    }
   }
  },
  {
   "cell_type": "code",
   "execution_count": 5,
   "outputs": [
    {
     "data": {
      "text/plain": "            date       county  fips            place  confirmed_cases note  \\\n0     2020-07-07  Los Angeles  37.0  Adams-Normandie              116  NaN   \n1     2020-07-06  Los Angeles  37.0  Adams-Normandie              112  NaN   \n2     2020-07-02  Los Angeles  37.0  Adams-Normandie              105  NaN   \n3     2020-07-01  Los Angeles  37.0  Adams-Normandie              103  NaN   \n4     2020-06-30  Los Angeles  37.0  Adams-Normandie              101  NaN   \n...          ...          ...   ...              ...              ...  ...   \n7708  2020-04-24  Los Angeles  37.0  Wilshire Center               87  NaN   \n7709  2020-04-23  Los Angeles  37.0  Wilshire Center               80  NaN   \n7710  2020-04-22  Los Angeles  37.0  Wilshire Center               79  NaN   \n7711  2020-04-21  Los Angeles  37.0  Wilshire Center               71  NaN   \n7712  2020-04-20  Los Angeles  37.0  Wilshire Center               65  NaN   \n\n               x          y      date1    zip  city_id  \n0    -118.302397  34.029122 2020-07-07  90018        0  \n1    -118.302397  34.029122 2020-07-06  90018        0  \n2    -118.302397  34.029122 2020-07-02  90018        0  \n3    -118.302397  34.029122 2020-07-01  90018        0  \n4    -118.302397  34.029122 2020-06-30  90018        0  \n...          ...        ...        ...    ...      ...  \n7708 -118.295338  34.068376 2020-04-24  90010      102  \n7709 -118.295338  34.068376 2020-04-23  90010      102  \n7710 -118.295338  34.068376 2020-04-22  90010      102  \n7711 -118.295338  34.068376 2020-04-21  90010      102  \n7712 -118.295338  34.068376 2020-04-20  90010      102  \n\n[7713 rows x 11 columns]",
      "text/html": "<div>\n<style scoped>\n    .dataframe tbody tr th:only-of-type {\n        vertical-align: middle;\n    }\n\n    .dataframe tbody tr th {\n        vertical-align: top;\n    }\n\n    .dataframe thead th {\n        text-align: right;\n    }\n</style>\n<table border=\"1\" class=\"dataframe\">\n  <thead>\n    <tr style=\"text-align: right;\">\n      <th></th>\n      <th>date</th>\n      <th>county</th>\n      <th>fips</th>\n      <th>place</th>\n      <th>confirmed_cases</th>\n      <th>note</th>\n      <th>x</th>\n      <th>y</th>\n      <th>date1</th>\n      <th>zip</th>\n      <th>city_id</th>\n    </tr>\n  </thead>\n  <tbody>\n    <tr>\n      <th>0</th>\n      <td>2020-07-07</td>\n      <td>Los Angeles</td>\n      <td>37.0</td>\n      <td>Adams-Normandie</td>\n      <td>116</td>\n      <td>NaN</td>\n      <td>-118.302397</td>\n      <td>34.029122</td>\n      <td>2020-07-07</td>\n      <td>90018</td>\n      <td>0</td>\n    </tr>\n    <tr>\n      <th>1</th>\n      <td>2020-07-06</td>\n      <td>Los Angeles</td>\n      <td>37.0</td>\n      <td>Adams-Normandie</td>\n      <td>112</td>\n      <td>NaN</td>\n      <td>-118.302397</td>\n      <td>34.029122</td>\n      <td>2020-07-06</td>\n      <td>90018</td>\n      <td>0</td>\n    </tr>\n    <tr>\n      <th>2</th>\n      <td>2020-07-02</td>\n      <td>Los Angeles</td>\n      <td>37.0</td>\n      <td>Adams-Normandie</td>\n      <td>105</td>\n      <td>NaN</td>\n      <td>-118.302397</td>\n      <td>34.029122</td>\n      <td>2020-07-02</td>\n      <td>90018</td>\n      <td>0</td>\n    </tr>\n    <tr>\n      <th>3</th>\n      <td>2020-07-01</td>\n      <td>Los Angeles</td>\n      <td>37.0</td>\n      <td>Adams-Normandie</td>\n      <td>103</td>\n      <td>NaN</td>\n      <td>-118.302397</td>\n      <td>34.029122</td>\n      <td>2020-07-01</td>\n      <td>90018</td>\n      <td>0</td>\n    </tr>\n    <tr>\n      <th>4</th>\n      <td>2020-06-30</td>\n      <td>Los Angeles</td>\n      <td>37.0</td>\n      <td>Adams-Normandie</td>\n      <td>101</td>\n      <td>NaN</td>\n      <td>-118.302397</td>\n      <td>34.029122</td>\n      <td>2020-06-30</td>\n      <td>90018</td>\n      <td>0</td>\n    </tr>\n    <tr>\n      <th>...</th>\n      <td>...</td>\n      <td>...</td>\n      <td>...</td>\n      <td>...</td>\n      <td>...</td>\n      <td>...</td>\n      <td>...</td>\n      <td>...</td>\n      <td>...</td>\n      <td>...</td>\n      <td>...</td>\n    </tr>\n    <tr>\n      <th>7708</th>\n      <td>2020-04-24</td>\n      <td>Los Angeles</td>\n      <td>37.0</td>\n      <td>Wilshire Center</td>\n      <td>87</td>\n      <td>NaN</td>\n      <td>-118.295338</td>\n      <td>34.068376</td>\n      <td>2020-04-24</td>\n      <td>90010</td>\n      <td>102</td>\n    </tr>\n    <tr>\n      <th>7709</th>\n      <td>2020-04-23</td>\n      <td>Los Angeles</td>\n      <td>37.0</td>\n      <td>Wilshire Center</td>\n      <td>80</td>\n      <td>NaN</td>\n      <td>-118.295338</td>\n      <td>34.068376</td>\n      <td>2020-04-23</td>\n      <td>90010</td>\n      <td>102</td>\n    </tr>\n    <tr>\n      <th>7710</th>\n      <td>2020-04-22</td>\n      <td>Los Angeles</td>\n      <td>37.0</td>\n      <td>Wilshire Center</td>\n      <td>79</td>\n      <td>NaN</td>\n      <td>-118.295338</td>\n      <td>34.068376</td>\n      <td>2020-04-22</td>\n      <td>90010</td>\n      <td>102</td>\n    </tr>\n    <tr>\n      <th>7711</th>\n      <td>2020-04-21</td>\n      <td>Los Angeles</td>\n      <td>37.0</td>\n      <td>Wilshire Center</td>\n      <td>71</td>\n      <td>NaN</td>\n      <td>-118.295338</td>\n      <td>34.068376</td>\n      <td>2020-04-21</td>\n      <td>90010</td>\n      <td>102</td>\n    </tr>\n    <tr>\n      <th>7712</th>\n      <td>2020-04-20</td>\n      <td>Los Angeles</td>\n      <td>37.0</td>\n      <td>Wilshire Center</td>\n      <td>65</td>\n      <td>NaN</td>\n      <td>-118.295338</td>\n      <td>34.068376</td>\n      <td>2020-04-20</td>\n      <td>90010</td>\n      <td>102</td>\n    </tr>\n  </tbody>\n</table>\n<p>7713 rows × 11 columns</p>\n</div>"
     },
     "execution_count": 5,
     "metadata": {},
     "output_type": "execute_result"
    }
   ],
   "source": [
    "city_df = pd.merge(city_df, city_data_df, \"inner\", on=['county', 'place', 'x', 'y'])\n",
    "city_df"
   ],
   "metadata": {
    "collapsed": false,
    "pycharm": {
     "name": "#%%\n"
    }
   }
  },
  {
   "cell_type": "markdown",
   "source": [
    "Compute daily cases, rate and rate SMA7 of each city"
   ],
   "metadata": {
    "collapsed": false,
    "pycharm": {
     "name": "#%% md\n"
    }
   }
  },
  {
   "cell_type": "code",
   "execution_count": 6,
   "outputs": [
    {
     "data": {
      "text/plain": "            date       county  fips            place  confirmed_cases note  \\\n0     2020-07-07  Los Angeles  37.0  Adams-Normandie              116  NaN   \n1     2020-07-06  Los Angeles  37.0  Adams-Normandie              112  NaN   \n2     2020-07-02  Los Angeles  37.0  Adams-Normandie              105  NaN   \n3     2020-07-01  Los Angeles  37.0  Adams-Normandie              103  NaN   \n4     2020-06-30  Los Angeles  37.0  Adams-Normandie              101  NaN   \n...          ...          ...   ...              ...              ...  ...   \n7708  2020-04-24  Los Angeles  37.0  Wilshire Center               87  NaN   \n7709  2020-04-23  Los Angeles  37.0  Wilshire Center               80  NaN   \n7710  2020-04-22  Los Angeles  37.0  Wilshire Center               79  NaN   \n7711  2020-04-21  Los Angeles  37.0  Wilshire Center               71  NaN   \n7712  2020-04-20  Los Angeles  37.0  Wilshire Center               65  NaN   \n\n               x          y      date1    zip  city_id  daily_cases      rate  \\\n0    -118.302397  34.029122 2020-07-07  90018        0          0.0  0.000000   \n1    -118.302397  34.029122 2020-07-06  90018        0         -4.0 -0.034483   \n2    -118.302397  34.029122 2020-07-02  90018        0         -7.0 -0.062500   \n3    -118.302397  34.029122 2020-07-01  90018        0         -2.0 -0.019048   \n4    -118.302397  34.029122 2020-06-30  90018        0         -2.0 -0.019417   \n...          ...        ...        ...    ...      ...          ...       ...   \n7708 -118.295338  34.068376 2020-04-24  90010      102         -3.0 -0.033333   \n7709 -118.295338  34.068376 2020-04-23  90010      102         -7.0 -0.080460   \n7710 -118.295338  34.068376 2020-04-22  90010      102         -1.0 -0.012500   \n7711 -118.295338  34.068376 2020-04-21  90010      102         -8.0 -0.101266   \n7712 -118.295338  34.068376 2020-04-20  90010      102         -6.0 -0.084507   \n\n      rate7day  ratio7day  \n0     0.000000   0.000000  \n1     0.000000   0.000000  \n2     0.000000   0.000000  \n3     0.000000   0.000000  \n4     0.000000   0.000000  \n...        ...        ...  \n7708 -0.039790   0.837735  \n7709 -0.036506   2.204031  \n7710 -0.038291   0.326444  \n7711 -0.047263   2.142580  \n7712 -0.055050   1.535090  \n\n[7713 rows x 15 columns]",
      "text/html": "<div>\n<style scoped>\n    .dataframe tbody tr th:only-of-type {\n        vertical-align: middle;\n    }\n\n    .dataframe tbody tr th {\n        vertical-align: top;\n    }\n\n    .dataframe thead th {\n        text-align: right;\n    }\n</style>\n<table border=\"1\" class=\"dataframe\">\n  <thead>\n    <tr style=\"text-align: right;\">\n      <th></th>\n      <th>date</th>\n      <th>county</th>\n      <th>fips</th>\n      <th>place</th>\n      <th>confirmed_cases</th>\n      <th>note</th>\n      <th>x</th>\n      <th>y</th>\n      <th>date1</th>\n      <th>zip</th>\n      <th>city_id</th>\n      <th>daily_cases</th>\n      <th>rate</th>\n      <th>rate7day</th>\n      <th>ratio7day</th>\n    </tr>\n  </thead>\n  <tbody>\n    <tr>\n      <th>0</th>\n      <td>2020-07-07</td>\n      <td>Los Angeles</td>\n      <td>37.0</td>\n      <td>Adams-Normandie</td>\n      <td>116</td>\n      <td>NaN</td>\n      <td>-118.302397</td>\n      <td>34.029122</td>\n      <td>2020-07-07</td>\n      <td>90018</td>\n      <td>0</td>\n      <td>0.0</td>\n      <td>0.000000</td>\n      <td>0.000000</td>\n      <td>0.000000</td>\n    </tr>\n    <tr>\n      <th>1</th>\n      <td>2020-07-06</td>\n      <td>Los Angeles</td>\n      <td>37.0</td>\n      <td>Adams-Normandie</td>\n      <td>112</td>\n      <td>NaN</td>\n      <td>-118.302397</td>\n      <td>34.029122</td>\n      <td>2020-07-06</td>\n      <td>90018</td>\n      <td>0</td>\n      <td>-4.0</td>\n      <td>-0.034483</td>\n      <td>0.000000</td>\n      <td>0.000000</td>\n    </tr>\n    <tr>\n      <th>2</th>\n      <td>2020-07-02</td>\n      <td>Los Angeles</td>\n      <td>37.0</td>\n      <td>Adams-Normandie</td>\n      <td>105</td>\n      <td>NaN</td>\n      <td>-118.302397</td>\n      <td>34.029122</td>\n      <td>2020-07-02</td>\n      <td>90018</td>\n      <td>0</td>\n      <td>-7.0</td>\n      <td>-0.062500</td>\n      <td>0.000000</td>\n      <td>0.000000</td>\n    </tr>\n    <tr>\n      <th>3</th>\n      <td>2020-07-01</td>\n      <td>Los Angeles</td>\n      <td>37.0</td>\n      <td>Adams-Normandie</td>\n      <td>103</td>\n      <td>NaN</td>\n      <td>-118.302397</td>\n      <td>34.029122</td>\n      <td>2020-07-01</td>\n      <td>90018</td>\n      <td>0</td>\n      <td>-2.0</td>\n      <td>-0.019048</td>\n      <td>0.000000</td>\n      <td>0.000000</td>\n    </tr>\n    <tr>\n      <th>4</th>\n      <td>2020-06-30</td>\n      <td>Los Angeles</td>\n      <td>37.0</td>\n      <td>Adams-Normandie</td>\n      <td>101</td>\n      <td>NaN</td>\n      <td>-118.302397</td>\n      <td>34.029122</td>\n      <td>2020-06-30</td>\n      <td>90018</td>\n      <td>0</td>\n      <td>-2.0</td>\n      <td>-0.019417</td>\n      <td>0.000000</td>\n      <td>0.000000</td>\n    </tr>\n    <tr>\n      <th>...</th>\n      <td>...</td>\n      <td>...</td>\n      <td>...</td>\n      <td>...</td>\n      <td>...</td>\n      <td>...</td>\n      <td>...</td>\n      <td>...</td>\n      <td>...</td>\n      <td>...</td>\n      <td>...</td>\n      <td>...</td>\n      <td>...</td>\n      <td>...</td>\n      <td>...</td>\n    </tr>\n    <tr>\n      <th>7708</th>\n      <td>2020-04-24</td>\n      <td>Los Angeles</td>\n      <td>37.0</td>\n      <td>Wilshire Center</td>\n      <td>87</td>\n      <td>NaN</td>\n      <td>-118.295338</td>\n      <td>34.068376</td>\n      <td>2020-04-24</td>\n      <td>90010</td>\n      <td>102</td>\n      <td>-3.0</td>\n      <td>-0.033333</td>\n      <td>-0.039790</td>\n      <td>0.837735</td>\n    </tr>\n    <tr>\n      <th>7709</th>\n      <td>2020-04-23</td>\n      <td>Los Angeles</td>\n      <td>37.0</td>\n      <td>Wilshire Center</td>\n      <td>80</td>\n      <td>NaN</td>\n      <td>-118.295338</td>\n      <td>34.068376</td>\n      <td>2020-04-23</td>\n      <td>90010</td>\n      <td>102</td>\n      <td>-7.0</td>\n      <td>-0.080460</td>\n      <td>-0.036506</td>\n      <td>2.204031</td>\n    </tr>\n    <tr>\n      <th>7710</th>\n      <td>2020-04-22</td>\n      <td>Los Angeles</td>\n      <td>37.0</td>\n      <td>Wilshire Center</td>\n      <td>79</td>\n      <td>NaN</td>\n      <td>-118.295338</td>\n      <td>34.068376</td>\n      <td>2020-04-22</td>\n      <td>90010</td>\n      <td>102</td>\n      <td>-1.0</td>\n      <td>-0.012500</td>\n      <td>-0.038291</td>\n      <td>0.326444</td>\n    </tr>\n    <tr>\n      <th>7711</th>\n      <td>2020-04-21</td>\n      <td>Los Angeles</td>\n      <td>37.0</td>\n      <td>Wilshire Center</td>\n      <td>71</td>\n      <td>NaN</td>\n      <td>-118.295338</td>\n      <td>34.068376</td>\n      <td>2020-04-21</td>\n      <td>90010</td>\n      <td>102</td>\n      <td>-8.0</td>\n      <td>-0.101266</td>\n      <td>-0.047263</td>\n      <td>2.142580</td>\n    </tr>\n    <tr>\n      <th>7712</th>\n      <td>2020-04-20</td>\n      <td>Los Angeles</td>\n      <td>37.0</td>\n      <td>Wilshire Center</td>\n      <td>65</td>\n      <td>NaN</td>\n      <td>-118.295338</td>\n      <td>34.068376</td>\n      <td>2020-04-20</td>\n      <td>90010</td>\n      <td>102</td>\n      <td>-6.0</td>\n      <td>-0.084507</td>\n      <td>-0.055050</td>\n      <td>1.535090</td>\n    </tr>\n  </tbody>\n</table>\n<p>7713 rows × 15 columns</p>\n</div>"
     },
     "execution_count": 6,
     "metadata": {},
     "output_type": "execute_result"
    }
   ],
   "source": [
    "import numpy as np\n",
    "\n",
    "# Suppress warnings\n",
    "pd.options.mode.chained_assignment = None\n",
    "\n",
    "city_id = city_df.city_id.unique()\n",
    "\n",
    "for i in city_id:\n",
    "    temp_df = city_df[city_df.city_id == i]\n",
    "    temp_df['daily_cases'] = temp_df['confirmed_cases'].diff().fillna(0)\n",
    "    temp_df['rate'] = temp_df['confirmed_cases'].pct_change().fillna(0)\n",
    "    temp_df['rate7day'] = temp_df['rate'].rolling(window=7).mean().fillna(0)\n",
    "    temp_df['ratio7day'] = (temp_df.rate / temp_df.rate7day).fillna(0)\n",
    "    temp_df = temp_df.replace(np.inf, 0)\n",
    "    temp_df = temp_df.replace(-np.inf, 0)\n",
    "    if i == 0:\n",
    "        new_df = temp_df\n",
    "    else:\n",
    "        new_df = pd.concat([new_df, temp_df])\n",
    "new_df"
   ],
   "metadata": {
    "collapsed": false,
    "pycharm": {
     "name": "#%%\n"
    }
   }
  },
  {
   "cell_type": "code",
   "execution_count": 7,
   "outputs": [],
   "source": [
    "import os\n",
    "new_df.to_csv(os.path.join(\"output\", \"city_data.csv\"), index=False)"
   ],
   "metadata": {
    "collapsed": false,
    "pycharm": {
     "name": "#%%\n"
    }
   }
  },
  {
   "cell_type": "markdown",
   "source": [
    "Total Running time (s)"
   ],
   "metadata": {
    "collapsed": false
   }
  },
  {
   "cell_type": "code",
   "execution_count": 8,
   "outputs": [
    {
     "data": {
      "text/plain": "7.662999868392944"
     },
     "execution_count": 8,
     "metadata": {},
     "output_type": "execute_result"
    }
   ],
   "source": [
    "time.time() - start_time"
   ],
   "metadata": {
    "collapsed": false,
    "pycharm": {
     "name": "#%%\n"
    }
   }
  }
 ],
 "metadata": {
  "kernelspec": {
   "display_name": "Python 3",
   "language": "python",
   "name": "python3"
  },
  "language_info": {
   "codemirror_mode": {
    "name": "ipython",
    "version": 2
   },
   "file_extension": ".py",
   "mimetype": "text/x-python",
   "name": "python",
   "nbconvert_exporter": "python",
   "pygments_lexer": "ipython2",
   "version": "2.7.6"
  }
 },
 "nbformat": 4,
 "nbformat_minor": 0
}
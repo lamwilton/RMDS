{
 "cells": [
  {
   "cell_type": "markdown",
   "metadata": {
    "collapsed": true,
    "pycharm": {
     "name": "#%% md\n"
    }
   },
   "source": [
    "# Zip code level COVID cases data processing for CA only\n",
    "Data from LA times"
   ]
  },
  {
   "cell_type": "code",
   "execution_count": 10,
   "outputs": [
    {
     "data": {
      "text/plain": "             date       county  fips          place  confirmed_cases note  \\\n0      2020-03-16  Los Angeles    37       Alhambra                2  NaN   \n1      2020-03-16  Los Angeles    37        Arcadia                1  NaN   \n2      2020-03-16  Los Angeles    37  Beverly Hills                1  NaN   \n3      2020-03-16  Los Angeles    37  Boyle Heights                5  NaN   \n4      2020-03-16  Los Angeles    37         Carson                1  NaN   \n...           ...          ...   ...            ...              ...  ...   \n35748  2020-05-20      Ventura   111    Santa Paula               72  NaN   \n35749  2020-05-20      Ventura   111    Simi Valley              207  NaN   \n35750  2020-05-20      Ventura   111          Somis                3  NaN   \n35751  2020-05-20      Ventura   111  Thousand Oaks              109  NaN   \n35752  2020-05-20      Ventura   111        Ventura               52  NaN   \n\n                x          y  \n0     -118.135504  34.083961  \n1     -118.037297  34.134186  \n2     -118.402109  34.078543  \n3     -118.205330  34.038150  \n4     -118.255878  33.837391  \n...           ...        ...  \n35748 -119.061497  34.353092  \n35749 -118.750410  34.271008  \n35750 -118.994592  34.263681  \n35751 -118.839304  34.172478  \n35752 -119.293754  34.282366  \n\n[35753 rows x 8 columns]",
      "text/html": "<div>\n<style scoped>\n    .dataframe tbody tr th:only-of-type {\n        vertical-align: middle;\n    }\n\n    .dataframe tbody tr th {\n        vertical-align: top;\n    }\n\n    .dataframe thead th {\n        text-align: right;\n    }\n</style>\n<table border=\"1\" class=\"dataframe\">\n  <thead>\n    <tr style=\"text-align: right;\">\n      <th></th>\n      <th>date</th>\n      <th>county</th>\n      <th>fips</th>\n      <th>place</th>\n      <th>confirmed_cases</th>\n      <th>note</th>\n      <th>x</th>\n      <th>y</th>\n    </tr>\n  </thead>\n  <tbody>\n    <tr>\n      <th>0</th>\n      <td>2020-03-16</td>\n      <td>Los Angeles</td>\n      <td>37</td>\n      <td>Alhambra</td>\n      <td>2</td>\n      <td>NaN</td>\n      <td>-118.135504</td>\n      <td>34.083961</td>\n    </tr>\n    <tr>\n      <th>1</th>\n      <td>2020-03-16</td>\n      <td>Los Angeles</td>\n      <td>37</td>\n      <td>Arcadia</td>\n      <td>1</td>\n      <td>NaN</td>\n      <td>-118.037297</td>\n      <td>34.134186</td>\n    </tr>\n    <tr>\n      <th>2</th>\n      <td>2020-03-16</td>\n      <td>Los Angeles</td>\n      <td>37</td>\n      <td>Beverly Hills</td>\n      <td>1</td>\n      <td>NaN</td>\n      <td>-118.402109</td>\n      <td>34.078543</td>\n    </tr>\n    <tr>\n      <th>3</th>\n      <td>2020-03-16</td>\n      <td>Los Angeles</td>\n      <td>37</td>\n      <td>Boyle Heights</td>\n      <td>5</td>\n      <td>NaN</td>\n      <td>-118.205330</td>\n      <td>34.038150</td>\n    </tr>\n    <tr>\n      <th>4</th>\n      <td>2020-03-16</td>\n      <td>Los Angeles</td>\n      <td>37</td>\n      <td>Carson</td>\n      <td>1</td>\n      <td>NaN</td>\n      <td>-118.255878</td>\n      <td>33.837391</td>\n    </tr>\n    <tr>\n      <th>...</th>\n      <td>...</td>\n      <td>...</td>\n      <td>...</td>\n      <td>...</td>\n      <td>...</td>\n      <td>...</td>\n      <td>...</td>\n      <td>...</td>\n    </tr>\n    <tr>\n      <th>35748</th>\n      <td>2020-05-20</td>\n      <td>Ventura</td>\n      <td>111</td>\n      <td>Santa Paula</td>\n      <td>72</td>\n      <td>NaN</td>\n      <td>-119.061497</td>\n      <td>34.353092</td>\n    </tr>\n    <tr>\n      <th>35749</th>\n      <td>2020-05-20</td>\n      <td>Ventura</td>\n      <td>111</td>\n      <td>Simi Valley</td>\n      <td>207</td>\n      <td>NaN</td>\n      <td>-118.750410</td>\n      <td>34.271008</td>\n    </tr>\n    <tr>\n      <th>35750</th>\n      <td>2020-05-20</td>\n      <td>Ventura</td>\n      <td>111</td>\n      <td>Somis</td>\n      <td>3</td>\n      <td>NaN</td>\n      <td>-118.994592</td>\n      <td>34.263681</td>\n    </tr>\n    <tr>\n      <th>35751</th>\n      <td>2020-05-20</td>\n      <td>Ventura</td>\n      <td>111</td>\n      <td>Thousand Oaks</td>\n      <td>109</td>\n      <td>NaN</td>\n      <td>-118.839304</td>\n      <td>34.172478</td>\n    </tr>\n    <tr>\n      <th>35752</th>\n      <td>2020-05-20</td>\n      <td>Ventura</td>\n      <td>111</td>\n      <td>Ventura</td>\n      <td>52</td>\n      <td>NaN</td>\n      <td>-119.293754</td>\n      <td>34.282366</td>\n    </tr>\n  </tbody>\n</table>\n<p>35753 rows × 8 columns</p>\n</div>"
     },
     "execution_count": 10,
     "metadata": {},
     "output_type": "execute_result"
    }
   ],
   "source": [
    "import pandas as pd\n",
    "\n",
    "city_df = pd.read_csv(\"https://raw.githubusercontent.com/datadesk/california-coronavirus-data/master/latimes-place-totals.csv\")\n",
    "city_df.x = city_df.x.abs() * -1  # Correcting a mistake in longitude\n",
    "city_df.x = city_df.x.fillna(0)\n",
    "city_df.y = city_df.y.fillna(0)\n",
    "city_df"
   ],
   "metadata": {
    "collapsed": false,
    "pycharm": {
     "name": "#%%\n"
    }
   }
  },
  {
   "cell_type": "markdown",
   "source": [
    "New python package for finding zipcode called uszipcode\n",
    "Can find zipcode based on coordinates\n",
    "https://pypi.org/project/uszipcode/"
   ],
   "metadata": {
    "collapsed": false,
    "pycharm": {
     "name": "#%% md\n"
    }
   }
  },
  {
   "cell_type": "code",
   "execution_count": 11,
   "outputs": [
    {
     "data": {
      "text/plain": "SimpleZipcode(zipcode='95776', zipcode_type='Standard', major_city='Woodland', post_office_city='Woodland, CA', common_city_list=['Woodland'], county='Yolo County', state='CA', lat=38.7, lng=-121.7, timezone='Pacific', radius_in_miles=11.0, area_code_list=['530'], population=21902, population_density=237.0, land_area_in_sqmi=92.43, water_area_in_sqmi=1.12, housing_units=6824, occupied_housing_units=6464, median_home_value=248000, median_household_income=61599, bounds_west=-121.781382, bounds_east=-121.629202, bounds_north=38.803028, bounds_south=38.553296)"
     },
     "execution_count": 11,
     "metadata": {},
     "output_type": "execute_result"
    }
   ],
   "source": [
    "from uszipcode import SearchEngine\n",
    "search = SearchEngine(simple_zipcode=True)\n",
    "result = search.by_coordinates(38.678611, -121.773333, radius=30, returns=1)\n",
    "result[0]"
   ],
   "metadata": {
    "collapsed": false,
    "pycharm": {
     "name": "#%%\n"
    }
   }
  },
  {
   "cell_type": "markdown",
   "source": [
    "Select unique cities and look for zip code in a new table"
   ],
   "metadata": {
    "collapsed": false,
    "pycharm": {
     "name": "#%% md\n"
    }
   }
  },
  {
   "cell_type": "code",
   "execution_count": 12,
   "outputs": [
    {
     "name": "stderr",
     "output_type": "stream",
     "text": [
      "Exception during reset or similar\n",
      "Traceback (most recent call last):\n",
      "  File \"c:\\users\\administrator\\pycharmprojects\\rmds\\venv\\lib\\site-packages\\sqlalchemy\\engine\\base.py\", line 752, in _rollback_impl\n",
      "    self.engine.dialect.do_rollback(self.connection)\n",
      "  File \"c:\\users\\administrator\\pycharmprojects\\rmds\\venv\\lib\\site-packages\\sqlalchemy\\engine\\default.py\", line 540, in do_rollback\n",
      "    dbapi_connection.rollback()\n",
      "sqlite3.ProgrammingError: Cannot operate on a closed database.\n",
      "\n",
      "The above exception was the direct cause of the following exception:\n",
      "\n",
      "Traceback (most recent call last):\n",
      "  File \"c:\\users\\administrator\\pycharmprojects\\rmds\\venv\\lib\\site-packages\\sqlalchemy\\pool\\base.py\", line 697, in _finalize_fairy\n",
      "    fairy._reset(pool)\n",
      "  File \"c:\\users\\administrator\\pycharmprojects\\rmds\\venv\\lib\\site-packages\\sqlalchemy\\pool\\base.py\", line 891, in _reset\n",
      "    self._reset_agent.rollback()\n",
      "  File \"c:\\users\\administrator\\pycharmprojects\\rmds\\venv\\lib\\site-packages\\sqlalchemy\\engine\\base.py\", line 1760, in rollback\n",
      "    self._do_rollback()\n",
      "  File \"c:\\users\\administrator\\pycharmprojects\\rmds\\venv\\lib\\site-packages\\sqlalchemy\\engine\\base.py\", line 1798, in _do_rollback\n",
      "    self.connection._rollback_impl()\n",
      "  File \"c:\\users\\administrator\\pycharmprojects\\rmds\\venv\\lib\\site-packages\\sqlalchemy\\engine\\base.py\", line 754, in _rollback_impl\n",
      "    self._handle_dbapi_exception(e, None, None, None, None)\n",
      "  File \"c:\\users\\administrator\\pycharmprojects\\rmds\\venv\\lib\\site-packages\\sqlalchemy\\engine\\base.py\", line 1518, in _handle_dbapi_exception\n",
      "    sqlalchemy_exception, with_traceback=exc_info[2], from_=e\n",
      "  File \"c:\\users\\administrator\\pycharmprojects\\rmds\\venv\\lib\\site-packages\\sqlalchemy\\util\\compat.py\", line 178, in raise_\n",
      "    raise exception\n",
      "  File \"c:\\users\\administrator\\pycharmprojects\\rmds\\venv\\lib\\site-packages\\sqlalchemy\\engine\\base.py\", line 752, in _rollback_impl\n",
      "    self.engine.dialect.do_rollback(self.connection)\n",
      "  File \"c:\\users\\administrator\\pycharmprojects\\rmds\\venv\\lib\\site-packages\\sqlalchemy\\engine\\default.py\", line 540, in do_rollback\n",
      "    dbapi_connection.rollback()\n",
      "sqlalchemy.exc.ProgrammingError: (sqlite3.ProgrammingError) Cannot operate on a closed database.\n",
      "(Background on this error at: http://sqlalche.me/e/f405)\n"
     ]
    },
    {
     "data": {
      "text/plain": "          county           place           x          y    zip  city_id\n0    Los Angeles        Alhambra -118.135504  34.083961  91803        0\n1    Los Angeles         Arcadia -118.037297  34.134186  91006        1\n2    Los Angeles   Beverly Hills -118.402109  34.078543  90212        2\n3    Los Angeles   Boyle Heights -118.205330  34.038150  90033        3\n4    Los Angeles          Carson -118.255878  33.837391  90745        4\n..           ...             ...         ...        ...    ...      ...\n947  Los Angeles     San Pasqual -118.102533  34.139229  91775      947\n948       Merced          Hilmar -120.857970  37.404278  95324      948\n949      Alameda  Alameda County    0.000000   0.000000      0      949\n950       Amador         Volcano -120.562377  38.409966  95232      950\n951       Fresno       Riverdale    0.000000   0.000000      0      951\n\n[952 rows x 6 columns]",
      "text/html": "<div>\n<style scoped>\n    .dataframe tbody tr th:only-of-type {\n        vertical-align: middle;\n    }\n\n    .dataframe tbody tr th {\n        vertical-align: top;\n    }\n\n    .dataframe thead th {\n        text-align: right;\n    }\n</style>\n<table border=\"1\" class=\"dataframe\">\n  <thead>\n    <tr style=\"text-align: right;\">\n      <th></th>\n      <th>county</th>\n      <th>place</th>\n      <th>x</th>\n      <th>y</th>\n      <th>zip</th>\n      <th>city_id</th>\n    </tr>\n  </thead>\n  <tbody>\n    <tr>\n      <th>0</th>\n      <td>Los Angeles</td>\n      <td>Alhambra</td>\n      <td>-118.135504</td>\n      <td>34.083961</td>\n      <td>91803</td>\n      <td>0</td>\n    </tr>\n    <tr>\n      <th>1</th>\n      <td>Los Angeles</td>\n      <td>Arcadia</td>\n      <td>-118.037297</td>\n      <td>34.134186</td>\n      <td>91006</td>\n      <td>1</td>\n    </tr>\n    <tr>\n      <th>2</th>\n      <td>Los Angeles</td>\n      <td>Beverly Hills</td>\n      <td>-118.402109</td>\n      <td>34.078543</td>\n      <td>90212</td>\n      <td>2</td>\n    </tr>\n    <tr>\n      <th>3</th>\n      <td>Los Angeles</td>\n      <td>Boyle Heights</td>\n      <td>-118.205330</td>\n      <td>34.038150</td>\n      <td>90033</td>\n      <td>3</td>\n    </tr>\n    <tr>\n      <th>4</th>\n      <td>Los Angeles</td>\n      <td>Carson</td>\n      <td>-118.255878</td>\n      <td>33.837391</td>\n      <td>90745</td>\n      <td>4</td>\n    </tr>\n    <tr>\n      <th>...</th>\n      <td>...</td>\n      <td>...</td>\n      <td>...</td>\n      <td>...</td>\n      <td>...</td>\n      <td>...</td>\n    </tr>\n    <tr>\n      <th>947</th>\n      <td>Los Angeles</td>\n      <td>San Pasqual</td>\n      <td>-118.102533</td>\n      <td>34.139229</td>\n      <td>91775</td>\n      <td>947</td>\n    </tr>\n    <tr>\n      <th>948</th>\n      <td>Merced</td>\n      <td>Hilmar</td>\n      <td>-120.857970</td>\n      <td>37.404278</td>\n      <td>95324</td>\n      <td>948</td>\n    </tr>\n    <tr>\n      <th>949</th>\n      <td>Alameda</td>\n      <td>Alameda County</td>\n      <td>0.000000</td>\n      <td>0.000000</td>\n      <td>0</td>\n      <td>949</td>\n    </tr>\n    <tr>\n      <th>950</th>\n      <td>Amador</td>\n      <td>Volcano</td>\n      <td>-120.562377</td>\n      <td>38.409966</td>\n      <td>95232</td>\n      <td>950</td>\n    </tr>\n    <tr>\n      <th>951</th>\n      <td>Fresno</td>\n      <td>Riverdale</td>\n      <td>0.000000</td>\n      <td>0.000000</td>\n      <td>0</td>\n      <td>951</td>\n    </tr>\n  </tbody>\n</table>\n<p>952 rows × 6 columns</p>\n</div>"
     },
     "execution_count": 12,
     "metadata": {},
     "output_type": "execute_result"
    }
   ],
   "source": [
    "city_data_df = pd.DataFrame()\n",
    "city_data_df = pd.concat([city_df.county, city_df.place, city_df.x, city_df.y], axis=1)\n",
    "city_data_df = city_data_df.drop_duplicates()\n",
    "\n",
    "def search_zip(df):\n",
    "    # If place name contains zip code, returns the zip code directly\n",
    "    if df.place[0:5].isnumeric():\n",
    "        return df.place[0:5]\n",
    "    if df.y == 0:\n",
    "        return 0\n",
    "    result = search.by_coordinates(df.y, df.x, radius=30, returns=1)\n",
    "    return result[0].zipcode\n",
    "\n",
    "city_data_df['zip'] = city_data_df.apply(search_zip, axis=1)\n",
    "city_data_df = city_data_df.reset_index(drop=True)\n",
    "city_data_df['city_id'] = city_data_df.index\n",
    "city_data_df"
   ],
   "metadata": {
    "collapsed": false,
    "pycharm": {
     "name": "#%%\n"
    }
   }
  },
  {
   "cell_type": "code",
   "execution_count": 13,
   "outputs": [
    {
     "data": {
      "text/plain": "             date       county  fips           place  confirmed_cases note  \\\n0      2020-03-16  Los Angeles    37        Alhambra                2  NaN   \n1      2020-03-17  Los Angeles    37        Alhambra                1  NaN   \n2      2020-03-18  Los Angeles    37        Alhambra                1  NaN   \n3      2020-03-19  Los Angeles    37        Alhambra                2  NaN   \n4      2020-03-20  Los Angeles    37        Alhambra                3  NaN   \n...           ...          ...   ...             ...              ...  ...   \n35748  2020-05-18      Alameda     1  Alameda County             2456  NaN   \n35749  2020-05-19      Alameda     1  Alameda County             2522  NaN   \n35750  2020-05-20      Alameda     1  Alameda County             2560  NaN   \n35751  2020-05-18       Amador     5         Volcano                1  NaN   \n35752  2020-05-20       Fresno    19       Riverdale                6  NaN   \n\n                x          y    zip  city_id  \n0     -118.135504  34.083961  91803        0  \n1     -118.135504  34.083961  91803        0  \n2     -118.135504  34.083961  91803        0  \n3     -118.135504  34.083961  91803        0  \n4     -118.135504  34.083961  91803        0  \n...           ...        ...    ...      ...  \n35748    0.000000   0.000000      0      949  \n35749    0.000000   0.000000      0      949  \n35750    0.000000   0.000000      0      949  \n35751 -120.562377  38.409966  95232      950  \n35752    0.000000   0.000000      0      951  \n\n[35753 rows x 10 columns]",
      "text/html": "<div>\n<style scoped>\n    .dataframe tbody tr th:only-of-type {\n        vertical-align: middle;\n    }\n\n    .dataframe tbody tr th {\n        vertical-align: top;\n    }\n\n    .dataframe thead th {\n        text-align: right;\n    }\n</style>\n<table border=\"1\" class=\"dataframe\">\n  <thead>\n    <tr style=\"text-align: right;\">\n      <th></th>\n      <th>date</th>\n      <th>county</th>\n      <th>fips</th>\n      <th>place</th>\n      <th>confirmed_cases</th>\n      <th>note</th>\n      <th>x</th>\n      <th>y</th>\n      <th>zip</th>\n      <th>city_id</th>\n    </tr>\n  </thead>\n  <tbody>\n    <tr>\n      <th>0</th>\n      <td>2020-03-16</td>\n      <td>Los Angeles</td>\n      <td>37</td>\n      <td>Alhambra</td>\n      <td>2</td>\n      <td>NaN</td>\n      <td>-118.135504</td>\n      <td>34.083961</td>\n      <td>91803</td>\n      <td>0</td>\n    </tr>\n    <tr>\n      <th>1</th>\n      <td>2020-03-17</td>\n      <td>Los Angeles</td>\n      <td>37</td>\n      <td>Alhambra</td>\n      <td>1</td>\n      <td>NaN</td>\n      <td>-118.135504</td>\n      <td>34.083961</td>\n      <td>91803</td>\n      <td>0</td>\n    </tr>\n    <tr>\n      <th>2</th>\n      <td>2020-03-18</td>\n      <td>Los Angeles</td>\n      <td>37</td>\n      <td>Alhambra</td>\n      <td>1</td>\n      <td>NaN</td>\n      <td>-118.135504</td>\n      <td>34.083961</td>\n      <td>91803</td>\n      <td>0</td>\n    </tr>\n    <tr>\n      <th>3</th>\n      <td>2020-03-19</td>\n      <td>Los Angeles</td>\n      <td>37</td>\n      <td>Alhambra</td>\n      <td>2</td>\n      <td>NaN</td>\n      <td>-118.135504</td>\n      <td>34.083961</td>\n      <td>91803</td>\n      <td>0</td>\n    </tr>\n    <tr>\n      <th>4</th>\n      <td>2020-03-20</td>\n      <td>Los Angeles</td>\n      <td>37</td>\n      <td>Alhambra</td>\n      <td>3</td>\n      <td>NaN</td>\n      <td>-118.135504</td>\n      <td>34.083961</td>\n      <td>91803</td>\n      <td>0</td>\n    </tr>\n    <tr>\n      <th>...</th>\n      <td>...</td>\n      <td>...</td>\n      <td>...</td>\n      <td>...</td>\n      <td>...</td>\n      <td>...</td>\n      <td>...</td>\n      <td>...</td>\n      <td>...</td>\n      <td>...</td>\n    </tr>\n    <tr>\n      <th>35748</th>\n      <td>2020-05-18</td>\n      <td>Alameda</td>\n      <td>1</td>\n      <td>Alameda County</td>\n      <td>2456</td>\n      <td>NaN</td>\n      <td>0.000000</td>\n      <td>0.000000</td>\n      <td>0</td>\n      <td>949</td>\n    </tr>\n    <tr>\n      <th>35749</th>\n      <td>2020-05-19</td>\n      <td>Alameda</td>\n      <td>1</td>\n      <td>Alameda County</td>\n      <td>2522</td>\n      <td>NaN</td>\n      <td>0.000000</td>\n      <td>0.000000</td>\n      <td>0</td>\n      <td>949</td>\n    </tr>\n    <tr>\n      <th>35750</th>\n      <td>2020-05-20</td>\n      <td>Alameda</td>\n      <td>1</td>\n      <td>Alameda County</td>\n      <td>2560</td>\n      <td>NaN</td>\n      <td>0.000000</td>\n      <td>0.000000</td>\n      <td>0</td>\n      <td>949</td>\n    </tr>\n    <tr>\n      <th>35751</th>\n      <td>2020-05-18</td>\n      <td>Amador</td>\n      <td>5</td>\n      <td>Volcano</td>\n      <td>1</td>\n      <td>NaN</td>\n      <td>-120.562377</td>\n      <td>38.409966</td>\n      <td>95232</td>\n      <td>950</td>\n    </tr>\n    <tr>\n      <th>35752</th>\n      <td>2020-05-20</td>\n      <td>Fresno</td>\n      <td>19</td>\n      <td>Riverdale</td>\n      <td>6</td>\n      <td>NaN</td>\n      <td>0.000000</td>\n      <td>0.000000</td>\n      <td>0</td>\n      <td>951</td>\n    </tr>\n  </tbody>\n</table>\n<p>35753 rows × 10 columns</p>\n</div>"
     },
     "execution_count": 13,
     "metadata": {},
     "output_type": "execute_result"
    }
   ],
   "source": [
    "city_df = pd.merge(city_df, city_data_df, \"inner\", on=['county', 'place', 'x', 'y'])\n",
    "city_df"
   ],
   "metadata": {
    "collapsed": false,
    "pycharm": {
     "name": "#%%\n"
    }
   }
  },
  {
   "cell_type": "markdown",
   "source": [
    "Compute daily cases, rate and rate SMA7 of each city"
   ],
   "metadata": {
    "collapsed": false,
    "pycharm": {
     "name": "#%% md\n"
    }
   }
  },
  {
   "cell_type": "code",
   "execution_count": 14,
   "outputs": [
    {
     "data": {
      "text/plain": "             date       county  fips           place  confirmed_cases note  \\\n0      2020-03-16  Los Angeles    37        Alhambra                2  NaN   \n1      2020-03-17  Los Angeles    37        Alhambra                1  NaN   \n2      2020-03-18  Los Angeles    37        Alhambra                1  NaN   \n3      2020-03-19  Los Angeles    37        Alhambra                2  NaN   \n4      2020-03-20  Los Angeles    37        Alhambra                3  NaN   \n...           ...          ...   ...             ...              ...  ...   \n35748  2020-05-18      Alameda     1  Alameda County             2456  NaN   \n35749  2020-05-19      Alameda     1  Alameda County             2522  NaN   \n35750  2020-05-20      Alameda     1  Alameda County             2560  NaN   \n35751  2020-05-18       Amador     5         Volcano                1  NaN   \n35752  2020-05-20       Fresno    19       Riverdale                6  NaN   \n\n                x          y    zip  city_id  daily_cases      rate  rate7day  \\\n0     -118.135504  34.083961  91803        0          0.0  0.000000       0.0   \n1     -118.135504  34.083961  91803        0         -1.0 -0.500000       0.0   \n2     -118.135504  34.083961  91803        0          0.0  0.000000       0.0   \n3     -118.135504  34.083961  91803        0          1.0  1.000000       0.0   \n4     -118.135504  34.083961  91803        0          1.0  0.500000       0.0   \n...           ...        ...    ...      ...          ...       ...       ...   \n35748    0.000000   0.000000      0      949         64.0  0.026756       0.0   \n35749    0.000000   0.000000      0      949         66.0  0.026873       0.0   \n35750    0.000000   0.000000      0      949         38.0  0.015067       0.0   \n35751 -120.562377  38.409966  95232      950          0.0  0.000000       0.0   \n35752    0.000000   0.000000      0      951          0.0  0.000000       0.0   \n\n       ratio7day  \n0            0.0  \n1            0.0  \n2            0.0  \n3            0.0  \n4            0.0  \n...          ...  \n35748        0.0  \n35749        0.0  \n35750        0.0  \n35751        0.0  \n35752        0.0  \n\n[35753 rows x 14 columns]",
      "text/html": "<div>\n<style scoped>\n    .dataframe tbody tr th:only-of-type {\n        vertical-align: middle;\n    }\n\n    .dataframe tbody tr th {\n        vertical-align: top;\n    }\n\n    .dataframe thead th {\n        text-align: right;\n    }\n</style>\n<table border=\"1\" class=\"dataframe\">\n  <thead>\n    <tr style=\"text-align: right;\">\n      <th></th>\n      <th>date</th>\n      <th>county</th>\n      <th>fips</th>\n      <th>place</th>\n      <th>confirmed_cases</th>\n      <th>note</th>\n      <th>x</th>\n      <th>y</th>\n      <th>zip</th>\n      <th>city_id</th>\n      <th>daily_cases</th>\n      <th>rate</th>\n      <th>rate7day</th>\n      <th>ratio7day</th>\n    </tr>\n  </thead>\n  <tbody>\n    <tr>\n      <th>0</th>\n      <td>2020-03-16</td>\n      <td>Los Angeles</td>\n      <td>37</td>\n      <td>Alhambra</td>\n      <td>2</td>\n      <td>NaN</td>\n      <td>-118.135504</td>\n      <td>34.083961</td>\n      <td>91803</td>\n      <td>0</td>\n      <td>0.0</td>\n      <td>0.000000</td>\n      <td>0.0</td>\n      <td>0.0</td>\n    </tr>\n    <tr>\n      <th>1</th>\n      <td>2020-03-17</td>\n      <td>Los Angeles</td>\n      <td>37</td>\n      <td>Alhambra</td>\n      <td>1</td>\n      <td>NaN</td>\n      <td>-118.135504</td>\n      <td>34.083961</td>\n      <td>91803</td>\n      <td>0</td>\n      <td>-1.0</td>\n      <td>-0.500000</td>\n      <td>0.0</td>\n      <td>0.0</td>\n    </tr>\n    <tr>\n      <th>2</th>\n      <td>2020-03-18</td>\n      <td>Los Angeles</td>\n      <td>37</td>\n      <td>Alhambra</td>\n      <td>1</td>\n      <td>NaN</td>\n      <td>-118.135504</td>\n      <td>34.083961</td>\n      <td>91803</td>\n      <td>0</td>\n      <td>0.0</td>\n      <td>0.000000</td>\n      <td>0.0</td>\n      <td>0.0</td>\n    </tr>\n    <tr>\n      <th>3</th>\n      <td>2020-03-19</td>\n      <td>Los Angeles</td>\n      <td>37</td>\n      <td>Alhambra</td>\n      <td>2</td>\n      <td>NaN</td>\n      <td>-118.135504</td>\n      <td>34.083961</td>\n      <td>91803</td>\n      <td>0</td>\n      <td>1.0</td>\n      <td>1.000000</td>\n      <td>0.0</td>\n      <td>0.0</td>\n    </tr>\n    <tr>\n      <th>4</th>\n      <td>2020-03-20</td>\n      <td>Los Angeles</td>\n      <td>37</td>\n      <td>Alhambra</td>\n      <td>3</td>\n      <td>NaN</td>\n      <td>-118.135504</td>\n      <td>34.083961</td>\n      <td>91803</td>\n      <td>0</td>\n      <td>1.0</td>\n      <td>0.500000</td>\n      <td>0.0</td>\n      <td>0.0</td>\n    </tr>\n    <tr>\n      <th>...</th>\n      <td>...</td>\n      <td>...</td>\n      <td>...</td>\n      <td>...</td>\n      <td>...</td>\n      <td>...</td>\n      <td>...</td>\n      <td>...</td>\n      <td>...</td>\n      <td>...</td>\n      <td>...</td>\n      <td>...</td>\n      <td>...</td>\n      <td>...</td>\n    </tr>\n    <tr>\n      <th>35748</th>\n      <td>2020-05-18</td>\n      <td>Alameda</td>\n      <td>1</td>\n      <td>Alameda County</td>\n      <td>2456</td>\n      <td>NaN</td>\n      <td>0.000000</td>\n      <td>0.000000</td>\n      <td>0</td>\n      <td>949</td>\n      <td>64.0</td>\n      <td>0.026756</td>\n      <td>0.0</td>\n      <td>0.0</td>\n    </tr>\n    <tr>\n      <th>35749</th>\n      <td>2020-05-19</td>\n      <td>Alameda</td>\n      <td>1</td>\n      <td>Alameda County</td>\n      <td>2522</td>\n      <td>NaN</td>\n      <td>0.000000</td>\n      <td>0.000000</td>\n      <td>0</td>\n      <td>949</td>\n      <td>66.0</td>\n      <td>0.026873</td>\n      <td>0.0</td>\n      <td>0.0</td>\n    </tr>\n    <tr>\n      <th>35750</th>\n      <td>2020-05-20</td>\n      <td>Alameda</td>\n      <td>1</td>\n      <td>Alameda County</td>\n      <td>2560</td>\n      <td>NaN</td>\n      <td>0.000000</td>\n      <td>0.000000</td>\n      <td>0</td>\n      <td>949</td>\n      <td>38.0</td>\n      <td>0.015067</td>\n      <td>0.0</td>\n      <td>0.0</td>\n    </tr>\n    <tr>\n      <th>35751</th>\n      <td>2020-05-18</td>\n      <td>Amador</td>\n      <td>5</td>\n      <td>Volcano</td>\n      <td>1</td>\n      <td>NaN</td>\n      <td>-120.562377</td>\n      <td>38.409966</td>\n      <td>95232</td>\n      <td>950</td>\n      <td>0.0</td>\n      <td>0.000000</td>\n      <td>0.0</td>\n      <td>0.0</td>\n    </tr>\n    <tr>\n      <th>35752</th>\n      <td>2020-05-20</td>\n      <td>Fresno</td>\n      <td>19</td>\n      <td>Riverdale</td>\n      <td>6</td>\n      <td>NaN</td>\n      <td>0.000000</td>\n      <td>0.000000</td>\n      <td>0</td>\n      <td>951</td>\n      <td>0.0</td>\n      <td>0.000000</td>\n      <td>0.0</td>\n      <td>0.0</td>\n    </tr>\n  </tbody>\n</table>\n<p>35753 rows × 14 columns</p>\n</div>"
     },
     "execution_count": 14,
     "metadata": {},
     "output_type": "execute_result"
    }
   ],
   "source": [
    "import numpy as np\n",
    "\n",
    "# Suppress warnings\n",
    "pd.options.mode.chained_assignment = None\n",
    "\n",
    "city_id = city_df.city_id.unique()\n",
    "\n",
    "for i in city_id:\n",
    "    temp_df = city_df[city_df.city_id == i]\n",
    "    temp_df['daily_cases'] = temp_df['confirmed_cases'].diff().fillna(0)\n",
    "    temp_df['rate'] = temp_df['confirmed_cases'].pct_change().fillna(0)\n",
    "    temp_df['rate7day'] = temp_df['rate'].rolling(window=7).mean().fillna(0)\n",
    "    temp_df['ratio7day'] = (temp_df.rate / temp_df.rate7day).fillna(0)\n",
    "    temp_df = temp_df.replace(np.inf, 0)\n",
    "    temp_df = temp_df.replace(-np.inf, 0)\n",
    "    if i == 0:\n",
    "        new_df = temp_df\n",
    "    else:\n",
    "        new_df = pd.concat([new_df, temp_df])\n",
    "new_df"
   ],
   "metadata": {
    "collapsed": false,
    "pycharm": {
     "name": "#%%\n"
    }
   }
  },
  {
   "cell_type": "code",
   "execution_count": 15,
   "outputs": [],
   "source": [
    "import os\n",
    "new_df.to_csv(os.path.join(\"output\", \"city_data.csv\"), index=False)\n"
   ],
   "metadata": {
    "collapsed": false,
    "pycharm": {
     "name": "#%%\n"
    }
   }
  }
 ],
 "metadata": {
  "kernelspec": {
   "display_name": "Python 3",
   "language": "python",
   "name": "python3"
  },
  "language_info": {
   "codemirror_mode": {
    "name": "ipython",
    "version": 2
   },
   "file_extension": ".py",
   "mimetype": "text/x-python",
   "name": "python",
   "nbconvert_exporter": "python",
   "pygments_lexer": "ipython2",
   "version": "2.7.6"
  }
 },
 "nbformat": 4,
 "nbformat_minor": 0
}
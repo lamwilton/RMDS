{
 "cells": [
  {
   "cell_type": "markdown",
   "metadata": {
    "collapsed": true,
    "pycharm": {
     "name": "#%% md\n"
    }
   },
   "source": [
    "# SafeGraph foot traffic data processing (batch version)\n",
    "Outputs foot_traffic_time_series.csv, time series data of number of daily visits of each place\n",
    "Also information about each place in places_info.csv\n",
    "\n",
    "Requires Spark and pandas\n",
    "\n",
    "SafeGraph information about their data:\n",
    "https://docs.google.com/spreadsheets/u/1/d/1UNWvPzkUTTlXBZ6M6iGhM_7sr8h-MxsZdE7iOszkAmk/htmlview#"
   ]
  },
  {
   "cell_type": "markdown",
   "source": [
    "Open latest weeks file and filter out zip codes according to Zip_Codes__LA_County_.txt"
   ],
   "metadata": {
    "collapsed": false,
    "pycharm": {
     "name": "#%% md\n"
    }
   }
  },
  {
   "cell_type": "code",
   "execution_count": 39,
   "outputs": [
    {
     "name": "stdout",
     "output_type": "stream",
     "text": [
      "+--------------------+--------------------+--------------------+-----------------+------+-----------+----------------+--------------------+---------------+--------------------+--------------------+----------------+------------------+--------------------+--------------------+------------+--------------------+--------------------+-------------------------+--------------------+--------------------+--------------------+----------------------+-----------------------+--------------------+\n",
      "|  safegraph_place_id|       location_name|      street_address|             city|region|postal_code|iso_country_code| safegraph_brand_ids|         brands|    date_range_start|      date_range_end|raw_visit_counts|raw_visitor_counts|       visits_by_day| visits_by_each_hour|     poi_cbg|   visitor_home_cbgs|visitor_daytime_cbgs|visitor_country_of_origin|  distance_from_home|        median_dwell|bucketed_dwell_times|related_same_day_brand|related_same_week_brand|         device_type|\n",
      "+--------------------+--------------------+--------------------+-----------------+------+-----------+----------------+--------------------+---------------+--------------------+--------------------+----------------+------------------+--------------------+--------------------+------------+--------------------+--------------------+-------------------------+--------------------+--------------------+--------------------+----------------------+-----------------------+--------------------+\n",
      "|sg:0327ad5802114d...|Life Science Outs...|   830 Challenger St|             Brea|    CA|      92821|              US|                null|           null|2020-05-11T00:00:...|2020-05-18T00:00:...|              56|                16| [11,13,10,11,8,1,2]|[0,0,0,0,0,0,5,1,...|060590015012|\"{\"\"060374053024\"\":4|  \"\"060375545151\"\":4|     \"\"060591104023\"\":4}\"|\"{\"\"060590015012\"...|       \"{\"\"US\"\":18}\"|               16856|                 230.5|             \"{\"\"<5\"\":0|          \"\"5-20\"\":6|\n",
      "|sg:03eaa2b5b78646...|       El Pollo Inka|15400 Hawthorne Blvd|         Lawndale|    CA|      90260|              US|SG_BRAND_713a6a36...|  El Pollo Inka|2020-05-11T00:00:...|2020-05-18T00:00:...|              34|                29|    [2,2,5,4,5,11,5]|[0,0,0,0,0,0,0,0,...|060376038022|\"{\"\"060376506023\"\":5|  \"\"060376020021\"\":4|       \"\"060376040013\"\":4|  \"\"060373007014\"\":4|\"\"060376039006\"\":4}\"|\"{\"\"060376212011\"\":5|    \"\"060379800281\"\":4|     \"\"060376039006\"\":4|\"\"060376025051\"\":4}\"|\n",
      "|sg:043e398a8ff240...|           Pizza Hut|    1173 W Carson St|         Torrance|    CA|      90502|              US|SG_BRAND_1f2a4b73...|      Pizza Hut|2020-05-11T00:00:...|2020-05-18T00:00:...|              21|                21|     [0,4,4,2,3,2,6]|[0,0,0,0,0,0,0,0,...|060375435032|\"{\"\"060375435031\"\":5|  \"\"060375436021\"\":4|       \"\"060375435023\"\":4|  \"\"060372932011\"\":4|  \"\"060371433002\"\":4|\"\"060375436032\"\":4}\"|  \"{\"\"060371433002\"\":8|   \"\"060375435032\"\":4}\"|       \"{\"\"US\"\":20}\"|\n",
      "|sg:0502c14eeaac4a...|            T-Mobile| 101 E Huntington Dr|          Arcadia|    CA|      91006|              US|SG_BRAND_4b82356d...|       T-Mobile|2020-05-11T00:00:...|2020-05-18T00:00:...|               2|                 1|     [0,1,1,0,0,0,0]|[0,0,0,0,0,0,0,0,...|060374308011|                  {}|                  {}|             \"{\"\"US\"\":4}\"|                null|               290.0|          \"{\"\"<5\"\":0|            \"\"5-20\"\":0|            \"\"21-60\"\":0|        \"\"61-240\"\":0|\n",
      "|sg:05e114ea81c04f...|          McDonald's|4947 Huntington Dr N|      Los Angeles|    CA|      90032|              US|SG_BRAND_5179b21f...|     McDonald's|2020-05-11T00:00:...|2020-05-18T00:00:...|              96|                82|[17,11,16,14,10,1...|[0,0,0,1,0,0,2,1,...|060372012001|\"{\"\"060372014012\"\":8|  \"\"060372014011\"\":8|       \"\"060372015041\"\":5|  \"\"060372015031\"\":5|  \"\"060375355012\"\":4|  \"\"060710013122\"\":4|    \"\"060372013012\"\":4|     \"\"060374601003\"\":4|  \"\"060372011201\"\":4|\n",
      "|sg:06420245d43f4b...|All Canyon Applia...|23254 Redbud Ridg...|         Valencia|    CA|      91354|              US|                null|           null|2020-05-11T00:00:...|2020-05-18T00:00:...|               7|                 5|     [1,2,0,1,0,2,1]|[0,0,0,0,0,0,0,0,...|060379201112|                  {}|                  {}|             \"{\"\"US\"\":4}\"|                null|                30.0|          \"{\"\"<5\"\":0|            \"\"5-20\"\":3|            \"\"21-60\"\":1|        \"\"61-240\"\":0|\n",
      "|sg:088bb50e99ae44...|          Av Flowers|434 E Rancho Vist...|         Palmdale|    CA|      93550|              US|                null|           null|2020-05-11T00:00:...|2020-05-18T00:00:...|              41|                34|    [1,8,11,5,6,9,1]|[0,0,0,0,0,0,0,0,...|060379102012|\"{\"\"060379005071\"\":4|  \"\"060374625003\"\":4|       \"\"060379006091\"\":4|  \"\"060379007032\"\":4|  \"\"060379107151\"\":4|  \"\"060379203262\"\":4|    \"\"060379107052\"\":4|   \"\"060379010072\"\":4}\"|\"{\"\"060371974201\"\":4|\n",
      "|sg:08e842e0a28642...|       Diamond Ridge| 1385 E Gladstone St|         Glendora|    CA|      91740|              US|                null|           null|2020-05-11T00:00:...|2020-05-18T00:00:...|            3995|              2661|[466,517,508,537,...|[1,0,0,0,0,4,3,9,...|060374012022|\"{\"\"060374013122\"...| \"\"060374002072\"\":36|      \"\"060374013111\"\":36| \"\"060374002041\"\":35| \"\"060374004022\"\":34| \"\"060374004043\"\":33|   \"\"060374003041\"\":32|    \"\"060374012032\"\":31| \"\"060374004041\"\":31|\n",
      "|sg:09503ad6209a48...|     Big Lots Stores| 9020 Firestone Blvd|           Downey|    CA|      90241|              US|SG_BRAND_c4d65e0c...|Big Lots Stores|2020-05-11T00:00:...|2020-05-18T00:00:...|              69|                63|    [6,7,8,8,8,23,9]|[0,0,0,0,0,0,0,1,...|060375511022|\"{\"\"060375360002\"\":4|  \"\"060375503003\"\":4|       \"\"060375339014\"\":4|  \"\"060375405011\"\":4|  \"\"060374049012\"\":4|  \"\"060375342022\"\":4|    \"\"060375505003\"\":4|     \"\"060375520012\"\":4|  \"\"060375537011\"\":4|\n",
      "|sg:0aef1772c90b45...|   Mobile Fleet Wash|511 S Harbor Blvd...|         La Habra|    CA|      90631|              US|                null|           null|2020-05-11T00:00:...|2020-05-18T00:00:...|               2|                 1|     [0,0,1,0,1,0,0]|[0,0,0,0,0,0,0,0,...|060590014043|\"{\"\"060590014021\"...|                  {}|             \"{\"\"US\"\":4}\"|                null|                57.0|          \"{\"\"<5\"\":0|            \"\"5-20\"\":0|            \"\"21-60\"\":1|        \"\"61-240\"\":1|\n",
      "|sg:0af5cecfb08847...|     Auto Zen Broker| 21151 S Western Ave|         Torrance|    CA|      90501|              US|                null|           null|2020-05-11T00:00:...|2020-05-18T00:00:...|              16|                 9|     [0,3,3,4,3,2,1]|[0,0,0,0,0,0,0,0,...|060372932013|\"{\"\"060730173042\"...|\"{\"\"060372264203\"\":9|       \"\"060372920002\"\":4|\"\"060375545111\"\":4}\"|        \"{\"\"US\"\":6}\"|                3821|                  89.5|             \"{\"\"<5\"\":0|          \"\"5-20\"\":3|\n",
      "|sg:0b57167bb68146...|Iglesia Cantico N...|     44939 10th St W|        Lancaster|    CA|      93534|              US|                null|           null|2020-05-11T00:00:...|2020-05-18T00:00:...|               9|                 3|     [2,2,2,1,2,0,0]|[0,0,0,0,0,0,0,0,...|060379008053|\"{\"\"060379005062\"...|                  {}|             \"{\"\"US\"\":4}\"|                null|               465.0|          \"{\"\"<5\"\":0|            \"\"5-20\"\":0|            \"\"21-60\"\":0|        \"\"61-240\"\":0|\n",
      "|sg:0c8a94a3dc0a4b...|The Church of Jes...|       1702 Pearl St|     Santa Monica|    CA|      90405|              US|                null|           null|2020-05-11T00:00:...|2020-05-18T00:00:...|              13|                 8|     [3,1,1,4,2,0,2]|[0,0,0,0,0,0,0,1,...|060377022011|                  {}|                  {}|             \"{\"\"US\"\":7}\"|               27064|                53.0|          \"{\"\"<5\"\":0|            \"\"5-20\"\":3|            \"\"21-60\"\":5|        \"\"61-240\"\":3|\n",
      "|sg:0d39eba90d794a...| Sweet Rose Creamery|970 Monument St S...|Pacific Palisades|    CA|      90272|              US|                null|           null|2020-05-11T00:00:...|2020-05-18T00:00:...|              14|                13|     [3,1,4,2,1,3,0]|[0,0,0,0,0,0,0,0,...|060372625012|\"{\"\"060372211202\"...|\"{\"\"060372716003\"\":4|       \"\"060372626011\"\":4|  \"\"060376012111\"\":4|\"\"060379201071\"\":4}\"|       \"{\"\"US\"\":13}\"|                  8936|                    8.5|          \"{\"\"<5\"\":1|\n",
      "|sg:0ee32c6bd1444f...|     Go Get Em Tiger|230 N Larchmont Blvd|      Los Angeles|    CA|      90004|              US|                null|           null|2020-05-11T00:00:...|2020-05-18T00:00:...|               9|                 8|     [2,4,0,1,1,0,1]|[0,0,0,0,0,0,0,0,...|060372110001|\"{\"\"060371923003\"\":4|  \"\"060372126101\"\":4|     \"\"060371910003\"\":4}\"|\"{\"\"060372126101\"\":4|  \"\"060371923003\"\":4|\"\"060372110003\"\":4}\"|          \"{\"\"US\"\":8}\"|                   2086|                10.0|\n",
      "|sg:0f41c833a6e244...| Bloomfield Creamery|  1427 Westwood Blvd|      Los Angeles|    CA|      90024|              US|                null|           null|2020-05-11T00:00:...|2020-05-18T00:00:...|               2|                 2|     [1,0,0,0,0,0,1]|[0,0,0,0,0,0,0,0,...|060372655102|                  {}|                  {}|             \"{\"\"US\"\":4}\"|                null|                 9.5|          \"{\"\"<5\"\":0|            \"\"5-20\"\":2|            \"\"21-60\"\":0|        \"\"61-240\"\":0|\n",
      "|sg:10100a54039343...|LA Tax and Bookke...| 2641 W Beverly Blvd|       Montebello|    CA|      90640|              US|                null|           null|2020-05-11T00:00:...|2020-05-18T00:00:...|               2|                 2|     [2,0,0,0,0,0,0]|[0,0,0,0,0,0,0,0,...|060375302041|                  {}|                  {}|                       {}|                null|                81.5|          \"{\"\"<5\"\":1|            \"\"5-20\"\":0|            \"\"21-60\"\":0|        \"\"61-240\"\":1|\n",
      "|sg:114c164314b04b...|                YMCA|12510 Hadley St Fl 2|         Whittier|    CA|      90601|              US|SG_BRAND_8c40d09d...|           YMCA|2020-05-11T00:00:...|2020-05-18T00:00:...|              15|                 8|     [2,1,0,2,4,2,4]|[0,0,0,0,0,0,0,0,...|060375014002|\"{\"\"060375012001\"...|\"{\"\"060375012001\"...|             \"{\"\"US\"\":5}\"|                2607|                95.0|          \"{\"\"<5\"\":0|            \"\"5-20\"\":2|            \"\"21-60\"\":5|        \"\"61-240\"\":6|\n",
      "|sg:12847410edfd46...|Desolate Motorsports| 12741 Los Nietos Rd| Santa Fe Springs|    CA|      90670|              US|                null|           null|2020-05-11T00:00:...|2020-05-18T00:00:...|              22|                10|     [4,7,4,3,4,0,0]|[0,0,0,0,0,0,1,2,...|060375029021|                  {}|\"{\"\"060375326052\"...|            \"{\"\"US\"\":10}\"|               24849|               173.0|          \"{\"\"<5\"\":0|            \"\"5-20\"\":3|            \"\"21-60\"\":1|       \"\"61-240\"\":12|\n",
      "|sg:137e41754b6944...|          State Farm|  15632 Youngwood Dr|         Whittier|    CA|      90603|              US|SG_BRAND_1eeccf35...|     State Farm|2020-05-11T00:00:...|2020-05-18T00:00:...|               7|                 6|     [1,0,0,0,2,0,4]|[0,0,0,0,0,0,0,0,...|060375002021|\"{\"\"060590878011\"...|\"{\"\"060590878011\"...|             \"{\"\"US\"\":5}\"|               15981|                36.0|          \"{\"\"<5\"\":0|            \"\"5-20\"\":3|            \"\"21-60\"\":2|        \"\"61-240\"\":1|\n",
      "+--------------------+--------------------+--------------------+-----------------+------+-----------+----------------+--------------------+---------------+--------------------+--------------------+----------------+------------------+--------------------+--------------------+------------+--------------------+--------------------+-------------------------+--------------------+--------------------+--------------------+----------------------+-----------------------+--------------------+\n",
      "only showing top 20 rows\n",
      "\n"
     ]
    }
   ],
   "source": [
    "from pyspark.sql import SparkSession\n",
    "import os\n",
    "import pandas as pd\n",
    "import time\n",
    "\n",
    "ss = SparkSession \\\n",
    "    .builder \\\n",
    "    .appName(\"Foot_Traffic\") \\\n",
    "    .config(\"spark.master\", \"local[12]\") \\\n",
    "    .getOrCreate()\n",
    "\n",
    "start_time = time.time()\n",
    "file = \"2020-05-11-weekly-patterns.csv\"\n",
    "main_df = ss.read.csv(file, header=True)\n",
    "\n",
    "with open(\"Zip_Codes__LA_County_.txt\") as file:\n",
    "    zip_codes = file.read().splitlines()\n",
    "main_df = main_df.filter(main_df.postal_code.isin(zip_codes))\n",
    "main_df.show()"
   ],
   "metadata": {
    "collapsed": false,
    "pycharm": {
     "name": "#%%\n"
    }
   }
  },
  {
   "cell_type": "markdown",
   "source": [
    "Selecting the columns of interest"
   ],
   "metadata": {
    "collapsed": false
   }
  },
  {
   "cell_type": "code",
   "execution_count": 40,
   "outputs": [
    {
     "name": "stdout",
     "output_type": "stream",
     "text": [
      "+--------------------+--------------------+\n",
      "|  safegraph_place_id|       visits_by_day|\n",
      "+--------------------+--------------------+\n",
      "|sg:0327ad5802114d...| [11,13,10,11,8,1,2]|\n",
      "|sg:03eaa2b5b78646...|    [2,2,5,4,5,11,5]|\n",
      "|sg:043e398a8ff240...|     [0,4,4,2,3,2,6]|\n",
      "|sg:0502c14eeaac4a...|     [0,1,1,0,0,0,0]|\n",
      "|sg:05e114ea81c04f...|[17,11,16,14,10,1...|\n",
      "|sg:06420245d43f4b...|     [1,2,0,1,0,2,1]|\n",
      "|sg:088bb50e99ae44...|    [1,8,11,5,6,9,1]|\n",
      "|sg:08e842e0a28642...|[466,517,508,537,...|\n",
      "|sg:09503ad6209a48...|    [6,7,8,8,8,23,9]|\n",
      "|sg:0aef1772c90b45...|     [0,0,1,0,1,0,0]|\n",
      "|sg:0af5cecfb08847...|     [0,3,3,4,3,2,1]|\n",
      "|sg:0b57167bb68146...|     [2,2,2,1,2,0,0]|\n",
      "|sg:0c8a94a3dc0a4b...|     [3,1,1,4,2,0,2]|\n",
      "|sg:0d39eba90d794a...|     [3,1,4,2,1,3,0]|\n",
      "|sg:0ee32c6bd1444f...|     [2,4,0,1,1,0,1]|\n",
      "|sg:0f41c833a6e244...|     [1,0,0,0,0,0,1]|\n",
      "|sg:10100a54039343...|     [2,0,0,0,0,0,0]|\n",
      "|sg:114c164314b04b...|     [2,1,0,2,4,2,4]|\n",
      "|sg:12847410edfd46...|     [4,7,4,3,4,0,0]|\n",
      "|sg:137e41754b6944...|     [1,0,0,0,2,0,4]|\n",
      "+--------------------+--------------------+\n",
      "only showing top 20 rows\n",
      "\n"
     ]
    }
   ],
   "source": [
    "main_df = main_df.select('safegraph_place_id', 'location_name', 'street_address', 'city', 'postal_code',\n",
    "                         'safegraph_brand_ids', 'brands',\n",
    "                         'raw_visit_counts', 'raw_visitor_counts', 'visits_by_day',\n",
    "                         'median_dwell')\n",
    "this_week_df = main_df.select('safegraph_place_id', 'visits_by_day')\n",
    "this_week_df.show()"
   ],
   "metadata": {
    "collapsed": false,
    "pycharm": {
     "name": "#%%\n"
    }
   }
  },
  {
   "cell_type": "markdown",
   "source": [
    "Drop visits_by_day from main_df and output csv"
   ],
   "metadata": {
    "collapsed": false
   }
  },
  {
   "cell_type": "code",
   "execution_count": 41,
   "outputs": [],
   "source": [
    "main_df = main_df.select('safegraph_place_id', 'location_name', 'street_address', 'city', 'postal_code',\n",
    "                         'raw_visit_counts', 'raw_visitor_counts', 'median_dwell')\n",
    "main_df_pd = main_df.toPandas()\n",
    "main_df_pd.to_csv(os.path.join(\"output\", \"places_info.csv\"), index=False)"
   ],
   "metadata": {
    "collapsed": false,
    "pycharm": {
     "name": "#%%\n"
    }
   }
  },
  {
   "cell_type": "markdown",
   "source": [
    "Method to Join last weeks data to current. Loop this for every weekly file"
   ],
   "metadata": {
    "collapsed": false,
    "pycharm": {
     "name": "#%% md\n"
    }
   }
  },
  {
   "cell_type": "code",
   "execution_count": 42,
   "outputs": [],
   "source": [
    "def join_last_week_data(last_week_file, this_week_df, zip_codes):\n",
    "    last_week_df = ss.read.csv(last_week_file, header=True)\n",
    "    last_week_df = last_week_df.filter(last_week_df.postal_code.isin(zip_codes)) \\\n",
    "        .select('safegraph_place_id', 'visits_by_day')\n",
    "    this_week_df = this_week_df.withColumnRenamed(\"visits_by_day\", \"visits_by_day_current\")\n",
    "    this_week_df = this_week_df.join(last_week_df, how='inner', on='safegraph_place_id')\n",
    "    this_week_df = this_week_df.rdd \\\n",
    "    .map(lambda x: (x['safegraph_place_id'], (x['visits_by_day'] + x['visits_by_day_current']).replace(\"][\", \",\"))) \\\n",
    "    .toDF([\"safegraph_place_id\", \"visits_by_day_current\"])\n",
    "    return this_week_df"
   ],
   "metadata": {
    "collapsed": false,
    "pycharm": {
     "name": "#%%\n"
    }
   }
  },
  {
   "cell_type": "code",
   "execution_count": 43,
   "outputs": [
    {
     "name": "stdout",
     "output_type": "stream",
     "text": [
      "+--------------------+---------------------+\n",
      "|  safegraph_place_id|visits_by_day_current|\n",
      "+--------------------+---------------------+\n",
      "|sg:0021c44e821f44...| [0,2,1,0,2,0,4,0,...|\n",
      "|sg:004b49c8b2284f...| [12,11,10,15,13,1...|\n",
      "|sg:01088372d88548...| [4,1,3,3,5,3,0,6,...|\n",
      "|sg:01be247ce34947...| [6,7,4,4,4,8,6,2,...|\n",
      "|sg:0330311d595045...| [1,0,0,0,0,0,0,1,...|\n",
      "|sg:03ab170d4e5d41...| [3,0,2,6,2,4,3,6,...|\n",
      "|sg:045d96f96f6f47...| [2,2,7,2,8,3,2,4,...|\n",
      "|sg:0478e10e2fbb48...| [0,4,4,1,2,2,5,2,...|\n",
      "|sg:0557a1065b9047...| [0,0,1,0,0,0,2,0,...|\n",
      "|sg:05c00ab60e2444...| [2,3,2,3,3,9,2,3,...|\n",
      "|sg:060f291360734a...| [2,1,4,2,1,2,1,4,...|\n",
      "|sg:08c7eebee07b45...| [1,2,2,1,4,0,0,2,...|\n",
      "|sg:08efd9dac9cf42...| [3,0,1,1,2,1,0,0,...|\n",
      "|sg:090cf1c0f62e41...| [2,4,5,2,1,0,0,5,...|\n",
      "|sg:0a6571a06d7446...| [6,9,6,6,7,9,0,10...|\n",
      "|sg:0afb6633a4224e...| [1,2,0,0,0,0,0,0,...|\n",
      "|sg:0b448c58611749...| [4,3,5,4,6,7,15,5...|\n",
      "|sg:0c0b6d5f828a48...| [1,5,2,7,2,1,3,2,...|\n",
      "|sg:0c4e86749cd244...| [3,1,7,4,3,5,3,9,...|\n",
      "|sg:0c66f4fcf24742...| [2,5,0,2,2,1,4,3,...|\n",
      "+--------------------+---------------------+\n",
      "only showing top 20 rows\n",
      "\n"
     ]
    }
   ],
   "source": [
    "last_week_file_list = [\"2020-05-04-weekly-patterns.csv\", \"2020-04-27-weekly-patterns.csv\", \"2020-04-20-weekly-patterns.csv\"]\n",
    "for last_week_file in last_week_file_list:\n",
    "    this_week_df = join_last_week_data(last_week_file, this_week_df, zip_codes)\n",
    "this_week_df.show()"
   ],
   "metadata": {
    "collapsed": false,
    "pycharm": {
     "name": "#%%\n"
    }
   }
  },
  {
   "cell_type": "markdown",
   "source": [
    "Convert spark df to pandas, remove brackets and split columns by comma"
   ],
   "metadata": {
    "collapsed": false,
    "pycharm": {
     "name": "#%% md\n"
    }
   }
  },
  {
   "cell_type": "code",
   "execution_count": 44,
   "outputs": [],
   "source": [
    "traffic_df = this_week_df.toPandas()"
   ],
   "metadata": {
    "collapsed": false,
    "pycharm": {
     "name": "#%%\n"
    }
   }
  },
  {
   "cell_type": "code",
   "execution_count": 45,
   "outputs": [
    {
     "data": {
      "text/plain": "                          safegraph_place_id Day Visits\n0        sg:0021c44e821f44a2a33e8ebff6dfd951   0      0\n1        sg:004b49c8b2284f6494dab410fbc60508   0     12\n2        sg:01088372d8854814a713acef83c6e6b7   0      4\n3        sg:01be247ce34947dfa938f3fe9a8bf98d   0      6\n4        sg:0330311d595045eab8c25f1215f76970   0      1\n...                                      ...  ..    ...\n2751219  sg:fc8eea50d26f4dbdb5da6de5718d9e4d  27      1\n2751220  sg:fd2e05099ca544839156a4d979177192  27      2\n2751221  sg:fd5e17a3f62b4f0485e1958116a847c6  27      1\n2751222  sg:fd785b0ceb1d4a6d92abe0438100f952  27      0\n2751223  sg:fdc2158742de496283cfc61d7efa1ab3  27      2\n\n[2751224 rows x 3 columns]",
      "text/html": "<div>\n<style scoped>\n    .dataframe tbody tr th:only-of-type {\n        vertical-align: middle;\n    }\n\n    .dataframe tbody tr th {\n        vertical-align: top;\n    }\n\n    .dataframe thead th {\n        text-align: right;\n    }\n</style>\n<table border=\"1\" class=\"dataframe\">\n  <thead>\n    <tr style=\"text-align: right;\">\n      <th></th>\n      <th>safegraph_place_id</th>\n      <th>Day</th>\n      <th>Visits</th>\n    </tr>\n  </thead>\n  <tbody>\n    <tr>\n      <th>0</th>\n      <td>sg:0021c44e821f44a2a33e8ebff6dfd951</td>\n      <td>0</td>\n      <td>0</td>\n    </tr>\n    <tr>\n      <th>1</th>\n      <td>sg:004b49c8b2284f6494dab410fbc60508</td>\n      <td>0</td>\n      <td>12</td>\n    </tr>\n    <tr>\n      <th>2</th>\n      <td>sg:01088372d8854814a713acef83c6e6b7</td>\n      <td>0</td>\n      <td>4</td>\n    </tr>\n    <tr>\n      <th>3</th>\n      <td>sg:01be247ce34947dfa938f3fe9a8bf98d</td>\n      <td>0</td>\n      <td>6</td>\n    </tr>\n    <tr>\n      <th>4</th>\n      <td>sg:0330311d595045eab8c25f1215f76970</td>\n      <td>0</td>\n      <td>1</td>\n    </tr>\n    <tr>\n      <th>...</th>\n      <td>...</td>\n      <td>...</td>\n      <td>...</td>\n    </tr>\n    <tr>\n      <th>2751219</th>\n      <td>sg:fc8eea50d26f4dbdb5da6de5718d9e4d</td>\n      <td>27</td>\n      <td>1</td>\n    </tr>\n    <tr>\n      <th>2751220</th>\n      <td>sg:fd2e05099ca544839156a4d979177192</td>\n      <td>27</td>\n      <td>2</td>\n    </tr>\n    <tr>\n      <th>2751221</th>\n      <td>sg:fd5e17a3f62b4f0485e1958116a847c6</td>\n      <td>27</td>\n      <td>1</td>\n    </tr>\n    <tr>\n      <th>2751222</th>\n      <td>sg:fd785b0ceb1d4a6d92abe0438100f952</td>\n      <td>27</td>\n      <td>0</td>\n    </tr>\n    <tr>\n      <th>2751223</th>\n      <td>sg:fdc2158742de496283cfc61d7efa1ab3</td>\n      <td>27</td>\n      <td>2</td>\n    </tr>\n  </tbody>\n</table>\n<p>2751224 rows × 3 columns</p>\n</div>"
     },
     "execution_count": 45,
     "metadata": {},
     "output_type": "execute_result"
    }
   ],
   "source": [
    "temp = traffic_df.visits_by_day_current.str.replace(\"[\\[\\]]\", \"\", regex=True).str.split(\",\", expand=True)\n",
    "traffic_df1 = pd.concat([traffic_df.safegraph_place_id, temp], axis=1)\n",
    "traffic_df1 = traffic_df1.melt(id_vars=\"safegraph_place_id\",\n",
    "        var_name=\"Day\",\n",
    "        value_name=\"Visits\")\n",
    "traffic_df1"
   ],
   "metadata": {
    "collapsed": false,
    "pycharm": {
     "name": "#%%\n"
    }
   }
  },
  {
   "cell_type": "code",
   "execution_count": 46,
   "outputs": [],
   "source": [
    "traffic_df1.to_csv(os.path.join(\"output\", \"foot_traffic_time_series.csv\"), index=False)"
   ],
   "metadata": {
    "collapsed": false,
    "pycharm": {
     "name": "#%%\n"
    }
   }
  },
  {
   "cell_type": "markdown",
   "source": [
    "Total Running time (s)"
   ],
   "metadata": {
    "collapsed": false,
    "pycharm": {
     "name": "#%% md\n"
    }
   }
  },
  {
   "cell_type": "code",
   "execution_count": 47,
   "outputs": [
    {
     "data": {
      "text/plain": "253.51200008392334"
     },
     "execution_count": 47,
     "metadata": {},
     "output_type": "execute_result"
    }
   ],
   "source": [
    "time.time() - start_time"
   ],
   "metadata": {
    "collapsed": false,
    "pycharm": {
     "name": "#%%\n"
    }
   }
  }
 ],
 "metadata": {
  "kernelspec": {
   "display_name": "Python 3",
   "language": "python",
   "name": "python3"
  },
  "language_info": {
   "codemirror_mode": {
    "name": "ipython",
    "version": 2
   },
   "file_extension": ".py",
   "mimetype": "text/x-python",
   "name": "python",
   "nbconvert_exporter": "python",
   "pygments_lexer": "ipython2",
   "version": "2.7.6"
  }
 },
 "nbformat": 4,
 "nbformat_minor": 0
}
{
 "cells": [
  {
   "cell_type": "markdown",
   "metadata": {
    "collapsed": true,
    "pycharm": {
     "name": "#%% md\n"
    }
   },
   "source": [
    "# SafeGraph foot traffic data processing (batch version)\n",
    "Outputs foot_traffic_time_series.csv, time series data of number of daily visits of each place\n",
    "Also information about each place in places_info.csv\n",
    "\n",
    "Requires Spark and pandas\n",
    "\n",
    "SafeGraph information about their data:\n",
    "https://docs.google.com/spreadsheets/u/1/d/1UNWvPzkUTTlXBZ6M6iGhM_7sr8h-MxsZdE7iOszkAmk/htmlview#"
   ]
  },
  {
   "cell_type": "markdown",
   "source": [
    "Open latest weeks file and filter out zip codes according to Zip_Codes__LA_County_.txt"
   ],
   "metadata": {
    "collapsed": false,
    "pycharm": {
     "name": "#%% md\n"
    }
   }
  },
  {
   "cell_type": "code",
   "execution_count": 40,
   "outputs": [
    {
     "name": "stdout",
     "output_type": "stream",
     "text": [
      "+--------------------+--------------------+--------------------+-----------------+------+-----------+----------------+--------------------+---------------+--------------------+--------------------+----------------+------------------+--------------------+--------------------+------------+--------------------+--------------------+-------------------------+--------------------+--------------------+--------------------+----------------------+-----------------------+--------------------+\n",
      "|  safegraph_place_id|       location_name|      street_address|             city|region|postal_code|iso_country_code| safegraph_brand_ids|         brands|    date_range_start|      date_range_end|raw_visit_counts|raw_visitor_counts|       visits_by_day| visits_by_each_hour|     poi_cbg|   visitor_home_cbgs|visitor_daytime_cbgs|visitor_country_of_origin|  distance_from_home|        median_dwell|bucketed_dwell_times|related_same_day_brand|related_same_week_brand|         device_type|\n",
      "+--------------------+--------------------+--------------------+-----------------+------+-----------+----------------+--------------------+---------------+--------------------+--------------------+----------------+------------------+--------------------+--------------------+------------+--------------------+--------------------+-------------------------+--------------------+--------------------+--------------------+----------------------+-----------------------+--------------------+\n",
      "|sg:0327ad5802114d...|Life Science Outs...|   830 Challenger St|             Brea|    CA|      92821|              US|                null|           null|2020-05-18T00:00:...|2020-05-25T00:00:...|              49|                18|  [10,12,9,13,5,0,0]|[0,0,0,0,0,0,4,0,...|060590015012|\"{\"\"060591102021\"\":5|  \"\"060590762013\"\":4|       \"\"060650420143\"\":4|\"\"060374053024\"\":4}\"|\"{\"\"060590015012\"...|       \"{\"\"US\"\":17}\"|                 17248|                  351.0|          \"{\"\"<5\"\":0|\n",
      "|sg:03eaa2b5b78646...|       El Pollo Inka|15400 Hawthorne Blvd|         Lawndale|    CA|      90260|              US|SG_BRAND_713a6a36...|  El Pollo Inka|2020-05-18T00:00:...|2020-05-25T00:00:...|              27|                24|     [1,3,5,4,1,6,7]|[0,0,0,0,0,0,0,0,...|060376038022|\"{\"\"060376011001\"\":5|  \"\"060376040023\"\":4|     \"\"060376038022\"\":4}\"|\"{\"\"060376011001\"\":5|  \"\"060376040012\"\":4|  \"\"060376506031\"\":4|    \"\"060376040023\"\":4|     \"\"060376037043\"\":4|  \"\"060375435032\"\":4|\n",
      "|sg:043e398a8ff240...|           Pizza Hut|    1173 W Carson St|         Torrance|    CA|      90502|              US|SG_BRAND_1f2a4b73...|      Pizza Hut|2020-05-18T00:00:...|2020-05-25T00:00:...|              18|                17|     [5,1,2,1,3,3,3]|[1,0,0,0,0,0,1,0,...|060375435032|\"{\"\"060376506051\"\":5|  \"\"060376704131\"\":4|       \"\"060375436022\"\":4|\"\"060375435032\"\":4}\"|\"{\"\"060375435032\"\":4|  \"\"060375435031\"\":4|    \"\"060375436042\"\":4|   \"\"060650309002\"\":4}\"|       \"{\"\"US\"\":17}\"|\n",
      "|sg:0502c14eeaac4a...|            T-Mobile| 101 E Huntington Dr|          Arcadia|    CA|      91006|              US|SG_BRAND_4b82356d...|       T-Mobile|2020-05-18T00:00:...|2020-05-25T00:00:...|               1|                 1|     [0,1,0,0,0,0,0]|[0,0,0,0,0,0,0,0,...|060374308011|\"{\"\"060374306004\"...|\"{\"\"060374306004\"...|                       {}|                null|               247.0|          \"{\"\"<5\"\":0|            \"\"5-20\"\":0|            \"\"21-60\"\":0|        \"\"61-240\"\":0|\n",
      "|sg:05e114ea81c04f...|          McDonald's|4947 Huntington Dr N|      Los Angeles|    CA|      90032|              US|SG_BRAND_5179b21f...|     McDonald's|2020-05-18T00:00:...|2020-05-25T00:00:...|              78|                61|[8,14,8,13,11,11,13]|[0,0,0,0,0,0,0,0,...|060372012001|\"{\"\"060372015031\"\":5|  \"\"060372015041\"\":5|       \"\"060372011201\"\":4|  \"\"060372014011\"\":4|  \"\"060372014012\"\":4|  \"\"060372013012\"\":4|    \"\"060371992012\"\":4|     \"\"060372014022\"\":4|  \"\"060372015032\"\":4|\n",
      "|sg:06420245d43f4b...|All Canyon Applia...|23254 Redbud Ridg...|         Valencia|    CA|      91354|              US|                null|           null|2020-05-18T00:00:...|2020-05-25T00:00:...|              11|                 6|     [3,4,1,1,0,2,0]|[0,0,0,0,0,0,0,0,...|060379201112|\"{\"\"060379203343\"...|                  {}|             \"{\"\"US\"\":4}\"|                null|                79.0|          \"{\"\"<5\"\":0|            \"\"5-20\"\":3|            \"\"21-60\"\":2|        \"\"61-240\"\":2|\n",
      "|sg:088bb50e99ae44...|          Av Flowers|434 E Rancho Vist...|         Palmdale|    CA|      93550|              US|                null|           null|2020-05-18T00:00:...|2020-05-25T00:00:...|              35|                34|    [11,6,3,5,6,1,3]|[0,0,0,0,0,0,0,0,...|060379102012|\"{\"\"060290058022\"\":4|  \"\"060379012051\"\":4|       \"\"060379106013\"\":4|  \"\"060379101011\"\":4|\"\"060379103011\"\":4}\"|\"{\"\"060379106013\"\":4|    \"\"060379107051\"\":4|     \"\"060379108052\"\":4|\"\"060379100021\"\":4}\"|\n",
      "|sg:08e842e0a28642...|       Diamond Ridge| 1385 E Gladstone St|         Glendora|    CA|      91740|              US|                null|           null|2020-05-18T00:00:...|2020-05-25T00:00:...|            4278|              2784|[495,595,622,588,...|[0,1,0,0,1,3,5,11...|060374012022|\"{\"\"060374013122\"...| \"\"060374013111\"\":42|      \"\"060374004022\"\":39| \"\"060374038023\"\":38| \"\"060374012032\"\":38| \"\"060374003041\"\":35|   \"\"060374012011\"\":33|    \"\"060374004041\"\":33| \"\"060374002072\"\":31|\n",
      "|sg:09503ad6209a48...|     Big Lots Stores| 9020 Firestone Blvd|           Downey|    CA|      90241|              US|SG_BRAND_c4d65e0c...|Big Lots Stores|2020-05-18T00:00:...|2020-05-25T00:00:...|              56|                52|   [6,8,8,3,6,14,11]|[0,0,0,0,0,0,0,0,...|060375511022|\"{\"\"060371993001\"\":5|  \"\"060375512021\"\":4|       \"\"060375514011\"\":4|  \"\"060375517004\"\":4|  \"\"060375514012\"\":4|  \"\"060375505001\"\":4|    \"\"060375510004\"\":4|     \"\"060375026011\"\":4|\"\"060375026012\"\":4}\"|\n",
      "|sg:0aef1772c90b45...|   Mobile Fleet Wash|511 S Harbor Blvd...|         La Habra|    CA|      90631|              US|                null|           null|2020-05-18T00:00:...|2020-05-25T00:00:...|               2|                 1|     [0,0,1,0,1,0,0]|[0,0,0,0,0,0,0,0,...|060590014043|                  {}|                  {}|                       {}|                null|                79.0|          \"{\"\"<5\"\":0|            \"\"5-20\"\":0|            \"\"21-60\"\":0|        \"\"61-240\"\":2|\n",
      "|sg:0af5cecfb08847...|     Auto Zen Broker| 21151 S Western Ave|         Torrance|    CA|      90501|              US|                null|           null|2020-05-18T00:00:...|2020-05-25T00:00:...|              14|                 8|     [2,5,0,1,2,1,3]|[0,0,0,0,0,0,0,0,...|060372932013|                  {}|\"{\"\"060372932013\"\":5|       \"\"060730173042\"\":4|  \"\"060376506041\"\":4|\"\"060375436021\"\":4}\"|        \"{\"\"US\"\":4}\"|                  5311|                   39.5|          \"{\"\"<5\"\":0|\n",
      "|sg:0b57167bb68146...|Iglesia Cantico N...|     44939 10th St W|        Lancaster|    CA|      93534|              US|                null|           null|2020-05-18T00:00:...|2020-05-25T00:00:...|              10|                 3|     [2,2,2,2,2,0,0]|[0,0,0,0,0,0,0,0,...|060379008053|                  {}|                  {}|             \"{\"\"US\"\":4}\"|                null|               470.5|          \"{\"\"<5\"\":0|            \"\"5-20\"\":0|            \"\"21-60\"\":0|        \"\"61-240\"\":0|\n",
      "|sg:0c8a94a3dc0a4b...|The Church of Jes...|       1702 Pearl St|     Santa Monica|    CA|      90405|              US|                null|           null|2020-05-18T00:00:...|2020-05-25T00:00:...|               9|                 6|     [2,2,3,0,0,2,0]|[0,0,0,0,0,0,0,0,...|060377022011|\"{\"\"060372760005\"\":4|\"\"060372698002\"\":4}\"|     \"{\"\"060377018022\"...|        \"{\"\"US\"\":4}\"|                7194|                84.0|            \"{\"\"<5\"\":0|             \"\"5-20\"\":1|         \"\"21-60\"\":3|\n",
      "|sg:0d39eba90d794a...| Sweet Rose Creamery|970 Monument St S...|Pacific Palisades|    CA|      90272|              US|                null|           null|2020-05-18T00:00:...|2020-05-25T00:00:...|               7|                 5|     [2,0,3,1,0,1,0]|[0,0,0,0,0,0,0,0,...|060372625012|\"{\"\"060373201001\"...|                  {}|             \"{\"\"US\"\":5}\"|               21952|                11.0|          \"{\"\"<5\"\":0|            \"\"5-20\"\":4|            \"\"21-60\"\":2|        \"\"61-240\"\":0|\n",
      "|sg:0ee32c6bd1444f...|     Go Get Em Tiger|230 N Larchmont Blvd|      Los Angeles|    CA|      90004|              US|                null|           null|2020-05-18T00:00:...|2020-05-25T00:00:...|               8|                 7|     [2,2,2,0,1,1,0]|[0,0,0,0,0,0,0,0,...|060372110001|                  {}|\"{\"\"060371919022\"...|             \"{\"\"US\"\":4}\"|                1275|                11.0|          \"{\"\"<5\"\":0|            \"\"5-20\"\":7|            \"\"21-60\"\":1|        \"\"61-240\"\":0|\n",
      "|sg:0f41c833a6e244...| Bloomfield Creamery|  1427 Westwood Blvd|      Los Angeles|    CA|      90024|              US|                null|           null|2020-05-18T00:00:...|2020-05-25T00:00:...|               9|                 8|     [2,2,0,1,2,0,2]|[0,0,0,0,0,0,0,0,...|060372655102|\"{\"\"060014229001\"...|\"{\"\"060373025031\"...|            \"{\"\"US\"\":12}\"|                8430|                22.0|          \"{\"\"<5\"\":0|            \"\"5-20\"\":4|            \"\"21-60\"\":1|        \"\"61-240\"\":1|\n",
      "|sg:10100a54039343...|LA Tax and Bookke...| 2641 W Beverly Blvd|       Montebello|    CA|      90640|              US|                null|           null|2020-05-18T00:00:...|2020-05-25T00:00:...|               1|                 1|     [0,0,0,0,1,0,0]|[0,0,0,0,0,0,0,0,...|060375302041|                  {}|                  {}|                       {}|                null|                21.0|          \"{\"\"<5\"\":0|            \"\"5-20\"\":0|            \"\"21-60\"\":1|        \"\"61-240\"\":0|\n",
      "|sg:114c164314b04b...|                YMCA|12510 Hadley St Fl 2|         Whittier|    CA|      90601|              US|SG_BRAND_8c40d09d...|           YMCA|2020-05-18T00:00:...|2020-05-25T00:00:...|              19|                12|    [10,1,3,0,4,1,0]|[0,0,0,0,0,0,0,0,...|060375014002|\"{\"\"060375010023\"\":4|\"\"060590014011\"\":4}\"|     \"{\"\"060375010023\"\":4|  \"\"060375014002\"\":4|\"\"060374053024\"\":4}\"|       \"{\"\"US\"\":11}\"|                  2641|                   20.0|          \"{\"\"<5\"\":0|\n",
      "|sg:12847410edfd46...|Desolate Motorsports| 12741 Los Nietos Rd| Santa Fe Springs|    CA|      90670|              US|                null|           null|2020-05-18T00:00:...|2020-05-25T00:00:...|              20|                13|     [3,9,2,2,2,2,0]|[0,0,0,0,0,0,0,2,...|060375029021|\"{\"\"060591106042\"\":4|\"\"060375547002\"\":4}\"|     \"{\"\"060375020053\"\":4|  \"\"060375037032\"\":4|  \"\"060375029021\"\":4|  \"\"060590219182\"\":4|  \"\"060590626102\"\":4}\"|           \"{\"\"US\"\":9}\"|               10406|\n",
      "|sg:137e41754b6944...|          State Farm|  15632 Youngwood Dr|         Whittier|    CA|      90603|              US|SG_BRAND_1eeccf35...|     State Farm|2020-05-18T00:00:...|2020-05-25T00:00:...|              19|                11|    [1,1,4,2,10,1,0]|[0,0,0,0,0,0,0,0,...|060375002021|\"{\"\"060375002021\"\":4|  \"\"060375012001\"\":4|       \"\"060375037031\"\":4|\"\"060590878011\"\":4}\"|\"{\"\"060375031061\"\":4|  \"\"060590878011\"\":4|  \"\"060375029012\"\":4}\"|          \"{\"\"US\"\":10}\"|                4809|\n",
      "+--------------------+--------------------+--------------------+-----------------+------+-----------+----------------+--------------------+---------------+--------------------+--------------------+----------------+------------------+--------------------+--------------------+------------+--------------------+--------------------+-------------------------+--------------------+--------------------+--------------------+----------------------+-----------------------+--------------------+\n",
      "only showing top 20 rows\n",
      "\n"
     ]
    }
   ],
   "source": [
    "from pyspark.sql import SparkSession\n",
    "import os\n",
    "import pandas as pd\n",
    "import time\n",
    "import datetime\n",
    "\n",
    "ss = SparkSession \\\n",
    "    .builder \\\n",
    "    .appName(\"Foot_Traffic\") \\\n",
    "    .config(\"spark.master\", \"local[12]\") \\\n",
    "    .getOrCreate()\n",
    "\n",
    "start_time = time.time()\n",
    "file = \"2020-05-18-weekly-patterns.csv\"\n",
    "main_df = ss.read.csv(file, header=True)\n",
    "\n",
    "with open(\"Zip_Codes__LA_County_.txt\") as file:\n",
    "    zip_codes = file.read().splitlines()\n",
    "main_df = main_df.filter(main_df.postal_code.isin(zip_codes)).persist()\n",
    "main_df.show()"
   ],
   "metadata": {
    "collapsed": false,
    "pycharm": {
     "name": "#%%\n"
    }
   }
  },
  {
   "cell_type": "markdown",
   "source": [
    "Selecting the columns of interest\n",
    "Drop visits_by_day from main_df and output csv"
   ],
   "metadata": {
    "collapsed": false
   }
  },
  {
   "cell_type": "code",
   "execution_count": 41,
   "outputs": [
    {
     "name": "stdout",
     "output_type": "stream",
     "text": [
      "+--------------------+--------------------+\n",
      "|  safegraph_place_id|       visits_by_day|\n",
      "+--------------------+--------------------+\n",
      "|sg:0327ad5802114d...|  [10,12,9,13,5,0,0]|\n",
      "|sg:03eaa2b5b78646...|     [1,3,5,4,1,6,7]|\n",
      "|sg:043e398a8ff240...|     [5,1,2,1,3,3,3]|\n",
      "|sg:0502c14eeaac4a...|     [0,1,0,0,0,0,0]|\n",
      "|sg:05e114ea81c04f...|[8,14,8,13,11,11,13]|\n",
      "|sg:06420245d43f4b...|     [3,4,1,1,0,2,0]|\n",
      "|sg:088bb50e99ae44...|    [11,6,3,5,6,1,3]|\n",
      "|sg:08e842e0a28642...|[495,595,622,588,...|\n",
      "|sg:09503ad6209a48...|   [6,8,8,3,6,14,11]|\n",
      "|sg:0aef1772c90b45...|     [0,0,1,0,1,0,0]|\n",
      "|sg:0af5cecfb08847...|     [2,5,0,1,2,1,3]|\n",
      "|sg:0b57167bb68146...|     [2,2,2,2,2,0,0]|\n",
      "|sg:0c8a94a3dc0a4b...|     [2,2,3,0,0,2,0]|\n",
      "|sg:0d39eba90d794a...|     [2,0,3,1,0,1,0]|\n",
      "|sg:0ee32c6bd1444f...|     [2,2,2,0,1,1,0]|\n",
      "|sg:0f41c833a6e244...|     [2,2,0,1,2,0,2]|\n",
      "|sg:10100a54039343...|     [0,0,0,0,1,0,0]|\n",
      "|sg:114c164314b04b...|    [10,1,3,0,4,1,0]|\n",
      "|sg:12847410edfd46...|     [3,9,2,2,2,2,0]|\n",
      "|sg:137e41754b6944...|    [1,1,4,2,10,1,0]|\n",
      "+--------------------+--------------------+\n",
      "only showing top 20 rows\n",
      "\n"
     ]
    }
   ],
   "source": [
    "this_week_df = main_df.select('safegraph_place_id', 'visits_by_day').persist()\n",
    "this_week_df.show()"
   ],
   "metadata": {
    "collapsed": false,
    "pycharm": {
     "name": "#%%\n"
    }
   }
  },
  {
   "cell_type": "markdown",
   "source": [
    "Method to Join last weeks data to current. Loop this for every weekly file"
   ],
   "metadata": {
    "collapsed": false,
    "pycharm": {
     "name": "#%% md\n"
    }
   }
  },
  {
   "cell_type": "code",
   "execution_count": 42,
   "outputs": [],
   "source": [
    "def join_last_week_data(last_week_file, this_week_df, zip_codes):\n",
    "    last_week_df = ss.read.csv(last_week_file, header=True)\n",
    "    last_week_df = last_week_df.filter(last_week_df.postal_code.isin(zip_codes)) \\\n",
    "        .select('safegraph_place_id', 'visits_by_day')\n",
    "    this_week_df = this_week_df.withColumnRenamed(\"visits_by_day\", \"visits_by_day_current\")\n",
    "    this_week_df = this_week_df.join(last_week_df, how='inner', on='safegraph_place_id')\n",
    "    this_week_df = this_week_df.rdd \\\n",
    "    .map(lambda x: (x['safegraph_place_id'], (x['visits_by_day'] + x['visits_by_day_current']).replace(\"][\", \",\"))) \\\n",
    "    .toDF([\"safegraph_place_id\", \"visits_by_day_current\"])\n",
    "    return this_week_df"
   ],
   "metadata": {
    "collapsed": false,
    "pycharm": {
     "name": "#%%\n"
    }
   }
  },
  {
   "cell_type": "code",
   "execution_count": 43,
   "outputs": [
    {
     "name": "stdout",
     "output_type": "stream",
     "text": [
      "+--------------------+---------------------+\n",
      "|  safegraph_place_id|visits_by_day_current|\n",
      "+--------------------+---------------------+\n",
      "|sg:0021c44e821f44...| [0,2,1,0,2,0,4,0,...|\n",
      "|sg:004b49c8b2284f...| [12,11,10,15,13,1...|\n",
      "|sg:01088372d88548...| [4,1,3,3,5,3,0,6,...|\n",
      "|sg:01be247ce34947...| [6,7,4,4,4,8,6,2,...|\n",
      "|sg:0330311d595045...| [1,0,0,0,0,0,0,1,...|\n",
      "|sg:03ab170d4e5d41...| [3,0,2,6,2,4,3,6,...|\n",
      "|sg:045d96f96f6f47...| [2,2,7,2,8,3,2,4,...|\n",
      "|sg:0478e10e2fbb48...| [0,4,4,1,2,2,5,2,...|\n",
      "|sg:0557a1065b9047...| [0,0,1,0,0,0,2,0,...|\n",
      "|sg:05c00ab60e2444...| [2,3,2,3,3,9,2,3,...|\n",
      "|sg:060f291360734a...| [2,1,4,2,1,2,1,4,...|\n",
      "|sg:08c7eebee07b45...| [1,2,2,1,4,0,0,2,...|\n",
      "|sg:08efd9dac9cf42...| [3,0,1,1,2,1,0,0,...|\n",
      "|sg:090cf1c0f62e41...| [2,4,5,2,1,0,0,5,...|\n",
      "|sg:0a6571a06d7446...| [6,9,6,6,7,9,0,10...|\n",
      "|sg:0afb6633a4224e...| [1,2,0,0,0,0,0,0,...|\n",
      "|sg:0b448c58611749...| [4,3,5,4,6,7,15,5...|\n",
      "|sg:0c0b6d5f828a48...| [1,5,2,7,2,1,3,2,...|\n",
      "|sg:0c4e86749cd244...| [3,1,7,4,3,5,3,9,...|\n",
      "|sg:0c66f4fcf24742...| [2,5,0,2,2,1,4,3,...|\n",
      "+--------------------+---------------------+\n",
      "only showing top 20 rows\n",
      "\n"
     ]
    }
   ],
   "source": [
    "last_week_file_list = [\"2020-05-11-weekly-patterns.csv\", \"2020-05-04-weekly-patterns.csv\", \"2020-04-27-weekly-patterns.csv\", \"2020-04-20-weekly-patterns.csv\"]\n",
    "for last_week_file in last_week_file_list:\n",
    "    this_week_df = join_last_week_data(last_week_file, this_week_df, zip_codes).persist()\n",
    "this_week_df.show()"
   ],
   "metadata": {
    "collapsed": false,
    "pycharm": {
     "name": "#%%\n"
    }
   }
  },
  {
   "cell_type": "markdown",
   "source": [
    "Convert spark df to pandas, remove brackets and split columns by comma"
   ],
   "metadata": {
    "collapsed": false,
    "pycharm": {
     "name": "#%% md\n"
    }
   }
  },
  {
   "cell_type": "code",
   "execution_count": 44,
   "outputs": [],
   "source": [
    "traffic_df = this_week_df.toPandas()"
   ],
   "metadata": {
    "collapsed": false,
    "pycharm": {
     "name": "#%%\n"
    }
   }
  },
  {
   "cell_type": "code",
   "execution_count": 45,
   "outputs": [
    {
     "data": {
      "text/plain": "                          safegraph_place_id         Day Visits\n0        sg:0021c44e821f44a2a33e8ebff6dfd951  04/20/2020      0\n1        sg:004b49c8b2284f6494dab410fbc60508  04/20/2020     12\n2        sg:01088372d8854814a713acef83c6e6b7  04/20/2020      4\n3        sg:01be247ce34947dfa938f3fe9a8bf98d  04/20/2020      6\n4        sg:0330311d595045eab8c25f1215f76970  04/20/2020      1\n...                                      ...         ...    ...\n3379805  sg:fc8eea50d26f4dbdb5da6de5718d9e4d  05/24/2020      0\n3379806  sg:fd2e05099ca544839156a4d979177192  05/24/2020      0\n3379807  sg:fd5e17a3f62b4f0485e1958116a847c6  05/24/2020      1\n3379808  sg:fd785b0ceb1d4a6d92abe0438100f952  05/24/2020      1\n3379809  sg:fdc2158742de496283cfc61d7efa1ab3  05/24/2020      0\n\n[3379810 rows x 3 columns]",
      "text/html": "<div>\n<style scoped>\n    .dataframe tbody tr th:only-of-type {\n        vertical-align: middle;\n    }\n\n    .dataframe tbody tr th {\n        vertical-align: top;\n    }\n\n    .dataframe thead th {\n        text-align: right;\n    }\n</style>\n<table border=\"1\" class=\"dataframe\">\n  <thead>\n    <tr style=\"text-align: right;\">\n      <th></th>\n      <th>safegraph_place_id</th>\n      <th>Day</th>\n      <th>Visits</th>\n    </tr>\n  </thead>\n  <tbody>\n    <tr>\n      <th>0</th>\n      <td>sg:0021c44e821f44a2a33e8ebff6dfd951</td>\n      <td>04/20/2020</td>\n      <td>0</td>\n    </tr>\n    <tr>\n      <th>1</th>\n      <td>sg:004b49c8b2284f6494dab410fbc60508</td>\n      <td>04/20/2020</td>\n      <td>12</td>\n    </tr>\n    <tr>\n      <th>2</th>\n      <td>sg:01088372d8854814a713acef83c6e6b7</td>\n      <td>04/20/2020</td>\n      <td>4</td>\n    </tr>\n    <tr>\n      <th>3</th>\n      <td>sg:01be247ce34947dfa938f3fe9a8bf98d</td>\n      <td>04/20/2020</td>\n      <td>6</td>\n    </tr>\n    <tr>\n      <th>4</th>\n      <td>sg:0330311d595045eab8c25f1215f76970</td>\n      <td>04/20/2020</td>\n      <td>1</td>\n    </tr>\n    <tr>\n      <th>...</th>\n      <td>...</td>\n      <td>...</td>\n      <td>...</td>\n    </tr>\n    <tr>\n      <th>3379805</th>\n      <td>sg:fc8eea50d26f4dbdb5da6de5718d9e4d</td>\n      <td>05/24/2020</td>\n      <td>0</td>\n    </tr>\n    <tr>\n      <th>3379806</th>\n      <td>sg:fd2e05099ca544839156a4d979177192</td>\n      <td>05/24/2020</td>\n      <td>0</td>\n    </tr>\n    <tr>\n      <th>3379807</th>\n      <td>sg:fd5e17a3f62b4f0485e1958116a847c6</td>\n      <td>05/24/2020</td>\n      <td>1</td>\n    </tr>\n    <tr>\n      <th>3379808</th>\n      <td>sg:fd785b0ceb1d4a6d92abe0438100f952</td>\n      <td>05/24/2020</td>\n      <td>1</td>\n    </tr>\n    <tr>\n      <th>3379809</th>\n      <td>sg:fdc2158742de496283cfc61d7efa1ab3</td>\n      <td>05/24/2020</td>\n      <td>0</td>\n    </tr>\n  </tbody>\n</table>\n<p>3379810 rows × 3 columns</p>\n</div>"
     },
     "execution_count": 45,
     "metadata": {},
     "output_type": "execute_result"
    }
   ],
   "source": [
    "temp = traffic_df.visits_by_day_current.str.replace(\"[\\[\\]]\", \"\", regex=True).str.split(\",\", expand=True)\n",
    "traffic_df1 = pd.concat([traffic_df.safegraph_place_id, temp], axis=1)\n",
    "traffic_df1 = traffic_df1.melt(id_vars=\"safegraph_place_id\",\n",
    "        var_name=\"Day\",\n",
    "        value_name=\"Visits\")\n",
    "# Convert day to proper date\n",
    "day1 = datetime.datetime(2020, 4, 20)\n",
    "traffic_df1.Day = traffic_df1.Day.map(lambda x: (day1 + datetime.timedelta(days=x)).strftime(\"%m/%d/%Y\"))\n",
    "traffic_df1"
   ],
   "metadata": {
    "collapsed": false,
    "pycharm": {
     "name": "#%%\n"
    }
   }
  },
  {
   "cell_type": "markdown",
   "source": [
    "Adding zip code to the traffic data\n",
    "Export to csv"
   ],
   "metadata": {
    "collapsed": false,
    "pycharm": {
     "name": "#%% md\n"
    }
   }
  },
  {
   "cell_type": "code",
   "execution_count": 46,
   "outputs": [
    {
     "data": {
      "text/plain": "                          safegraph_place_id postal_code         Day Visits\n0        sg:0021c44e821f44a2a33e8ebff6dfd951       90723  04/20/2020      0\n1        sg:0021c44e821f44a2a33e8ebff6dfd951       90723  04/21/2020      2\n2        sg:0021c44e821f44a2a33e8ebff6dfd951       90723  04/22/2020      1\n3        sg:0021c44e821f44a2a33e8ebff6dfd951       90723  04/23/2020      0\n4        sg:0021c44e821f44a2a33e8ebff6dfd951       90723  04/24/2020      2\n...                                      ...         ...         ...    ...\n3379805  sg:fdc2158742de496283cfc61d7efa1ab3       91401  05/20/2020      2\n3379806  sg:fdc2158742de496283cfc61d7efa1ab3       91401  05/21/2020      3\n3379807  sg:fdc2158742de496283cfc61d7efa1ab3       91401  05/22/2020      4\n3379808  sg:fdc2158742de496283cfc61d7efa1ab3       91401  05/23/2020      3\n3379809  sg:fdc2158742de496283cfc61d7efa1ab3       91401  05/24/2020      0\n\n[3379810 rows x 4 columns]",
      "text/html": "<div>\n<style scoped>\n    .dataframe tbody tr th:only-of-type {\n        vertical-align: middle;\n    }\n\n    .dataframe tbody tr th {\n        vertical-align: top;\n    }\n\n    .dataframe thead th {\n        text-align: right;\n    }\n</style>\n<table border=\"1\" class=\"dataframe\">\n  <thead>\n    <tr style=\"text-align: right;\">\n      <th></th>\n      <th>safegraph_place_id</th>\n      <th>postal_code</th>\n      <th>Day</th>\n      <th>Visits</th>\n    </tr>\n  </thead>\n  <tbody>\n    <tr>\n      <th>0</th>\n      <td>sg:0021c44e821f44a2a33e8ebff6dfd951</td>\n      <td>90723</td>\n      <td>04/20/2020</td>\n      <td>0</td>\n    </tr>\n    <tr>\n      <th>1</th>\n      <td>sg:0021c44e821f44a2a33e8ebff6dfd951</td>\n      <td>90723</td>\n      <td>04/21/2020</td>\n      <td>2</td>\n    </tr>\n    <tr>\n      <th>2</th>\n      <td>sg:0021c44e821f44a2a33e8ebff6dfd951</td>\n      <td>90723</td>\n      <td>04/22/2020</td>\n      <td>1</td>\n    </tr>\n    <tr>\n      <th>3</th>\n      <td>sg:0021c44e821f44a2a33e8ebff6dfd951</td>\n      <td>90723</td>\n      <td>04/23/2020</td>\n      <td>0</td>\n    </tr>\n    <tr>\n      <th>4</th>\n      <td>sg:0021c44e821f44a2a33e8ebff6dfd951</td>\n      <td>90723</td>\n      <td>04/24/2020</td>\n      <td>2</td>\n    </tr>\n    <tr>\n      <th>...</th>\n      <td>...</td>\n      <td>...</td>\n      <td>...</td>\n      <td>...</td>\n    </tr>\n    <tr>\n      <th>3379805</th>\n      <td>sg:fdc2158742de496283cfc61d7efa1ab3</td>\n      <td>91401</td>\n      <td>05/20/2020</td>\n      <td>2</td>\n    </tr>\n    <tr>\n      <th>3379806</th>\n      <td>sg:fdc2158742de496283cfc61d7efa1ab3</td>\n      <td>91401</td>\n      <td>05/21/2020</td>\n      <td>3</td>\n    </tr>\n    <tr>\n      <th>3379807</th>\n      <td>sg:fdc2158742de496283cfc61d7efa1ab3</td>\n      <td>91401</td>\n      <td>05/22/2020</td>\n      <td>4</td>\n    </tr>\n    <tr>\n      <th>3379808</th>\n      <td>sg:fdc2158742de496283cfc61d7efa1ab3</td>\n      <td>91401</td>\n      <td>05/23/2020</td>\n      <td>3</td>\n    </tr>\n    <tr>\n      <th>3379809</th>\n      <td>sg:fdc2158742de496283cfc61d7efa1ab3</td>\n      <td>91401</td>\n      <td>05/24/2020</td>\n      <td>0</td>\n    </tr>\n  </tbody>\n</table>\n<p>3379810 rows × 4 columns</p>\n</div>"
     },
     "execution_count": 46,
     "metadata": {},
     "output_type": "execute_result"
    }
   ],
   "source": [
    "main_df_pd = main_df.toPandas()\n",
    "traffic_df2 = traffic_df1.merge(main_df_pd, how=\"inner\", on=\"safegraph_place_id\") \\\n",
    "    [['safegraph_place_id', 'postal_code', 'Day', 'Visits']]\n",
    "traffic_df2"
   ],
   "metadata": {
    "collapsed": false,
    "pycharm": {
     "name": "#%%\n"
    }
   }
  },
  {
   "cell_type": "code",
   "execution_count": 47,
   "outputs": [],
   "source": [
    "traffic_df2.to_csv(os.path.join(\"output\", \"foot_traffic_time_series.csv\"), index=False)"
   ],
   "metadata": {
    "collapsed": false,
    "pycharm": {
     "name": "#%%\n"
    }
   }
  },
  {
   "cell_type": "markdown",
   "source": [
    "Total Running time (s)"
   ],
   "metadata": {
    "collapsed": false,
    "pycharm": {
     "name": "#%% md\n"
    }
   }
  },
  {
   "cell_type": "code",
   "execution_count": 48,
   "outputs": [
    {
     "data": {
      "text/plain": "318.0809998512268"
     },
     "execution_count": 48,
     "metadata": {},
     "output_type": "execute_result"
    }
   ],
   "source": [
    "time.time() - start_time"
   ],
   "metadata": {
    "collapsed": false,
    "pycharm": {
     "name": "#%%\n"
    }
   }
  },
  {
   "cell_type": "markdown",
   "source": [
    "## Collecting the data for the places of interest\n",
    "Read the core places dataset and combine the 5 parts, then filter by LA zip codes,\n",
    "and filter the places present in traffic data df by left_anti join\n",
    "https://docs.safegraph.com/docs#section-core-places"
   ],
   "metadata": {
    "collapsed": false
   }
  },
  {
   "cell_type": "code",
   "execution_count": 49,
   "outputs": [
    {
     "data": {
      "text/plain": "193975"
     },
     "execution_count": 49,
     "metadata": {},
     "output_type": "execute_result"
    }
   ],
   "source": [
    "start_time = time.time()\n",
    "\n",
    "file1 = os.path.join(\"CorePlaces\", \"core_poi-part1.csv\")\n",
    "file_list = [os.path.join(\"CorePlaces\", \"core_poi-part2.csv\"), os.path.join(\"CorePlaces\", \"core_poi-part3.csv\"), os.path.join(\"CorePlaces\", \"core_poi-part4.csv\"), os.path.join(\"CorePlaces\", \"core_poi-part5.csv\")]\n",
    "\n",
    "places_df = ss.read.csv(file1, header=True)\n",
    "for file in file_list:\n",
    "    temp = ss.read.csv(file, header=True)\n",
    "    places_df = places_df.union(temp)\n",
    "\n",
    "places_df = places_df.filter(places_df.postal_code.isin(zip_codes))\n",
    "places_df.count()"
   ],
   "metadata": {
    "collapsed": false,
    "pycharm": {
     "name": "#%%\n"
    }
   }
  },
  {
   "cell_type": "code",
   "source": [
    "places_df = places_df.join(this_week_df, how='inner', on='safegraph_place_id').persist()\n",
    "places_df.count()"
   ],
   "metadata": {
    "collapsed": false,
    "pycharm": {
     "name": "#%%\n"
    }
   },
   "execution_count": 50,
   "outputs": [
    {
     "data": {
      "text/plain": "96566"
     },
     "execution_count": 50,
     "metadata": {},
     "output_type": "execute_result"
    }
   ]
  },
  {
   "cell_type": "markdown",
   "source": [
    "Exporting to csv"
   ],
   "metadata": {
    "collapsed": false,
    "pycharm": {
     "name": "#%% md\n"
    }
   }
  },
  {
   "cell_type": "code",
   "execution_count": 51,
   "outputs": [],
   "source": [
    "places_df_pd = places_df.toPandas()\n",
    "places_df_pd.to_csv(os.path.join(\"output\", \"places_info.csv\"), index=False)"
   ],
   "metadata": {
    "collapsed": false,
    "pycharm": {
     "name": "#%%\n"
    }
   }
  },
  {
   "cell_type": "markdown",
   "source": [
    "Total Running time (s)"
   ],
   "metadata": {
    "collapsed": false
   }
  },
  {
   "cell_type": "code",
   "execution_count": 52,
   "outputs": [
    {
     "data": {
      "text/plain": "13.190999746322632"
     },
     "execution_count": 52,
     "metadata": {},
     "output_type": "execute_result"
    }
   ],
   "source": [
    "time.time() - start_time"
   ],
   "metadata": {
    "collapsed": false,
    "pycharm": {
     "name": "#%%\n"
    }
   }
  }
 ],
 "metadata": {
  "kernelspec": {
   "display_name": "Python 3",
   "language": "python",
   "name": "python3"
  },
  "language_info": {
   "codemirror_mode": {
    "name": "ipython",
    "version": 2
   },
   "file_extension": ".py",
   "mimetype": "text/x-python",
   "name": "python",
   "nbconvert_exporter": "python",
   "pygments_lexer": "ipython2",
   "version": "2.7.6"
  }
 },
 "nbformat": 4,
 "nbformat_minor": 0
}
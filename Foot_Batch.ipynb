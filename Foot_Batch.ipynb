{
 "cells": [
  {
   "cell_type": "markdown",
   "metadata": {
    "collapsed": true,
    "pycharm": {
     "name": "#%% md\n"
    }
   },
   "source": [
    "# SafeGraph foot traffic data processing (batch version)\n",
    "Outputs foot_traffic_time_series.csv, time series data of number of daily visits of each place\n",
    "Also information about each place in places_info.csv\n",
    "\n",
    "Requires Spark and pandas\n",
    "\n",
    "SafeGraph information about their data:\n",
    "https://docs.google.com/spreadsheets/u/1/d/1UNWvPzkUTTlXBZ6M6iGhM_7sr8h-MxsZdE7iOszkAmk/htmlview#"
   ]
  },
  {
   "cell_type": "markdown",
   "source": [
    "Open latest weeks file and filter out zip codes according to Zip_Codes__LA_County_.txt"
   ],
   "metadata": {
    "collapsed": false,
    "pycharm": {
     "name": "#%% md\n"
    }
   }
  },
  {
   "cell_type": "code",
   "execution_count": 5,
   "outputs": [
    {
     "name": "stdout",
     "output_type": "stream",
     "text": [
      "+--------------------+--------------------+--------------------+--------------+------+-----------+----------------+--------------------+-------------------+--------------------+--------------------+----------------+------------------+--------------------+--------------------+------------+--------------------+--------------------+-------------------------+--------------------+--------------------+--------------------+----------------------+-----------------------+--------------------+\n",
      "|  safegraph_place_id|       location_name|      street_address|          city|region|postal_code|iso_country_code| safegraph_brand_ids|             brands|    date_range_start|      date_range_end|raw_visit_counts|raw_visitor_counts|       visits_by_day| visits_by_each_hour|     poi_cbg|   visitor_home_cbgs|visitor_daytime_cbgs|visitor_country_of_origin|  distance_from_home|        median_dwell|bucketed_dwell_times|related_same_day_brand|related_same_week_brand|         device_type|\n",
      "+--------------------+--------------------+--------------------+--------------+------+-----------+----------------+--------------------+-------------------+--------------------+--------------------+----------------+------------------+--------------------+--------------------+------------+--------------------+--------------------+-------------------------+--------------------+--------------------+--------------------+----------------------+-----------------------+--------------------+\n",
      "|sg:05e114ea81c04f...|          McDonald's|4947 Huntington Dr N|   Los Angeles|    CA|      90032|              US|SG_BRAND_5179b21f...|         McDonald's|2020-05-18T00:00:...|2020-05-25T00:00:...|              78|                61|[8,14,8,13,11,11,13]|[0,0,0,0,0,0,0,0,...|060372012001|\"{\"\"060372015031\"\":5|  \"\"060372015041\"\":5|       \"\"060372011201\"\":4|  \"\"060372014011\"\":4|  \"\"060372014012\"\":4|  \"\"060372013012\"\":4|    \"\"060371992012\"\":4|     \"\"060372014022\"\":4|  \"\"060372015032\"\":4|\n",
      "|sg:0ee32c6bd1444f...|     Go Get Em Tiger|230 N Larchmont Blvd|   Los Angeles|    CA|      90004|              US|                null|               null|2020-05-18T00:00:...|2020-05-25T00:00:...|               8|                 7|     [2,2,2,0,1,1,0]|[0,0,0,0,0,0,0,0,...|060372110001|                  {}|\"{\"\"060371919022\"...|             \"{\"\"US\"\":4}\"|                1275|                11.0|          \"{\"\"<5\"\":0|            \"\"5-20\"\":7|            \"\"21-60\"\":1|        \"\"61-240\"\":0|\n",
      "|sg:0f41c833a6e244...| Bloomfield Creamery|  1427 Westwood Blvd|   Los Angeles|    CA|      90024|              US|                null|               null|2020-05-18T00:00:...|2020-05-25T00:00:...|               9|                 8|     [2,2,0,1,2,0,2]|[0,0,0,0,0,0,0,0,...|060372655102|\"{\"\"060014229001\"...|\"{\"\"060373025031\"...|            \"{\"\"US\"\":12}\"|                8430|                22.0|          \"{\"\"<5\"\":0|            \"\"5-20\"\":4|            \"\"21-60\"\":1|        \"\"61-240\"\":1|\n",
      "|sg:1565a84dcbc144...|       Paradise Park|       Paradise Park|   Los Angeles|    CA|      90032|              US|                null|               null|2020-05-18T00:00:...|2020-05-25T00:00:...|              63|                41|   [4,2,5,9,7,25,11]|[0,0,0,0,0,0,0,0,...|060376507021|\"{\"\"060376206013\"\":4|  \"\"060376501014\"\":4|       \"\"060376508002\"\":4|  \"\"060376514023\"\":4|  \"\"060376507011\"\":4|  \"\"060376704132\"\":4|    \"\"060376504013\"\":4|   \"\"060376507021\"\":4}\"|\"{\"\"060376511012\"...|\n",
      "|sg:186f5017a7ed40...|     Social Security|   12429 Avalon Blvd|   Los Angeles|    CA|      90061|              US|                null|               null|2020-05-18T00:00:...|2020-05-25T00:00:...|              39|                28|     [4,8,5,8,4,4,6]|[0,0,0,0,0,0,1,0,...|060375409011|\"{\"\"060375413001\"\":4|  \"\"060376204001\"\":4|     \"\"060376004001\"\":4}\"|\"{\"\"060372317201\"\":4|  \"\"060376004001\"\":4|  \"\"060376024041\"\":4|    \"\"060375354002\"\":4|     \"\"060372411102\"\":4|\"\"060590864043\"\":4}\"|\n",
      "|sg:242ecc445fce41...|  Absolute on Hoover|     527 N Hoover St|   Los Angeles|    CA|      90004|              US|                null|               null|2020-05-18T00:00:...|2020-05-25T00:00:...|               3|                 2|     [0,1,0,1,1,0,0]|[0,0,0,0,0,0,0,0,...|060371927001|                  {}|\"{\"\"060371375011\"...|             \"{\"\"US\"\":4}\"|                null|               548.0|          \"{\"\"<5\"\":0|            \"\"5-20\"\":0|            \"\"21-60\"\":0|        \"\"61-240\"\":0|\n",
      "|sg:2acd40b4f01641...|Make a Film in a Day|   925 N La Brea Ave|West Hollywood|    CA|      90038|              US|                null|               null|2020-05-18T00:00:...|2020-05-25T00:00:...|              22|                 7|     [3,0,5,6,3,4,1]|[0,0,0,0,0,0,0,0,...|060371920012|\"{\"\"121150014033\"\":4|\"\"060371911101\"\":4}\"|                       {}|        \"{\"\"US\"\":9}\"|              325384|                85.0|            \"{\"\"<5\"\":0|             \"\"5-20\"\":4|         \"\"21-60\"\":6|\n",
      "|sg:32ab764b731f45...|         Happy Tails|      4625 York Blvd|   Los Angeles|    CA|      90041|              US|                null|               null|2020-05-18T00:00:...|2020-05-25T00:00:...|              27|                16|     [7,2,1,5,4,5,3]|[0,0,0,0,0,1,0,0,...|060371834021|\"{\"\"060373025063\"\":4|\"\"060373102022\"\":4}\"|     \"{\"\"060371810002\"\":4|  \"\"060373025051\"\":4|  \"\"060552005013\"\":4|\"\"060371834021\"\":4}\"|         \"{\"\"US\"\":14}\"|                   2021|                54.0|\n",
      "|sg:33e59f728dfc46...|   Maywood Pawn Shop| 952 S Atlantic Blvd|   Los Angeles|    CA|      90022|              US|                null|               null|2020-05-18T00:00:...|2020-05-25T00:00:...|              20|                18|     [4,2,6,2,2,2,2]|[0,0,0,0,0,0,0,0,...|060375317021|\"{\"\"060374053023\"\":4|  \"\"060375303012\"\":4|       \"\"060372015032\"\":4|  \"\"060375317023\"\":4|\"\"060375533002\"\":4}\"|\"{\"\"060372015032\"\":5|    \"\"060375316041\"\":4|     \"\"060375303012\"\":4|  \"\"060375317024\"\":4|\n",
      "|sg:3cacf516735646...|         Hot Pilates| 8604A W Sunset Blvd|West Hollywood|    CA|      90069|              US|                null|               null|2020-05-18T00:00:...|2020-05-25T00:00:...|               2|                 2|     [0,0,1,1,0,0,0]|[0,0,0,0,0,0,0,0,...|060377005021|\"{\"\"060377005021\"...|                  {}|             \"{\"\"US\"\":4}\"|                null|               480.5|          \"{\"\"<5\"\":0|            \"\"5-20\"\":0|            \"\"21-60\"\":1|        \"\"61-240\"\":0|\n",
      "|sg:3dbd76d1be5649...| Goodwill Industries|   8319 Lincoln Blvd|   Los Angeles|    CA|      90045|              US|SG_BRAND_4ca6f667...|Goodwill Industries|2020-05-18T00:00:...|2020-05-25T00:00:...|               8|                 5|     [0,2,2,0,2,2,0]|[0,0,0,0,0,0,0,0,...|060372766012|                  {}|\"{\"\"060372766012\"...|             \"{\"\"US\"\":6}\"|                null|                40.5|          \"{\"\"<5\"\":0|            \"\"5-20\"\":1|            \"\"21-60\"\":4|        \"\"61-240\"\":2|\n",
      "|sg:3e6ebb6322cf41...|           Majordomo|        1725 Naud St|   Los Angeles|    CA|      90012|              US|                null|               null|2020-05-18T00:00:...|2020-05-25T00:00:...|              11|                 6|     [3,1,1,1,1,3,1]|[0,0,0,0,0,0,0,1,...|060372060101|                  {}|\"{\"\"060374324023\"...|                       {}|               18308|               107.0|          \"{\"\"<5\"\":0|            \"\"5-20\"\":2|            \"\"21-60\"\":2|        \"\"61-240\"\":3|\n",
      "|sg:4191791d657d49...|Cd Video Manufact...|12650 Westminster...|   Los Angeles|    CA|      90066|              US|                null|               null|2020-05-18T00:00:...|2020-05-25T00:00:...|              12|                10|     [2,2,2,2,1,2,1]|[0,0,0,0,0,0,0,0,...|060372721001|\"{\"\"060372348001\"...|\"{\"\"060371911102\"...|             \"{\"\"US\"\":9}\"|                3684|                45.0|          \"{\"\"<5\"\":0|            \"\"5-20\"\":3|            \"\"21-60\"\":4|        \"\"61-240\"\":1|\n",
      "|sg:431dc367d3814e...|Word's Presbyteri...|       2836 W 8th St|   Los Angeles|    CA|      90005|              US|                null|               null|2020-05-18T00:00:...|2020-05-25T00:00:...|              41|                11|     [8,5,7,2,7,3,9]|[0,0,0,0,0,0,0,0,...|060372122021|\"{\"\"060379106013\"\":4|\"\"060379201182\"\":4}\"|     \"{\"\"060372246002\"\":5|  \"\"060372122042\"\":4|  \"\"201730081001\"\":4|  \"\"060372134012\"\":4|  \"\"060379106013\"\":4}\"|          \"{\"\"US\"\":10}\"|               37265|\n",
      "|sg:43714b6d8e2543...|           Taco Bell|    4050 Marlton Ave|   Los Angeles|    CA|      90008|              US|SG_BRAND_748ba381...|          Taco Bell|2020-05-18T00:00:...|2020-05-25T00:00:...|              22|                19|     [3,4,3,5,4,3,0]|[0,0,0,0,0,0,0,0,...|060372361002|\"{\"\"060372340003\"\":4|  \"\"060372372024\"\":4|     \"\"060650403021\"\":4}\"|\"{\"\"060372325002\"\":4|  \"\"060372372024\"\":4|\"\"060372171002\"\":4}\"|         \"{\"\"US\"\":16}\"|                   7097|                19.0|\n",
      "|sg:5319c8cee9ed48...|        Mobile Storm|  6565 W Sunset Blvd|   Los Angeles|    CA|      90028|              US|                null|               null|2020-05-18T00:00:...|2020-05-25T00:00:...|               1|                 1|     [0,0,0,1,0,0,0]|[0,0,0,0,0,0,0,0,...|060371907001|\"{\"\"060372122042\"...|                  {}|                       {}|                null|               438.0|          \"{\"\"<5\"\":0|            \"\"5-20\"\":0|            \"\"21-60\"\":0|        \"\"61-240\"\":0|\n",
      "|sg:689efcfa6dca4a...|   Chef Kang Sul Box|  3881 Wilshire Blvd|   Los Angeles|    CA|      90010|              US|                null|               null|2020-05-18T00:00:...|2020-05-25T00:00:...|               5|                 5|     [0,0,0,1,1,0,3]|[0,0,0,0,0,0,0,0,...|060372117041|\"{\"\"060590015073\"...|\"{\"\"060590015073\"\":4|     \"\"060374034031\"\":4}\"|        \"{\"\"US\"\":5}\"|               44117|                22.0|            \"{\"\"<5\"\":0|             \"\"5-20\"\":2|         \"\"21-60\"\":3|\n",
      "|sg:75c40b727cb14e...|       Sweetfin Poke|135 N Larchmont Blvd|   Los Angeles|    CA|      90004|              US|                null|               null|2020-05-18T00:00:...|2020-05-25T00:00:...|              12|                12|     [2,1,2,1,3,1,2]|[0,0,0,0,0,0,0,0,...|060372110001|\"{\"\"060371897021\"\":4|  \"\"060374640002\"\":4|       \"\"060373109001\"\":4|  \"\"060750452001\"\":4|\"\"060372127022\"\":4}\"|\"{\"\"060372060311\"\":4|    \"\"060371432002\"\":4|   \"\"060372122041\"\":4}\"|       \"{\"\"US\"\":10}\"|\n",
      "|sg:7d1eec578b2143...|   Crescendo Fashion|       320 E 12th St|   Los Angeles|    CA|      90015|              US|                null|               null|2020-05-18T00:00:...|2020-05-25T00:00:...|               6|                 6|     [0,0,1,0,1,1,3]|[0,0,0,0,0,0,0,0,...|060372079001|\"{\"\"060374023011\"...|                  {}|             \"{\"\"US\"\":6}\"|               31250|                21.0|          \"{\"\"<5\"\":0|            \"\"5-20\"\":3|            \"\"21-60\"\":3|        \"\"61-240\"\":0|\n",
      "|sg:7e01f8184f0248...|            Best Buy|1015 N La Brea Av...|West Hollywood|    CA|      90038|              US|SG_BRAND_2c648ef8...|           Best Buy|2020-05-18T00:00:...|2020-05-25T00:00:...|             105|                93|[20,10,7,17,15,18...|[0,0,0,0,0,0,0,0,...|060377001022|\"{\"\"060372714002\"\":5|  \"\"060371899051\"\":5|       \"\"131131402043\"\":4|  \"\"060371902011\"\":4|  \"\"060372112021\"\":4|  \"\"060372181202\"\":4|    \"\"060371915001\"\":4|     \"\"060371899021\"\":4|  \"\"060371899023\"\":4|\n",
      "+--------------------+--------------------+--------------------+--------------+------+-----------+----------------+--------------------+-------------------+--------------------+--------------------+----------------+------------------+--------------------+--------------------+------------+--------------------+--------------------+-------------------------+--------------------+--------------------+--------------------+----------------------+-----------------------+--------------------+\n",
      "only showing top 20 rows\n",
      "\n"
     ]
    }
   ],
   "source": [
    "from pyspark.sql import SparkSession\n",
    "import os\n",
    "import pandas as pd\n",
    "import time\n",
    "import datetime\n",
    "\n",
    "ss = SparkSession \\\n",
    "    .builder \\\n",
    "    .appName(\"Foot_Traffic\") \\\n",
    "    .config(\"spark.master\", \"local[12]\") \\\n",
    "    .getOrCreate()\n",
    "\n",
    "start_time = time.time()\n",
    "file = \"2020-05-18-weekly-patterns.csv\"\n",
    "main_df = ss.read.csv(file, header=True)\n",
    "\n",
    "with open(\"Zip_Codes__LA_County_.txt\") as file:\n",
    "    zip_codes = file.read().splitlines()\n",
    "main_df = main_df.filter(main_df.postal_code.isin(zip_codes)).persist()\n",
    "main_df.show()"
   ],
   "metadata": {
    "collapsed": false,
    "pycharm": {
     "name": "#%%\n"
    }
   }
  },
  {
   "cell_type": "markdown",
   "source": [
    "Selecting the columns of interest\n",
    "Drop visits_by_day from main_df and output csv"
   ],
   "metadata": {
    "collapsed": false
   }
  },
  {
   "cell_type": "code",
   "execution_count": 6,
   "outputs": [
    {
     "name": "stdout",
     "output_type": "stream",
     "text": [
      "+--------------------+--------------------+\n",
      "|  safegraph_place_id|       visits_by_day|\n",
      "+--------------------+--------------------+\n",
      "|sg:05e114ea81c04f...|[8,14,8,13,11,11,13]|\n",
      "|sg:0ee32c6bd1444f...|     [2,2,2,0,1,1,0]|\n",
      "|sg:0f41c833a6e244...|     [2,2,0,1,2,0,2]|\n",
      "|sg:1565a84dcbc144...|   [4,2,5,9,7,25,11]|\n",
      "|sg:186f5017a7ed40...|     [4,8,5,8,4,4,6]|\n",
      "|sg:242ecc445fce41...|     [0,1,0,1,1,0,0]|\n",
      "|sg:2acd40b4f01641...|     [3,0,5,6,3,4,1]|\n",
      "|sg:32ab764b731f45...|     [7,2,1,5,4,5,3]|\n",
      "|sg:33e59f728dfc46...|     [4,2,6,2,2,2,2]|\n",
      "|sg:3cacf516735646...|     [0,0,1,1,0,0,0]|\n",
      "|sg:3dbd76d1be5649...|     [0,2,2,0,2,2,0]|\n",
      "|sg:3e6ebb6322cf41...|     [3,1,1,1,1,3,1]|\n",
      "|sg:4191791d657d49...|     [2,2,2,2,1,2,1]|\n",
      "|sg:431dc367d3814e...|     [8,5,7,2,7,3,9]|\n",
      "|sg:43714b6d8e2543...|     [3,4,3,5,4,3,0]|\n",
      "|sg:5319c8cee9ed48...|     [0,0,0,1,0,0,0]|\n",
      "|sg:689efcfa6dca4a...|     [0,0,0,1,1,0,3]|\n",
      "|sg:75c40b727cb14e...|     [2,1,2,1,3,1,2]|\n",
      "|sg:7d1eec578b2143...|     [0,0,1,0,1,1,3]|\n",
      "|sg:7e01f8184f0248...|[20,10,7,17,15,18...|\n",
      "+--------------------+--------------------+\n",
      "only showing top 20 rows\n",
      "\n"
     ]
    }
   ],
   "source": [
    "this_week_df = main_df.select('safegraph_place_id', 'visits_by_day').persist()\n",
    "this_week_df.show()"
   ],
   "metadata": {
    "collapsed": false,
    "pycharm": {
     "name": "#%%\n"
    }
   }
  },
  {
   "cell_type": "markdown",
   "source": [
    "Method to Join last weeks data to current. Loop this for every weekly file"
   ],
   "metadata": {
    "collapsed": false,
    "pycharm": {
     "name": "#%% md\n"
    }
   }
  },
  {
   "cell_type": "code",
   "execution_count": 7,
   "outputs": [],
   "source": [
    "def join_last_week_data(last_week_file, this_week_df, zip_codes):\n",
    "    last_week_df = ss.read.csv(last_week_file, header=True)\n",
    "    last_week_df = last_week_df.filter(last_week_df.postal_code.isin(zip_codes)) \\\n",
    "        .select('safegraph_place_id', 'visits_by_day')\n",
    "    this_week_df = this_week_df.withColumnRenamed(\"visits_by_day\", \"visits_by_day_current\")\n",
    "    this_week_df = this_week_df.join(last_week_df, how='inner', on='safegraph_place_id')\n",
    "    this_week_df = this_week_df.rdd \\\n",
    "    .map(lambda x: (x['safegraph_place_id'], (x['visits_by_day'] + x['visits_by_day_current']).replace(\"][\", \",\"))) \\\n",
    "    .toDF([\"safegraph_place_id\", \"visits_by_day_current\"])\n",
    "    return this_week_df"
   ],
   "metadata": {
    "collapsed": false,
    "pycharm": {
     "name": "#%%\n"
    }
   }
  },
  {
   "cell_type": "code",
   "execution_count": 8,
   "outputs": [
    {
     "name": "stdout",
     "output_type": "stream",
     "text": [
      "+--------------------+---------------------+\n",
      "|  safegraph_place_id|visits_by_day_current|\n",
      "+--------------------+---------------------+\n",
      "|sg:05c00ab60e2444...| [2,3,2,3,3,9,2,3,...|\n",
      "|sg:08efd9dac9cf42...| [3,0,1,1,2,1,0,0,...|\n",
      "|sg:090cf1c0f62e41...| [2,4,5,2,1,0,0,5,...|\n",
      "|sg:0afb6633a4224e...| [1,2,0,0,0,0,0,0,...|\n",
      "|sg:0c4e86749cd244...| [3,1,7,4,3,5,3,9,...|\n",
      "|sg:0f1d0e10c73f41...| [1,1,3,1,2,0,0,4,...|\n",
      "|sg:1059afe48a3945...| [1,0,0,2,5,2,4,7,...|\n",
      "|sg:13023a144d7d45...| [0,0,1,0,0,3,4,4,...|\n",
      "|sg:13c456f99f1d45...| [2,2,3,0,1,3,2,1,...|\n",
      "|sg:15dc29d1952844...| [5,2,1,3,1,1,0,3,...|\n",
      "|sg:17951e62dfb949...| [2,5,4,3,4,2,4,2,...|\n",
      "|sg:193e08aca17e43...| [0,0,0,1,3,3,0,0,...|\n",
      "|sg:1a4d75c19bf049...| [0,2,0,4,0,2,0,2,...|\n",
      "|sg:209f866b4f654d...| [4,5,3,3,5,4,1,4,...|\n",
      "|sg:25445cd5a95d4f...| [5,2,4,1,1,3,2,1,...|\n",
      "|sg:289ac2aa272548...| [5,2,3,2,6,9,3,4,...|\n",
      "|sg:2fb419debc154c...| [2,6,8,3,10,6,5,2...|\n",
      "|sg:328d5e0fe5b546...| [0,3,0,1,2,1,0,0,...|\n",
      "|sg:36302dbd8d9d46...| [2,2,0,0,0,0,0,1,...|\n",
      "|sg:368f54d474dd4a...| [0,1,0,0,0,0,0,0,...|\n",
      "+--------------------+---------------------+\n",
      "only showing top 20 rows\n",
      "\n"
     ]
    }
   ],
   "source": [
    "last_week_file_list = [\"2020-05-11-weekly-patterns.csv\", \"2020-05-04-weekly-patterns.csv\", \"2020-04-27-weekly-patterns.csv\", \"2020-04-20-weekly-patterns.csv\"]\n",
    "for last_week_file in last_week_file_list:\n",
    "    this_week_df = join_last_week_data(last_week_file, this_week_df, zip_codes).persist()\n",
    "this_week_df.show()"
   ],
   "metadata": {
    "collapsed": false,
    "pycharm": {
     "name": "#%%\n"
    }
   }
  },
  {
   "cell_type": "markdown",
   "source": [
    "Convert spark df to pandas, remove brackets and split columns by comma"
   ],
   "metadata": {
    "collapsed": false,
    "pycharm": {
     "name": "#%% md\n"
    }
   }
  },
  {
   "cell_type": "code",
   "execution_count": 9,
   "outputs": [],
   "source": [
    "traffic_df = this_week_df.toPandas()"
   ],
   "metadata": {
    "collapsed": false,
    "pycharm": {
     "name": "#%%\n"
    }
   }
  },
  {
   "cell_type": "code",
   "execution_count": 10,
   "outputs": [
    {
     "data": {
      "text/plain": "                         safegraph_place_id         Day Visits\n0       sg:05c00ab60e24448a8c15304873a7833f  04/20/2020      2\n1       sg:08efd9dac9cf425aad8f8fbac4e56a43  04/20/2020      3\n2       sg:090cf1c0f62e4128825d72d9949fdbed  04/20/2020      2\n3       sg:0afb6633a4224e2789661b49d2e7c4a0  04/20/2020      1\n4       sg:0c4e86749cd244d2a574043f0c6f799b  04/20/2020      3\n...                                     ...         ...    ...\n831350  sg:f33e0c3db6ed49529bfd9f3e81233922  05/24/2020      4\n831351  sg:f4552203e5884b01a5cc47e8dac2cc09  05/24/2020      4\n831352  sg:f5b503c9124e40a78879974d7e614d8c  05/24/2020      2\n831353  sg:f8172d602e0343ad930ae1257860897f  05/24/2020      2\n831354  sg:f81bd5555e0a438b8c587b2092d32c1e  05/24/2020      0\n\n[831355 rows x 3 columns]",
      "text/html": "<div>\n<style scoped>\n    .dataframe tbody tr th:only-of-type {\n        vertical-align: middle;\n    }\n\n    .dataframe tbody tr th {\n        vertical-align: top;\n    }\n\n    .dataframe thead th {\n        text-align: right;\n    }\n</style>\n<table border=\"1\" class=\"dataframe\">\n  <thead>\n    <tr style=\"text-align: right;\">\n      <th></th>\n      <th>safegraph_place_id</th>\n      <th>Day</th>\n      <th>Visits</th>\n    </tr>\n  </thead>\n  <tbody>\n    <tr>\n      <th>0</th>\n      <td>sg:05c00ab60e24448a8c15304873a7833f</td>\n      <td>04/20/2020</td>\n      <td>2</td>\n    </tr>\n    <tr>\n      <th>1</th>\n      <td>sg:08efd9dac9cf425aad8f8fbac4e56a43</td>\n      <td>04/20/2020</td>\n      <td>3</td>\n    </tr>\n    <tr>\n      <th>2</th>\n      <td>sg:090cf1c0f62e4128825d72d9949fdbed</td>\n      <td>04/20/2020</td>\n      <td>2</td>\n    </tr>\n    <tr>\n      <th>3</th>\n      <td>sg:0afb6633a4224e2789661b49d2e7c4a0</td>\n      <td>04/20/2020</td>\n      <td>1</td>\n    </tr>\n    <tr>\n      <th>4</th>\n      <td>sg:0c4e86749cd244d2a574043f0c6f799b</td>\n      <td>04/20/2020</td>\n      <td>3</td>\n    </tr>\n    <tr>\n      <th>...</th>\n      <td>...</td>\n      <td>...</td>\n      <td>...</td>\n    </tr>\n    <tr>\n      <th>831350</th>\n      <td>sg:f33e0c3db6ed49529bfd9f3e81233922</td>\n      <td>05/24/2020</td>\n      <td>4</td>\n    </tr>\n    <tr>\n      <th>831351</th>\n      <td>sg:f4552203e5884b01a5cc47e8dac2cc09</td>\n      <td>05/24/2020</td>\n      <td>4</td>\n    </tr>\n    <tr>\n      <th>831352</th>\n      <td>sg:f5b503c9124e40a78879974d7e614d8c</td>\n      <td>05/24/2020</td>\n      <td>2</td>\n    </tr>\n    <tr>\n      <th>831353</th>\n      <td>sg:f8172d602e0343ad930ae1257860897f</td>\n      <td>05/24/2020</td>\n      <td>2</td>\n    </tr>\n    <tr>\n      <th>831354</th>\n      <td>sg:f81bd5555e0a438b8c587b2092d32c1e</td>\n      <td>05/24/2020</td>\n      <td>0</td>\n    </tr>\n  </tbody>\n</table>\n<p>831355 rows × 3 columns</p>\n</div>"
     },
     "execution_count": 10,
     "metadata": {},
     "output_type": "execute_result"
    }
   ],
   "source": [
    "temp = traffic_df.visits_by_day_current.str.replace(\"[\\[\\]]\", \"\", regex=True).str.split(\",\", expand=True)\n",
    "traffic_df1 = pd.concat([traffic_df.safegraph_place_id, temp], axis=1)\n",
    "traffic_df1 = traffic_df1.melt(id_vars=\"safegraph_place_id\",\n",
    "        var_name=\"Day\",\n",
    "        value_name=\"Visits\")\n",
    "# Convert day to proper date\n",
    "day1 = datetime.datetime(2020, 4, 20)\n",
    "traffic_df1.Day = traffic_df1.Day.map(lambda x: (day1 + datetime.timedelta(days=x)).strftime(\"%m/%d/%Y\"))\n",
    "traffic_df1"
   ],
   "metadata": {
    "collapsed": false,
    "pycharm": {
     "name": "#%%\n"
    }
   }
  },
  {
   "cell_type": "markdown",
   "source": [
    "Adding zip code to the traffic data\n",
    "Export to csv"
   ],
   "metadata": {
    "collapsed": false,
    "pycharm": {
     "name": "#%% md\n"
    }
   }
  },
  {
   "cell_type": "code",
   "execution_count": 11,
   "outputs": [
    {
     "data": {
      "text/plain": "                         safegraph_place_id postal_code         Day Visits\n0       sg:05c00ab60e24448a8c15304873a7833f       90029  04/20/2020      2\n1       sg:05c00ab60e24448a8c15304873a7833f       90029  04/21/2020      3\n2       sg:05c00ab60e24448a8c15304873a7833f       90029  04/22/2020      2\n3       sg:05c00ab60e24448a8c15304873a7833f       90029  04/23/2020      3\n4       sg:05c00ab60e24448a8c15304873a7833f       90029  04/24/2020      3\n...                                     ...         ...         ...    ...\n831350  sg:f81bd5555e0a438b8c587b2092d32c1e       90057  05/20/2020      3\n831351  sg:f81bd5555e0a438b8c587b2092d32c1e       90057  05/21/2020      4\n831352  sg:f81bd5555e0a438b8c587b2092d32c1e       90057  05/22/2020      4\n831353  sg:f81bd5555e0a438b8c587b2092d32c1e       90057  05/23/2020      4\n831354  sg:f81bd5555e0a438b8c587b2092d32c1e       90057  05/24/2020      0\n\n[831355 rows x 4 columns]",
      "text/html": "<div>\n<style scoped>\n    .dataframe tbody tr th:only-of-type {\n        vertical-align: middle;\n    }\n\n    .dataframe tbody tr th {\n        vertical-align: top;\n    }\n\n    .dataframe thead th {\n        text-align: right;\n    }\n</style>\n<table border=\"1\" class=\"dataframe\">\n  <thead>\n    <tr style=\"text-align: right;\">\n      <th></th>\n      <th>safegraph_place_id</th>\n      <th>postal_code</th>\n      <th>Day</th>\n      <th>Visits</th>\n    </tr>\n  </thead>\n  <tbody>\n    <tr>\n      <th>0</th>\n      <td>sg:05c00ab60e24448a8c15304873a7833f</td>\n      <td>90029</td>\n      <td>04/20/2020</td>\n      <td>2</td>\n    </tr>\n    <tr>\n      <th>1</th>\n      <td>sg:05c00ab60e24448a8c15304873a7833f</td>\n      <td>90029</td>\n      <td>04/21/2020</td>\n      <td>3</td>\n    </tr>\n    <tr>\n      <th>2</th>\n      <td>sg:05c00ab60e24448a8c15304873a7833f</td>\n      <td>90029</td>\n      <td>04/22/2020</td>\n      <td>2</td>\n    </tr>\n    <tr>\n      <th>3</th>\n      <td>sg:05c00ab60e24448a8c15304873a7833f</td>\n      <td>90029</td>\n      <td>04/23/2020</td>\n      <td>3</td>\n    </tr>\n    <tr>\n      <th>4</th>\n      <td>sg:05c00ab60e24448a8c15304873a7833f</td>\n      <td>90029</td>\n      <td>04/24/2020</td>\n      <td>3</td>\n    </tr>\n    <tr>\n      <th>...</th>\n      <td>...</td>\n      <td>...</td>\n      <td>...</td>\n      <td>...</td>\n    </tr>\n    <tr>\n      <th>831350</th>\n      <td>sg:f81bd5555e0a438b8c587b2092d32c1e</td>\n      <td>90057</td>\n      <td>05/20/2020</td>\n      <td>3</td>\n    </tr>\n    <tr>\n      <th>831351</th>\n      <td>sg:f81bd5555e0a438b8c587b2092d32c1e</td>\n      <td>90057</td>\n      <td>05/21/2020</td>\n      <td>4</td>\n    </tr>\n    <tr>\n      <th>831352</th>\n      <td>sg:f81bd5555e0a438b8c587b2092d32c1e</td>\n      <td>90057</td>\n      <td>05/22/2020</td>\n      <td>4</td>\n    </tr>\n    <tr>\n      <th>831353</th>\n      <td>sg:f81bd5555e0a438b8c587b2092d32c1e</td>\n      <td>90057</td>\n      <td>05/23/2020</td>\n      <td>4</td>\n    </tr>\n    <tr>\n      <th>831354</th>\n      <td>sg:f81bd5555e0a438b8c587b2092d32c1e</td>\n      <td>90057</td>\n      <td>05/24/2020</td>\n      <td>0</td>\n    </tr>\n  </tbody>\n</table>\n<p>831355 rows × 4 columns</p>\n</div>"
     },
     "execution_count": 11,
     "metadata": {},
     "output_type": "execute_result"
    }
   ],
   "source": [
    "main_df_pd = main_df.toPandas()\n",
    "traffic_df2 = traffic_df1.merge(main_df_pd, how=\"inner\", on=\"safegraph_place_id\") \\\n",
    "    [['safegraph_place_id', 'postal_code', 'Day', 'Visits']]\n",
    "traffic_df2"
   ],
   "metadata": {
    "collapsed": false,
    "pycharm": {
     "name": "#%%\n"
    }
   }
  },
  {
   "cell_type": "code",
   "execution_count": 12,
   "outputs": [],
   "source": [
    "traffic_df2.to_csv(os.path.join(\"output\", \"foot_traffic_time_series.csv\"), index=False)"
   ],
   "metadata": {
    "collapsed": false,
    "pycharm": {
     "name": "#%%\n"
    }
   }
  },
  {
   "cell_type": "markdown",
   "source": [
    "Total Running time (s)"
   ],
   "metadata": {
    "collapsed": false,
    "pycharm": {
     "name": "#%% md\n"
    }
   }
  },
  {
   "cell_type": "code",
   "execution_count": 13,
   "outputs": [
    {
     "data": {
      "text/plain": "293.4430000782013"
     },
     "execution_count": 13,
     "metadata": {},
     "output_type": "execute_result"
    }
   ],
   "source": [
    "time.time() - start_time"
   ],
   "metadata": {
    "collapsed": false,
    "pycharm": {
     "name": "#%%\n"
    }
   }
  },
  {
   "cell_type": "markdown",
   "source": [
    "## Collecting the data for the places of interest\n",
    "Read the core places dataset and combine the 5 parts, then filter by LA zip codes,\n",
    "and filter the places present in traffic data df by left_anti join\n",
    "https://docs.safegraph.com/docs#section-core-places"
   ],
   "metadata": {
    "collapsed": false
   }
  },
  {
   "cell_type": "code",
   "execution_count": 14,
   "outputs": [
    {
     "data": {
      "text/plain": "47000"
     },
     "execution_count": 14,
     "metadata": {},
     "output_type": "execute_result"
    }
   ],
   "source": [
    "start_time = time.time()\n",
    "\n",
    "file1 = os.path.join(\"CorePlaces\", \"core_poi-part1.csv\")\n",
    "file_list = [os.path.join(\"CorePlaces\", \"core_poi-part2.csv\"), os.path.join(\"CorePlaces\", \"core_poi-part3.csv\"), os.path.join(\"CorePlaces\", \"core_poi-part4.csv\"), os.path.join(\"CorePlaces\", \"core_poi-part5.csv\")]\n",
    "\n",
    "places_df = ss.read.csv(file1, header=True)\n",
    "for file in file_list:\n",
    "    temp = ss.read.csv(file, header=True)\n",
    "    places_df = places_df.union(temp)\n",
    "\n",
    "places_df = places_df.filter(places_df.postal_code.isin(zip_codes))\n",
    "places_df.count()"
   ],
   "metadata": {
    "collapsed": false,
    "pycharm": {
     "name": "#%%\n"
    }
   }
  },
  {
   "cell_type": "code",
   "source": [
    "places_df = places_df.join(this_week_df, how='inner', on='safegraph_place_id').persist()\n",
    "places_df.count()"
   ],
   "metadata": {
    "collapsed": false,
    "pycharm": {
     "name": "#%%\n"
    }
   },
   "execution_count": 15,
   "outputs": [
    {
     "data": {
      "text/plain": "23753"
     },
     "execution_count": 15,
     "metadata": {},
     "output_type": "execute_result"
    }
   ]
  },
  {
   "cell_type": "markdown",
   "source": [
    "Exporting to csv"
   ],
   "metadata": {
    "collapsed": false,
    "pycharm": {
     "name": "#%% md\n"
    }
   }
  },
  {
   "cell_type": "code",
   "execution_count": 16,
   "outputs": [],
   "source": [
    "places_df_pd = places_df.toPandas()\n",
    "places_df_pd.to_csv(os.path.join(\"output\", \"places_info.csv\"), index=False)"
   ],
   "metadata": {
    "collapsed": false,
    "pycharm": {
     "name": "#%%\n"
    }
   }
  },
  {
   "cell_type": "markdown",
   "source": [
    "Total Running time (s)"
   ],
   "metadata": {
    "collapsed": false
   }
  },
  {
   "cell_type": "code",
   "execution_count": 17,
   "outputs": [
    {
     "data": {
      "text/plain": "10.740000009536743"
     },
     "execution_count": 17,
     "metadata": {},
     "output_type": "execute_result"
    }
   ],
   "source": [
    "time.time() - start_time"
   ],
   "metadata": {
    "collapsed": false,
    "pycharm": {
     "name": "#%%\n"
    }
   }
  }
 ],
 "metadata": {
  "kernelspec": {
   "display_name": "Python 3",
   "language": "python",
   "name": "python3"
  },
  "language_info": {
   "codemirror_mode": {
    "name": "ipython",
    "version": 2
   },
   "file_extension": ".py",
   "mimetype": "text/x-python",
   "name": "python",
   "nbconvert_exporter": "python",
   "pygments_lexer": "ipython2",
   "version": "2.7.6"
  }
 },
 "nbformat": 4,
 "nbformat_minor": 0
}
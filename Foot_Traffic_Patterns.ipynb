{
 "cells": [
  {
   "cell_type": "markdown",
   "source": [
    "# SafeGraph foot traffic data processing\n",
    "\n",
    "Read the most recent week csv from Safeguard\n",
    "s3://sg-c19-response/weekly-patterns/\n",
    "SafeGraph information about their data:\n",
    "https://docs.google.com/spreadsheets/u/1/d/1UNWvPzkUTTlXBZ6M6iGhM_7sr8h-MxsZdE7iOszkAmk/htmlview#"
   ],
   "metadata": {
    "collapsed": false,
    "pycharm": {
     "name": "#%% md\n"
    }
   }
  },
  {
   "cell_type": "code",
   "execution_count": 5,
   "outputs": [
    {
     "data": {
      "text/plain": "Index(['safegraph_place_id', 'location_name', 'street_address', 'city',\n       'region', 'postal_code', 'brands', 'naics_code', 'date_range_start',\n       'date_range_end', 'raw_visit_counts', 'raw_visitor_counts',\n       'visits_by_day', 'visits_by_each_hour', 'visitor_home_cbgs',\n       'visitor_country_of_origin', 'distance_from_home', 'median_dwell',\n       'bucketed_dwell_times', 'related_same_day_brand',\n       'related_same_week_brand', 'device_type', 'iso_country_code',\n       'zip_int'],\n      dtype='object')"
     },
     "execution_count": 5,
     "metadata": {},
     "output_type": "execute_result"
    }
   ],
   "source": [
    "import pandas as pd\n",
    "\n",
    "file = \"2020-05-04-weekly-patterns.csv\"\n",
    "week = file[0:10]\n",
    "main_df = pd.read_csv(file)\n",
    "main_df['zip_int'] = pd.to_numeric(main_df.postal_code)\n",
    "main_df = main_df[(main_df.zip_int >= 90001) & (main_df.zip_int <= 90899)]\n",
    "main_df.columns"
   ],
   "metadata": {
    "collapsed": false,
    "pycharm": {
     "name": "#%%\n"
    }
   }
  },
  {
   "cell_type": "markdown",
   "source": [
    "Selecting the columns of interest"
   ],
   "metadata": {
    "collapsed": false,
    "pycharm": {
     "name": "#%% md\n"
    }
   }
  },
  {
   "cell_type": "code",
   "execution_count": 6,
   "outputs": [
    {
     "data": {
      "text/plain": "                          safegraph_place_id  \\\n116      sg:03eaa2b5b78646c49dcc2aa05ce3131c   \n123      sg:043e398a8ff240a5ba5f323fa36317f4   \n170      sg:05e114ea81c04f6aabb93972c2164db1   \n178      sg:06080e63312648bb9c0f64e636af86dd   \n277      sg:09503ad6209a48d0b4c62d8a8aec4320   \n...                                      ...   \n3676089  sg:f8848b4100dd4eafba617046048edf7e   \n3676098  sg:f8f9da1c84344ab3b3e066ffbd5de36c   \n3676145  sg:fa96742bd6844e39a32e1940a8e7317a   \n3676168  sg:fb94c5c46de54ece8bdb6ffecc182de5   \n3676194  sg:fce42f6a79db424cb746727105d3d5b3   \n\n                                      location_name  \\\n116                                   El Pollo Inka   \n123                                       Pizza Hut   \n170                                      McDonald's   \n178                           Knott's Chicken To Go   \n277                                 Big Lots Stores   \n...                                             ...   \n3676089  Professional Music Teacher and Piano Tuner   \n3676098                                        ARCO   \n3676145              Huntington Harbor Boat Rentals   \n3676168                     Family Mennonite Church   \n3676194              Orange County Christian Church   \n\n                                   street_address          city  postal_code  \\\n116                          15400 Hawthorne Blvd      Lawndale        90260   \n123                              1173 W Carson St      Torrance        90502   \n170                          4947 Huntington Dr N   Los Angeles        90032   \n178      California Marketplace Knotts Berry Farm    Buena Park        90620   \n277                           9020 Firestone Blvd        Downey        90241   \n...                                           ...           ...          ...   \n3676089                           15859 Janine Dr      Whittier        90603   \n3676098               3100 N Los Coyotes Diagonal    Long Beach        90808   \n3676145                   16732 Pacific Coast Hwy  Sunset Beach        90742   \n3676168                      6520 S Normandie Ave   Los Angeles        90044   \n3676194                            4872 Bishop St       Cypress        90630   \n\n                  brands  naics_code  raw_visit_counts  raw_visitor_counts  \\\n116        El Pollo Inka    722511.0                26                  25   \n123            Pizza Hut    722513.0                15                  14   \n170           McDonald's    722513.0               106                  90   \n178                  NaN    722511.0                70                  56   \n277      Big Lots Stores    452319.0                88                  77   \n...                  ...         ...               ...                 ...   \n3676089              NaN    451140.0                13                   4   \n3676098             ARCO    447110.0                32                  28   \n3676145              NaN    441222.0                24                  14   \n3676168              NaN    813110.0                 3                   3   \n3676194              NaN    813110.0                 7                   4   \n\n                 visits_by_day  distance_from_home  median_dwell  \n116            [1,0,1,6,6,6,6]              5610.0           9.0  \n123            [1,1,3,2,3,1,4]              2029.0           9.0  \n170      [17,12,21,7,10,19,20]              1333.0           8.0  \n178        [0,2,2,10,11,25,20]             25892.0          28.0  \n277      [10,4,11,10,20,12,21]              4376.0          20.0  \n...                        ...                 ...           ...  \n3676089        [0,1,3,3,1,3,2]                 NaN         102.0  \n3676098        [3,5,4,3,7,4,6]              3738.0           6.5  \n3676145        [0,2,1,4,5,7,5]              2637.0          24.0  \n3676168        [0,0,0,0,0,1,2]                 NaN          29.0  \n3676194        [2,0,1,1,0,2,1]                 NaN         141.0  \n\n[66449 rows x 12 columns]",
      "text/html": "<div>\n<style scoped>\n    .dataframe tbody tr th:only-of-type {\n        vertical-align: middle;\n    }\n\n    .dataframe tbody tr th {\n        vertical-align: top;\n    }\n\n    .dataframe thead th {\n        text-align: right;\n    }\n</style>\n<table border=\"1\" class=\"dataframe\">\n  <thead>\n    <tr style=\"text-align: right;\">\n      <th></th>\n      <th>safegraph_place_id</th>\n      <th>location_name</th>\n      <th>street_address</th>\n      <th>city</th>\n      <th>postal_code</th>\n      <th>brands</th>\n      <th>naics_code</th>\n      <th>raw_visit_counts</th>\n      <th>raw_visitor_counts</th>\n      <th>visits_by_day</th>\n      <th>distance_from_home</th>\n      <th>median_dwell</th>\n    </tr>\n  </thead>\n  <tbody>\n    <tr>\n      <th>116</th>\n      <td>sg:03eaa2b5b78646c49dcc2aa05ce3131c</td>\n      <td>El Pollo Inka</td>\n      <td>15400 Hawthorne Blvd</td>\n      <td>Lawndale</td>\n      <td>90260</td>\n      <td>El Pollo Inka</td>\n      <td>722511.0</td>\n      <td>26</td>\n      <td>25</td>\n      <td>[1,0,1,6,6,6,6]</td>\n      <td>5610.0</td>\n      <td>9.0</td>\n    </tr>\n    <tr>\n      <th>123</th>\n      <td>sg:043e398a8ff240a5ba5f323fa36317f4</td>\n      <td>Pizza Hut</td>\n      <td>1173 W Carson St</td>\n      <td>Torrance</td>\n      <td>90502</td>\n      <td>Pizza Hut</td>\n      <td>722513.0</td>\n      <td>15</td>\n      <td>14</td>\n      <td>[1,1,3,2,3,1,4]</td>\n      <td>2029.0</td>\n      <td>9.0</td>\n    </tr>\n    <tr>\n      <th>170</th>\n      <td>sg:05e114ea81c04f6aabb93972c2164db1</td>\n      <td>McDonald's</td>\n      <td>4947 Huntington Dr N</td>\n      <td>Los Angeles</td>\n      <td>90032</td>\n      <td>McDonald's</td>\n      <td>722513.0</td>\n      <td>106</td>\n      <td>90</td>\n      <td>[17,12,21,7,10,19,20]</td>\n      <td>1333.0</td>\n      <td>8.0</td>\n    </tr>\n    <tr>\n      <th>178</th>\n      <td>sg:06080e63312648bb9c0f64e636af86dd</td>\n      <td>Knott's Chicken To Go</td>\n      <td>California Marketplace Knotts Berry Farm</td>\n      <td>Buena Park</td>\n      <td>90620</td>\n      <td>NaN</td>\n      <td>722511.0</td>\n      <td>70</td>\n      <td>56</td>\n      <td>[0,2,2,10,11,25,20]</td>\n      <td>25892.0</td>\n      <td>28.0</td>\n    </tr>\n    <tr>\n      <th>277</th>\n      <td>sg:09503ad6209a48d0b4c62d8a8aec4320</td>\n      <td>Big Lots Stores</td>\n      <td>9020 Firestone Blvd</td>\n      <td>Downey</td>\n      <td>90241</td>\n      <td>Big Lots Stores</td>\n      <td>452319.0</td>\n      <td>88</td>\n      <td>77</td>\n      <td>[10,4,11,10,20,12,21]</td>\n      <td>4376.0</td>\n      <td>20.0</td>\n    </tr>\n    <tr>\n      <th>...</th>\n      <td>...</td>\n      <td>...</td>\n      <td>...</td>\n      <td>...</td>\n      <td>...</td>\n      <td>...</td>\n      <td>...</td>\n      <td>...</td>\n      <td>...</td>\n      <td>...</td>\n      <td>...</td>\n      <td>...</td>\n    </tr>\n    <tr>\n      <th>3676089</th>\n      <td>sg:f8848b4100dd4eafba617046048edf7e</td>\n      <td>Professional Music Teacher and Piano Tuner</td>\n      <td>15859 Janine Dr</td>\n      <td>Whittier</td>\n      <td>90603</td>\n      <td>NaN</td>\n      <td>451140.0</td>\n      <td>13</td>\n      <td>4</td>\n      <td>[0,1,3,3,1,3,2]</td>\n      <td>NaN</td>\n      <td>102.0</td>\n    </tr>\n    <tr>\n      <th>3676098</th>\n      <td>sg:f8f9da1c84344ab3b3e066ffbd5de36c</td>\n      <td>ARCO</td>\n      <td>3100 N Los Coyotes Diagonal</td>\n      <td>Long Beach</td>\n      <td>90808</td>\n      <td>ARCO</td>\n      <td>447110.0</td>\n      <td>32</td>\n      <td>28</td>\n      <td>[3,5,4,3,7,4,6]</td>\n      <td>3738.0</td>\n      <td>6.5</td>\n    </tr>\n    <tr>\n      <th>3676145</th>\n      <td>sg:fa96742bd6844e39a32e1940a8e7317a</td>\n      <td>Huntington Harbor Boat Rentals</td>\n      <td>16732 Pacific Coast Hwy</td>\n      <td>Sunset Beach</td>\n      <td>90742</td>\n      <td>NaN</td>\n      <td>441222.0</td>\n      <td>24</td>\n      <td>14</td>\n      <td>[0,2,1,4,5,7,5]</td>\n      <td>2637.0</td>\n      <td>24.0</td>\n    </tr>\n    <tr>\n      <th>3676168</th>\n      <td>sg:fb94c5c46de54ece8bdb6ffecc182de5</td>\n      <td>Family Mennonite Church</td>\n      <td>6520 S Normandie Ave</td>\n      <td>Los Angeles</td>\n      <td>90044</td>\n      <td>NaN</td>\n      <td>813110.0</td>\n      <td>3</td>\n      <td>3</td>\n      <td>[0,0,0,0,0,1,2]</td>\n      <td>NaN</td>\n      <td>29.0</td>\n    </tr>\n    <tr>\n      <th>3676194</th>\n      <td>sg:fce42f6a79db424cb746727105d3d5b3</td>\n      <td>Orange County Christian Church</td>\n      <td>4872 Bishop St</td>\n      <td>Cypress</td>\n      <td>90630</td>\n      <td>NaN</td>\n      <td>813110.0</td>\n      <td>7</td>\n      <td>4</td>\n      <td>[2,0,1,1,0,2,1]</td>\n      <td>NaN</td>\n      <td>141.0</td>\n    </tr>\n  </tbody>\n</table>\n<p>66449 rows × 12 columns</p>\n</div>"
     },
     "execution_count": 6,
     "metadata": {},
     "output_type": "execute_result"
    }
   ],
   "source": [
    "main_df = main_df[['safegraph_place_id', 'location_name', 'street_address', 'city', 'postal_code', 'brands',\n",
    "                   'naics_code', 'raw_visit_counts', 'raw_visitor_counts', 'visits_by_day', 'distance_from_home',\n",
    "                   'median_dwell']]\n",
    "main_df"
   ],
   "metadata": {
    "collapsed": false,
    "pycharm": {
     "name": "#%%\n"
    }
   }
  },
  {
   "cell_type": "markdown",
   "source": [
    "Category Statistics table is downloaded here:\n",
    "https://docs.safegraph.com/docs/places-summary-statistics#section-all-places\n",
    "\n",
    "Use apply to get categories from naics code"
   ],
   "metadata": {
    "collapsed": false
   }
  },
  {
   "cell_type": "code",
   "execution_count": 3,
   "outputs": [
    {
     "data": {
      "text/plain": "                          safegraph_place_id                 location_name  \\\n43       sg:01710fd28d364ee4abbca7d8692669ba              Momentum Fitness   \n79       sg:0294a45d5c4b430482321a0282900986                            76   \n95       sg:0327ad5802114d2fbfa8d170552bfc30  Life Science Outsourcing Inc   \n116      sg:03eaa2b5b78646c49dcc2aa05ce3131c                 El Pollo Inka   \n118      sg:03f9e9bad3254df3afeeea20fd4c188b       Frank's Tire and Brakes   \n...                                      ...                           ...   \n3676257  sg:ff39a2712c3b4e9bba46d253de4a8074             Creative Memories   \n3676258  sg:ff441c4f0a4f45699528d74178559458          El Avisador Magazine   \n3676260  sg:ff473ee639a5420eac5ab685db4d55d0            Harry Schmidt Park   \n3676272  sg:ffce99ddb5594d0f92cb1e0e44a90411         Inland Empire Barbell   \n3676275  sg:fff9c7922fb14c69aab387506692ec0c                Pilates On Cue   \n\n                           street_address       city  postal_code  \\\n43                      1635 Challenge Dr    Concord        94520   \n79                      805 S Harbor Blvd    Anaheim        92805   \n95                      830 Challenger St       Brea        92821   \n116                  15400 Hawthorne Blvd   Lawndale        90260   \n118                           299 29th St    Oakland        94611   \n...                                   ...        ...          ...   \n3676257                     1609 Petri Pl   San Jose        95118   \n3676258                   460 W Taylor St   San Jose        95110   \n3676260             Linden & Meredith Ave    Gustine        95322   \n3676272      1200 Arizona St Unit Unit B7   Redlands        92374   \n3676275  162 S Rancho Santa Fe Rd Ste A60  Encinitas        92024   \n\n                brands  naics_code  raw_visit_counts  raw_visitor_counts  \\\n43                 NaN    713940.0                 6                   2   \n79                  76    447110.0                16                  15   \n95                 NaN    621610.0                45                  13   \n116      El Pollo Inka    722511.0                26                  25   \n118                NaN    441310.0                66                  54   \n...                ...         ...               ...                 ...   \n3676257            NaN    451130.0                13                   9   \n3676258            NaN    451211.0                10                   8   \n3676260            NaN    712190.0                62                  34   \n3676272            NaN    713940.0                10                   6   \n3676275            NaN    713940.0                 3                   3   \n\n               visits_by_day  distance_from_home  median_dwell  \\\n43           [0,1,0,3,2,0,0]                 NaN         241.5   \n79           [2,3,2,0,4,3,2]              4416.0           7.0   \n95         [0,7,9,9,10,10,0]             16592.0         408.0   \n116          [1,0,1,6,6,6,6]              5610.0           9.0   \n118      [5,15,9,10,4,10,13]              6014.0          22.0   \n...                      ...                 ...           ...   \n3676257      [0,0,0,1,1,6,5]              2085.0         103.0   \n3676258      [2,3,1,1,2,1,0]              5601.0          63.5   \n3676260   [7,12,11,9,6,7,10]              7594.0          40.0   \n3676272      [0,2,1,1,2,1,3]              5619.0          55.5   \n3676275      [0,0,0,1,0,1,1]                 NaN          24.0   \n\n                     category  \n43                      Other  \n79             General Stores  \n95                Health Care  \n116      Sit Down Restaurants  \n118            General Stores  \n...                       ...  \n3676257        General Stores  \n3676258        General Stores  \n3676260                 Other  \n3676272                 Other  \n3676275                 Other  \n\n[420387 rows x 13 columns]",
      "text/html": "<div>\n<style scoped>\n    .dataframe tbody tr th:only-of-type {\n        vertical-align: middle;\n    }\n\n    .dataframe tbody tr th {\n        vertical-align: top;\n    }\n\n    .dataframe thead th {\n        text-align: right;\n    }\n</style>\n<table border=\"1\" class=\"dataframe\">\n  <thead>\n    <tr style=\"text-align: right;\">\n      <th></th>\n      <th>safegraph_place_id</th>\n      <th>location_name</th>\n      <th>street_address</th>\n      <th>city</th>\n      <th>postal_code</th>\n      <th>brands</th>\n      <th>naics_code</th>\n      <th>raw_visit_counts</th>\n      <th>raw_visitor_counts</th>\n      <th>visits_by_day</th>\n      <th>distance_from_home</th>\n      <th>median_dwell</th>\n      <th>category</th>\n    </tr>\n  </thead>\n  <tbody>\n    <tr>\n      <th>43</th>\n      <td>sg:01710fd28d364ee4abbca7d8692669ba</td>\n      <td>Momentum Fitness</td>\n      <td>1635 Challenge Dr</td>\n      <td>Concord</td>\n      <td>94520</td>\n      <td>NaN</td>\n      <td>713940.0</td>\n      <td>6</td>\n      <td>2</td>\n      <td>[0,1,0,3,2,0,0]</td>\n      <td>NaN</td>\n      <td>241.5</td>\n      <td>Other</td>\n    </tr>\n    <tr>\n      <th>79</th>\n      <td>sg:0294a45d5c4b430482321a0282900986</td>\n      <td>76</td>\n      <td>805 S Harbor Blvd</td>\n      <td>Anaheim</td>\n      <td>92805</td>\n      <td>76</td>\n      <td>447110.0</td>\n      <td>16</td>\n      <td>15</td>\n      <td>[2,3,2,0,4,3,2]</td>\n      <td>4416.0</td>\n      <td>7.0</td>\n      <td>General Stores</td>\n    </tr>\n    <tr>\n      <th>95</th>\n      <td>sg:0327ad5802114d2fbfa8d170552bfc30</td>\n      <td>Life Science Outsourcing Inc</td>\n      <td>830 Challenger St</td>\n      <td>Brea</td>\n      <td>92821</td>\n      <td>NaN</td>\n      <td>621610.0</td>\n      <td>45</td>\n      <td>13</td>\n      <td>[0,7,9,9,10,10,0]</td>\n      <td>16592.0</td>\n      <td>408.0</td>\n      <td>Health Care</td>\n    </tr>\n    <tr>\n      <th>116</th>\n      <td>sg:03eaa2b5b78646c49dcc2aa05ce3131c</td>\n      <td>El Pollo Inka</td>\n      <td>15400 Hawthorne Blvd</td>\n      <td>Lawndale</td>\n      <td>90260</td>\n      <td>El Pollo Inka</td>\n      <td>722511.0</td>\n      <td>26</td>\n      <td>25</td>\n      <td>[1,0,1,6,6,6,6]</td>\n      <td>5610.0</td>\n      <td>9.0</td>\n      <td>Sit Down Restaurants</td>\n    </tr>\n    <tr>\n      <th>118</th>\n      <td>sg:03f9e9bad3254df3afeeea20fd4c188b</td>\n      <td>Frank's Tire and Brakes</td>\n      <td>299 29th St</td>\n      <td>Oakland</td>\n      <td>94611</td>\n      <td>NaN</td>\n      <td>441310.0</td>\n      <td>66</td>\n      <td>54</td>\n      <td>[5,15,9,10,4,10,13]</td>\n      <td>6014.0</td>\n      <td>22.0</td>\n      <td>General Stores</td>\n    </tr>\n    <tr>\n      <th>...</th>\n      <td>...</td>\n      <td>...</td>\n      <td>...</td>\n      <td>...</td>\n      <td>...</td>\n      <td>...</td>\n      <td>...</td>\n      <td>...</td>\n      <td>...</td>\n      <td>...</td>\n      <td>...</td>\n      <td>...</td>\n      <td>...</td>\n    </tr>\n    <tr>\n      <th>3676257</th>\n      <td>sg:ff39a2712c3b4e9bba46d253de4a8074</td>\n      <td>Creative Memories</td>\n      <td>1609 Petri Pl</td>\n      <td>San Jose</td>\n      <td>95118</td>\n      <td>NaN</td>\n      <td>451130.0</td>\n      <td>13</td>\n      <td>9</td>\n      <td>[0,0,0,1,1,6,5]</td>\n      <td>2085.0</td>\n      <td>103.0</td>\n      <td>General Stores</td>\n    </tr>\n    <tr>\n      <th>3676258</th>\n      <td>sg:ff441c4f0a4f45699528d74178559458</td>\n      <td>El Avisador Magazine</td>\n      <td>460 W Taylor St</td>\n      <td>San Jose</td>\n      <td>95110</td>\n      <td>NaN</td>\n      <td>451211.0</td>\n      <td>10</td>\n      <td>8</td>\n      <td>[2,3,1,1,2,1,0]</td>\n      <td>5601.0</td>\n      <td>63.5</td>\n      <td>General Stores</td>\n    </tr>\n    <tr>\n      <th>3676260</th>\n      <td>sg:ff473ee639a5420eac5ab685db4d55d0</td>\n      <td>Harry Schmidt Park</td>\n      <td>Linden &amp; Meredith Ave</td>\n      <td>Gustine</td>\n      <td>95322</td>\n      <td>NaN</td>\n      <td>712190.0</td>\n      <td>62</td>\n      <td>34</td>\n      <td>[7,12,11,9,6,7,10]</td>\n      <td>7594.0</td>\n      <td>40.0</td>\n      <td>Other</td>\n    </tr>\n    <tr>\n      <th>3676272</th>\n      <td>sg:ffce99ddb5594d0f92cb1e0e44a90411</td>\n      <td>Inland Empire Barbell</td>\n      <td>1200 Arizona St Unit Unit B7</td>\n      <td>Redlands</td>\n      <td>92374</td>\n      <td>NaN</td>\n      <td>713940.0</td>\n      <td>10</td>\n      <td>6</td>\n      <td>[0,2,1,1,2,1,3]</td>\n      <td>5619.0</td>\n      <td>55.5</td>\n      <td>Other</td>\n    </tr>\n    <tr>\n      <th>3676275</th>\n      <td>sg:fff9c7922fb14c69aab387506692ec0c</td>\n      <td>Pilates On Cue</td>\n      <td>162 S Rancho Santa Fe Rd Ste A60</td>\n      <td>Encinitas</td>\n      <td>92024</td>\n      <td>NaN</td>\n      <td>713940.0</td>\n      <td>3</td>\n      <td>3</td>\n      <td>[0,0,0,1,0,1,1]</td>\n      <td>NaN</td>\n      <td>24.0</td>\n      <td>Other</td>\n    </tr>\n  </tbody>\n</table>\n<p>420387 rows × 13 columns</p>\n</div>"
     },
     "execution_count": 3,
     "metadata": {},
     "output_type": "execute_result"
    }
   ],
   "source": [
    "def get_category(df):\n",
    "    if 445100 <= df.naics_code <= 445199:\n",
    "        return \"Supermarket\"\n",
    "    if df.naics_code == 722511:\n",
    "        return \"Sit Down Restaurants\"\n",
    "    if df.naics_code == 722513:\n",
    "        return \"Counter Service Restaurants\"\n",
    "    if df.naics_code == 722515:\n",
    "        return \"Snack Bar\"\n",
    "    if 722400 <= df.naics_code <= 722499:\n",
    "        return \"Bars\"\n",
    "    if 620000 <= df.naics_code <= 629999:\n",
    "        return \"Health Care\"\n",
    "    if df.naics_code == 531120:\n",
    "        return \"Shopping Mall\"\n",
    "    if df.naics_code == 512131:\n",
    "        return \"Movie Theater\"\n",
    "    if 440000 <= df.naics_code <= 459999:\n",
    "        return \"General Stores\"\n",
    "    return \"Other\"\n",
    "\n",
    "main_df['category'] = main_df.apply(get_category, axis=1)\n",
    "main_df\n"
   ],
   "metadata": {
    "collapsed": false,
    "pycharm": {
     "name": "#%%\n"
    }
   }
  },
  {
   "cell_type": "markdown",
   "source": [
    "Opening last week's data"
   ],
   "metadata": {
    "collapsed": false,
    "pycharm": {
     "name": "#%% md\n"
    }
   }
  },
  {
   "cell_type": "code",
   "execution_count": 4,
   "outputs": [
    {
     "data": {
      "text/plain": "                          safegraph_place_id         visits_by_day\n3        sg:00128c68c0a44501b7ff7f5ac4fef61a       [0,0,0,0,0,1,0]\n12       sg:0061238a547f4fa9b400113d28334dcc       [0,1,0,0,0,0,0]\n38       sg:0176f163f007467ab14d6c9f250ad476       [6,1,1,3,3,2,1]\n44       sg:01a51f95c66e40efb4f67b5eca63a8c1       [0,1,0,0,0,0,0]\n56       sg:0213ee8ce87c4f1e916b800cc7b73be1       [1,1,0,3,3,2,3]\n...                                      ...                   ...\n3648437  sg:ff39a2712c3b4e9bba46d253de4a8074       [3,2,6,1,4,2,2]\n3648438  sg:ff441c4f0a4f45699528d74178559458       [0,1,0,1,4,1,0]\n3648440  sg:ff473ee639a5420eac5ab685db4d55d0  [10,11,10,7,13,5,13]\n3648452  sg:ffce99ddb5594d0f92cb1e0e44a90411       [1,1,1,1,1,1,0]\n3648455  sg:fff9c7922fb14c69aab387506692ec0c       [0,0,1,0,1,1,0]\n\n[418465 rows x 2 columns]",
      "text/html": "<div>\n<style scoped>\n    .dataframe tbody tr th:only-of-type {\n        vertical-align: middle;\n    }\n\n    .dataframe tbody tr th {\n        vertical-align: top;\n    }\n\n    .dataframe thead th {\n        text-align: right;\n    }\n</style>\n<table border=\"1\" class=\"dataframe\">\n  <thead>\n    <tr style=\"text-align: right;\">\n      <th></th>\n      <th>safegraph_place_id</th>\n      <th>visits_by_day</th>\n    </tr>\n  </thead>\n  <tbody>\n    <tr>\n      <th>3</th>\n      <td>sg:00128c68c0a44501b7ff7f5ac4fef61a</td>\n      <td>[0,0,0,0,0,1,0]</td>\n    </tr>\n    <tr>\n      <th>12</th>\n      <td>sg:0061238a547f4fa9b400113d28334dcc</td>\n      <td>[0,1,0,0,0,0,0]</td>\n    </tr>\n    <tr>\n      <th>38</th>\n      <td>sg:0176f163f007467ab14d6c9f250ad476</td>\n      <td>[6,1,1,3,3,2,1]</td>\n    </tr>\n    <tr>\n      <th>44</th>\n      <td>sg:01a51f95c66e40efb4f67b5eca63a8c1</td>\n      <td>[0,1,0,0,0,0,0]</td>\n    </tr>\n    <tr>\n      <th>56</th>\n      <td>sg:0213ee8ce87c4f1e916b800cc7b73be1</td>\n      <td>[1,1,0,3,3,2,3]</td>\n    </tr>\n    <tr>\n      <th>...</th>\n      <td>...</td>\n      <td>...</td>\n    </tr>\n    <tr>\n      <th>3648437</th>\n      <td>sg:ff39a2712c3b4e9bba46d253de4a8074</td>\n      <td>[3,2,6,1,4,2,2]</td>\n    </tr>\n    <tr>\n      <th>3648438</th>\n      <td>sg:ff441c4f0a4f45699528d74178559458</td>\n      <td>[0,1,0,1,4,1,0]</td>\n    </tr>\n    <tr>\n      <th>3648440</th>\n      <td>sg:ff473ee639a5420eac5ab685db4d55d0</td>\n      <td>[10,11,10,7,13,5,13]</td>\n    </tr>\n    <tr>\n      <th>3648452</th>\n      <td>sg:ffce99ddb5594d0f92cb1e0e44a90411</td>\n      <td>[1,1,1,1,1,1,0]</td>\n    </tr>\n    <tr>\n      <th>3648455</th>\n      <td>sg:fff9c7922fb14c69aab387506692ec0c</td>\n      <td>[0,0,1,0,1,1,0]</td>\n    </tr>\n  </tbody>\n</table>\n<p>418465 rows × 2 columns</p>\n</div>"
     },
     "execution_count": 4,
     "metadata": {},
     "output_type": "execute_result"
    }
   ],
   "source": [
    "last_week_file = \"2020-04-26-weekly-patterns.csv\"\n",
    "last_week = last_week_file[0:10]\n",
    "last_week_df = pd.read_csv(last_week_file)\n",
    "last_week_df = last_week_df[last_week_df.region == 'CA']\n",
    "last_week_df = last_week_df[['safegraph_place_id', 'visits_by_day']]\n",
    "last_week_df"
   ],
   "metadata": {
    "collapsed": false,
    "pycharm": {
     "name": "#%%\n"
    }
   }
  },
  {
   "cell_type": "code",
   "execution_count": 5,
   "outputs": [
    {
     "data": {
      "text/plain": "                          safegraph_place_id                 location_name  \\\n43       sg:01710fd28d364ee4abbca7d8692669ba              Momentum Fitness   \n79       sg:0294a45d5c4b430482321a0282900986                            76   \n95       sg:0327ad5802114d2fbfa8d170552bfc30  Life Science Outsourcing Inc   \n116      sg:03eaa2b5b78646c49dcc2aa05ce3131c                 El Pollo Inka   \n118      sg:03f9e9bad3254df3afeeea20fd4c188b       Frank's Tire and Brakes   \n...                                      ...                           ...   \n3676257  sg:ff39a2712c3b4e9bba46d253de4a8074             Creative Memories   \n3676258  sg:ff441c4f0a4f45699528d74178559458          El Avisador Magazine   \n3676260  sg:ff473ee639a5420eac5ab685db4d55d0            Harry Schmidt Park   \n3676272  sg:ffce99ddb5594d0f92cb1e0e44a90411         Inland Empire Barbell   \n3676275  sg:fff9c7922fb14c69aab387506692ec0c                Pilates On Cue   \n\n                           street_address       city  postal_code  \\\n43                      1635 Challenge Dr    Concord        94520   \n79                      805 S Harbor Blvd    Anaheim        92805   \n95                      830 Challenger St       Brea        92821   \n116                  15400 Hawthorne Blvd   Lawndale        90260   \n118                           299 29th St    Oakland        94611   \n...                                   ...        ...          ...   \n3676257                     1609 Petri Pl   San Jose        95118   \n3676258                   460 W Taylor St   San Jose        95110   \n3676260             Linden & Meredith Ave    Gustine        95322   \n3676272      1200 Arizona St Unit Unit B7   Redlands        92374   \n3676275  162 S Rancho Santa Fe Rd Ste A60  Encinitas        92024   \n\n                brands  naics_code  raw_visit_counts  raw_visitor_counts  \\\n43                 NaN    713940.0                 6                   2   \n79                  76    447110.0                16                  15   \n95                 NaN    621610.0                45                  13   \n116      El Pollo Inka    722511.0                26                  25   \n118                NaN    441310.0                66                  54   \n...                ...         ...               ...                 ...   \n3676257            NaN    451130.0                13                   9   \n3676258            NaN    451211.0                10                   8   \n3676260            NaN    712190.0                62                  34   \n3676272            NaN    713940.0                10                   6   \n3676275            NaN    713940.0                 3                   3   \n\n        visits_by_day_2020-05-03  distance_from_home  median_dwell  \\\n43               [0,1,0,3,2,0,0]                 NaN         241.5   \n79               [2,3,2,0,4,3,2]              4416.0           7.0   \n95             [0,7,9,9,10,10,0]             16592.0         408.0   \n116              [1,0,1,6,6,6,6]              5610.0           9.0   \n118          [5,15,9,10,4,10,13]              6014.0          22.0   \n...                          ...                 ...           ...   \n3676257          [0,0,0,1,1,6,5]              2085.0         103.0   \n3676258          [2,3,1,1,2,1,0]              5601.0          63.5   \n3676260       [7,12,11,9,6,7,10]              7594.0          40.0   \n3676272          [0,2,1,1,2,1,3]              5619.0          55.5   \n3676275          [0,0,0,1,0,1,1]                 NaN          24.0   \n\n                     category  \n43                      Other  \n79             General Stores  \n95                Health Care  \n116      Sit Down Restaurants  \n118            General Stores  \n...                       ...  \n3676257        General Stores  \n3676258        General Stores  \n3676260                 Other  \n3676272                 Other  \n3676275                 Other  \n\n[420387 rows x 13 columns]",
      "text/html": "<div>\n<style scoped>\n    .dataframe tbody tr th:only-of-type {\n        vertical-align: middle;\n    }\n\n    .dataframe tbody tr th {\n        vertical-align: top;\n    }\n\n    .dataframe thead th {\n        text-align: right;\n    }\n</style>\n<table border=\"1\" class=\"dataframe\">\n  <thead>\n    <tr style=\"text-align: right;\">\n      <th></th>\n      <th>safegraph_place_id</th>\n      <th>location_name</th>\n      <th>street_address</th>\n      <th>city</th>\n      <th>postal_code</th>\n      <th>brands</th>\n      <th>naics_code</th>\n      <th>raw_visit_counts</th>\n      <th>raw_visitor_counts</th>\n      <th>visits_by_day_2020-05-03</th>\n      <th>distance_from_home</th>\n      <th>median_dwell</th>\n      <th>category</th>\n    </tr>\n  </thead>\n  <tbody>\n    <tr>\n      <th>43</th>\n      <td>sg:01710fd28d364ee4abbca7d8692669ba</td>\n      <td>Momentum Fitness</td>\n      <td>1635 Challenge Dr</td>\n      <td>Concord</td>\n      <td>94520</td>\n      <td>NaN</td>\n      <td>713940.0</td>\n      <td>6</td>\n      <td>2</td>\n      <td>[0,1,0,3,2,0,0]</td>\n      <td>NaN</td>\n      <td>241.5</td>\n      <td>Other</td>\n    </tr>\n    <tr>\n      <th>79</th>\n      <td>sg:0294a45d5c4b430482321a0282900986</td>\n      <td>76</td>\n      <td>805 S Harbor Blvd</td>\n      <td>Anaheim</td>\n      <td>92805</td>\n      <td>76</td>\n      <td>447110.0</td>\n      <td>16</td>\n      <td>15</td>\n      <td>[2,3,2,0,4,3,2]</td>\n      <td>4416.0</td>\n      <td>7.0</td>\n      <td>General Stores</td>\n    </tr>\n    <tr>\n      <th>95</th>\n      <td>sg:0327ad5802114d2fbfa8d170552bfc30</td>\n      <td>Life Science Outsourcing Inc</td>\n      <td>830 Challenger St</td>\n      <td>Brea</td>\n      <td>92821</td>\n      <td>NaN</td>\n      <td>621610.0</td>\n      <td>45</td>\n      <td>13</td>\n      <td>[0,7,9,9,10,10,0]</td>\n      <td>16592.0</td>\n      <td>408.0</td>\n      <td>Health Care</td>\n    </tr>\n    <tr>\n      <th>116</th>\n      <td>sg:03eaa2b5b78646c49dcc2aa05ce3131c</td>\n      <td>El Pollo Inka</td>\n      <td>15400 Hawthorne Blvd</td>\n      <td>Lawndale</td>\n      <td>90260</td>\n      <td>El Pollo Inka</td>\n      <td>722511.0</td>\n      <td>26</td>\n      <td>25</td>\n      <td>[1,0,1,6,6,6,6]</td>\n      <td>5610.0</td>\n      <td>9.0</td>\n      <td>Sit Down Restaurants</td>\n    </tr>\n    <tr>\n      <th>118</th>\n      <td>sg:03f9e9bad3254df3afeeea20fd4c188b</td>\n      <td>Frank's Tire and Brakes</td>\n      <td>299 29th St</td>\n      <td>Oakland</td>\n      <td>94611</td>\n      <td>NaN</td>\n      <td>441310.0</td>\n      <td>66</td>\n      <td>54</td>\n      <td>[5,15,9,10,4,10,13]</td>\n      <td>6014.0</td>\n      <td>22.0</td>\n      <td>General Stores</td>\n    </tr>\n    <tr>\n      <th>...</th>\n      <td>...</td>\n      <td>...</td>\n      <td>...</td>\n      <td>...</td>\n      <td>...</td>\n      <td>...</td>\n      <td>...</td>\n      <td>...</td>\n      <td>...</td>\n      <td>...</td>\n      <td>...</td>\n      <td>...</td>\n      <td>...</td>\n    </tr>\n    <tr>\n      <th>3676257</th>\n      <td>sg:ff39a2712c3b4e9bba46d253de4a8074</td>\n      <td>Creative Memories</td>\n      <td>1609 Petri Pl</td>\n      <td>San Jose</td>\n      <td>95118</td>\n      <td>NaN</td>\n      <td>451130.0</td>\n      <td>13</td>\n      <td>9</td>\n      <td>[0,0,0,1,1,6,5]</td>\n      <td>2085.0</td>\n      <td>103.0</td>\n      <td>General Stores</td>\n    </tr>\n    <tr>\n      <th>3676258</th>\n      <td>sg:ff441c4f0a4f45699528d74178559458</td>\n      <td>El Avisador Magazine</td>\n      <td>460 W Taylor St</td>\n      <td>San Jose</td>\n      <td>95110</td>\n      <td>NaN</td>\n      <td>451211.0</td>\n      <td>10</td>\n      <td>8</td>\n      <td>[2,3,1,1,2,1,0]</td>\n      <td>5601.0</td>\n      <td>63.5</td>\n      <td>General Stores</td>\n    </tr>\n    <tr>\n      <th>3676260</th>\n      <td>sg:ff473ee639a5420eac5ab685db4d55d0</td>\n      <td>Harry Schmidt Park</td>\n      <td>Linden &amp; Meredith Ave</td>\n      <td>Gustine</td>\n      <td>95322</td>\n      <td>NaN</td>\n      <td>712190.0</td>\n      <td>62</td>\n      <td>34</td>\n      <td>[7,12,11,9,6,7,10]</td>\n      <td>7594.0</td>\n      <td>40.0</td>\n      <td>Other</td>\n    </tr>\n    <tr>\n      <th>3676272</th>\n      <td>sg:ffce99ddb5594d0f92cb1e0e44a90411</td>\n      <td>Inland Empire Barbell</td>\n      <td>1200 Arizona St Unit Unit B7</td>\n      <td>Redlands</td>\n      <td>92374</td>\n      <td>NaN</td>\n      <td>713940.0</td>\n      <td>10</td>\n      <td>6</td>\n      <td>[0,2,1,1,2,1,3]</td>\n      <td>5619.0</td>\n      <td>55.5</td>\n      <td>Other</td>\n    </tr>\n    <tr>\n      <th>3676275</th>\n      <td>sg:fff9c7922fb14c69aab387506692ec0c</td>\n      <td>Pilates On Cue</td>\n      <td>162 S Rancho Santa Fe Rd Ste A60</td>\n      <td>Encinitas</td>\n      <td>92024</td>\n      <td>NaN</td>\n      <td>713940.0</td>\n      <td>3</td>\n      <td>3</td>\n      <td>[0,0,0,1,0,1,1]</td>\n      <td>NaN</td>\n      <td>24.0</td>\n      <td>Other</td>\n    </tr>\n  </tbody>\n</table>\n<p>420387 rows × 13 columns</p>\n</div>"
     },
     "execution_count": 5,
     "metadata": {},
     "output_type": "execute_result"
    }
   ],
   "source": [
    "column_name = \"visits_by_day_\" + week\n",
    "main_df.rename(columns={\"visits_by_day\": column_name}, inplace=True)\n",
    "main_df"
   ],
   "metadata": {
    "collapsed": false,
    "pycharm": {
     "name": "#%%\n"
    }
   }
  },
  {
   "cell_type": "markdown",
   "source": [
    "Merging this week with last weeks data"
   ],
   "metadata": {
    "collapsed": false,
    "pycharm": {
     "name": "#%% md\n"
    }
   }
  },
  {
   "cell_type": "code",
   "execution_count": 6,
   "outputs": [
    {
     "data": {
      "text/plain": "                         safegraph_place_id                 location_name  \\\n0       sg:01710fd28d364ee4abbca7d8692669ba              Momentum Fitness   \n1       sg:0294a45d5c4b430482321a0282900986                            76   \n2       sg:0327ad5802114d2fbfa8d170552bfc30  Life Science Outsourcing Inc   \n3       sg:03eaa2b5b78646c49dcc2aa05ce3131c                 El Pollo Inka   \n4       sg:03f9e9bad3254df3afeeea20fd4c188b       Frank's Tire and Brakes   \n...                                     ...                           ...   \n388350  sg:ff39a2712c3b4e9bba46d253de4a8074             Creative Memories   \n388351  sg:ff441c4f0a4f45699528d74178559458          El Avisador Magazine   \n388352  sg:ff473ee639a5420eac5ab685db4d55d0            Harry Schmidt Park   \n388353  sg:ffce99ddb5594d0f92cb1e0e44a90411         Inland Empire Barbell   \n388354  sg:fff9c7922fb14c69aab387506692ec0c                Pilates On Cue   \n\n                          street_address       city  postal_code  \\\n0                      1635 Challenge Dr    Concord        94520   \n1                      805 S Harbor Blvd    Anaheim        92805   \n2                      830 Challenger St       Brea        92821   \n3                   15400 Hawthorne Blvd   Lawndale        90260   \n4                            299 29th St    Oakland        94611   \n...                                  ...        ...          ...   \n388350                     1609 Petri Pl   San Jose        95118   \n388351                   460 W Taylor St   San Jose        95110   \n388352             Linden & Meredith Ave    Gustine        95322   \n388353      1200 Arizona St Unit Unit B7   Redlands        92374   \n388354  162 S Rancho Santa Fe Rd Ste A60  Encinitas        92024   \n\n               brands  naics_code  raw_visit_counts  raw_visitor_counts  \\\n0                 NaN    713940.0                 6                   2   \n1                  76    447110.0                16                  15   \n2                 NaN    621610.0                45                  13   \n3       El Pollo Inka    722511.0                26                  25   \n4                 NaN    441310.0                66                  54   \n...               ...         ...               ...                 ...   \n388350            NaN    451130.0                13                   9   \n388351            NaN    451211.0                10                   8   \n388352            NaN    712190.0                62                  34   \n388353            NaN    713940.0                10                   6   \n388354            NaN    713940.0                 3                   3   \n\n       visits_by_day_2020-05-03  distance_from_home  median_dwell  \\\n0               [0,1,0,3,2,0,0]                 NaN         241.5   \n1               [2,3,2,0,4,3,2]              4416.0           7.0   \n2             [0,7,9,9,10,10,0]             16592.0         408.0   \n3               [1,0,1,6,6,6,6]              5610.0           9.0   \n4           [5,15,9,10,4,10,13]              6014.0          22.0   \n...                         ...                 ...           ...   \n388350          [0,0,0,1,1,6,5]              2085.0         103.0   \n388351          [2,3,1,1,2,1,0]              5601.0          63.5   \n388352       [7,12,11,9,6,7,10]              7594.0          40.0   \n388353          [0,2,1,1,2,1,3]              5619.0          55.5   \n388354          [0,0,0,1,0,1,1]                 NaN          24.0   \n\n                    category visits_by_day_2020-04-26  \n0                      Other          [0,1,0,0,2,0,0]  \n1             General Stores          [6,4,4,6,2,3,4]  \n2                Health Care        [0,9,10,7,11,9,1]  \n3       Sit Down Restaurants          [6,4,6,4,7,7,7]  \n4             General Stores          [2,6,8,6,3,4,9]  \n...                      ...                      ...  \n388350        General Stores          [3,2,6,1,4,2,2]  \n388351        General Stores          [0,1,0,1,4,1,0]  \n388352                 Other     [10,11,10,7,13,5,13]  \n388353                 Other          [1,1,1,1,1,1,0]  \n388354                 Other          [0,0,1,0,1,1,0]  \n\n[388355 rows x 14 columns]",
      "text/html": "<div>\n<style scoped>\n    .dataframe tbody tr th:only-of-type {\n        vertical-align: middle;\n    }\n\n    .dataframe tbody tr th {\n        vertical-align: top;\n    }\n\n    .dataframe thead th {\n        text-align: right;\n    }\n</style>\n<table border=\"1\" class=\"dataframe\">\n  <thead>\n    <tr style=\"text-align: right;\">\n      <th></th>\n      <th>safegraph_place_id</th>\n      <th>location_name</th>\n      <th>street_address</th>\n      <th>city</th>\n      <th>postal_code</th>\n      <th>brands</th>\n      <th>naics_code</th>\n      <th>raw_visit_counts</th>\n      <th>raw_visitor_counts</th>\n      <th>visits_by_day_2020-05-03</th>\n      <th>distance_from_home</th>\n      <th>median_dwell</th>\n      <th>category</th>\n      <th>visits_by_day_2020-04-26</th>\n    </tr>\n  </thead>\n  <tbody>\n    <tr>\n      <th>0</th>\n      <td>sg:01710fd28d364ee4abbca7d8692669ba</td>\n      <td>Momentum Fitness</td>\n      <td>1635 Challenge Dr</td>\n      <td>Concord</td>\n      <td>94520</td>\n      <td>NaN</td>\n      <td>713940.0</td>\n      <td>6</td>\n      <td>2</td>\n      <td>[0,1,0,3,2,0,0]</td>\n      <td>NaN</td>\n      <td>241.5</td>\n      <td>Other</td>\n      <td>[0,1,0,0,2,0,0]</td>\n    </tr>\n    <tr>\n      <th>1</th>\n      <td>sg:0294a45d5c4b430482321a0282900986</td>\n      <td>76</td>\n      <td>805 S Harbor Blvd</td>\n      <td>Anaheim</td>\n      <td>92805</td>\n      <td>76</td>\n      <td>447110.0</td>\n      <td>16</td>\n      <td>15</td>\n      <td>[2,3,2,0,4,3,2]</td>\n      <td>4416.0</td>\n      <td>7.0</td>\n      <td>General Stores</td>\n      <td>[6,4,4,6,2,3,4]</td>\n    </tr>\n    <tr>\n      <th>2</th>\n      <td>sg:0327ad5802114d2fbfa8d170552bfc30</td>\n      <td>Life Science Outsourcing Inc</td>\n      <td>830 Challenger St</td>\n      <td>Brea</td>\n      <td>92821</td>\n      <td>NaN</td>\n      <td>621610.0</td>\n      <td>45</td>\n      <td>13</td>\n      <td>[0,7,9,9,10,10,0]</td>\n      <td>16592.0</td>\n      <td>408.0</td>\n      <td>Health Care</td>\n      <td>[0,9,10,7,11,9,1]</td>\n    </tr>\n    <tr>\n      <th>3</th>\n      <td>sg:03eaa2b5b78646c49dcc2aa05ce3131c</td>\n      <td>El Pollo Inka</td>\n      <td>15400 Hawthorne Blvd</td>\n      <td>Lawndale</td>\n      <td>90260</td>\n      <td>El Pollo Inka</td>\n      <td>722511.0</td>\n      <td>26</td>\n      <td>25</td>\n      <td>[1,0,1,6,6,6,6]</td>\n      <td>5610.0</td>\n      <td>9.0</td>\n      <td>Sit Down Restaurants</td>\n      <td>[6,4,6,4,7,7,7]</td>\n    </tr>\n    <tr>\n      <th>4</th>\n      <td>sg:03f9e9bad3254df3afeeea20fd4c188b</td>\n      <td>Frank's Tire and Brakes</td>\n      <td>299 29th St</td>\n      <td>Oakland</td>\n      <td>94611</td>\n      <td>NaN</td>\n      <td>441310.0</td>\n      <td>66</td>\n      <td>54</td>\n      <td>[5,15,9,10,4,10,13]</td>\n      <td>6014.0</td>\n      <td>22.0</td>\n      <td>General Stores</td>\n      <td>[2,6,8,6,3,4,9]</td>\n    </tr>\n    <tr>\n      <th>...</th>\n      <td>...</td>\n      <td>...</td>\n      <td>...</td>\n      <td>...</td>\n      <td>...</td>\n      <td>...</td>\n      <td>...</td>\n      <td>...</td>\n      <td>...</td>\n      <td>...</td>\n      <td>...</td>\n      <td>...</td>\n      <td>...</td>\n      <td>...</td>\n    </tr>\n    <tr>\n      <th>388350</th>\n      <td>sg:ff39a2712c3b4e9bba46d253de4a8074</td>\n      <td>Creative Memories</td>\n      <td>1609 Petri Pl</td>\n      <td>San Jose</td>\n      <td>95118</td>\n      <td>NaN</td>\n      <td>451130.0</td>\n      <td>13</td>\n      <td>9</td>\n      <td>[0,0,0,1,1,6,5]</td>\n      <td>2085.0</td>\n      <td>103.0</td>\n      <td>General Stores</td>\n      <td>[3,2,6,1,4,2,2]</td>\n    </tr>\n    <tr>\n      <th>388351</th>\n      <td>sg:ff441c4f0a4f45699528d74178559458</td>\n      <td>El Avisador Magazine</td>\n      <td>460 W Taylor St</td>\n      <td>San Jose</td>\n      <td>95110</td>\n      <td>NaN</td>\n      <td>451211.0</td>\n      <td>10</td>\n      <td>8</td>\n      <td>[2,3,1,1,2,1,0]</td>\n      <td>5601.0</td>\n      <td>63.5</td>\n      <td>General Stores</td>\n      <td>[0,1,0,1,4,1,0]</td>\n    </tr>\n    <tr>\n      <th>388352</th>\n      <td>sg:ff473ee639a5420eac5ab685db4d55d0</td>\n      <td>Harry Schmidt Park</td>\n      <td>Linden &amp; Meredith Ave</td>\n      <td>Gustine</td>\n      <td>95322</td>\n      <td>NaN</td>\n      <td>712190.0</td>\n      <td>62</td>\n      <td>34</td>\n      <td>[7,12,11,9,6,7,10]</td>\n      <td>7594.0</td>\n      <td>40.0</td>\n      <td>Other</td>\n      <td>[10,11,10,7,13,5,13]</td>\n    </tr>\n    <tr>\n      <th>388353</th>\n      <td>sg:ffce99ddb5594d0f92cb1e0e44a90411</td>\n      <td>Inland Empire Barbell</td>\n      <td>1200 Arizona St Unit Unit B7</td>\n      <td>Redlands</td>\n      <td>92374</td>\n      <td>NaN</td>\n      <td>713940.0</td>\n      <td>10</td>\n      <td>6</td>\n      <td>[0,2,1,1,2,1,3]</td>\n      <td>5619.0</td>\n      <td>55.5</td>\n      <td>Other</td>\n      <td>[1,1,1,1,1,1,0]</td>\n    </tr>\n    <tr>\n      <th>388354</th>\n      <td>sg:fff9c7922fb14c69aab387506692ec0c</td>\n      <td>Pilates On Cue</td>\n      <td>162 S Rancho Santa Fe Rd Ste A60</td>\n      <td>Encinitas</td>\n      <td>92024</td>\n      <td>NaN</td>\n      <td>713940.0</td>\n      <td>3</td>\n      <td>3</td>\n      <td>[0,0,0,1,0,1,1]</td>\n      <td>NaN</td>\n      <td>24.0</td>\n      <td>Other</td>\n      <td>[0,0,1,0,1,1,0]</td>\n    </tr>\n  </tbody>\n</table>\n<p>388355 rows × 14 columns</p>\n</div>"
     },
     "execution_count": 6,
     "metadata": {},
     "output_type": "execute_result"
    }
   ],
   "source": [
    "main_df = pd.merge(main_df, last_week_df, how='inner', on='safegraph_place_id')\n",
    "column_name = \"visits_by_day_\" + last_week\n",
    "main_df.rename(columns={\"visits_by_day\": column_name}, inplace=True)\n",
    "main_df\n"
   ],
   "metadata": {
    "collapsed": false,
    "pycharm": {
     "name": "#%%\n"
    }
   }
  }
 ],
 "metadata": {
  "kernelspec": {
   "display_name": "Python 3",
   "language": "python",
   "name": "python3"
  },
  "language_info": {
   "codemirror_mode": {
    "name": "ipython",
    "version": 2
   },
   "file_extension": ".py",
   "mimetype": "text/x-python",
   "name": "python",
   "nbconvert_exporter": "python",
   "pygments_lexer": "ipython2",
   "version": "2.7.6"
  }
 },
 "nbformat": 4,
 "nbformat_minor": 0
}
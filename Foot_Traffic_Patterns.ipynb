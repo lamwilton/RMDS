{
 "cells": [
  {
   "cell_type": "code",
   "execution_count": 3,
   "outputs": [
    {
     "data": {
      "text/plain": "Index(['safegraph_place_id', 'location_name', 'street_address', 'city',\n       'region', 'postal_code', 'brands', 'naics_code', 'date_range_start',\n       'date_range_end', 'raw_visit_counts', 'raw_visitor_counts',\n       'visits_by_day', 'visits_by_each_hour', 'visitor_home_cbgs',\n       'visitor_country_of_origin', 'distance_from_home', 'median_dwell',\n       'bucketed_dwell_times', 'related_same_day_brand',\n       'related_same_week_brand', 'device_type', 'iso_country_code'],\n      dtype='object')"
     },
     "execution_count": 3,
     "metadata": {},
     "output_type": "execute_result"
    }
   ],
   "source": [
    "import pandas as pd\n",
    "\n",
    "main_df = pd.read_csv('2020-05-03-weekly-patterns.csv')\n",
    "main_df = main_df[main_df.region == 'CA']\n",
    "main_df.columns"
   ],
   "metadata": {
    "collapsed": false,
    "pycharm": {
     "name": "#%%\n"
    }
   }
  },
  {
   "cell_type": "code",
   "execution_count": 5,
   "outputs": [
    {
     "data": {
      "text/plain": "                          safegraph_place_id                 location_name  \\\n43       sg:01710fd28d364ee4abbca7d8692669ba              Momentum Fitness   \n79       sg:0294a45d5c4b430482321a0282900986                            76   \n95       sg:0327ad5802114d2fbfa8d170552bfc30  Life Science Outsourcing Inc   \n116      sg:03eaa2b5b78646c49dcc2aa05ce3131c                 El Pollo Inka   \n118      sg:03f9e9bad3254df3afeeea20fd4c188b       Frank's Tire and Brakes   \n...                                      ...                           ...   \n3676257  sg:ff39a2712c3b4e9bba46d253de4a8074             Creative Memories   \n3676258  sg:ff441c4f0a4f45699528d74178559458          El Avisador Magazine   \n3676260  sg:ff473ee639a5420eac5ab685db4d55d0            Harry Schmidt Park   \n3676272  sg:ffce99ddb5594d0f92cb1e0e44a90411         Inland Empire Barbell   \n3676275  sg:fff9c7922fb14c69aab387506692ec0c                Pilates On Cue   \n\n                           street_address       city  postal_code  \\\n43                      1635 Challenge Dr    Concord        94520   \n79                      805 S Harbor Blvd    Anaheim        92805   \n95                      830 Challenger St       Brea        92821   \n116                  15400 Hawthorne Blvd   Lawndale        90260   \n118                           299 29th St    Oakland        94611   \n...                                   ...        ...          ...   \n3676257                     1609 Petri Pl   San Jose        95118   \n3676258                   460 W Taylor St   San Jose        95110   \n3676260             Linden & Meredith Ave    Gustine        95322   \n3676272      1200 Arizona St Unit Unit B7   Redlands        92374   \n3676275  162 S Rancho Santa Fe Rd Ste A60  Encinitas        92024   \n\n                brands  naics_code  raw_visit_counts  raw_visitor_counts  \\\n43                 NaN    713940.0                 6                   2   \n79                  76    447110.0                16                  15   \n95                 NaN    621610.0                45                  13   \n116      El Pollo Inka    722511.0                26                  25   \n118                NaN    441310.0                66                  54   \n...                ...         ...               ...                 ...   \n3676257            NaN    451130.0                13                   9   \n3676258            NaN    451211.0                10                   8   \n3676260            NaN    712190.0                62                  34   \n3676272            NaN    713940.0                10                   6   \n3676275            NaN    713940.0                 3                   3   \n\n               visits_by_day  distance_from_home  median_dwell  \n43           [0,1,0,3,2,0,0]                 NaN         241.5  \n79           [2,3,2,0,4,3,2]              4416.0           7.0  \n95         [0,7,9,9,10,10,0]             16592.0         408.0  \n116          [1,0,1,6,6,6,6]              5610.0           9.0  \n118      [5,15,9,10,4,10,13]              6014.0          22.0  \n...                      ...                 ...           ...  \n3676257      [0,0,0,1,1,6,5]              2085.0         103.0  \n3676258      [2,3,1,1,2,1,0]              5601.0          63.5  \n3676260   [7,12,11,9,6,7,10]              7594.0          40.0  \n3676272      [0,2,1,1,2,1,3]              5619.0          55.5  \n3676275      [0,0,0,1,0,1,1]                 NaN          24.0  \n\n[420387 rows x 12 columns]",
      "text/html": "<div>\n<style scoped>\n    .dataframe tbody tr th:only-of-type {\n        vertical-align: middle;\n    }\n\n    .dataframe tbody tr th {\n        vertical-align: top;\n    }\n\n    .dataframe thead th {\n        text-align: right;\n    }\n</style>\n<table border=\"1\" class=\"dataframe\">\n  <thead>\n    <tr style=\"text-align: right;\">\n      <th></th>\n      <th>safegraph_place_id</th>\n      <th>location_name</th>\n      <th>street_address</th>\n      <th>city</th>\n      <th>postal_code</th>\n      <th>brands</th>\n      <th>naics_code</th>\n      <th>raw_visit_counts</th>\n      <th>raw_visitor_counts</th>\n      <th>visits_by_day</th>\n      <th>distance_from_home</th>\n      <th>median_dwell</th>\n    </tr>\n  </thead>\n  <tbody>\n    <tr>\n      <th>43</th>\n      <td>sg:01710fd28d364ee4abbca7d8692669ba</td>\n      <td>Momentum Fitness</td>\n      <td>1635 Challenge Dr</td>\n      <td>Concord</td>\n      <td>94520</td>\n      <td>NaN</td>\n      <td>713940.0</td>\n      <td>6</td>\n      <td>2</td>\n      <td>[0,1,0,3,2,0,0]</td>\n      <td>NaN</td>\n      <td>241.5</td>\n    </tr>\n    <tr>\n      <th>79</th>\n      <td>sg:0294a45d5c4b430482321a0282900986</td>\n      <td>76</td>\n      <td>805 S Harbor Blvd</td>\n      <td>Anaheim</td>\n      <td>92805</td>\n      <td>76</td>\n      <td>447110.0</td>\n      <td>16</td>\n      <td>15</td>\n      <td>[2,3,2,0,4,3,2]</td>\n      <td>4416.0</td>\n      <td>7.0</td>\n    </tr>\n    <tr>\n      <th>95</th>\n      <td>sg:0327ad5802114d2fbfa8d170552bfc30</td>\n      <td>Life Science Outsourcing Inc</td>\n      <td>830 Challenger St</td>\n      <td>Brea</td>\n      <td>92821</td>\n      <td>NaN</td>\n      <td>621610.0</td>\n      <td>45</td>\n      <td>13</td>\n      <td>[0,7,9,9,10,10,0]</td>\n      <td>16592.0</td>\n      <td>408.0</td>\n    </tr>\n    <tr>\n      <th>116</th>\n      <td>sg:03eaa2b5b78646c49dcc2aa05ce3131c</td>\n      <td>El Pollo Inka</td>\n      <td>15400 Hawthorne Blvd</td>\n      <td>Lawndale</td>\n      <td>90260</td>\n      <td>El Pollo Inka</td>\n      <td>722511.0</td>\n      <td>26</td>\n      <td>25</td>\n      <td>[1,0,1,6,6,6,6]</td>\n      <td>5610.0</td>\n      <td>9.0</td>\n    </tr>\n    <tr>\n      <th>118</th>\n      <td>sg:03f9e9bad3254df3afeeea20fd4c188b</td>\n      <td>Frank's Tire and Brakes</td>\n      <td>299 29th St</td>\n      <td>Oakland</td>\n      <td>94611</td>\n      <td>NaN</td>\n      <td>441310.0</td>\n      <td>66</td>\n      <td>54</td>\n      <td>[5,15,9,10,4,10,13]</td>\n      <td>6014.0</td>\n      <td>22.0</td>\n    </tr>\n    <tr>\n      <th>...</th>\n      <td>...</td>\n      <td>...</td>\n      <td>...</td>\n      <td>...</td>\n      <td>...</td>\n      <td>...</td>\n      <td>...</td>\n      <td>...</td>\n      <td>...</td>\n      <td>...</td>\n      <td>...</td>\n      <td>...</td>\n    </tr>\n    <tr>\n      <th>3676257</th>\n      <td>sg:ff39a2712c3b4e9bba46d253de4a8074</td>\n      <td>Creative Memories</td>\n      <td>1609 Petri Pl</td>\n      <td>San Jose</td>\n      <td>95118</td>\n      <td>NaN</td>\n      <td>451130.0</td>\n      <td>13</td>\n      <td>9</td>\n      <td>[0,0,0,1,1,6,5]</td>\n      <td>2085.0</td>\n      <td>103.0</td>\n    </tr>\n    <tr>\n      <th>3676258</th>\n      <td>sg:ff441c4f0a4f45699528d74178559458</td>\n      <td>El Avisador Magazine</td>\n      <td>460 W Taylor St</td>\n      <td>San Jose</td>\n      <td>95110</td>\n      <td>NaN</td>\n      <td>451211.0</td>\n      <td>10</td>\n      <td>8</td>\n      <td>[2,3,1,1,2,1,0]</td>\n      <td>5601.0</td>\n      <td>63.5</td>\n    </tr>\n    <tr>\n      <th>3676260</th>\n      <td>sg:ff473ee639a5420eac5ab685db4d55d0</td>\n      <td>Harry Schmidt Park</td>\n      <td>Linden &amp; Meredith Ave</td>\n      <td>Gustine</td>\n      <td>95322</td>\n      <td>NaN</td>\n      <td>712190.0</td>\n      <td>62</td>\n      <td>34</td>\n      <td>[7,12,11,9,6,7,10]</td>\n      <td>7594.0</td>\n      <td>40.0</td>\n    </tr>\n    <tr>\n      <th>3676272</th>\n      <td>sg:ffce99ddb5594d0f92cb1e0e44a90411</td>\n      <td>Inland Empire Barbell</td>\n      <td>1200 Arizona St Unit Unit B7</td>\n      <td>Redlands</td>\n      <td>92374</td>\n      <td>NaN</td>\n      <td>713940.0</td>\n      <td>10</td>\n      <td>6</td>\n      <td>[0,2,1,1,2,1,3]</td>\n      <td>5619.0</td>\n      <td>55.5</td>\n    </tr>\n    <tr>\n      <th>3676275</th>\n      <td>sg:fff9c7922fb14c69aab387506692ec0c</td>\n      <td>Pilates On Cue</td>\n      <td>162 S Rancho Santa Fe Rd Ste A60</td>\n      <td>Encinitas</td>\n      <td>92024</td>\n      <td>NaN</td>\n      <td>713940.0</td>\n      <td>3</td>\n      <td>3</td>\n      <td>[0,0,0,1,0,1,1]</td>\n      <td>NaN</td>\n      <td>24.0</td>\n    </tr>\n  </tbody>\n</table>\n<p>420387 rows × 12 columns</p>\n</div>"
     },
     "execution_count": 5,
     "metadata": {},
     "output_type": "execute_result"
    }
   ],
   "source": [
    "main_df = main_df[['safegraph_place_id', 'location_name', 'street_address', 'city', 'postal_code', 'brands', 'naics_code', 'raw_visit_counts', 'raw_visitor_counts', 'visits_by_day', 'distance_from_home', 'median_dwell']]\n",
    "main_df"
   ],
   "metadata": {
    "collapsed": false,
    "pycharm": {
     "name": "#%%\n"
    }
   }
  },
  {
   "cell_type": "code",
   "execution_count": 6,
   "outputs": [
    {
     "name": "stderr",
     "output_type": "stream",
     "text": [
      "<ipython-input-6-b5b3d65f7472>:6: SettingWithCopyWarning: \n",
      "A value is trying to be set on a copy of a slice from a DataFrame.\n",
      "Try using .loc[row_indexer,col_indexer] = value instead\n",
      "\n",
      "See the caveats in the documentation: https://pandas.pydata.org/pandas-docs/stable/user_guide/indexing.html#returning-a-view-versus-a-copy\n",
      "  main_df['category'] = main_df.apply(get_category, axis=1)\n"
     ]
    },
    {
     "data": {
      "text/plain": "                          safegraph_place_id                 location_name  \\\n43       sg:01710fd28d364ee4abbca7d8692669ba              Momentum Fitness   \n79       sg:0294a45d5c4b430482321a0282900986                            76   \n95       sg:0327ad5802114d2fbfa8d170552bfc30  Life Science Outsourcing Inc   \n116      sg:03eaa2b5b78646c49dcc2aa05ce3131c                 El Pollo Inka   \n118      sg:03f9e9bad3254df3afeeea20fd4c188b       Frank's Tire and Brakes   \n...                                      ...                           ...   \n3676257  sg:ff39a2712c3b4e9bba46d253de4a8074             Creative Memories   \n3676258  sg:ff441c4f0a4f45699528d74178559458          El Avisador Magazine   \n3676260  sg:ff473ee639a5420eac5ab685db4d55d0            Harry Schmidt Park   \n3676272  sg:ffce99ddb5594d0f92cb1e0e44a90411         Inland Empire Barbell   \n3676275  sg:fff9c7922fb14c69aab387506692ec0c                Pilates On Cue   \n\n                           street_address       city  postal_code  \\\n43                      1635 Challenge Dr    Concord        94520   \n79                      805 S Harbor Blvd    Anaheim        92805   \n95                      830 Challenger St       Brea        92821   \n116                  15400 Hawthorne Blvd   Lawndale        90260   \n118                           299 29th St    Oakland        94611   \n...                                   ...        ...          ...   \n3676257                     1609 Petri Pl   San Jose        95118   \n3676258                   460 W Taylor St   San Jose        95110   \n3676260             Linden & Meredith Ave    Gustine        95322   \n3676272      1200 Arizona St Unit Unit B7   Redlands        92374   \n3676275  162 S Rancho Santa Fe Rd Ste A60  Encinitas        92024   \n\n                brands  naics_code  raw_visit_counts  raw_visitor_counts  \\\n43                 NaN    713940.0                 6                   2   \n79                  76    447110.0                16                  15   \n95                 NaN    621610.0                45                  13   \n116      El Pollo Inka    722511.0                26                  25   \n118                NaN    441310.0                66                  54   \n...                ...         ...               ...                 ...   \n3676257            NaN    451130.0                13                   9   \n3676258            NaN    451211.0                10                   8   \n3676260            NaN    712190.0                62                  34   \n3676272            NaN    713940.0                10                   6   \n3676275            NaN    713940.0                 3                   3   \n\n               visits_by_day  distance_from_home  median_dwell category  \n43           [0,1,0,3,2,0,0]                 NaN         241.5    Other  \n79           [2,3,2,0,4,3,2]              4416.0           7.0    Other  \n95         [0,7,9,9,10,10,0]             16592.0         408.0    Other  \n116          [1,0,1,6,6,6,6]              5610.0           9.0    Other  \n118      [5,15,9,10,4,10,13]              6014.0          22.0    Other  \n...                      ...                 ...           ...      ...  \n3676257      [0,0,0,1,1,6,5]              2085.0         103.0    Other  \n3676258      [2,3,1,1,2,1,0]              5601.0          63.5    Other  \n3676260   [7,12,11,9,6,7,10]              7594.0          40.0    Other  \n3676272      [0,2,1,1,2,1,3]              5619.0          55.5    Other  \n3676275      [0,0,0,1,0,1,1]                 NaN          24.0    Other  \n\n[420387 rows x 13 columns]",
      "text/html": "<div>\n<style scoped>\n    .dataframe tbody tr th:only-of-type {\n        vertical-align: middle;\n    }\n\n    .dataframe tbody tr th {\n        vertical-align: top;\n    }\n\n    .dataframe thead th {\n        text-align: right;\n    }\n</style>\n<table border=\"1\" class=\"dataframe\">\n  <thead>\n    <tr style=\"text-align: right;\">\n      <th></th>\n      <th>safegraph_place_id</th>\n      <th>location_name</th>\n      <th>street_address</th>\n      <th>city</th>\n      <th>postal_code</th>\n      <th>brands</th>\n      <th>naics_code</th>\n      <th>raw_visit_counts</th>\n      <th>raw_visitor_counts</th>\n      <th>visits_by_day</th>\n      <th>distance_from_home</th>\n      <th>median_dwell</th>\n      <th>category</th>\n    </tr>\n  </thead>\n  <tbody>\n    <tr>\n      <th>43</th>\n      <td>sg:01710fd28d364ee4abbca7d8692669ba</td>\n      <td>Momentum Fitness</td>\n      <td>1635 Challenge Dr</td>\n      <td>Concord</td>\n      <td>94520</td>\n      <td>NaN</td>\n      <td>713940.0</td>\n      <td>6</td>\n      <td>2</td>\n      <td>[0,1,0,3,2,0,0]</td>\n      <td>NaN</td>\n      <td>241.5</td>\n      <td>Other</td>\n    </tr>\n    <tr>\n      <th>79</th>\n      <td>sg:0294a45d5c4b430482321a0282900986</td>\n      <td>76</td>\n      <td>805 S Harbor Blvd</td>\n      <td>Anaheim</td>\n      <td>92805</td>\n      <td>76</td>\n      <td>447110.0</td>\n      <td>16</td>\n      <td>15</td>\n      <td>[2,3,2,0,4,3,2]</td>\n      <td>4416.0</td>\n      <td>7.0</td>\n      <td>Other</td>\n    </tr>\n    <tr>\n      <th>95</th>\n      <td>sg:0327ad5802114d2fbfa8d170552bfc30</td>\n      <td>Life Science Outsourcing Inc</td>\n      <td>830 Challenger St</td>\n      <td>Brea</td>\n      <td>92821</td>\n      <td>NaN</td>\n      <td>621610.0</td>\n      <td>45</td>\n      <td>13</td>\n      <td>[0,7,9,9,10,10,0]</td>\n      <td>16592.0</td>\n      <td>408.0</td>\n      <td>Other</td>\n    </tr>\n    <tr>\n      <th>116</th>\n      <td>sg:03eaa2b5b78646c49dcc2aa05ce3131c</td>\n      <td>El Pollo Inka</td>\n      <td>15400 Hawthorne Blvd</td>\n      <td>Lawndale</td>\n      <td>90260</td>\n      <td>El Pollo Inka</td>\n      <td>722511.0</td>\n      <td>26</td>\n      <td>25</td>\n      <td>[1,0,1,6,6,6,6]</td>\n      <td>5610.0</td>\n      <td>9.0</td>\n      <td>Other</td>\n    </tr>\n    <tr>\n      <th>118</th>\n      <td>sg:03f9e9bad3254df3afeeea20fd4c188b</td>\n      <td>Frank's Tire and Brakes</td>\n      <td>299 29th St</td>\n      <td>Oakland</td>\n      <td>94611</td>\n      <td>NaN</td>\n      <td>441310.0</td>\n      <td>66</td>\n      <td>54</td>\n      <td>[5,15,9,10,4,10,13]</td>\n      <td>6014.0</td>\n      <td>22.0</td>\n      <td>Other</td>\n    </tr>\n    <tr>\n      <th>...</th>\n      <td>...</td>\n      <td>...</td>\n      <td>...</td>\n      <td>...</td>\n      <td>...</td>\n      <td>...</td>\n      <td>...</td>\n      <td>...</td>\n      <td>...</td>\n      <td>...</td>\n      <td>...</td>\n      <td>...</td>\n      <td>...</td>\n    </tr>\n    <tr>\n      <th>3676257</th>\n      <td>sg:ff39a2712c3b4e9bba46d253de4a8074</td>\n      <td>Creative Memories</td>\n      <td>1609 Petri Pl</td>\n      <td>San Jose</td>\n      <td>95118</td>\n      <td>NaN</td>\n      <td>451130.0</td>\n      <td>13</td>\n      <td>9</td>\n      <td>[0,0,0,1,1,6,5]</td>\n      <td>2085.0</td>\n      <td>103.0</td>\n      <td>Other</td>\n    </tr>\n    <tr>\n      <th>3676258</th>\n      <td>sg:ff441c4f0a4f45699528d74178559458</td>\n      <td>El Avisador Magazine</td>\n      <td>460 W Taylor St</td>\n      <td>San Jose</td>\n      <td>95110</td>\n      <td>NaN</td>\n      <td>451211.0</td>\n      <td>10</td>\n      <td>8</td>\n      <td>[2,3,1,1,2,1,0]</td>\n      <td>5601.0</td>\n      <td>63.5</td>\n      <td>Other</td>\n    </tr>\n    <tr>\n      <th>3676260</th>\n      <td>sg:ff473ee639a5420eac5ab685db4d55d0</td>\n      <td>Harry Schmidt Park</td>\n      <td>Linden &amp; Meredith Ave</td>\n      <td>Gustine</td>\n      <td>95322</td>\n      <td>NaN</td>\n      <td>712190.0</td>\n      <td>62</td>\n      <td>34</td>\n      <td>[7,12,11,9,6,7,10]</td>\n      <td>7594.0</td>\n      <td>40.0</td>\n      <td>Other</td>\n    </tr>\n    <tr>\n      <th>3676272</th>\n      <td>sg:ffce99ddb5594d0f92cb1e0e44a90411</td>\n      <td>Inland Empire Barbell</td>\n      <td>1200 Arizona St Unit Unit B7</td>\n      <td>Redlands</td>\n      <td>92374</td>\n      <td>NaN</td>\n      <td>713940.0</td>\n      <td>10</td>\n      <td>6</td>\n      <td>[0,2,1,1,2,1,3]</td>\n      <td>5619.0</td>\n      <td>55.5</td>\n      <td>Other</td>\n    </tr>\n    <tr>\n      <th>3676275</th>\n      <td>sg:fff9c7922fb14c69aab387506692ec0c</td>\n      <td>Pilates On Cue</td>\n      <td>162 S Rancho Santa Fe Rd Ste A60</td>\n      <td>Encinitas</td>\n      <td>92024</td>\n      <td>NaN</td>\n      <td>713940.0</td>\n      <td>3</td>\n      <td>3</td>\n      <td>[0,0,0,1,0,1,1]</td>\n      <td>NaN</td>\n      <td>24.0</td>\n      <td>Other</td>\n    </tr>\n  </tbody>\n</table>\n<p>420387 rows × 13 columns</p>\n</div>"
     },
     "execution_count": 6,
     "metadata": {},
     "output_type": "execute_result"
    }
   ],
   "source": [
    "def get_category(df):\n",
    "    if 445100 <= df.naics_code <= 445199:\n",
    "        return \"Supermarket\"\n",
    "    return \"Other\"\n",
    "\n",
    "main_df['category'] = main_df.apply(get_category, axis=1)\n",
    "main_df"
   ],
   "metadata": {
    "collapsed": false,
    "pycharm": {
     "name": "#%%\n"
    }
   }
  }
 ],
 "metadata": {
  "kernelspec": {
   "display_name": "Python 3",
   "language": "python",
   "name": "python3"
  },
  "language_info": {
   "codemirror_mode": {
    "name": "ipython",
    "version": 2
   },
   "file_extension": ".py",
   "mimetype": "text/x-python",
   "name": "python",
   "nbconvert_exporter": "python",
   "pygments_lexer": "ipython2",
   "version": "2.7.6"
  }
 },
 "nbformat": 4,
 "nbformat_minor": 0
}
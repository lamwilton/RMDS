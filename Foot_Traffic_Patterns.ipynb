{
 "cells": [
  {
   "cell_type": "markdown",
   "source": [
    "# SafeGraph foot traffic data processing\n",
    "\n",
    "Read the most recent week csv from Safeguard\n",
    "s3://sg-c19-response/weekly-patterns/\n",
    "SafeGraph information about their data:\n",
    "https://docs.google.com/spreadsheets/u/1/d/1UNWvPzkUTTlXBZ6M6iGhM_7sr8h-MxsZdE7iOszkAmk/htmlview#"
   ],
   "metadata": {
    "collapsed": false,
    "pycharm": {
     "name": "#%% md\n"
    }
   }
  },
  {
   "cell_type": "code",
   "execution_count": 1,
   "outputs": [
    {
     "name": "stdout",
     "output_type": "stream",
     "text": [
      "+--------------------+--------------------+--------------------+--------------+------+-----------+----------------+--------------------+-------------------+--------------------+--------------------+----------------+------------------+--------------------+--------------------+------------+--------------------+--------------------+-------------------------+--------------------+--------------------+--------------------+----------------------+-----------------------+--------------------+\n",
      "|  safegraph_place_id|       location_name|      street_address|          city|region|postal_code|iso_country_code| safegraph_brand_ids|             brands|    date_range_start|      date_range_end|raw_visit_counts|raw_visitor_counts|       visits_by_day| visits_by_each_hour|     poi_cbg|   visitor_home_cbgs|visitor_daytime_cbgs|visitor_country_of_origin|  distance_from_home|        median_dwell|bucketed_dwell_times|related_same_day_brand|related_same_week_brand|         device_type|\n",
      "+--------------------+--------------------+--------------------+--------------+------+-----------+----------------+--------------------+-------------------+--------------------+--------------------+----------------+------------------+--------------------+--------------------+------------+--------------------+--------------------+-------------------------+--------------------+--------------------+--------------------+----------------------+-----------------------+--------------------+\n",
      "|sg:05e114ea81c04f...|          McDonald's|4947 Huntington Dr N|   Los Angeles|    CA|      90032|              US|SG_BRAND_5179b21f...|         McDonald's|2020-05-11T00:00:...|2020-05-18T00:00:...|              96|                82|[17,11,16,14,10,1...|[0,0,0,1,0,0,2,1,...|060372012001|\"{\"\"060372014012\"\":8|  \"\"060372014011\"\":8|       \"\"060372015041\"\":5|  \"\"060372015031\"\":5|  \"\"060375355012\"\":4|  \"\"060710013122\"\":4|    \"\"060372013012\"\":4|     \"\"060374601003\"\":4|  \"\"060372011201\"\":4|\n",
      "|sg:0ee32c6bd1444f...|     Go Get Em Tiger|230 N Larchmont Blvd|   Los Angeles|    CA|      90004|              US|                null|               null|2020-05-11T00:00:...|2020-05-18T00:00:...|               9|                 8|     [2,4,0,1,1,0,1]|[0,0,0,0,0,0,0,0,...|060372110001|\"{\"\"060371923003\"\":4|  \"\"060372126101\"\":4|     \"\"060371910003\"\":4}\"|\"{\"\"060372126101\"\":4|  \"\"060371923003\"\":4|\"\"060372110003\"\":4}\"|          \"{\"\"US\"\":8}\"|                   2086|                10.0|\n",
      "|sg:0f41c833a6e244...| Bloomfield Creamery|  1427 Westwood Blvd|   Los Angeles|    CA|      90024|              US|                null|               null|2020-05-11T00:00:...|2020-05-18T00:00:...|               2|                 2|     [1,0,0,0,0,0,1]|[0,0,0,0,0,0,0,0,...|060372655102|                  {}|                  {}|             \"{\"\"US\"\":4}\"|                null|                 9.5|          \"{\"\"<5\"\":0|            \"\"5-20\"\":2|            \"\"21-60\"\":0|        \"\"61-240\"\":0|\n",
      "|sg:1565a84dcbc144...|       Paradise Park|       Paradise Park|   Los Angeles|    CA|      90032|              US|                null|               null|2020-05-11T00:00:...|2020-05-18T00:00:...|              64|                46|  [5,6,12,11,12,9,9]|[0,0,0,0,0,0,0,1,...|060376507021|\"{\"\"060376507011\"\":5|  \"\"060376507021\"\":5|       \"\"060376506031\"\":4|  \"\"060376704132\"\":4|  \"\"060376506022\"\":4|  \"\"060376507025\"\":4|    \"\"060376014012\"\":4|     \"\"060376506042\"\":4|  \"\"060376507023\"\":4|\n",
      "|sg:186f5017a7ed40...|     Social Security|   12429 Avalon Blvd|   Los Angeles|    CA|      90061|              US|                null|               null|2020-05-11T00:00:...|2020-05-18T00:00:...|              30|                18|     [3,4,6,4,6,6,1]|[0,0,0,0,0,0,0,0,...|060375409011|\"{\"\"060376013024\"\":4|\"\"060375409011\"\":4}\"|     \"{\"\"060374086281\"\":4|  \"\"060375409024\"\":4|\"\"060373116005\"\":4}\"|       \"{\"\"US\"\":14}\"|                  6165|                  190.0|          \"{\"\"<5\"\":2|\n",
      "|sg:242ecc445fce41...|  Absolute on Hoover|     527 N Hoover St|   Los Angeles|    CA|      90004|              US|                null|               null|2020-05-11T00:00:...|2020-05-18T00:00:...|               3|                 2|     [0,1,0,1,1,0,0]|[0,0,0,0,0,0,0,0,...|060371927001|                  {}|                  {}|             \"{\"\"US\"\":4}\"|                null|               542.0|          \"{\"\"<5\"\":0|            \"\"5-20\"\":0|            \"\"21-60\"\":0|        \"\"61-240\"\":0|\n",
      "|sg:2acd40b4f01641...|Make a Film in a Day|   925 N La Brea Ave|West Hollywood|    CA|      90038|              US|                null|               null|2020-05-11T00:00:...|2020-05-18T00:00:...|              21|                15|     [4,4,5,6,1,0,1]|[0,0,0,0,0,0,0,2,...|060371920012|\"{\"\"060379008031\"...|\"{\"\"060371944011\"...|            \"{\"\"US\"\":11}\"|               38679|                25.0|          \"{\"\"<5\"\":1|            \"\"5-20\"\":9|            \"\"21-60\"\":7|        \"\"61-240\"\":3|\n",
      "|sg:32ab764b731f45...|         Happy Tails|      4625 York Blvd|   Los Angeles|    CA|      90041|              US|                null|               null|2020-05-11T00:00:...|2020-05-18T00:00:...|              21|                12|     [1,1,5,0,2,9,3]|[0,0,0,0,0,0,0,0,...|060371834021|\"{\"\"060373102022\"\":4|\"\"060373015021\"\":4}\"|     \"{\"\"060373025051\"...|        \"{\"\"US\"\":8}\"|                6143|                75.0|            \"{\"\"<5\"\":0|             \"\"5-20\"\":6|         \"\"21-60\"\":3|\n",
      "|sg:33d770a759f547...|Headlines Diner &...|   10922 Kinross Ave|   Los Angeles|    CA|      90024|              US|                null|               null|2020-05-11T00:00:...|2020-05-18T00:00:...|               1|                 1|     [0,1,0,0,0,0,0]|[0,0,0,0,0,0,0,0,...|060372652023|                  {}|                  {}|                       {}|                null|                56.0|          \"{\"\"<5\"\":0|            \"\"5-20\"\":0|            \"\"21-60\"\":1|        \"\"61-240\"\":0|\n",
      "|sg:33e59f728dfc46...|   Maywood Pawn Shop| 952 S Atlantic Blvd|   Los Angeles|    CA|      90022|              US|                null|               null|2020-05-11T00:00:...|2020-05-18T00:00:...|              18|                18|     [5,1,3,2,3,3,1]|[0,0,0,0,0,0,1,0,...|060375317021|\"{\"\"060375522002\"\":4|  \"\"060375323042\"\":4|       \"\"060590889052\"\":4|  \"\"060590012011\"\":4|\"\"060375729002\"\":4}\"|\"{\"\"060375304002\"\":4|    \"\"060375319022\"\":4|     \"\"060375311021\"\":4|\"\"170318045073\"\":4}\"|\n",
      "|sg:3cacf516735646...|         Hot Pilates| 8604A W Sunset Blvd|West Hollywood|    CA|      90069|              US|                null|               null|2020-05-11T00:00:...|2020-05-18T00:00:...|               2|                 2|     [0,0,1,1,0,0,0]|[0,0,0,0,0,0,0,0,...|060377005021|\"{\"\"060371276052\"...|                  {}|             \"{\"\"US\"\":4}\"|                null|                59.0|          \"{\"\"<5\"\":0|            \"\"5-20\"\":1|            \"\"21-60\"\":0|        \"\"61-240\"\":1|\n",
      "|sg:3dbd76d1be5649...| Goodwill Industries|   8319 Lincoln Blvd|   Los Angeles|    CA|      90045|              US|SG_BRAND_4ca6f667...|Goodwill Industries|2020-05-11T00:00:...|2020-05-18T00:00:...|               1|                 1|     [0,0,0,0,0,1,0]|[0,0,0,0,0,0,0,0,...|060372766012|                  {}|\"{\"\"060376203031\"...|                       {}|                null|                61.0|          \"{\"\"<5\"\":0|            \"\"5-20\"\":0|            \"\"21-60\"\":0|        \"\"61-240\"\":1|\n",
      "|sg:3e6ebb6322cf41...|           Majordomo|        1725 Naud St|   Los Angeles|    CA|      90012|              US|                null|               null|2020-05-11T00:00:...|2020-05-18T00:00:...|              11|                 6|     [2,1,2,1,1,2,2]|[0,0,0,0,0,0,0,1,...|060372060101|                  {}|\"{\"\"060374324023\"...|             \"{\"\"US\"\":6}\"|               18308|               124.0|          \"{\"\"<5\"\":0|            \"\"5-20\"\":2|            \"\"21-60\"\":3|        \"\"61-240\"\":3|\n",
      "|sg:4191791d657d49...|Cd Video Manufact...|12650 Westminster...|   Los Angeles|    CA|      90066|              US|                null|               null|2020-05-11T00:00:...|2020-05-18T00:00:...|               6|                 6|     [0,0,0,2,1,1,2]|[0,0,0,0,0,0,0,0,...|060372721001|\"{\"\"060376030062\"...|\"{\"\"060372753021\"...|             \"{\"\"US\"\":5}\"|                5225|                 9.5|          \"{\"\"<5\"\":0|            \"\"5-20\"\":4|            \"\"21-60\"\":0|        \"\"61-240\"\":2|\n",
      "|sg:431dc367d3814e...|Word's Presbyteri...|       2836 W 8th St|   Los Angeles|    CA|      90005|              US|                null|               null|2020-05-11T00:00:...|2020-05-18T00:00:...|              39|                16|    [5,4,9,1,6,4,10]|[0,0,0,0,0,0,0,0,...|060372122021|\"{\"\"060379106013\"\":4|  \"\"060372190202\"\":4|     \"\"060373001002\"\":4}\"|\"{\"\"060371872002\"...|       \"{\"\"US\"\":12}\"|               13113|                 103.0|             \"{\"\"<5\"\":0|          \"\"5-20\"\":8|\n",
      "|sg:43714b6d8e2543...|           Taco Bell|    4050 Marlton Ave|   Los Angeles|    CA|      90008|              US|SG_BRAND_748ba381...|          Taco Bell|2020-05-11T00:00:...|2020-05-18T00:00:...|              30|                28|    [2,3,2,4,4,10,5]|[0,0,0,0,0,0,0,0,...|060372361002|\"{\"\"060376001003\"\":5|  \"\"060372345021\"\":4|     \"\"060372361003\"\":4}\"|\"{\"\"060372407005\"\":4|  \"\"060372345021\"\":4|  \"\"060372171002\"\":4|    \"\"060377030021\"\":4|     \"\"060710122001\"\":4|  \"\"060372220024\"\":4|\n",
      "|sg:4bede0c4b7a44f...|Heartcare Prevent...|201 S Alvarado St...|   Los Angeles|    CA|      90057|              US|                null|               null|2020-05-11T00:00:...|2020-05-18T00:00:...|               1|                 1|     [0,1,0,0,0,0,0]|[0,0,0,0,0,0,0,0,...|060372085022|\"{\"\"060372088021\"...|                  {}|                       {}|                null|               714.0|          \"{\"\"<5\"\":0|            \"\"5-20\"\":0|            \"\"21-60\"\":0|        \"\"61-240\"\":0|\n",
      "|sg:5319c8cee9ed48...|        Mobile Storm|  6565 W Sunset Blvd|   Los Angeles|    CA|      90028|              US|                null|               null|2020-05-11T00:00:...|2020-05-18T00:00:...|               2|                 2|     [0,1,0,0,1,0,0]|[0,0,0,0,0,0,0,0,...|060371907001|                  {}|                  {}|                       {}|                null|               305.5|          \"{\"\"<5\"\":0|            \"\"5-20\"\":0|            \"\"21-60\"\":0|        \"\"61-240\"\":0|\n",
      "|sg:6208cc6b313840...|Jovanna's Beauty ...| 919 S Soto St Ste 6|   Los Angeles|    CA|      90023|              US|                null|               null|2020-05-11T00:00:...|2020-05-18T00:00:...|               1|                 1|     [0,1,0,0,0,0,0]|[0,0,0,0,0,0,0,0,...|060372046001|                  {}|                  {}|                     null|                null|                83.0|          \"{\"\"<5\"\":0|            \"\"5-20\"\":0|            \"\"21-60\"\":0|        \"\"61-240\"\":1|\n",
      "|sg:689efcfa6dca4a...|   Chef Kang Sul Box|  3881 Wilshire Blvd|   Los Angeles|    CA|      90010|              US|                null|               null|2020-05-11T00:00:...|2020-05-18T00:00:...|               4|                 4|     [1,0,1,1,0,1,0]|[0,0,0,0,0,0,0,0,...|060372117041|\"{\"\"060590218142\"...|\"{\"\"060372126102\"...|             \"{\"\"US\"\":5}\"|                null|                17.0|          \"{\"\"<5\"\":0|            \"\"5-20\"\":2|            \"\"21-60\"\":1|        \"\"61-240\"\":0|\n",
      "+--------------------+--------------------+--------------------+--------------+------+-----------+----------------+--------------------+-------------------+--------------------+--------------------+----------------+------------------+--------------------+--------------------+------------+--------------------+--------------------+-------------------------+--------------------+--------------------+--------------------+----------------------+-----------------------+--------------------+\n",
      "only showing top 20 rows\n",
      "\n"
     ]
    }
   ],
   "source": [
    "from pyspark.sql import SparkSession\n",
    "import time\n",
    "\n",
    "start_time = time.time()\n",
    "\n",
    "ss = SparkSession \\\n",
    "    .builder \\\n",
    "    .appName(\"Foot_Traffic\") \\\n",
    "    .config(\"spark.master\", \"local[12]\") \\\n",
    "    .getOrCreate()\n",
    "\n",
    "file = \"2020-05-11-weekly-patterns.csv\"\n",
    "week = file[0:10]\n",
    "main_df = ss.read.csv(file, header=True)\n",
    "main_df = main_df.filter((main_df.postal_code >= 90001) & (main_df.postal_code <= 90089))\n",
    "main_df.show()"
   ],
   "metadata": {
    "collapsed": false,
    "pycharm": {
     "name": "#%%\n"
    }
   }
  },
  {
   "cell_type": "markdown",
   "source": [
    "Selecting the columns of interest"
   ],
   "metadata": {
    "collapsed": false,
    "pycharm": {
     "name": "#%% md\n"
    }
   }
  },
  {
   "cell_type": "code",
   "execution_count": 2,
   "outputs": [
    {
     "name": "stdout",
     "output_type": "stream",
     "text": [
      "+--------------------+--------------------+--------------------+--------------+-----------+----------------+------------------+--------------------+--------------------+\n",
      "|  safegraph_place_id|       location_name|      street_address|          city|postal_code|raw_visit_counts|raw_visitor_counts|       visits_by_day|        median_dwell|\n",
      "+--------------------+--------------------+--------------------+--------------+-----------+----------------+------------------+--------------------+--------------------+\n",
      "|sg:05e114ea81c04f...|          McDonald's|4947 Huntington Dr N|   Los Angeles|      90032|              96|                82|[17,11,16,14,10,1...|  \"\"060375355012\"\":4|\n",
      "|sg:0ee32c6bd1444f...|     Go Get Em Tiger|230 N Larchmont Blvd|   Los Angeles|      90004|               9|                 8|     [2,4,0,1,1,0,1]|  \"\"060371923003\"\":4|\n",
      "|sg:0f41c833a6e244...| Bloomfield Creamery|  1427 Westwood Blvd|   Los Angeles|      90024|               2|                 2|     [1,0,0,0,0,0,1]|                 9.5|\n",
      "|sg:1565a84dcbc144...|       Paradise Park|       Paradise Park|   Los Angeles|      90032|              64|                46|  [5,6,12,11,12,9,9]|  \"\"060376506022\"\":4|\n",
      "|sg:186f5017a7ed40...|     Social Security|   12429 Avalon Blvd|   Los Angeles|      90061|              30|                18|     [3,4,6,4,6,6,1]|\"\"060373116005\"\":4}\"|\n",
      "|sg:242ecc445fce41...|  Absolute on Hoover|     527 N Hoover St|   Los Angeles|      90004|               3|                 2|     [0,1,0,1,1,0,0]|               542.0|\n",
      "|sg:2acd40b4f01641...|Make a Film in a Day|   925 N La Brea Ave|West Hollywood|      90038|              21|                15|     [4,4,5,6,1,0,1]|                25.0|\n",
      "|sg:32ab764b731f45...|         Happy Tails|      4625 York Blvd|   Los Angeles|      90041|              21|                12|     [1,1,5,0,2,9,3]|                6143|\n",
      "|sg:33d770a759f547...|Headlines Diner &...|   10922 Kinross Ave|   Los Angeles|      90024|               1|                 1|     [0,1,0,0,0,0,0]|                56.0|\n",
      "|sg:33e59f728dfc46...|   Maywood Pawn Shop| 952 S Atlantic Blvd|   Los Angeles|      90022|              18|                18|     [5,1,3,2,3,3,1]|\"\"060375729002\"\":4}\"|\n",
      "|sg:3cacf516735646...|         Hot Pilates| 8604A W Sunset Blvd|West Hollywood|      90069|               2|                 2|     [0,0,1,1,0,0,0]|                59.0|\n",
      "|sg:3dbd76d1be5649...| Goodwill Industries|   8319 Lincoln Blvd|   Los Angeles|      90045|               1|                 1|     [0,0,0,0,0,1,0]|                61.0|\n",
      "|sg:3e6ebb6322cf41...|           Majordomo|        1725 Naud St|   Los Angeles|      90012|              11|                 6|     [2,1,2,1,1,2,2]|               124.0|\n",
      "|sg:4191791d657d49...|Cd Video Manufact...|12650 Westminster...|   Los Angeles|      90066|               6|                 6|     [0,0,0,2,1,1,2]|                 9.5|\n",
      "|sg:431dc367d3814e...|Word's Presbyteri...|       2836 W 8th St|   Los Angeles|      90005|              39|                16|    [5,4,9,1,6,4,10]|       \"{\"\"US\"\":12}\"|\n",
      "|sg:43714b6d8e2543...|           Taco Bell|    4050 Marlton Ave|   Los Angeles|      90008|              30|                28|    [2,3,2,4,4,10,5]|  \"\"060372345021\"\":4|\n",
      "|sg:4bede0c4b7a44f...|Heartcare Prevent...|201 S Alvarado St...|   Los Angeles|      90057|               1|                 1|     [0,1,0,0,0,0,0]|               714.0|\n",
      "|sg:5319c8cee9ed48...|        Mobile Storm|  6565 W Sunset Blvd|   Los Angeles|      90028|               2|                 2|     [0,1,0,0,1,0,0]|               305.5|\n",
      "|sg:6208cc6b313840...|Jovanna's Beauty ...| 919 S Soto St Ste 6|   Los Angeles|      90023|               1|                 1|     [0,1,0,0,0,0,0]|                83.0|\n",
      "|sg:689efcfa6dca4a...|   Chef Kang Sul Box|  3881 Wilshire Blvd|   Los Angeles|      90010|               4|                 4|     [1,0,1,1,0,1,0]|                17.0|\n",
      "+--------------------+--------------------+--------------------+--------------+-----------+----------------+------------------+--------------------+--------------------+\n",
      "only showing top 20 rows\n",
      "\n"
     ]
    }
   ],
   "source": [
    "main_df = main_df.select('safegraph_place_id', 'location_name', 'street_address', 'city', 'postal_code',\n",
    "                         'raw_visit_counts', 'raw_visitor_counts', 'visits_by_day',\n",
    "                   'median_dwell')\n",
    "main_df.show()"
   ],
   "metadata": {
    "collapsed": false,
    "pycharm": {
     "name": "#%%\n"
    }
   }
  },
  {
   "cell_type": "code",
   "execution_count": 3,
   "outputs": [
    {
     "name": "stdout",
     "output_type": "stream",
     "text": [
      "+--------------------+--------------------+\n",
      "|  safegraph_place_id|       visits_by_day|\n",
      "+--------------------+--------------------+\n",
      "|sg:05e114ea81c04f...|[12,21,7,10,19,20...|\n",
      "|sg:0ee32c6bd1444f...|     [0,0,0,3,2,1,2]|\n",
      "|sg:0f41c833a6e244...|     [0,0,0,0,0,0,2]|\n",
      "|sg:1565a84dcbc144...| [7,10,5,8,10,11,11]|\n",
      "|sg:186f5017a7ed40...|     [3,4,5,5,5,5,1]|\n",
      "|sg:242ecc445fce41...|     [0,0,0,0,2,0,0]|\n",
      "|sg:2acd40b4f01641...|     [3,0,1,0,1,4,1]|\n",
      "|sg:32ab764b731f45...|     [0,3,1,1,1,7,5]|\n",
      "|sg:33e59f728dfc46...|     [5,4,7,3,4,5,5]|\n",
      "|sg:3dbd76d1be5649...|     [0,1,0,2,0,1,0]|\n",
      "|sg:3e6ebb6322cf41...|     [1,1,2,0,1,5,2]|\n",
      "|sg:4191791d657d49...|     [0,2,1,2,2,2,2]|\n",
      "|sg:431dc367d3814e...|     [2,3,5,4,4,1,1]|\n",
      "|sg:43714b6d8e2543...|     [3,4,3,2,3,2,5]|\n",
      "|sg:4bede0c4b7a44f...|     [0,0,0,1,0,0,0]|\n",
      "|sg:4e32601b03af49...|     [0,0,0,0,1,0,0]|\n",
      "|sg:5319c8cee9ed48...|     [0,0,0,1,0,0,0]|\n",
      "|sg:6208cc6b313840...|     [0,0,0,0,0,0,1]|\n",
      "|sg:689efcfa6dca4a...|     [0,0,2,0,0,0,1]|\n",
      "|sg:6ef287e037d046...|     [0,0,1,0,0,0,0]|\n",
      "+--------------------+--------------------+\n",
      "only showing top 20 rows\n",
      "\n"
     ]
    }
   ],
   "source": [
    "this_week_df = main_df.select('safegraph_place_id', 'visits_by_day')\n",
    "last_week_file = \"2020-05-04-weekly-patterns.csv\"\n",
    "last_week_df = ss.read.csv(last_week_file, header=True)\n",
    "last_week_df = last_week_df.filter((last_week_df.postal_code >= 90001) & (last_week_df.postal_code <= 90089))\n",
    "last_week_df = last_week_df.select('safegraph_place_id', 'visits_by_day')\n",
    "last_week_df.show()\n"
   ],
   "metadata": {
    "collapsed": false,
    "pycharm": {
     "name": "#%%\n"
    }
   }
  },
  {
   "cell_type": "markdown",
   "source": [
    "Rename visits by day column as current\n",
    "Merging this week with last weeks data"
   ],
   "metadata": {
    "collapsed": false,
    "pycharm": {
     "name": "#%% md\n"
    }
   }
  },
  {
   "cell_type": "code",
   "execution_count": 5,
   "outputs": [
    {
     "name": "stdout",
     "output_type": "stream",
     "text": [
      "+--------------------+---------------------+----------------+\n",
      "|  safegraph_place_id|visits_by_day_current|   visits_by_day|\n",
      "+--------------------+---------------------+----------------+\n",
      "|sg:05c00ab60e2444...|      [0,1,2,0,0,2,0]| [2,1,0,0,1,1,0]|\n",
      "|sg:08efd9dac9cf42...|      [3,2,5,4,4,1,0]| [1,1,3,3,1,1,1]|\n",
      "|sg:090cf1c0f62e41...|      [4,8,5,4,7,0,0]| [4,3,4,4,4,4,0]|\n",
      "|sg:0afb6633a4224e...|      [0,2,0,1,1,0,0]| [0,2,0,1,2,0,0]|\n",
      "|sg:0c4e86749cd244...|     [3,7,4,4,5,11,3]| [1,3,3,3,4,4,8]|\n",
      "|sg:0f1d0e10c73f41...|      [2,1,2,0,0,0,0]| [0,1,4,1,1,1,1]|\n",
      "|sg:1059afe48a3945...|      [3,3,3,0,3,1,2]| [2,2,7,4,2,6,0]|\n",
      "|sg:13023a144d7d45...|      [2,1,3,2,3,6,3]| [5,1,3,1,3,3,3]|\n",
      "|sg:13c456f99f1d45...|      [4,3,4,4,7,4,3]|[2,1,2,0,2,10,3]|\n",
      "|sg:15dc29d1952844...|      [3,0,4,1,2,4,0]| [5,1,1,5,2,4,2]|\n",
      "|sg:17951e62dfb949...|      [3,3,2,4,7,1,1]| [3,5,2,4,2,0,3]|\n",
      "|sg:193e08aca17e43...|      [0,0,1,0,2,1,1]| [0,0,0,1,3,0,4]|\n",
      "|sg:1a4d75c19bf049...|      [0,0,0,0,2,0,0]| [0,1,1,3,0,0,1]|\n",
      "|sg:209f866b4f654d...|      [5,2,1,2,3,2,4]| [3,2,2,1,5,6,1]|\n",
      "|sg:25445cd5a95d4f...|      [2,1,1,2,4,0,1]| [3,3,3,1,2,5,3]|\n",
      "|sg:25a9b45e3ae347...|      [0,0,1,0,0,1,0]| [0,0,0,2,0,0,0]|\n",
      "|sg:289ac2aa272548...|     [3,9,11,4,5,5,5]|[6,6,2,1,6,8,14]|\n",
      "|sg:2fb419debc154c...|      [2,3,3,4,4,7,3]| [5,7,7,5,6,3,2]|\n",
      "|sg:328d5e0fe5b546...|      [1,0,3,2,1,0,5]| [0,2,0,4,0,1,0]|\n",
      "|sg:3371d03b60714a...|      [0,0,2,0,1,0,2]| [0,1,0,1,0,0,0]|\n",
      "+--------------------+---------------------+----------------+\n",
      "only showing top 20 rows\n",
      "\n"
     ]
    }
   ],
   "source": [
    "this_week_df = this_week_df.withColumnRenamed(\"visits_by_day\", \"visits_by_day_current\")\n",
    "this_week_df = this_week_df.join(last_week_df, how='inner', on='safegraph_place_id')\n",
    "this_week_df.show()"
   ],
   "metadata": {
    "collapsed": false,
    "pycharm": {
     "name": "#%%\n"
    }
   }
  },
  {
   "cell_type": "markdown",
   "source": [
    "Combine last week and this weeks columns by rdd map"
   ],
   "metadata": {
    "collapsed": false,
    "pycharm": {
     "name": "#%% md\n"
    }
   }
  },
  {
   "cell_type": "code",
   "execution_count": null,
   "outputs": [],
   "source": [
    "this_week_df = this_week_df.rdd \\\n",
    "    .map(lambda x: (x['safegraph_place_id'], (x['visits_by_day'] + x['visits_by_day_current']).replace(\"][\", \",\"))) \\\n",
    "    .toDF([\"safegraph_place_id\", \"visits_by_day_current\"])\n",
    "this_week_df.show()"
   ],
   "metadata": {
    "collapsed": false,
    "pycharm": {
     "name": "#%%\n"
    }
   }
  },
  {
   "cell_type": "markdown",
   "source": [
    "Total Running time (s)"
   ],
   "metadata": {
    "collapsed": false
   }
  },
  {
   "cell_type": "code",
   "execution_count": null,
   "outputs": [],
   "source": [
    "time.time() - start_time"
   ],
   "metadata": {
    "collapsed": false,
    "pycharm": {
     "name": "#%%\n"
    }
   }
  }
 ],
 "metadata": {
  "kernelspec": {
   "display_name": "Python 3",
   "language": "python",
   "name": "python3"
  },
  "language_info": {
   "codemirror_mode": {
    "name": "ipython",
    "version": 2
   },
   "file_extension": ".py",
   "mimetype": "text/x-python",
   "name": "python",
   "nbconvert_exporter": "python",
   "pygments_lexer": "ipython2",
   "version": "2.7.6"
  }
 },
 "nbformat": 4,
 "nbformat_minor": 0
}
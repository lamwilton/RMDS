{
 "cells": [
  {
   "cell_type": "markdown",
   "metadata": {
    "collapsed": true,
    "pycharm": {
     "name": "#%% md\n"
    }
   },
   "source": [
    "# Social distance scores of each county\n",
    "Information about the data from https://coronavirus-resources.esri.com/datasets/ab72fb3e9bf24d9594f0b942718bffeb_0?geometry=70.151%2C29.346%2C44.662%2C67.392\n",
    "Direct link: https://opendata.arcgis.com/datasets/ab72fb3e9bf24d9594f0b942718bffeb_0.csv"
   ]
  },
  {
   "cell_type": "code",
   "execution_count": null,
   "outputs": [],
   "source": [
    "import pandas as pd\n",
    "\n",
    "unacast_db = pd.read_csv('https://opendata.arcgis.com/datasets/ab72fb3e9bf24d9594f0b942718bffeb_0.csv')\n",
    "unacast_db"
   ],
   "metadata": {
    "collapsed": false,
    "pycharm": {
     "name": "#%%\n"
    }
   }
  },
  {
   "cell_type": "markdown",
   "source": [
    "Extract county fips column and the social distancing score (n_grade_total)\n",
    "Filling nulls with 1.00 score (Grade F)"
   ],
   "metadata": {
    "collapsed": false,
    "pycharm": {
     "name": "#%% md\n"
    }
   }
  },
  {
   "cell_type": "code",
   "execution_count": 8,
   "outputs": [
    {
     "data": {
      "text/plain": "      county_fips  n_grade_total\n0           19085            2.0\n1           19193            1.3\n2           19183            2.0\n3           19033            1.0\n4           19071            3.0\n...           ...            ...\n3137        28055            1.0\n3138        51091            1.0\n3139        26083            1.0\n3140        13265            1.0\n3141        21201            1.0\n\n[3142 rows x 2 columns]",
      "text/html": "<div>\n<style scoped>\n    .dataframe tbody tr th:only-of-type {\n        vertical-align: middle;\n    }\n\n    .dataframe tbody tr th {\n        vertical-align: top;\n    }\n\n    .dataframe thead th {\n        text-align: right;\n    }\n</style>\n<table border=\"1\" class=\"dataframe\">\n  <thead>\n    <tr style=\"text-align: right;\">\n      <th></th>\n      <th>county_fips</th>\n      <th>n_grade_total</th>\n    </tr>\n  </thead>\n  <tbody>\n    <tr>\n      <th>0</th>\n      <td>19085</td>\n      <td>2.0</td>\n    </tr>\n    <tr>\n      <th>1</th>\n      <td>19193</td>\n      <td>1.3</td>\n    </tr>\n    <tr>\n      <th>2</th>\n      <td>19183</td>\n      <td>2.0</td>\n    </tr>\n    <tr>\n      <th>3</th>\n      <td>19033</td>\n      <td>1.0</td>\n    </tr>\n    <tr>\n      <th>4</th>\n      <td>19071</td>\n      <td>3.0</td>\n    </tr>\n    <tr>\n      <th>...</th>\n      <td>...</td>\n      <td>...</td>\n    </tr>\n    <tr>\n      <th>3137</th>\n      <td>28055</td>\n      <td>1.0</td>\n    </tr>\n    <tr>\n      <th>3138</th>\n      <td>51091</td>\n      <td>1.0</td>\n    </tr>\n    <tr>\n      <th>3139</th>\n      <td>26083</td>\n      <td>1.0</td>\n    </tr>\n    <tr>\n      <th>3140</th>\n      <td>13265</td>\n      <td>1.0</td>\n    </tr>\n    <tr>\n      <th>3141</th>\n      <td>21201</td>\n      <td>1.0</td>\n    </tr>\n  </tbody>\n</table>\n<p>3142 rows × 2 columns</p>\n</div>"
     },
     "execution_count": 8,
     "metadata": {},
     "output_type": "execute_result"
    }
   ],
   "source": [
    "# Suppress warnings\n",
    "pd.options.mode.chained_assignment = None\n",
    "\n",
    "score_db = unacast_db[['county_fips', 'n_grade_total']]\n",
    "score_db.n_grade_total.fillna(1, inplace=True)\n",
    "score_db"
   ],
   "metadata": {
    "collapsed": false,
    "pycharm": {
     "name": "#%%\n"
    }
   }
  }
 ],
 "metadata": {
  "kernelspec": {
   "display_name": "Python 3",
   "language": "python",
   "name": "python3"
  },
  "language_info": {
   "codemirror_mode": {
    "name": "ipython",
    "version": 2
   },
   "file_extension": ".py",
   "mimetype": "text/x-python",
   "name": "python",
   "nbconvert_exporter": "python",
   "pygments_lexer": "ipython2",
   "version": "2.7.6"
  }
 },
 "nbformat": 4,
 "nbformat_minor": 0
}